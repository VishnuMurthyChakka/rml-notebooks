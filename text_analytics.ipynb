{
 "cells": [
  {
   "cell_type": "markdown",
   "metadata": {},
   "source": [
    "# RocketML text topic modeling using SVD\n",
    "## Import Libraries"
   ]
  },
  {
   "cell_type": "code",
   "execution_count": 2,
   "metadata": {},
   "outputs": [
    {
     "name": "stdout",
     "output_type": "stream",
     "text": [
      "Collecting seaborn\n",
      "  Downloading https://files.pythonhosted.org/packages/7a/bf/04cfcfc9616cedd4b5dd24dfc40395965ea9f50c1db0d3f3e52b050f74a5/seaborn-0.9.0.tar.gz (198kB)\n",
      "\u001b[K    100% |████████████████████████████████| 204kB 3.5MB/s ta 0:00:01\n",
      "\u001b[?25hRequirement already satisfied: numpy>=1.9.3 in /home/ubuntu/.local/lib/python2.7/site-packages (from seaborn)\n",
      "Requirement already satisfied: scipy>=0.14.0 in /home/ubuntu/.local/lib/python2.7/site-packages (from seaborn)\n",
      "Requirement already satisfied: pandas>=0.15.2 in /home/ubuntu/.local/lib/python2.7/site-packages (from seaborn)\n",
      "Requirement already satisfied: matplotlib>=1.4.3 in /home/ubuntu/.local/lib/python2.7/site-packages (from seaborn)\n",
      "Requirement already satisfied: pytz>=2011k in /home/ubuntu/.local/lib/python2.7/site-packages (from pandas>=0.15.2->seaborn)\n",
      "Requirement already satisfied: python-dateutil>=2.5.0 in /home/ubuntu/.local/lib/python2.7/site-packages (from pandas>=0.15.2->seaborn)\n",
      "Requirement already satisfied: cycler>=0.10 in /home/ubuntu/.local/lib/python2.7/site-packages (from matplotlib>=1.4.3->seaborn)\n",
      "Requirement already satisfied: kiwisolver>=1.0.1 in /home/ubuntu/.local/lib/python2.7/site-packages (from matplotlib>=1.4.3->seaborn)\n",
      "Requirement already satisfied: six>=1.10 in /home/ubuntu/.local/lib/python2.7/site-packages (from matplotlib>=1.4.3->seaborn)\n",
      "Requirement already satisfied: subprocess32 in /home/ubuntu/.local/lib/python2.7/site-packages (from matplotlib>=1.4.3->seaborn)\n",
      "Requirement already satisfied: backports.functools-lru-cache in /home/ubuntu/.local/lib/python2.7/site-packages (from matplotlib>=1.4.3->seaborn)\n",
      "Requirement already satisfied: pyparsing!=2.0.4,!=2.1.2,!=2.1.6,>=2.0.1 in /home/ubuntu/.local/lib/python2.7/site-packages (from matplotlib>=1.4.3->seaborn)\n",
      "Requirement already satisfied: setuptools in /usr/local/lib/python2.7/dist-packages (from kiwisolver>=1.0.1->matplotlib>=1.4.3->seaborn)\n",
      "Building wheels for collected packages: seaborn\n",
      "  Running setup.py bdist_wheel for seaborn ... \u001b[?25ldone\n",
      "\u001b[?25h  Stored in directory: /home/ubuntu/.cache/pip/wheels/fc/1c/74/c8f80a532c06a789599b8659b117ec7d7574cac4a06f7dabfe\n",
      "Successfully built seaborn\n",
      "Installing collected packages: seaborn\n",
      "Successfully installed seaborn-0.9.0\n",
      "\u001b[33mYou are using pip version 9.0.1, however version 18.0 is available.\n",
      "You should consider upgrading via the 'pip install --upgrade pip' command.\u001b[0m\n"
     ]
    }
   ],
   "source": [
    "!pip install --user seaborn"
   ]
  },
  {
   "cell_type": "code",
   "execution_count": 3,
   "metadata": {},
   "outputs": [],
   "source": [
    "from rocketml.io import DocumentSet\n",
    "from rocketml.decomposition import TruncatedSVD\n",
    "from rocketml.preprocessing import TextFilter\n",
    "from rocketml import Pipeline\n",
    "import sys\n",
    "import pandas as pd\n",
    "import seaborn as sns\n",
    "\n",
    "from bokeh.plotting import figure,show\n",
    "from bokeh.io import output_notebook\n",
    "from bokeh.models import ColumnDataSource, HoverTool\n",
    "from bokeh.models.ranges import Range1d\n",
    "\n",
    "%matplotlib inline"
   ]
  },
  {
   "cell_type": "markdown",
   "metadata": {},
   "source": [
    "## Create Document Set"
   ]
  },
  {
   "cell_type": "code",
   "execution_count": 4,
   "metadata": {},
   "outputs": [
    {
     "name": "stdout",
     "output_type": "stream",
     "text": [
      "<rocketml.preprocessing.text.TextFilter object at 0x7f17893710d0>\n",
      "text\n",
      "/tmp/jobs_folder/48e37f76/output.txt\n"
     ]
    },
    {
     "data": {
      "text/plain": [
       "137"
      ]
     },
     "execution_count": 4,
     "metadata": {},
     "output_type": "execute_result"
    }
   ],
   "source": [
    "filename = \"/home/ubuntu/examples/345_blogs_list.txt\"\n",
    "docset = DocumentSet(filename=filename)\n",
    "tf = TextFilter(stop_word_filter=True,stemming_filter=True,length_filter=True)\n",
    "svd = TruncatedSVD()\n",
    "pipeline = Pipeline([tf,svd])\n",
    "pipeline.fit(docset)\n",
    "len(docset.documents)"
   ]
  },
  {
   "cell_type": "markdown",
   "metadata": {},
   "source": [
    "## Plot Singular Values"
   ]
  },
  {
   "cell_type": "code",
   "execution_count": 5,
   "metadata": {},
   "outputs": [
    {
     "name": "stderr",
     "output_type": "stream",
     "text": [
      "/home/ubuntu/.local/lib/python2.7/site-packages/seaborn/timeseries.py:183: UserWarning: The `tsplot` function is deprecated and will be removed in a future release. Please update your code to use the new `lineplot` function.\n",
      "  warnings.warn(msg, UserWarning)\n"
     ]
    },
    {
     "data": {
      "text/plain": [
       "<matplotlib.axes._subplots.AxesSubplot at 0x7f1788a39a10>"
      ]
     },
     "execution_count": 5,
     "metadata": {},
     "output_type": "execute_result"
    },
    {
     "data": {
      "image/png": "[encoded data removed]",
      "text/plain": [
       "<Figure size 432x288 with 1 Axes>"
      ]
     },
     "metadata": {},
     "output_type": "display_data"
    }
   ],
   "source": [
    "sns.tsplot(svd.singular_values_)"
   ]
  },
  {
   "cell_type": "markdown",
   "metadata": {},
   "source": [
    "## Check term frequencies"
   ]
  },
  {
   "cell_type": "code",
   "execution_count": 6,
   "metadata": {},
   "outputs": [],
   "source": [
    "df = pd.DataFrame([[key,value] for key,value in docset.terms_document_frequencies.iteritems()],columns=[\"Term\",\"Frequency\"])"
   ]
  },
  {
   "cell_type": "code",
   "execution_count": 7,
   "metadata": {},
   "outputs": [],
   "source": [
    "df_high = df[df[\"Frequency\"] > 120].sort_values(by=[\"Frequency\"],ascending=False)"
   ]
  },
  {
   "cell_type": "markdown",
   "metadata": {},
   "source": [
    "## Plot term frequencies using bokeh"
   ]
  },
  {
   "cell_type": "code",
   "execution_count": 8,
   "metadata": {},
   "outputs": [
    {
     "data": {
      "text/html": [
       "\n",
       "    <div class=\"bk-root\">\n",
       "        <a href=\"https://bokeh.pydata.org\" target=\"_blank\" class=\"bk-logo bk-logo-small bk-logo-notebook\"></a>\n",
       "        <span id=\"18e03552-1eb3-4a8f-96e5-07403be88e59\">Loading BokehJS ...</span>\n",
       "    </div>"
      ]
     },
     "metadata": {},
     "output_type": "display_data"
    },
    {
     "data": {
      "application/javascript": [
       "\n",
       "(function(root) {\n",
       "  function now() {\n",
       "    return new Date();\n",
       "  }\n",
       "\n",
       "  var force = true;\n",
       "\n",
       "  if (typeof (root._bokeh_onload_callbacks) === \"undefined\" || force === true) {\n",
       "    root._bokeh_onload_callbacks = [];\n",
       "    root._bokeh_is_loading = undefined;\n",
       "  }\n",
       "\n",
       "  var JS_MIME_TYPE = 'application/javascript';\n",
       "  var HTML_MIME_TYPE = 'text/html';\n",
       "  var EXEC_MIME_TYPE = 'application/vnd.bokehjs_exec.v0+json';\n",
       "  var CLASS_NAME = 'output_bokeh rendered_html';\n",
       "\n",
       "  /**\n",
       "   * Render data to the DOM node\n",
       "   */\n",
       "  function render(props, node) {\n",
       "    var script = document.createElement(\"script\");\n",
       "    node.appendChild(script);\n",
       "  }\n",
       "\n",
       "  /**\n",
       "   * Handle when an output is cleared or removed\n",
       "   */\n",
       "  function handleClearOutput(event, handle) {\n",
       "    var cell = handle.cell;\n",
       "\n",
       "    var id = cell.output_area._bokeh_element_id;\n",
       "    var server_id = cell.output_area._bokeh_server_id;\n",
       "    // Clean up Bokeh references\n",
       "    if (id != null && id in Bokeh.index) {\n",
       "      Bokeh.index[id].model.document.clear();\n",
       "      delete Bokeh.index[id];\n",
       "    }\n",
       "\n",
       "    if (server_id !== undefined) {\n",
       "      // Clean up Bokeh references\n",
       "      var cmd = \"from bokeh.io.state import curstate; print(curstate().uuid_to_server['\" + server_id + \"'].get_sessions()[0].document.roots[0]._id)\";\n",
       "      cell.notebook.kernel.execute(cmd, {\n",
       "        iopub: {\n",
       "          output: function(msg) {\n",
       "            var id = msg.content.text.trim();\n",
       "            if (id in Bokeh.index) {\n",
       "              Bokeh.index[id].model.document.clear();\n",
       "              delete Bokeh.index[id];\n",
       "            }\n",
       "          }\n",
       "        }\n",
       "      });\n",
       "      // Destroy server and session\n",
       "      var cmd = \"import bokeh.io.notebook as ion; ion.destroy_server('\" + server_id + \"')\";\n",
       "      cell.notebook.kernel.execute(cmd);\n",
       "    }\n",
       "  }\n",
       "\n",
       "  /**\n",
       "   * Handle when a new output is added\n",
       "   */\n",
       "  function handleAddOutput(event, handle) {\n",
       "    var output_area = handle.output_area;\n",
       "    var output = handle.output;\n",
       "\n",
       "    // limit handleAddOutput to display_data with EXEC_MIME_TYPE content only\n",
       "    if ((output.output_type != \"display_data\") || (!output.data.hasOwnProperty(EXEC_MIME_TYPE))) {\n",
       "      return\n",
       "    }\n",
       "\n",
       "    var toinsert = output_area.element.find(\".\" + CLASS_NAME.split(' ')[0]);\n",
       "\n",
       "    if (output.metadata[EXEC_MIME_TYPE][\"id\"] !== undefined) {\n",
       "      toinsert[toinsert.length - 1].firstChild.textContent = output.data[JS_MIME_TYPE];\n",
       "      // store reference to embed id on output_area\n",
       "      output_area._bokeh_element_id = output.metadata[EXEC_MIME_TYPE][\"id\"];\n",
       "    }\n",
       "    if (output.metadata[EXEC_MIME_TYPE][\"server_id\"] !== undefined) {\n",
       "      var bk_div = document.createElement(\"div\");\n",
       "      bk_div.innerHTML = output.data[HTML_MIME_TYPE];\n",
       "      var script_attrs = bk_div.children[0].attributes;\n",
       "      for (var i = 0; i < script_attrs.length; i++) {\n",
       "        toinsert[toinsert.length - 1].firstChild.setAttribute(script_attrs[i].name, script_attrs[i].value);\n",
       "      }\n",
       "      // store reference to server id on output_area\n",
       "      output_area._bokeh_server_id = output.metadata[EXEC_MIME_TYPE][\"server_id\"];\n",
       "    }\n",
       "  }\n",
       "\n",
       "  function register_renderer(events, OutputArea) {\n",
       "\n",
       "    function append_mime(data, metadata, element) {\n",
       "      // create a DOM node to render to\n",
       "      var toinsert = this.create_output_subarea(\n",
       "        metadata,\n",
       "        CLASS_NAME,\n",
       "        EXEC_MIME_TYPE\n",
       "      );\n",
       "      this.keyboard_manager.register_events(toinsert);\n",
       "      // Render to node\n",
       "      var props = {data: data, metadata: metadata[EXEC_MIME_TYPE]};\n",
       "      render(props, toinsert[toinsert.length - 1]);\n",
       "      element.append(toinsert);\n",
       "      return toinsert\n",
       "    }\n",
       "\n",
       "    /* Handle when an output is cleared or removed */\n",
       "    events.on('clear_output.CodeCell', handleClearOutput);\n",
       "    events.on('delete.Cell', handleClearOutput);\n",
       "\n",
       "    /* Handle when a new output is added */\n",
       "    events.on('output_added.OutputArea', handleAddOutput);\n",
       "\n",
       "    /**\n",
       "     * Register the mime type and append_mime function with output_area\n",
       "     */\n",
       "    OutputArea.prototype.register_mime_type(EXEC_MIME_TYPE, append_mime, {\n",
       "      /* Is output safe? */\n",
       "      safe: true,\n",
       "      /* Index of renderer in `output_area.display_order` */\n",
       "      index: 0\n",
       "    });\n",
       "  }\n",
       "\n",
       "  // register the mime type if in Jupyter Notebook environment and previously unregistered\n",
       "  if (root.Jupyter !== undefined) {\n",
       "    var events = require('base/js/events');\n",
       "    var OutputArea = require('notebook/js/outputarea').OutputArea;\n",
       "\n",
       "    if (OutputArea.prototype.mime_types().indexOf(EXEC_MIME_TYPE) == -1) {\n",
       "      register_renderer(events, OutputArea);\n",
       "    }\n",
       "  }\n",
       "\n",
       "  \n",
       "  if (typeof (root._bokeh_timeout) === \"undefined\" || force === true) {\n",
       "    root._bokeh_timeout = Date.now() + 5000;\n",
       "    root._bokeh_failed_load = false;\n",
       "  }\n",
       "\n",
       "  var NB_LOAD_WARNING = {'data': {'text/html':\n",
       "     \"<div style='background-color: #fdd'>\\n\"+\n",
       "     \"<p>\\n\"+\n",
       "     \"BokehJS does not appear to have successfully loaded. If loading BokehJS from CDN, this \\n\"+\n",
       "     \"may be due to a slow or bad network connection. Possible fixes:\\n\"+\n",
       "     \"</p>\\n\"+\n",
       "     \"<ul>\\n\"+\n",
       "     \"<li>re-rerun `output_notebook()` to attempt to load from CDN again, or</li>\\n\"+\n",
       "     \"<li>use INLINE resources instead, as so:</li>\\n\"+\n",
       "     \"</ul>\\n\"+\n",
       "     \"<code>\\n\"+\n",
       "     \"from bokeh.resources import INLINE\\n\"+\n",
       "     \"output_notebook(resources=INLINE)\\n\"+\n",
       "     \"</code>\\n\"+\n",
       "     \"</div>\"}};\n",
       "\n",
       "  function display_loaded() {\n",
       "    var el = document.getElementById(\"18e03552-1eb3-4a8f-96e5-07403be88e59\");\n",
       "    if (el != null) {\n",
       "      el.textContent = \"BokehJS is loading...\";\n",
       "    }\n",
       "    if (root.Bokeh !== undefined) {\n",
       "      if (el != null) {\n",
       "        el.textContent = \"BokehJS \" + root.Bokeh.version + \" successfully loaded.\";\n",
       "      }\n",
       "    } else if (Date.now() < root._bokeh_timeout) {\n",
       "      setTimeout(display_loaded, 100)\n",
       "    }\n",
       "  }\n",
       "\n",
       "\n",
       "  function run_callbacks() {\n",
       "    try {\n",
       "      root._bokeh_onload_callbacks.forEach(function(callback) { callback() });\n",
       "    }\n",
       "    finally {\n",
       "      delete root._bokeh_onload_callbacks\n",
       "    }\n",
       "    console.info(\"Bokeh: all callbacks have finished\");\n",
       "  }\n",
       "\n",
       "  function load_libs(js_urls, callback) {\n",
       "    root._bokeh_onload_callbacks.push(callback);\n",
       "    if (root._bokeh_is_loading > 0) {\n",
       "      console.log(\"Bokeh: BokehJS is being loaded, scheduling callback at\", now());\n",
       "      return null;\n",
       "    }\n",
       "    if (js_urls == null || js_urls.length === 0) {\n",
       "      run_callbacks();\n",
       "      return null;\n",
       "    }\n",
       "    console.log(\"Bokeh: BokehJS not loaded, scheduling load and callback at\", now());\n",
       "    root._bokeh_is_loading = js_urls.length;\n",
       "    for (var i = 0; i < js_urls.length; i++) {\n",
       "      var url = js_urls[i];\n",
       "      var s = document.createElement('script');\n",
       "      s.src = url;\n",
       "      s.async = false;\n",
       "      s.onreadystatechange = s.onload = function() {\n",
       "        root._bokeh_is_loading--;\n",
       "        if (root._bokeh_is_loading === 0) {\n",
       "          console.log(\"Bokeh: all BokehJS libraries loaded\");\n",
       "          run_callbacks()\n",
       "        }\n",
       "      };\n",
       "      s.onerror = function() {\n",
       "        console.warn(\"failed to load library \" + url);\n",
       "      };\n",
       "      console.log(\"Bokeh: injecting script tag for BokehJS library: \", url);\n",
       "      document.getElementsByTagName(\"head\")[0].appendChild(s);\n",
       "    }\n",
       "  };var element = document.getElementById(\"18e03552-1eb3-4a8f-96e5-07403be88e59\");\n",
       "  if (element == null) {\n",
       "    console.log(\"Bokeh: ERROR: autoload.js configured with elementid '18e03552-1eb3-4a8f-96e5-07403be88e59' but no matching script tag was found. \")\n",
       "    return false;\n",
       "  }\n",
       "\n",
       "  var js_urls = [\"https://cdn.pydata.org/bokeh/release/bokeh-0.13.0.min.js\", \"https://cdn.pydata.org/bokeh/release/bokeh-widgets-0.13.0.min.js\", \"https://cdn.pydata.org/bokeh/release/bokeh-tables-0.13.0.min.js\", \"https://cdn.pydata.org/bokeh/release/bokeh-gl-0.13.0.min.js\"];\n",
       "\n",
       "  var inline_js = [\n",
       "    function(Bokeh) {\n",
       "      Bokeh.set_log_level(\"info\");\n",
       "    },\n",
       "    \n",
       "    function(Bokeh) {\n",
       "      \n",
       "    },\n",
       "    function(Bokeh) {\n",
       "      console.log(\"Bokeh: injecting CSS: https://cdn.pydata.org/bokeh/release/bokeh-0.13.0.min.css\");\n",
       "      Bokeh.embed.inject_css(\"https://cdn.pydata.org/bokeh/release/bokeh-0.13.0.min.css\");\n",
       "      console.log(\"Bokeh: injecting CSS: https://cdn.pydata.org/bokeh/release/bokeh-widgets-0.13.0.min.css\");\n",
       "      Bokeh.embed.inject_css(\"https://cdn.pydata.org/bokeh/release/bokeh-widgets-0.13.0.min.css\");\n",
       "      console.log(\"Bokeh: injecting CSS: https://cdn.pydata.org/bokeh/release/bokeh-tables-0.13.0.min.css\");\n",
       "      Bokeh.embed.inject_css(\"https://cdn.pydata.org/bokeh/release/bokeh-tables-0.13.0.min.css\");\n",
       "    }\n",
       "  ];\n",
       "\n",
       "  function run_inline_js() {\n",
       "    \n",
       "    if ((root.Bokeh !== undefined) || (force === true)) {\n",
       "      for (var i = 0; i < inline_js.length; i++) {\n",
       "        inline_js[i].call(root, root.Bokeh);\n",
       "      }if (force === true) {\n",
       "        display_loaded();\n",
       "      }} else if (Date.now() < root._bokeh_timeout) {\n",
       "      setTimeout(run_inline_js, 100);\n",
       "    } else if (!root._bokeh_failed_load) {\n",
       "      console.log(\"Bokeh: BokehJS failed to load within specified timeout.\");\n",
       "      root._bokeh_failed_load = true;\n",
       "    } else if (force !== true) {\n",
       "      var cell = $(document.getElementById(\"18e03552-1eb3-4a8f-96e5-07403be88e59\")).parents('.cell').data().cell;\n",
       "      cell.output_area.append_execute_result(NB_LOAD_WARNING)\n",
       "    }\n",
       "\n",
       "  }\n",
       "\n",
       "  if (root._bokeh_is_loading === 0) {\n",
       "    console.log(\"Bokeh: BokehJS loaded, going straight to plotting\");\n",
       "    run_inline_js();\n",
       "  } else {\n",
       "    load_libs(js_urls, function() {\n",
       "      console.log(\"Bokeh: BokehJS plotting callback run at\", now());\n",
       "      run_inline_js();\n",
       "    });\n",
       "  }\n",
       "}(window));"
      ],
      "application/vnd.bokehjs_load.v0+json": "\n(function(root) {\n  function now() {\n    return new Date();\n  }\n\n  var force = true;\n\n  if (typeof (root._bokeh_onload_callbacks) === \"undefined\" || force === true) {\n    root._bokeh_onload_callbacks = [];\n    root._bokeh_is_loading = undefined;\n  }\n\n  \n\n  \n  if (typeof (root._bokeh_timeout) === \"undefined\" || force === true) {\n    root._bokeh_timeout = Date.now() + 5000;\n    root._bokeh_failed_load = false;\n  }\n\n  var NB_LOAD_WARNING = {'data': {'text/html':\n     \"<div style='background-color: #fdd'>\\n\"+\n     \"<p>\\n\"+\n     \"BokehJS does not appear to have successfully loaded. If loading BokehJS from CDN, this \\n\"+\n     \"may be due to a slow or bad network connection. Possible fixes:\\n\"+\n     \"</p>\\n\"+\n     \"<ul>\\n\"+\n     \"<li>re-rerun `output_notebook()` to attempt to load from CDN again, or</li>\\n\"+\n     \"<li>use INLINE resources instead, as so:</li>\\n\"+\n     \"</ul>\\n\"+\n     \"<code>\\n\"+\n     \"from bokeh.resources import INLINE\\n\"+\n     \"output_notebook(resources=INLINE)\\n\"+\n     \"</code>\\n\"+\n     \"</div>\"}};\n\n  function display_loaded() {\n    var el = document.getElementById(\"18e03552-1eb3-4a8f-96e5-07403be88e59\");\n    if (el != null) {\n      el.textContent = \"BokehJS is loading...\";\n    }\n    if (root.Bokeh !== undefined) {\n      if (el != null) {\n        el.textContent = \"BokehJS \" + root.Bokeh.version + \" successfully loaded.\";\n      }\n    } else if (Date.now() < root._bokeh_timeout) {\n      setTimeout(display_loaded, 100)\n    }\n  }\n\n\n  function run_callbacks() {\n    try {\n      root._bokeh_onload_callbacks.forEach(function(callback) { callback() });\n    }\n    finally {\n      delete root._bokeh_onload_callbacks\n    }\n    console.info(\"Bokeh: all callbacks have finished\");\n  }\n\n  function load_libs(js_urls, callback) {\n    root._bokeh_onload_callbacks.push(callback);\n    if (root._bokeh_is_loading > 0) {\n      console.log(\"Bokeh: BokehJS is being loaded, scheduling callback at\", now());\n      return null;\n    }\n    if (js_urls == null || js_urls.length === 0) {\n      run_callbacks();\n      return null;\n    }\n    console.log(\"Bokeh: BokehJS not loaded, scheduling load and callback at\", now());\n    root._bokeh_is_loading = js_urls.length;\n    for (var i = 0; i < js_urls.length; i++) {\n      var url = js_urls[i];\n      var s = document.createElement('script');\n      s.src = url;\n      s.async = false;\n      s.onreadystatechange = s.onload = function() {\n        root._bokeh_is_loading--;\n        if (root._bokeh_is_loading === 0) {\n          console.log(\"Bokeh: all BokehJS libraries loaded\");\n          run_callbacks()\n        }\n      };\n      s.onerror = function() {\n        console.warn(\"failed to load library \" + url);\n      };\n      console.log(\"Bokeh: injecting script tag for BokehJS library: \", url);\n      document.getElementsByTagName(\"head\")[0].appendChild(s);\n    }\n  };var element = document.getElementById(\"18e03552-1eb3-4a8f-96e5-07403be88e59\");\n  if (element == null) {\n    console.log(\"Bokeh: ERROR: autoload.js configured with elementid '18e03552-1eb3-4a8f-96e5-07403be88e59' but no matching script tag was found. \")\n    return false;\n  }\n\n  var js_urls = [\"https://cdn.pydata.org/bokeh/release/bokeh-0.13.0.min.js\", \"https://cdn.pydata.org/bokeh/release/bokeh-widgets-0.13.0.min.js\", \"https://cdn.pydata.org/bokeh/release/bokeh-tables-0.13.0.min.js\", \"https://cdn.pydata.org/bokeh/release/bokeh-gl-0.13.0.min.js\"];\n\n  var inline_js = [\n    function(Bokeh) {\n      Bokeh.set_log_level(\"info\");\n    },\n    \n    function(Bokeh) {\n      \n    },\n    function(Bokeh) {\n      console.log(\"Bokeh: injecting CSS: https://cdn.pydata.org/bokeh/release/bokeh-0.13.0.min.css\");\n      Bokeh.embed.inject_css(\"https://cdn.pydata.org/bokeh/release/bokeh-0.13.0.min.css\");\n      console.log(\"Bokeh: injecting CSS: https://cdn.pydata.org/bokeh/release/bokeh-widgets-0.13.0.min.css\");\n      Bokeh.embed.inject_css(\"https://cdn.pydata.org/bokeh/release/bokeh-widgets-0.13.0.min.css\");\n      console.log(\"Bokeh: injecting CSS: https://cdn.pydata.org/bokeh/release/bokeh-tables-0.13.0.min.css\");\n      Bokeh.embed.inject_css(\"https://cdn.pydata.org/bokeh/release/bokeh-tables-0.13.0.min.css\");\n    }\n  ];\n\n  function run_inline_js() {\n    \n    if ((root.Bokeh !== undefined) || (force === true)) {\n      for (var i = 0; i < inline_js.length; i++) {\n        inline_js[i].call(root, root.Bokeh);\n      }if (force === true) {\n        display_loaded();\n      }} else if (Date.now() < root._bokeh_timeout) {\n      setTimeout(run_inline_js, 100);\n    } else if (!root._bokeh_failed_load) {\n      console.log(\"Bokeh: BokehJS failed to load within specified timeout.\");\n      root._bokeh_failed_load = true;\n    } else if (force !== true) {\n      var cell = $(document.getElementById(\"18e03552-1eb3-4a8f-96e5-07403be88e59\")).parents('.cell').data().cell;\n      cell.output_area.append_execute_result(NB_LOAD_WARNING)\n    }\n\n  }\n\n  if (root._bokeh_is_loading === 0) {\n    console.log(\"Bokeh: BokehJS loaded, going straight to plotting\");\n    run_inline_js();\n  } else {\n    load_libs(js_urls, function() {\n      console.log(\"Bokeh: BokehJS plotting callback run at\", now());\n      run_inline_js();\n    });\n  }\n}(window));"
     },
     "metadata": {},
     "output_type": "display_data"
    }
   ],
   "source": [
    "output_notebook()"
   ]
  },
  {
   "cell_type": "code",
   "execution_count": 9,
   "metadata": {},
   "outputs": [],
   "source": [
    "source = ColumnDataSource(df_high)"
   ]
  },
  {
   "cell_type": "code",
   "execution_count": 10,
   "metadata": {},
   "outputs": [
    {
     "data": {
      "text/html": [
       "\n",
       "\n",
       "\n",
       "\n",
       "\n",
       "\n",
       "  <div class=\"bk-root\" id=\"ca83b10c-8408-4c3c-b9d8-eed1bdc13670\"></div>\n"
      ]
     },
     "metadata": {},
     "output_type": "display_data"
    },
    {
     "data": {
      "application/javascript": [
       "(function(root) {\n",
       "  function embed_document(root) {\n",
       "    \n",
       "  var docs_json = {\"9368cd4a-1cfd-4ab5-98b2-cc8c12e97349\":{\"roots\":{\"references\":[{\"attributes\":{\"callback\":null,\"renderers\":\"auto\",\"tooltips\":[[\"Term\",\"@Term\"],[\"Frequency\",\"@Frequency\"]]},\"id\":\"d39b4f75-1fc1-4cfd-88bb-93a7df0735ab\",\"type\":\"HoverTool\"},{\"attributes\":{\"source\":{\"id\":\"5b41ed91-bdb3-4695-9c62-559935df4ecc\",\"type\":\"ColumnDataSource\"}},\"id\":\"95e8cde8-2633-409a-8e0e-08c6e58061c0\",\"type\":\"CDSView\"},{\"attributes\":{\"formatter\":{\"id\":\"79b12d75-f440-4ef3-a213-14fbb03dfa35\",\"type\":\"CategoricalTickFormatter\"},\"plot\":{\"id\":\"b6e2be5a-4c1e-4fc1-af19-8956af513157\",\"subtype\":\"Figure\",\"type\":\"Plot\"},\"ticker\":{\"id\":\"e33de1b5-0d9f-4351-85c7-8f7620a3d112\",\"type\":\"CategoricalTicker\"}},\"id\":\"046fcdc6-c32f-416d-97e0-4b2fc16e3e23\",\"type\":\"CategoricalAxis\"},{\"attributes\":{},\"id\":\"cfca166d-9f6e-46e8-bce2-e42836f6ead4\",\"type\":\"BasicTicker\"},{\"attributes\":{},\"id\":\"55f1e34a-4360-441a-bd6d-4502a0f86a71\",\"type\":\"WheelZoomTool\"},{\"attributes\":{\"callback\":null,\"data\":{\"Frequency\":[137,137,137,129,129,125,124,123,121],\"Term\":[\"date\",\"post\",\"blog\",\"time\",\"make\",\"know\",\"think\",\"thing\",\"come\"],\"index\":[5734,12606,21147,12991,13922,21817,14177,14173,21097]},\"selected\":{\"id\":\"6c7e9be8-3347-429a-adcc-5775223a2e84\",\"type\":\"Selection\"},\"selection_policy\":{\"id\":\"1af938a9-c6e1-4f2d-bd34-14c82a0c4b39\",\"type\":\"UnionRenderers\"}},\"id\":\"5b41ed91-bdb3-4695-9c62-559935df4ecc\",\"type\":\"ColumnDataSource\"},{\"attributes\":{\"dimension\":1,\"plot\":{\"id\":\"b6e2be5a-4c1e-4fc1-af19-8956af513157\",\"subtype\":\"Figure\",\"type\":\"Plot\"},\"ticker\":{\"id\":\"cfca166d-9f6e-46e8-bce2-e42836f6ead4\",\"type\":\"BasicTicker\"}},\"id\":\"4fb8beb8-a7da-4b33-bd36-97950c0ec887\",\"type\":\"Grid\"},{\"attributes\":{},\"id\":\"b2f79c01-fe8b-4b17-b707-fe0a17726d08\",\"type\":\"ResetTool\"},{\"attributes\":{},\"id\":\"79b12d75-f440-4ef3-a213-14fbb03dfa35\",\"type\":\"CategoricalTickFormatter\"},{\"attributes\":{},\"id\":\"1af938a9-c6e1-4f2d-bd34-14c82a0c4b39\",\"type\":\"UnionRenderers\"},{\"attributes\":{},\"id\":\"c15778b2-e07b-4996-b835-7eaa3c74b288\",\"type\":\"LinearScale\"},{\"attributes\":{\"callback\":null,\"end\":137},\"id\":\"b746b325-cee4-4057-96fe-c9818ec0bcaa\",\"type\":\"Range1d\"},{\"attributes\":{\"data_source\":{\"id\":\"5b41ed91-bdb3-4695-9c62-559935df4ecc\",\"type\":\"ColumnDataSource\"},\"glyph\":{\"id\":\"e82a899c-b336-43b7-b8f0-33a06d29a475\",\"type\":\"VBar\"},\"hover_glyph\":null,\"muted_glyph\":null,\"nonselection_glyph\":{\"id\":\"0ee12cb1-35a6-4dfe-b79e-fb8b69e27a5b\",\"type\":\"VBar\"},\"selection_glyph\":null,\"view\":{\"id\":\"95e8cde8-2633-409a-8e0e-08c6e58061c0\",\"type\":\"CDSView\"}},\"id\":\"da92917f-f625-4e4a-a1a6-c29304c94499\",\"type\":\"GlyphRenderer\"},{\"attributes\":{},\"id\":\"5d21f526-46d4-4533-9e64-04dffa8893e3\",\"type\":\"CategoricalScale\"},{\"attributes\":{},\"id\":\"638c96b7-86b8-4e2c-a54e-3e2af09f184b\",\"type\":\"SaveTool\"},{\"attributes\":{},\"id\":\"6c7e9be8-3347-429a-adcc-5775223a2e84\",\"type\":\"Selection\"},{\"attributes\":{\"bottom_units\":\"screen\",\"fill_alpha\":{\"value\":0.5},\"fill_color\":{\"value\":\"lightgrey\"},\"left_units\":\"screen\",\"level\":\"overlay\",\"line_alpha\":{\"value\":1.0},\"line_color\":{\"value\":\"black\"},\"line_dash\":[4,4],\"line_width\":{\"value\":2},\"plot\":null,\"render_mode\":\"css\",\"right_units\":\"screen\",\"top_units\":\"screen\"},\"id\":\"06da6c16-3218-408f-8e61-20748e601ce4\",\"type\":\"BoxAnnotation\"},{\"attributes\":{\"plot\":{\"id\":\"b6e2be5a-4c1e-4fc1-af19-8956af513157\",\"subtype\":\"Figure\",\"type\":\"Plot\"},\"ticker\":{\"id\":\"e33de1b5-0d9f-4351-85c7-8f7620a3d112\",\"type\":\"CategoricalTicker\"}},\"id\":\"ac34f565-a25d-458c-b743-9f28072ece68\",\"type\":\"Grid\"},{\"attributes\":{\"overlay\":{\"id\":\"06da6c16-3218-408f-8e61-20748e601ce4\",\"type\":\"BoxAnnotation\"}},\"id\":\"32ee5b14-7647-4c9a-94ef-ebfd482ac7df\",\"type\":\"BoxZoomTool\"},{\"attributes\":{},\"id\":\"6a4ed41f-980f-4742-bd55-438ce5e1d48d\",\"type\":\"BasicTickFormatter\"},{\"attributes\":{\"below\":[{\"id\":\"046fcdc6-c32f-416d-97e0-4b2fc16e3e23\",\"type\":\"CategoricalAxis\"}],\"left\":[{\"id\":\"9feee841-110f-4452-8a2a-efdffcead853\",\"type\":\"LinearAxis\"}],\"plot_height\":500,\"plot_width\":1000,\"renderers\":[{\"id\":\"046fcdc6-c32f-416d-97e0-4b2fc16e3e23\",\"type\":\"CategoricalAxis\"},{\"id\":\"ac34f565-a25d-458c-b743-9f28072ece68\",\"type\":\"Grid\"},{\"id\":\"9feee841-110f-4452-8a2a-efdffcead853\",\"type\":\"LinearAxis\"},{\"id\":\"4fb8beb8-a7da-4b33-bd36-97950c0ec887\",\"type\":\"Grid\"},{\"id\":\"06da6c16-3218-408f-8e61-20748e601ce4\",\"type\":\"BoxAnnotation\"},{\"id\":\"da92917f-f625-4e4a-a1a6-c29304c94499\",\"type\":\"GlyphRenderer\"}],\"title\":{\"id\":\"dcc6d5c6-3033-460e-aec2-fac22cb4b4d1\",\"type\":\"Title\"},\"toolbar\":{\"id\":\"e2022ce3-3502-4fd4-9655-ecfe0858f95f\",\"type\":\"Toolbar\"},\"x_range\":{\"id\":\"a0127c3f-be48-4d39-8139-6d9047a39721\",\"type\":\"FactorRange\"},\"x_scale\":{\"id\":\"5d21f526-46d4-4533-9e64-04dffa8893e3\",\"type\":\"CategoricalScale\"},\"y_range\":{\"id\":\"b746b325-cee4-4057-96fe-c9818ec0bcaa\",\"type\":\"Range1d\"},\"y_scale\":{\"id\":\"c15778b2-e07b-4996-b835-7eaa3c74b288\",\"type\":\"LinearScale\"}},\"id\":\"b6e2be5a-4c1e-4fc1-af19-8956af513157\",\"subtype\":\"Figure\",\"type\":\"Plot\"},{\"attributes\":{\"fill_color\":{\"value\":\"#1f77b4\"},\"line_color\":{\"value\":\"#1f77b4\"},\"top\":{\"field\":\"Frequency\"},\"width\":{\"value\":0.2},\"x\":{\"field\":\"Term\"}},\"id\":\"e82a899c-b336-43b7-b8f0-33a06d29a475\",\"type\":\"VBar\"},{\"attributes\":{},\"id\":\"e33de1b5-0d9f-4351-85c7-8f7620a3d112\",\"type\":\"CategoricalTicker\"},{\"attributes\":{\"formatter\":{\"id\":\"6a4ed41f-980f-4742-bd55-438ce5e1d48d\",\"type\":\"BasicTickFormatter\"},\"plot\":{\"id\":\"b6e2be5a-4c1e-4fc1-af19-8956af513157\",\"subtype\":\"Figure\",\"type\":\"Plot\"},\"ticker\":{\"id\":\"cfca166d-9f6e-46e8-bce2-e42836f6ead4\",\"type\":\"BasicTicker\"}},\"id\":\"9feee841-110f-4452-8a2a-efdffcead853\",\"type\":\"LinearAxis\"},{\"attributes\":{\"active_drag\":\"auto\",\"active_inspect\":\"auto\",\"active_multi\":null,\"active_scroll\":\"auto\",\"active_tap\":\"auto\",\"tools\":[{\"id\":\"0c05b713-d122-45b9-987d-10b3c4578e11\",\"type\":\"PanTool\"},{\"id\":\"55f1e34a-4360-441a-bd6d-4502a0f86a71\",\"type\":\"WheelZoomTool\"},{\"id\":\"32ee5b14-7647-4c9a-94ef-ebfd482ac7df\",\"type\":\"BoxZoomTool\"},{\"id\":\"638c96b7-86b8-4e2c-a54e-3e2af09f184b\",\"type\":\"SaveTool\"},{\"id\":\"b2f79c01-fe8b-4b17-b707-fe0a17726d08\",\"type\":\"ResetTool\"},{\"id\":\"0fc7d68e-fbe0-4293-8e21-1232c53dce0f\",\"type\":\"HelpTool\"},{\"id\":\"d39b4f75-1fc1-4cfd-88bb-93a7df0735ab\",\"type\":\"HoverTool\"}]},\"id\":\"e2022ce3-3502-4fd4-9655-ecfe0858f95f\",\"type\":\"Toolbar\"},{\"attributes\":{\"callback\":null,\"factors\":[\"date\",\"post\",\"blog\",\"time\",\"make\",\"know\",\"think\",\"thing\",\"come\"]},\"id\":\"a0127c3f-be48-4d39-8139-6d9047a39721\",\"type\":\"FactorRange\"},{\"attributes\":{\"plot\":null,\"text\":\"Term Frequencies\"},\"id\":\"dcc6d5c6-3033-460e-aec2-fac22cb4b4d1\",\"type\":\"Title\"},{\"attributes\":{},\"id\":\"0c05b713-d122-45b9-987d-10b3c4578e11\",\"type\":\"PanTool\"},{\"attributes\":{\"fill_alpha\":{\"value\":0.1},\"fill_color\":{\"value\":\"#1f77b4\"},\"line_alpha\":{\"value\":0.1},\"line_color\":{\"value\":\"#1f77b4\"},\"top\":{\"field\":\"Frequency\"},\"width\":{\"value\":0.2},\"x\":{\"field\":\"Term\"}},\"id\":\"0ee12cb1-35a6-4dfe-b79e-fb8b69e27a5b\",\"type\":\"VBar\"},{\"attributes\":{},\"id\":\"0fc7d68e-fbe0-4293-8e21-1232c53dce0f\",\"type\":\"HelpTool\"}],\"root_ids\":[\"b6e2be5a-4c1e-4fc1-af19-8956af513157\"]},\"title\":\"Bokeh Application\",\"version\":\"0.13.0\"}};\n",
       "  var render_items = [{\"docid\":\"9368cd4a-1cfd-4ab5-98b2-cc8c12e97349\",\"roots\":{\"b6e2be5a-4c1e-4fc1-af19-8956af513157\":\"ca83b10c-8408-4c3c-b9d8-eed1bdc13670\"}}];\n",
       "  root.Bokeh.embed.embed_items_notebook(docs_json, render_items);\n",
       "\n",
       "  }\n",
       "  if (root.Bokeh !== undefined) {\n",
       "    embed_document(root);\n",
       "  } else {\n",
       "    var attempts = 0;\n",
       "    var timer = setInterval(function(root) {\n",
       "      if (root.Bokeh !== undefined) {\n",
       "        embed_document(root);\n",
       "        clearInterval(timer);\n",
       "      }\n",
       "      attempts++;\n",
       "      if (attempts > 100) {\n",
       "        console.log(\"Bokeh: ERROR: Unable to run BokehJS code because BokehJS library is missing\")\n",
       "        clearInterval(timer);\n",
       "      }\n",
       "    }, 10, root)\n",
       "  }\n",
       "})(window);"
      ],
      "application/vnd.bokehjs_exec.v0+json": ""
     },
     "metadata": {
      "application/vnd.bokehjs_exec.v0+json": {
       "id": "b6e2be5a-4c1e-4fc1-af19-8956af513157"
      }
     },
     "output_type": "display_data"
    }
   ],
   "source": [
    "p = figure(plot_width=1000,plot_height=500,title=\"Term Frequencies\",x_range=df_high[\"Term\"].values,y_range=Range1d(0,df_high[\"Frequency\"].max()))\n",
    "p.vbar(x=\"Term\",top = \"Frequency\",width=0.2,source=source)\n",
    "p.add_tools(HoverTool(tooltips=[(\"Term\",\"@Term\"),(\"Frequency\",\"@Frequency\")]))\n",
    "show(p)"
   ]
  },
  {
   "cell_type": "code",
   "execution_count": null,
   "metadata": {},
   "outputs": [],
   "source": []
  }
 ],
 "metadata": {
  "kernelspec": {
   "display_name": "Python 2",
   "language": "python",
   "name": "python2"
  },
  "language_info": {
   "codemirror_mode": {
    "name": "ipython",
    "version": 2
   },
   "file_extension": ".py",
   "mimetype": "text/x-python",
   "name": "python",
   "nbconvert_exporter": "python",
   "pygments_lexer": "ipython2",
   "version": "2.7.12"
  }
 },
 "nbformat": 4,
 "nbformat_minor": 2
}
