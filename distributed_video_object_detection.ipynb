{
 "cells": [
  {
   "cell_type": "markdown",
   "metadata": {},
   "source": [
    "# RocketML Tutorial on distributed object detection on videos\n",
    "\n",
    "## Import Libraries"
   ]
  },
  {
   "cell_type": "code",
   "execution_count": null,
   "metadata": {},
   "outputs": [],
   "source": [
    "from rocketml.io import VideoSet, MongoWriter\n",
    "from rocketml.feature_extraction import ObjectDetection\n",
    "from rocketml.pipeline import Pipeline\n",
    "import sys\n",
    "\n",
    "import pymongo\n",
    "from pprint import pprint\n",
    "import subprocess\n",
    "from time import time"
   ]
  },
  {
   "cell_type": "markdown",
   "metadata": {},
   "source": [
    "## Create a videoset using video paths"
   ]
  },
  {
   "cell_type": "code",
   "execution_count": null,
   "metadata": {},
   "outputs": [],
   "source": [
    "start = time()\n",
    "filename = \"/home/ubuntu/rml-notebooks/home_video_list_4.txt\"\n",
    "# Image Set\n",
    "vm = VideoSet(filename,resize_width=64,resize_height=64,frame_rate=10)\n",
    "\n",
    "\n",
    "\n",
    "# Pipeline\n",
    "pipeline = Pipeline([od,mw])\n",
    "pipeline.fit(vm,cores=\"all\",verbose=False)\n",
    "\n",
    "print(\"Time for object detection = %0.2f\"%(time()-start))"
   ]
  },
  {
   "cell_type": "markdown",
   "metadata": {},
   "source": [
    "## Create Object Detection object with yolo model"
   ]
  },
  {
   "cell_type": "code",
   "execution_count": null,
   "metadata": {},
   "outputs": [],
   "source": [
    "# Object Detection\n",
    "#od = ObjectDetection(model_type=\"ssd_inception_v2_coco_2017_11_17\",model_framework=\"tensorflow\")\n",
    "od = ObjectDetection(model_type=\"yolo_v2\",model_framework=\"darknet\")\n",
    "\n"
   ]
  },
  {
   "cell_type": "markdown",
   "metadata": {},
   "source": [
    "## Create Mongo Writer to save objects"
   ]
  },
  {
   "cell_type": "code",
   "execution_count": null,
   "metadata": {},
   "outputs": [],
   "source": [
    "# Get uri\n",
    "hname = subprocess.check_output([\"hostname\"])\n",
    "mongo_uri = \"mongodb://\"+hname.strip()+\":27017\"\n",
    "\n",
    "# MongoWriter\n",
    "mw = MongoWriter(uri=mongo_uri,db=\"rml_collection_video_tf_demo\",collection=\"run_2\")"
   ]
  },
  {
   "cell_type": "markdown",
   "metadata": {},
   "source": [
    "## Inspect objects on a single video"
   ]
  },
  {
   "cell_type": "code",
   "execution_count": null,
   "metadata": {},
   "outputs": [],
   "source": [
    "vid = Video(filename=\"/home/ubuntu/rocketml-dev/data/home-videos/santi_lr_1.MOV\")\n",
    "vid.draw_objects(mw,\"out_tf_santi_lr_1.mp4\")"
   ]
  },
  {
   "cell_type": "code",
   "execution_count": null,
   "metadata": {},
   "outputs": [],
   "source": []
  }
 ],
 "metadata": {
  "kernelspec": {
   "display_name": "Python 2",
   "language": "python",
   "name": "python2"
  },
  "language_info": {
   "codemirror_mode": {
    "name": "ipython",
    "version": 2
   },
   "file_extension": ".py",
   "mimetype": "text/x-python",
   "name": "python",
   "nbconvert_exporter": "python",
   "pygments_lexer": "ipython2",
   "version": "2.7.12"
  }
 },
 "nbformat": 4,
 "nbformat_minor": 2
}
