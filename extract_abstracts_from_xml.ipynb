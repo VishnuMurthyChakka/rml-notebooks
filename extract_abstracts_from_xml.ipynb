{
 "cells": [
  {
   "cell_type": "code",
   "execution_count": 2,
   "metadata": {},
   "outputs": [
    {
     "name": "stdout",
     "output_type": "stream",
     "text": [
      "Collecting xmltodict\n",
      "  Downloading https://files.pythonhosted.org/packages/42/a9/7e99652c6bc619d19d58cdd8c47560730eb5825d43a7e25db2e1d776ceb7/xmltodict-0.11.0-py2.py3-none-any.whl\n",
      "Installing collected packages: xmltodict\n",
      "Successfully installed xmltodict-0.11.0\n",
      "\u001b[33mYou are using pip version 9.0.1, however version 18.0 is available.\n",
      "You should consider upgrading via the 'pip install --upgrade pip' command.\u001b[0m\n"
     ]
    }
   ],
   "source": [
    "!pip install --user xmltodict"
   ]
  },
  {
   "cell_type": "code",
   "execution_count": 30,
   "metadata": {},
   "outputs": [],
   "source": [
    "import xmltodict\n",
    "import string\n",
    "import subprocess\n",
    "import os"
   ]
  },
  {
   "cell_type": "code",
   "execution_count": 31,
   "metadata": {},
   "outputs": [],
   "source": [
    "printable = set(string.printable)\n",
    "def get_data(input_file):\n",
    "    with open(input_file,\"r\") as fp:\n",
    "        data = xmltodict.parse(fp.read())\n",
    "    return data[\"PubmedArticleSet\"][\"PubmedArticle\"]\n",
    "\n",
    "def get_text(input_data):\n",
    "    text= \"\"\n",
    "    if isinstance(input_data,dict):\n",
    "        for key in input_data.keys():\n",
    "            text += get_text(input_data[key]) \n",
    "    elif isinstance(input_data,list):\n",
    "        for item in input_data:\n",
    "            text += get_text(item)\n",
    "    elif isinstance(input_data,str):\n",
    "        return input_data+\" \"\n",
    "    elif input_data:\n",
    "        out_text = filter(lambda x: x in printable,input_data)\n",
    "        return out_text+\" \"\n",
    "    else:\n",
    "        return \"\"\n",
    "    return text\n",
    "    "
   ]
  },
  {
   "cell_type": "code",
   "execution_count": 32,
   "metadata": {},
   "outputs": [],
   "source": [
    "from dask.distributed import Client"
   ]
  },
  {
   "cell_type": "code",
   "execution_count": 33,
   "metadata": {},
   "outputs": [],
   "source": [
    "hostname = subprocess.check_output('hostname').strip()\n",
    "client = Client(hostname +':8786')"
   ]
  },
  {
   "cell_type": "code",
   "execution_count": 34,
   "metadata": {},
   "outputs": [
    {
     "data": {
      "text/html": [
       "<table style=\"border: 2px solid white;\">\n",
       "<tr>\n",
       "<td style=\"vertical-align: top; border: 0px solid white\">\n",
       "<h3>Client</h3>\n",
       "<ul>\n",
       "  <li><b>Scheduler: </b>tcp://ip-172-31-18-54:8786\n",
       "  <li><b>Dashboard: </b><a href='http://ip-172-31-18-54:8787/status' target='_blank'>http://ip-172-31-18-54:8787/status</a>\n",
       "</ul>\n",
       "</td>\n",
       "<td style=\"vertical-align: top; border: 0px solid white\">\n",
       "<h3>Cluster</h3>\n",
       "<ul>\n",
       "  <li><b>Workers: </b>4</li>\n",
       "  <li><b>Cores: </b>64</li>\n",
       "  <li><b>Memory: </b>130.65 GB</li>\n",
       "</ul>\n",
       "</td>\n",
       "</tr>\n",
       "</table>"
      ],
      "text/plain": [
       "<Client: scheduler='tcp://172.31.18.54:8786' processes=4 cores=64>"
      ]
     },
     "execution_count": 34,
     "metadata": {},
     "output_type": "execute_result"
    }
   ],
   "source": [
    "client"
   ]
  },
  {
   "cell_type": "code",
   "execution_count": null,
   "metadata": {},
   "outputs": [],
   "source": [
    "%%time\n",
    "filename1 = \"/shared/data/pubmed18n0929.xml\"\n",
    "filename2 = \"/shared/data/pubmed18n0930.xml\"\n",
    "data_list = client.map(get_data,[filename1,filename2])\n",
    "data_list = client.gather(data_list)"
   ]
  },
  {
   "cell_type": "code",
   "execution_count": 12,
   "metadata": {},
   "outputs": [
    {
     "data": {
      "text/plain": [
       "30000"
      ]
     },
     "execution_count": 12,
     "metadata": {},
     "output_type": "execute_result"
    }
   ],
   "source": [
    "len(data_list[0])"
   ]
  },
  {
   "cell_type": "code",
   "execution_count": 13,
   "metadata": {},
   "outputs": [],
   "source": [
    "text_data = client.map(get_text,data_list[0])\n",
    "final_text_data = client.gather(text_data)"
   ]
  },
  {
   "cell_type": "code",
   "execution_count": 14,
   "metadata": {},
   "outputs": [
    {
     "data": {
      "text/plain": [
       "30000"
      ]
     },
     "execution_count": 14,
     "metadata": {},
     "output_type": "execute_result"
    }
   ],
   "source": [
    "len(final_text_data)"
   ]
  },
  {
   "cell_type": "code",
   "execution_count": null,
   "metadata": {},
   "outputs": [],
   "source": [
    "final_text_data[0]"
   ]
  },
  {
   "cell_type": "code",
   "execution_count": 3,
   "metadata": {},
   "outputs": [],
   "source": [
    "dirname = \"/shared/data/pubmed/abstracts/\"\n",
    "# if not os.path.exists(dirname):\n",
    "#     os.makedirs(dirname)\n",
    "    \n",
    "# for _id,article in enumerate(final_text_data):\n",
    "#     filename = dirname + \"/abstract_\" + str(_id) + \".txt\"\n",
    "#     with open(filename,\"w\") as fp:\n",
    "#         fp.write(article)"
   ]
  },
  {
   "cell_type": "code",
   "execution_count": 4,
   "metadata": {},
   "outputs": [],
   "source": [
    "from rocketml.io import DocumentSet\n",
    "from rocketml.decomposition import TruncatedSVD\n",
    "from rocketml.preprocessing import TextFilter\n",
    "from rocketml import Pipeline"
   ]
  },
  {
   "cell_type": "code",
   "execution_count": 24,
   "metadata": {},
   "outputs": [
    {
     "name": "stdout",
     "output_type": "stream",
     "text": [
      "<rocketml.preprocessing.text.TextFilter object at 0x7fbbdea17fd0>\n",
      "text\n",
      "------------------\n",
      "Cluster Resources\n",
      "------------------\n",
      "Nodes        = 4\n",
      "Sockets/node = 1\n",
      "Cores/socket = 8\n",
      "--------------------------\n",
      "Total Cores    = 32\n",
      "Total Memory(GB)   = 121.68\n",
      "--------------------------\n",
      "/shared/jobs_folder/6878252f/output.txt\n",
      "CPU times: user 640 ms, sys: 108 ms, total: 748 ms\n",
      "Wall time: 22 s\n"
     ]
    }
   ],
   "source": [
    "%%time\n",
    "abstract_filenames = [dirname+ff for ff in os.listdir(dirname)]\n",
    "docset = DocumentSet(filelist=abstract_filenames)\n",
    "tf = TextFilter(stop_word_filter=True,stemming_filter=True,length_filter=True)\n",
    "svd = TruncatedSVD(n_components=20)\n",
    "pipeline = Pipeline([tf,svd])\n",
    "docset_transofrm = pipeline.fit_transform(docset)\n",
    "len(docset.documents)\n",
    "svd.components_.shape"
   ]
  },
  {
   "cell_type": "code",
   "execution_count": 25,
   "metadata": {},
   "outputs": [],
   "source": [
    "import pandas as pd\n",
    "df = pd.DataFrame([[key,value] for key,value in docset.terms_document_frequencies.iteritems()],columns=[\"Term\",\"Frequency\"])\n",
    "df_high = df[df[\"Frequency\"] > 10000].sort_values(by=[\"Frequency\"],ascending=False)"
   ]
  },
  {
   "cell_type": "code",
   "execution_count": 7,
   "metadata": {},
   "outputs": [],
   "source": [
    "from bokeh.plotting import figure,show\n",
    "from bokeh.io import output_notebook\n",
    "from bokeh.models import ColumnDataSource, HoverTool\n",
    "from bokeh.models.ranges import Range1d\n",
    "import xmltodict\n",
    "import string\n",
    "%matplotlib inline"
   ]
  },
  {
   "cell_type": "code",
   "execution_count": 8,
   "metadata": {},
   "outputs": [
    {
     "data": {
      "text/html": [
       "\n",
       "    <div class=\"bk-root\">\n",
       "        <a href=\"https://bokeh.pydata.org\" target=\"_blank\" class=\"bk-logo bk-logo-small bk-logo-notebook\"></a>\n",
       "        <span id=\"d4d712cb-2ceb-4096-9793-fc76bf332fe7\">Loading BokehJS ...</span>\n",
       "    </div>"
      ]
     },
     "metadata": {},
     "output_type": "display_data"
    },
    {
     "data": {
      "application/javascript": [
       "\n",
       "(function(root) {\n",
       "  function now() {\n",
       "    return new Date();\n",
       "  }\n",
       "\n",
       "  var force = true;\n",
       "\n",
       "  if (typeof (root._bokeh_onload_callbacks) === \"undefined\" || force === true) {\n",
       "    root._bokeh_onload_callbacks = [];\n",
       "    root._bokeh_is_loading = undefined;\n",
       "  }\n",
       "\n",
       "  var JS_MIME_TYPE = 'application/javascript';\n",
       "  var HTML_MIME_TYPE = 'text/html';\n",
       "  var EXEC_MIME_TYPE = 'application/vnd.bokehjs_exec.v0+json';\n",
       "  var CLASS_NAME = 'output_bokeh rendered_html';\n",
       "\n",
       "  /**\n",
       "   * Render data to the DOM node\n",
       "   */\n",
       "  function render(props, node) {\n",
       "    var script = document.createElement(\"script\");\n",
       "    node.appendChild(script);\n",
       "  }\n",
       "\n",
       "  /**\n",
       "   * Handle when an output is cleared or removed\n",
       "   */\n",
       "  function handleClearOutput(event, handle) {\n",
       "    var cell = handle.cell;\n",
       "\n",
       "    var id = cell.output_area._bokeh_element_id;\n",
       "    var server_id = cell.output_area._bokeh_server_id;\n",
       "    // Clean up Bokeh references\n",
       "    if (id != null && id in Bokeh.index) {\n",
       "      Bokeh.index[id].model.document.clear();\n",
       "      delete Bokeh.index[id];\n",
       "    }\n",
       "\n",
       "    if (server_id !== undefined) {\n",
       "      // Clean up Bokeh references\n",
       "      var cmd = \"from bokeh.io.state import curstate; print(curstate().uuid_to_server['\" + server_id + \"'].get_sessions()[0].document.roots[0]._id)\";\n",
       "      cell.notebook.kernel.execute(cmd, {\n",
       "        iopub: {\n",
       "          output: function(msg) {\n",
       "            var id = msg.content.text.trim();\n",
       "            if (id in Bokeh.index) {\n",
       "              Bokeh.index[id].model.document.clear();\n",
       "              delete Bokeh.index[id];\n",
       "            }\n",
       "          }\n",
       "        }\n",
       "      });\n",
       "      // Destroy server and session\n",
       "      var cmd = \"import bokeh.io.notebook as ion; ion.destroy_server('\" + server_id + \"')\";\n",
       "      cell.notebook.kernel.execute(cmd);\n",
       "    }\n",
       "  }\n",
       "\n",
       "  /**\n",
       "   * Handle when a new output is added\n",
       "   */\n",
       "  function handleAddOutput(event, handle) {\n",
       "    var output_area = handle.output_area;\n",
       "    var output = handle.output;\n",
       "\n",
       "    // limit handleAddOutput to display_data with EXEC_MIME_TYPE content only\n",
       "    if ((output.output_type != \"display_data\") || (!output.data.hasOwnProperty(EXEC_MIME_TYPE))) {\n",
       "      return\n",
       "    }\n",
       "\n",
       "    var toinsert = output_area.element.find(\".\" + CLASS_NAME.split(' ')[0]);\n",
       "\n",
       "    if (output.metadata[EXEC_MIME_TYPE][\"id\"] !== undefined) {\n",
       "      toinsert[toinsert.length - 1].firstChild.textContent = output.data[JS_MIME_TYPE];\n",
       "      // store reference to embed id on output_area\n",
       "      output_area._bokeh_element_id = output.metadata[EXEC_MIME_TYPE][\"id\"];\n",
       "    }\n",
       "    if (output.metadata[EXEC_MIME_TYPE][\"server_id\"] !== undefined) {\n",
       "      var bk_div = document.createElement(\"div\");\n",
       "      bk_div.innerHTML = output.data[HTML_MIME_TYPE];\n",
       "      var script_attrs = bk_div.children[0].attributes;\n",
       "      for (var i = 0; i < script_attrs.length; i++) {\n",
       "        toinsert[toinsert.length - 1].firstChild.setAttribute(script_attrs[i].name, script_attrs[i].value);\n",
       "      }\n",
       "      // store reference to server id on output_area\n",
       "      output_area._bokeh_server_id = output.metadata[EXEC_MIME_TYPE][\"server_id\"];\n",
       "    }\n",
       "  }\n",
       "\n",
       "  function register_renderer(events, OutputArea) {\n",
       "\n",
       "    function append_mime(data, metadata, element) {\n",
       "      // create a DOM node to render to\n",
       "      var toinsert = this.create_output_subarea(\n",
       "        metadata,\n",
       "        CLASS_NAME,\n",
       "        EXEC_MIME_TYPE\n",
       "      );\n",
       "      this.keyboard_manager.register_events(toinsert);\n",
       "      // Render to node\n",
       "      var props = {data: data, metadata: metadata[EXEC_MIME_TYPE]};\n",
       "      render(props, toinsert[toinsert.length - 1]);\n",
       "      element.append(toinsert);\n",
       "      return toinsert\n",
       "    }\n",
       "\n",
       "    /* Handle when an output is cleared or removed */\n",
       "    events.on('clear_output.CodeCell', handleClearOutput);\n",
       "    events.on('delete.Cell', handleClearOutput);\n",
       "\n",
       "    /* Handle when a new output is added */\n",
       "    events.on('output_added.OutputArea', handleAddOutput);\n",
       "\n",
       "    /**\n",
       "     * Register the mime type and append_mime function with output_area\n",
       "     */\n",
       "    OutputArea.prototype.register_mime_type(EXEC_MIME_TYPE, append_mime, {\n",
       "      /* Is output safe? */\n",
       "      safe: true,\n",
       "      /* Index of renderer in `output_area.display_order` */\n",
       "      index: 0\n",
       "    });\n",
       "  }\n",
       "\n",
       "  // register the mime type if in Jupyter Notebook environment and previously unregistered\n",
       "  if (root.Jupyter !== undefined) {\n",
       "    var events = require('base/js/events');\n",
       "    var OutputArea = require('notebook/js/outputarea').OutputArea;\n",
       "\n",
       "    if (OutputArea.prototype.mime_types().indexOf(EXEC_MIME_TYPE) == -1) {\n",
       "      register_renderer(events, OutputArea);\n",
       "    }\n",
       "  }\n",
       "\n",
       "  \n",
       "  if (typeof (root._bokeh_timeout) === \"undefined\" || force === true) {\n",
       "    root._bokeh_timeout = Date.now() + 5000;\n",
       "    root._bokeh_failed_load = false;\n",
       "  }\n",
       "\n",
       "  var NB_LOAD_WARNING = {'data': {'text/html':\n",
       "     \"<div style='background-color: #fdd'>\\n\"+\n",
       "     \"<p>\\n\"+\n",
       "     \"BokehJS does not appear to have successfully loaded. If loading BokehJS from CDN, this \\n\"+\n",
       "     \"may be due to a slow or bad network connection. Possible fixes:\\n\"+\n",
       "     \"</p>\\n\"+\n",
       "     \"<ul>\\n\"+\n",
       "     \"<li>re-rerun `output_notebook()` to attempt to load from CDN again, or</li>\\n\"+\n",
       "     \"<li>use INLINE resources instead, as so:</li>\\n\"+\n",
       "     \"</ul>\\n\"+\n",
       "     \"<code>\\n\"+\n",
       "     \"from bokeh.resources import INLINE\\n\"+\n",
       "     \"output_notebook(resources=INLINE)\\n\"+\n",
       "     \"</code>\\n\"+\n",
       "     \"</div>\"}};\n",
       "\n",
       "  function display_loaded() {\n",
       "    var el = document.getElementById(\"d4d712cb-2ceb-4096-9793-fc76bf332fe7\");\n",
       "    if (el != null) {\n",
       "      el.textContent = \"BokehJS is loading...\";\n",
       "    }\n",
       "    if (root.Bokeh !== undefined) {\n",
       "      if (el != null) {\n",
       "        el.textContent = \"BokehJS \" + root.Bokeh.version + \" successfully loaded.\";\n",
       "      }\n",
       "    } else if (Date.now() < root._bokeh_timeout) {\n",
       "      setTimeout(display_loaded, 100)\n",
       "    }\n",
       "  }\n",
       "\n",
       "\n",
       "  function run_callbacks() {\n",
       "    try {\n",
       "      root._bokeh_onload_callbacks.forEach(function(callback) { callback() });\n",
       "    }\n",
       "    finally {\n",
       "      delete root._bokeh_onload_callbacks\n",
       "    }\n",
       "    console.info(\"Bokeh: all callbacks have finished\");\n",
       "  }\n",
       "\n",
       "  function load_libs(js_urls, callback) {\n",
       "    root._bokeh_onload_callbacks.push(callback);\n",
       "    if (root._bokeh_is_loading > 0) {\n",
       "      console.log(\"Bokeh: BokehJS is being loaded, scheduling callback at\", now());\n",
       "      return null;\n",
       "    }\n",
       "    if (js_urls == null || js_urls.length === 0) {\n",
       "      run_callbacks();\n",
       "      return null;\n",
       "    }\n",
       "    console.log(\"Bokeh: BokehJS not loaded, scheduling load and callback at\", now());\n",
       "    root._bokeh_is_loading = js_urls.length;\n",
       "    for (var i = 0; i < js_urls.length; i++) {\n",
       "      var url = js_urls[i];\n",
       "      var s = document.createElement('script');\n",
       "      s.src = url;\n",
       "      s.async = false;\n",
       "      s.onreadystatechange = s.onload = function() {\n",
       "        root._bokeh_is_loading--;\n",
       "        if (root._bokeh_is_loading === 0) {\n",
       "          console.log(\"Bokeh: all BokehJS libraries loaded\");\n",
       "          run_callbacks()\n",
       "        }\n",
       "      };\n",
       "      s.onerror = function() {\n",
       "        console.warn(\"failed to load library \" + url);\n",
       "      };\n",
       "      console.log(\"Bokeh: injecting script tag for BokehJS library: \", url);\n",
       "      document.getElementsByTagName(\"head\")[0].appendChild(s);\n",
       "    }\n",
       "  };var element = document.getElementById(\"d4d712cb-2ceb-4096-9793-fc76bf332fe7\");\n",
       "  if (element == null) {\n",
       "    console.log(\"Bokeh: ERROR: autoload.js configured with elementid 'd4d712cb-2ceb-4096-9793-fc76bf332fe7' but no matching script tag was found. \")\n",
       "    return false;\n",
       "  }\n",
       "\n",
       "  var js_urls = [\"https://cdn.pydata.org/bokeh/release/bokeh-0.13.0.min.js\", \"https://cdn.pydata.org/bokeh/release/bokeh-widgets-0.13.0.min.js\", \"https://cdn.pydata.org/bokeh/release/bokeh-tables-0.13.0.min.js\", \"https://cdn.pydata.org/bokeh/release/bokeh-gl-0.13.0.min.js\"];\n",
       "\n",
       "  var inline_js = [\n",
       "    function(Bokeh) {\n",
       "      Bokeh.set_log_level(\"info\");\n",
       "    },\n",
       "    \n",
       "    function(Bokeh) {\n",
       "      \n",
       "    },\n",
       "    function(Bokeh) {\n",
       "      console.log(\"Bokeh: injecting CSS: https://cdn.pydata.org/bokeh/release/bokeh-0.13.0.min.css\");\n",
       "      Bokeh.embed.inject_css(\"https://cdn.pydata.org/bokeh/release/bokeh-0.13.0.min.css\");\n",
       "      console.log(\"Bokeh: injecting CSS: https://cdn.pydata.org/bokeh/release/bokeh-widgets-0.13.0.min.css\");\n",
       "      Bokeh.embed.inject_css(\"https://cdn.pydata.org/bokeh/release/bokeh-widgets-0.13.0.min.css\");\n",
       "      console.log(\"Bokeh: injecting CSS: https://cdn.pydata.org/bokeh/release/bokeh-tables-0.13.0.min.css\");\n",
       "      Bokeh.embed.inject_css(\"https://cdn.pydata.org/bokeh/release/bokeh-tables-0.13.0.min.css\");\n",
       "    }\n",
       "  ];\n",
       "\n",
       "  function run_inline_js() {\n",
       "    \n",
       "    if ((root.Bokeh !== undefined) || (force === true)) {\n",
       "      for (var i = 0; i < inline_js.length; i++) {\n",
       "        inline_js[i].call(root, root.Bokeh);\n",
       "      }if (force === true) {\n",
       "        display_loaded();\n",
       "      }} else if (Date.now() < root._bokeh_timeout) {\n",
       "      setTimeout(run_inline_js, 100);\n",
       "    } else if (!root._bokeh_failed_load) {\n",
       "      console.log(\"Bokeh: BokehJS failed to load within specified timeout.\");\n",
       "      root._bokeh_failed_load = true;\n",
       "    } else if (force !== true) {\n",
       "      var cell = $(document.getElementById(\"d4d712cb-2ceb-4096-9793-fc76bf332fe7\")).parents('.cell').data().cell;\n",
       "      cell.output_area.append_execute_result(NB_LOAD_WARNING)\n",
       "    }\n",
       "\n",
       "  }\n",
       "\n",
       "  if (root._bokeh_is_loading === 0) {\n",
       "    console.log(\"Bokeh: BokehJS loaded, going straight to plotting\");\n",
       "    run_inline_js();\n",
       "  } else {\n",
       "    load_libs(js_urls, function() {\n",
       "      console.log(\"Bokeh: BokehJS plotting callback run at\", now());\n",
       "      run_inline_js();\n",
       "    });\n",
       "  }\n",
       "}(window));"
      ],
      "application/vnd.bokehjs_load.v0+json": "\n(function(root) {\n  function now() {\n    return new Date();\n  }\n\n  var force = true;\n\n  if (typeof (root._bokeh_onload_callbacks) === \"undefined\" || force === true) {\n    root._bokeh_onload_callbacks = [];\n    root._bokeh_is_loading = undefined;\n  }\n\n  \n\n  \n  if (typeof (root._bokeh_timeout) === \"undefined\" || force === true) {\n    root._bokeh_timeout = Date.now() + 5000;\n    root._bokeh_failed_load = false;\n  }\n\n  var NB_LOAD_WARNING = {'data': {'text/html':\n     \"<div style='background-color: #fdd'>\\n\"+\n     \"<p>\\n\"+\n     \"BokehJS does not appear to have successfully loaded. If loading BokehJS from CDN, this \\n\"+\n     \"may be due to a slow or bad network connection. Possible fixes:\\n\"+\n     \"</p>\\n\"+\n     \"<ul>\\n\"+\n     \"<li>re-rerun `output_notebook()` to attempt to load from CDN again, or</li>\\n\"+\n     \"<li>use INLINE resources instead, as so:</li>\\n\"+\n     \"</ul>\\n\"+\n     \"<code>\\n\"+\n     \"from bokeh.resources import INLINE\\n\"+\n     \"output_notebook(resources=INLINE)\\n\"+\n     \"</code>\\n\"+\n     \"</div>\"}};\n\n  function display_loaded() {\n    var el = document.getElementById(\"d4d712cb-2ceb-4096-9793-fc76bf332fe7\");\n    if (el != null) {\n      el.textContent = \"BokehJS is loading...\";\n    }\n    if (root.Bokeh !== undefined) {\n      if (el != null) {\n        el.textContent = \"BokehJS \" + root.Bokeh.version + \" successfully loaded.\";\n      }\n    } else if (Date.now() < root._bokeh_timeout) {\n      setTimeout(display_loaded, 100)\n    }\n  }\n\n\n  function run_callbacks() {\n    try {\n      root._bokeh_onload_callbacks.forEach(function(callback) { callback() });\n    }\n    finally {\n      delete root._bokeh_onload_callbacks\n    }\n    console.info(\"Bokeh: all callbacks have finished\");\n  }\n\n  function load_libs(js_urls, callback) {\n    root._bokeh_onload_callbacks.push(callback);\n    if (root._bokeh_is_loading > 0) {\n      console.log(\"Bokeh: BokehJS is being loaded, scheduling callback at\", now());\n      return null;\n    }\n    if (js_urls == null || js_urls.length === 0) {\n      run_callbacks();\n      return null;\n    }\n    console.log(\"Bokeh: BokehJS not loaded, scheduling load and callback at\", now());\n    root._bokeh_is_loading = js_urls.length;\n    for (var i = 0; i < js_urls.length; i++) {\n      var url = js_urls[i];\n      var s = document.createElement('script');\n      s.src = url;\n      s.async = false;\n      s.onreadystatechange = s.onload = function() {\n        root._bokeh_is_loading--;\n        if (root._bokeh_is_loading === 0) {\n          console.log(\"Bokeh: all BokehJS libraries loaded\");\n          run_callbacks()\n        }\n      };\n      s.onerror = function() {\n        console.warn(\"failed to load library \" + url);\n      };\n      console.log(\"Bokeh: injecting script tag for BokehJS library: \", url);\n      document.getElementsByTagName(\"head\")[0].appendChild(s);\n    }\n  };var element = document.getElementById(\"d4d712cb-2ceb-4096-9793-fc76bf332fe7\");\n  if (element == null) {\n    console.log(\"Bokeh: ERROR: autoload.js configured with elementid 'd4d712cb-2ceb-4096-9793-fc76bf332fe7' but no matching script tag was found. \")\n    return false;\n  }\n\n  var js_urls = [\"https://cdn.pydata.org/bokeh/release/bokeh-0.13.0.min.js\", \"https://cdn.pydata.org/bokeh/release/bokeh-widgets-0.13.0.min.js\", \"https://cdn.pydata.org/bokeh/release/bokeh-tables-0.13.0.min.js\", \"https://cdn.pydata.org/bokeh/release/bokeh-gl-0.13.0.min.js\"];\n\n  var inline_js = [\n    function(Bokeh) {\n      Bokeh.set_log_level(\"info\");\n    },\n    \n    function(Bokeh) {\n      \n    },\n    function(Bokeh) {\n      console.log(\"Bokeh: injecting CSS: https://cdn.pydata.org/bokeh/release/bokeh-0.13.0.min.css\");\n      Bokeh.embed.inject_css(\"https://cdn.pydata.org/bokeh/release/bokeh-0.13.0.min.css\");\n      console.log(\"Bokeh: injecting CSS: https://cdn.pydata.org/bokeh/release/bokeh-widgets-0.13.0.min.css\");\n      Bokeh.embed.inject_css(\"https://cdn.pydata.org/bokeh/release/bokeh-widgets-0.13.0.min.css\");\n      console.log(\"Bokeh: injecting CSS: https://cdn.pydata.org/bokeh/release/bokeh-tables-0.13.0.min.css\");\n      Bokeh.embed.inject_css(\"https://cdn.pydata.org/bokeh/release/bokeh-tables-0.13.0.min.css\");\n    }\n  ];\n\n  function run_inline_js() {\n    \n    if ((root.Bokeh !== undefined) || (force === true)) {\n      for (var i = 0; i < inline_js.length; i++) {\n        inline_js[i].call(root, root.Bokeh);\n      }if (force === true) {\n        display_loaded();\n      }} else if (Date.now() < root._bokeh_timeout) {\n      setTimeout(run_inline_js, 100);\n    } else if (!root._bokeh_failed_load) {\n      console.log(\"Bokeh: BokehJS failed to load within specified timeout.\");\n      root._bokeh_failed_load = true;\n    } else if (force !== true) {\n      var cell = $(document.getElementById(\"d4d712cb-2ceb-4096-9793-fc76bf332fe7\")).parents('.cell').data().cell;\n      cell.output_area.append_execute_result(NB_LOAD_WARNING)\n    }\n\n  }\n\n  if (root._bokeh_is_loading === 0) {\n    console.log(\"Bokeh: BokehJS loaded, going straight to plotting\");\n    run_inline_js();\n  } else {\n    load_libs(js_urls, function() {\n      console.log(\"Bokeh: BokehJS plotting callback run at\", now());\n      run_inline_js();\n    });\n  }\n}(window));"
     },
     "metadata": {},
     "output_type": "display_data"
    }
   ],
   "source": [
    "output_notebook()"
   ]
  },
  {
   "cell_type": "code",
   "execution_count": 26,
   "metadata": {},
   "outputs": [
    {
     "data": {
      "text/html": [
       "\n",
       "\n",
       "\n",
       "\n",
       "\n",
       "\n",
       "  <div class=\"bk-root\" id=\"acca0930-24cb-4c3d-95ab-c02566cbd534\"></div>\n"
      ]
     },
     "metadata": {},
     "output_type": "display_data"
    },
    {
     "data": {
      "application/javascript": [
       "(function(root) {\n",
       "  function embed_document(root) {\n",
       "    \n",
       "  var docs_json = {\"a3149484-364a-4273-aced-5bb07a2d1a87\":{\"roots\":{\"references\":[{\"attributes\":{},\"id\":\"177e5ebf-33a7-4374-bf3e-0b6297b31080\",\"type\":\"UnionRenderers\"},{\"attributes\":{\"bottom_units\":\"screen\",\"fill_alpha\":{\"value\":0.5},\"fill_color\":{\"value\":\"lightgrey\"},\"left_units\":\"screen\",\"level\":\"overlay\",\"line_alpha\":{\"value\":1.0},\"line_color\":{\"value\":\"black\"},\"line_dash\":[4,4],\"line_width\":{\"value\":2},\"plot\":null,\"render_mode\":\"css\",\"right_units\":\"screen\",\"top_units\":\"screen\"},\"id\":\"ecfb7d9c-a3ac-4e20-8b04-5aaf27fd70f4\",\"type\":\"BoxAnnotation\"},{\"attributes\":{\"callback\":null,\"data\":{\"Frequency\":[30000,30000,30000,29995,29478,29129,29067,28695,28038,27926,26084,22932,14970,14581,14368,13897,13840,13174,13141,12970,12910,12895,12748,12174,11232,11071,10594,10526,10292,10201,10002],\"Term\":[\"medlin\",\"entrez\",\"pubm\",\"nlm\",\"journal\",\"print\",\"ppublish\",\"articl\",\"im\",\"eng\",\"pii\",\"human\",\"clinic\",\"univers\",\"studi\",\"electron\",\"internet\",\"unit\",\"research\",\"depart\",\"doi\",\"state\",\"clin\",\"method\",\"intern\",\"result\",\"male\",\"femal\",\"chemistri\",\"netherland\",\"acta\"],\"index\":[139619,107922,92503,54629,47785,50805,33091,65019,29551,49484,107998,48882,149320,126740,145635,37097,78694,39295,2789,72198,125876,66900,95652,60251,48953,42502,137673,126518,31966,81343,12238]},\"selected\":{\"id\":\"9fa8d6c5-d184-4f97-968a-407ef798b335\",\"type\":\"Selection\"},\"selection_policy\":{\"id\":\"177e5ebf-33a7-4374-bf3e-0b6297b31080\",\"type\":\"UnionRenderers\"}},\"id\":\"370fb4c1-83f6-4d34-90aa-0780b913b543\",\"type\":\"ColumnDataSource\"},{\"attributes\":{\"callback\":null,\"factors\":[\"medlin\",\"entrez\",\"pubm\",\"nlm\",\"journal\",\"print\",\"ppublish\",\"articl\",\"im\",\"eng\",\"pii\",\"human\",\"clinic\",\"univers\",\"studi\",\"electron\",\"internet\",\"unit\",\"research\",\"depart\",\"doi\",\"state\",\"clin\",\"method\",\"intern\",\"result\",\"male\",\"femal\",\"chemistri\",\"netherland\",\"acta\"]},\"id\":\"8f2e3a8c-eb63-4567-9d03-f69f9282bea6\",\"type\":\"FactorRange\"},{\"attributes\":{},\"id\":\"9fa8d6c5-d184-4f97-968a-407ef798b335\",\"type\":\"Selection\"},{\"attributes\":{},\"id\":\"0c235c23-9667-4a20-850f-40aa38b6c17f\",\"type\":\"HelpTool\"},{\"attributes\":{\"fill_color\":{\"value\":\"#1f77b4\"},\"line_color\":{\"value\":\"#1f77b4\"},\"top\":{\"field\":\"Frequency\"},\"width\":{\"value\":0.2},\"x\":{\"field\":\"Term\"}},\"id\":\"6fe437ee-9d33-4adc-826b-f7595ff6a480\",\"type\":\"VBar\"},{\"attributes\":{\"below\":[{\"id\":\"df655ccc-47d7-48cd-abd8-d639917502da\",\"type\":\"CategoricalAxis\"}],\"left\":[{\"id\":\"197d81dd-7fac-4fae-a051-c84bd396fd30\",\"type\":\"LinearAxis\"}],\"plot_height\":500,\"plot_width\":1000,\"renderers\":[{\"id\":\"df655ccc-47d7-48cd-abd8-d639917502da\",\"type\":\"CategoricalAxis\"},{\"id\":\"505d00ab-9ed5-4abb-b67b-4baf7de1046f\",\"type\":\"Grid\"},{\"id\":\"197d81dd-7fac-4fae-a051-c84bd396fd30\",\"type\":\"LinearAxis\"},{\"id\":\"799a1493-067f-448f-960a-8ddc547e5c9a\",\"type\":\"Grid\"},{\"id\":\"ecfb7d9c-a3ac-4e20-8b04-5aaf27fd70f4\",\"type\":\"BoxAnnotation\"},{\"id\":\"e1b4a09f-392f-4ad4-88f2-f51f45778bd2\",\"type\":\"GlyphRenderer\"}],\"title\":{\"id\":\"85f561a1-60f6-4683-8d5c-d654c9d08d4a\",\"type\":\"Title\"},\"toolbar\":{\"id\":\"0f823dfe-e147-4681-9a22-71b46c42c73e\",\"type\":\"Toolbar\"},\"x_range\":{\"id\":\"8f2e3a8c-eb63-4567-9d03-f69f9282bea6\",\"type\":\"FactorRange\"},\"x_scale\":{\"id\":\"cd63f002-1b92-4d04-89d5-679fcfdcad92\",\"type\":\"CategoricalScale\"},\"y_range\":{\"id\":\"49a88019-1033-415b-844e-b6b4b9b870c8\",\"type\":\"Range1d\"},\"y_scale\":{\"id\":\"1208b5e0-c4df-4742-9c2c-af9b16bf11d6\",\"type\":\"LinearScale\"}},\"id\":\"245b3174-0093-411a-b869-5c8aea3cab87\",\"subtype\":\"Figure\",\"type\":\"Plot\"},{\"attributes\":{},\"id\":\"bffb8100-b8c5-4a32-9dc9-9e05c2cbf2af\",\"type\":\"BasicTicker\"},{\"attributes\":{},\"id\":\"3902e436-799e-4f1a-93f5-b234f22696dd\",\"type\":\"BasicTickFormatter\"},{\"attributes\":{\"formatter\":{\"id\":\"d7880d5e-c126-4bbf-8617-4d4a30651ad9\",\"type\":\"CategoricalTickFormatter\"},\"plot\":{\"id\":\"245b3174-0093-411a-b869-5c8aea3cab87\",\"subtype\":\"Figure\",\"type\":\"Plot\"},\"ticker\":{\"id\":\"e5333e75-e7cc-4c67-9089-3b3d3e3e5d11\",\"type\":\"CategoricalTicker\"}},\"id\":\"df655ccc-47d7-48cd-abd8-d639917502da\",\"type\":\"CategoricalAxis\"},{\"attributes\":{},\"id\":\"1208b5e0-c4df-4742-9c2c-af9b16bf11d6\",\"type\":\"LinearScale\"},{\"attributes\":{\"data_source\":{\"id\":\"370fb4c1-83f6-4d34-90aa-0780b913b543\",\"type\":\"ColumnDataSource\"},\"glyph\":{\"id\":\"6fe437ee-9d33-4adc-826b-f7595ff6a480\",\"type\":\"VBar\"},\"hover_glyph\":null,\"muted_glyph\":null,\"nonselection_glyph\":{\"id\":\"3aa8d5ef-e347-4375-8d76-f95b0bc17c1d\",\"type\":\"VBar\"},\"selection_glyph\":null,\"view\":{\"id\":\"d9ac8aed-45a3-47c6-96eb-fe455a7f5dc6\",\"type\":\"CDSView\"}},\"id\":\"e1b4a09f-392f-4ad4-88f2-f51f45778bd2\",\"type\":\"GlyphRenderer\"},{\"attributes\":{},\"id\":\"70abb00c-f2d3-461b-a1d6-6b2b77558b60\",\"type\":\"WheelZoomTool\"},{\"attributes\":{},\"id\":\"33a95c85-3eb4-41d1-b262-36831b0c2a72\",\"type\":\"SaveTool\"},{\"attributes\":{},\"id\":\"726cc412-dab4-4cb1-a39a-c1f15b2bf3a0\",\"type\":\"ResetTool\"},{\"attributes\":{\"callback\":null,\"renderers\":\"auto\",\"tooltips\":[[\"Term\",\"@Term\"],[\"Frequency\",\"@Frequency\"]]},\"id\":\"d250f067-06e3-4028-ba07-180f574fb86b\",\"type\":\"HoverTool\"},{\"attributes\":{},\"id\":\"b5a7038e-b36f-4ceb-82aa-39d52b48ebc4\",\"type\":\"PanTool\"},{\"attributes\":{\"plot\":{\"id\":\"245b3174-0093-411a-b869-5c8aea3cab87\",\"subtype\":\"Figure\",\"type\":\"Plot\"},\"ticker\":{\"id\":\"e5333e75-e7cc-4c67-9089-3b3d3e3e5d11\",\"type\":\"CategoricalTicker\"}},\"id\":\"505d00ab-9ed5-4abb-b67b-4baf7de1046f\",\"type\":\"Grid\"},{\"attributes\":{},\"id\":\"d7880d5e-c126-4bbf-8617-4d4a30651ad9\",\"type\":\"CategoricalTickFormatter\"},{\"attributes\":{\"overlay\":{\"id\":\"ecfb7d9c-a3ac-4e20-8b04-5aaf27fd70f4\",\"type\":\"BoxAnnotation\"}},\"id\":\"107151ec-dea7-40d3-8f1e-7f0ed46cfdc1\",\"type\":\"BoxZoomTool\"},{\"attributes\":{\"callback\":null,\"end\":30000},\"id\":\"49a88019-1033-415b-844e-b6b4b9b870c8\",\"type\":\"Range1d\"},{\"attributes\":{},\"id\":\"cd63f002-1b92-4d04-89d5-679fcfdcad92\",\"type\":\"CategoricalScale\"},{\"attributes\":{\"source\":{\"id\":\"370fb4c1-83f6-4d34-90aa-0780b913b543\",\"type\":\"ColumnDataSource\"}},\"id\":\"d9ac8aed-45a3-47c6-96eb-fe455a7f5dc6\",\"type\":\"CDSView\"},{\"attributes\":{},\"id\":\"e5333e75-e7cc-4c67-9089-3b3d3e3e5d11\",\"type\":\"CategoricalTicker\"},{\"attributes\":{\"active_drag\":\"auto\",\"active_inspect\":\"auto\",\"active_multi\":null,\"active_scroll\":\"auto\",\"active_tap\":\"auto\",\"tools\":[{\"id\":\"b5a7038e-b36f-4ceb-82aa-39d52b48ebc4\",\"type\":\"PanTool\"},{\"id\":\"70abb00c-f2d3-461b-a1d6-6b2b77558b60\",\"type\":\"WheelZoomTool\"},{\"id\":\"107151ec-dea7-40d3-8f1e-7f0ed46cfdc1\",\"type\":\"BoxZoomTool\"},{\"id\":\"33a95c85-3eb4-41d1-b262-36831b0c2a72\",\"type\":\"SaveTool\"},{\"id\":\"726cc412-dab4-4cb1-a39a-c1f15b2bf3a0\",\"type\":\"ResetTool\"},{\"id\":\"0c235c23-9667-4a20-850f-40aa38b6c17f\",\"type\":\"HelpTool\"},{\"id\":\"d250f067-06e3-4028-ba07-180f574fb86b\",\"type\":\"HoverTool\"}]},\"id\":\"0f823dfe-e147-4681-9a22-71b46c42c73e\",\"type\":\"Toolbar\"},{\"attributes\":{\"plot\":null,\"text\":\"Term Frequencies\"},\"id\":\"85f561a1-60f6-4683-8d5c-d654c9d08d4a\",\"type\":\"Title\"},{\"attributes\":{\"fill_alpha\":{\"value\":0.1},\"fill_color\":{\"value\":\"#1f77b4\"},\"line_alpha\":{\"value\":0.1},\"line_color\":{\"value\":\"#1f77b4\"},\"top\":{\"field\":\"Frequency\"},\"width\":{\"value\":0.2},\"x\":{\"field\":\"Term\"}},\"id\":\"3aa8d5ef-e347-4375-8d76-f95b0bc17c1d\",\"type\":\"VBar\"},{\"attributes\":{\"formatter\":{\"id\":\"3902e436-799e-4f1a-93f5-b234f22696dd\",\"type\":\"BasicTickFormatter\"},\"plot\":{\"id\":\"245b3174-0093-411a-b869-5c8aea3cab87\",\"subtype\":\"Figure\",\"type\":\"Plot\"},\"ticker\":{\"id\":\"bffb8100-b8c5-4a32-9dc9-9e05c2cbf2af\",\"type\":\"BasicTicker\"}},\"id\":\"197d81dd-7fac-4fae-a051-c84bd396fd30\",\"type\":\"LinearAxis\"},{\"attributes\":{\"dimension\":1,\"plot\":{\"id\":\"245b3174-0093-411a-b869-5c8aea3cab87\",\"subtype\":\"Figure\",\"type\":\"Plot\"},\"ticker\":{\"id\":\"bffb8100-b8c5-4a32-9dc9-9e05c2cbf2af\",\"type\":\"BasicTicker\"}},\"id\":\"799a1493-067f-448f-960a-8ddc547e5c9a\",\"type\":\"Grid\"}],\"root_ids\":[\"245b3174-0093-411a-b869-5c8aea3cab87\"]},\"title\":\"Bokeh Application\",\"version\":\"0.13.0\"}};\n",
       "  var render_items = [{\"docid\":\"a3149484-364a-4273-aced-5bb07a2d1a87\",\"roots\":{\"245b3174-0093-411a-b869-5c8aea3cab87\":\"acca0930-24cb-4c3d-95ab-c02566cbd534\"}}];\n",
       "  root.Bokeh.embed.embed_items_notebook(docs_json, render_items);\n",
       "\n",
       "  }\n",
       "  if (root.Bokeh !== undefined) {\n",
       "    embed_document(root);\n",
       "  } else {\n",
       "    var attempts = 0;\n",
       "    var timer = setInterval(function(root) {\n",
       "      if (root.Bokeh !== undefined) {\n",
       "        embed_document(root);\n",
       "        clearInterval(timer);\n",
       "      }\n",
       "      attempts++;\n",
       "      if (attempts > 100) {\n",
       "        console.log(\"Bokeh: ERROR: Unable to run BokehJS code because BokehJS library is missing\")\n",
       "        clearInterval(timer);\n",
       "      }\n",
       "    }, 10, root)\n",
       "  }\n",
       "})(window);"
      ],
      "application/vnd.bokehjs_exec.v0+json": ""
     },
     "metadata": {
      "application/vnd.bokehjs_exec.v0+json": {
       "id": "245b3174-0093-411a-b869-5c8aea3cab87"
      }
     },
     "output_type": "display_data"
    }
   ],
   "source": [
    "source = ColumnDataSource(df_high)\n",
    "p = figure(plot_width=1000,plot_height=500,title=\"Term Frequencies\",x_range=df_high[\"Term\"].values,y_range=Range1d(0,df_high[\"Frequency\"].max()))\n",
    "p.vbar(x=\"Term\",top = \"Frequency\",width=0.2,source=source)\n",
    "p.add_tools(HoverTool(tooltips=[(\"Term\",\"@Term\"),(\"Frequency\",\"@Frequency\")]))\n",
    "show(p)"
   ]
  },
  {
   "cell_type": "code",
   "execution_count": 28,
   "metadata": {},
   "outputs": [
    {
     "name": "stdout",
     "output_type": "stream",
     "text": [
      "cite\n",
      "cell\n",
      "biol\n",
      "genet\n",
      "med\n",
      "cancer\n",
      "jan\n",
      "apr\n",
      "mar\n",
      "feb\n",
      "jun\n",
      "oct\n",
      "dec\n",
      "jul\n",
      "cardiol\n",
      "sep\n",
      "nov\n",
      "pmc\n",
      "aug\n",
      "res\n"
     ]
    }
   ],
   "source": [
    "terms = sorted(df[\"Term\"])\n",
    "top_n = 20\n",
    "comp0 = svd.components_[0]\n",
    "top_indices = comp0.argsort()[-top_n:][::-1]\n",
    "for index in top_indices:\n",
    "    print(terms[index])"
   ]
  },
  {
   "cell_type": "code",
   "execution_count": 13,
   "metadata": {},
   "outputs": [
    {
     "data": {
      "text/plain": [
       "180875"
      ]
     },
     "execution_count": 13,
     "metadata": {},
     "output_type": "execute_result"
    }
   ],
   "source": []
  },
  {
   "cell_type": "code",
   "execution_count": null,
   "metadata": {},
   "outputs": [],
   "source": []
  }
 ],
 "metadata": {
  "kernelspec": {
   "display_name": "Python 2",
   "language": "python",
   "name": "python2"
  },
  "language_info": {
   "codemirror_mode": {
    "name": "ipython",
    "version": 2
   },
   "file_extension": ".py",
   "mimetype": "text/x-python",
   "name": "python",
   "nbconvert_exporter": "python",
   "pygments_lexer": "ipython2",
   "version": "2.7.12"
  }
 },
 "nbformat": 4,
 "nbformat_minor": 1
}
