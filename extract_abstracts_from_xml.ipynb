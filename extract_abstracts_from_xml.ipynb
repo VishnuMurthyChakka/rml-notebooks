{
 "cells": [
  {
   "cell_type": "code",
   "execution_count": null,
   "metadata": {},
   "outputs": [],
   "source": [
    "import xmltodict\n",
    "import string"
   ]
  },
  {
   "cell_type": "code",
   "execution_count": null,
   "metadata": {},
   "outputs": [],
   "source": [
    "filename = \"/home/santi/workspace/data/pubmed/pubmed18n0929.xml\"\n",
    "with open(filename,\"r\") as fp:\n",
    "    data = xmltodict.parse(fp.read())"
   ]
  },
  {
   "cell_type": "code",
   "execution_count": null,
   "metadata": {},
   "outputs": [],
   "source": [
    "printable = set(string.printable)\n",
    "def get_data(input_file):\n",
    "    with open(input_file,\"r\") as fp:\n",
    "        data = xmltodict.parse(fp.read())\n",
    "    return data[\"PubmedArticleSet\"][\"PubmedArticle\"]\n",
    "\n",
    "def get_text(input_data):\n",
    "    text= \"\"\n",
    "    if isinstance(input_data,dict):\n",
    "        for key in input_data.keys():\n",
    "            text += get_text(input_data[key]) \n",
    "    elif isinstance(input_data,list):\n",
    "        for item in input_data:\n",
    "            text += get_text(item)\n",
    "    elif isinstance(input_data,str):\n",
    "        return input_data+\" \"\n",
    "    elif input_data:\n",
    "        out_text = filter(lambda x: x in printable,input_data)\n",
    "        return out_text+\" \"\n",
    "    else:\n",
    "        return \"\"\n",
    "    return text\n",
    "    "
   ]
  },
  {
   "cell_type": "code",
   "execution_count": null,
   "metadata": {},
   "outputs": [],
   "source": [
    "print(get_text(data[\"PubmedArticleSet\"][\"PubmedArticle\"][3]).strip())"
   ]
  },
  {
   "cell_type": "code",
   "execution_count": null,
   "metadata": {},
   "outputs": [],
   "source": [
    "from dask.distributed import Client"
   ]
  },
  {
   "cell_type": "code",
   "execution_count": null,
   "metadata": {},
   "outputs": [],
   "source": [
    "client = Client('10.1.10.108:8786')"
   ]
  },
  {
   "cell_type": "code",
   "execution_count": null,
   "metadata": {},
   "outputs": [],
   "source": [
    "data_list = client.map(get_data,[filename])\n",
    "data_list = client.gather(data_list)"
   ]
  },
  {
   "cell_type": "code",
   "execution_count": null,
   "metadata": {},
   "outputs": [],
   "source": [
    "len(data_list[0])"
   ]
  },
  {
   "cell_type": "code",
   "execution_count": null,
   "metadata": {},
   "outputs": [],
   "source": [
    "text_data = client.map(get_text,data_list[0])\n",
    "final_text_data = client.gather(text_data)"
   ]
  },
  {
   "cell_type": "code",
   "execution_count": null,
   "metadata": {},
   "outputs": [],
   "source": [
    "len(final_text_data)"
   ]
  },
  {
   "cell_type": "code",
   "execution_count": null,
   "metadata": {},
   "outputs": [],
   "source": [
    "final_text_data[0]"
   ]
  },
  {
   "cell_type": "code",
   "execution_count": null,
   "metadata": {},
   "outputs": [],
   "source": [
    "dirname = \"/home/santi/workspace/data/pubmed/abstracts2/\"\n",
    "for _id,article in enumerate(final_text_data):\n",
    "    filename = dirname + \"/abstract_\" + str(_id) + \".txt\"\n",
    "    with open(filename,\"w\") as fp:\n",
    "        fp.write(article)"
   ]
  },
  {
   "cell_type": "code",
   "execution_count": null,
   "metadata": {},
   "outputs": [],
   "source": [
    "from rocketml.io import DocumentSet\n",
    "from rocketml.decomposition import TruncatedSVD\n",
    "from rocketml.preprocessing import TextFilter\n",
    "from rocketml import Pipeline"
   ]
  },
  {
   "cell_type": "code",
   "execution_count": null,
   "metadata": {},
   "outputs": [],
   "source": [
    "import os\n",
    "abstract_filenames = [dirname+ff for ff in os.listdir(dirname)]\n",
    "docset = DocumentSet(filelist=abstract_filenames)\n",
    "tf = TextFilter(stop_word_filter=True,stemming_filter=True,length_filter=True)\n",
    "svd = TruncatedSVD(n_components=20)\n",
    "pipeline = Pipeline([tf,svd])\n",
    "docset_transofrm = pipeline.fit_transform(docset)\n",
    "len(docset.documents)"
   ]
  },
  {
   "cell_type": "code",
   "execution_count": null,
   "metadata": {},
   "outputs": [],
   "source": [
    "import pandas as pd\n",
    "df = pd.DataFrame([[key,value] for key,value in docset.terms_document_frequencies.iteritems()],columns=[\"Term\",\"Frequency\"])\n",
    "df_high = df[df[\"Frequency\"] > 2000].sort_values(by=[\"Frequency\"],ascending=False)"
   ]
  },
  {
   "cell_type": "code",
   "execution_count": null,
   "metadata": {},
   "outputs": [],
   "source": [
    "terms = sorted(df[\"Term\"])\n",
    "top_n = 10\n",
    "comp0 = svd.components_[2]\n",
    "top_indices = comp0.argsort()[-top_n:][::-1]\n",
    "for index in top_indices:\n",
    "    print(terms[index])"
   ]
  },
  {
   "cell_type": "code",
   "execution_count": null,
   "metadata": {},
   "outputs": [],
   "source": []
  }
 ],
 "metadata": {
  "kernelspec": {
   "display_name": "Python 2",
   "language": "python",
   "name": "python2"
  },
  "language_info": {
   "codemirror_mode": {
    "name": "ipython",
    "version": 2
   },
   "file_extension": ".py",
   "mimetype": "text/x-python",
   "name": "python",
   "nbconvert_exporter": "python",
   "pygments_lexer": "ipython2",
   "version": "2.7.14"
  }
 },
 "nbformat": 4,
 "nbformat_minor": 1
}
