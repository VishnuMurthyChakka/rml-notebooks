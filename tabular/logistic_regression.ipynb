{
 "cells": [
  {
   "cell_type": "markdown",
   "metadata": {},
   "source": [
    "# RocketML tutorial on Logistic Regression on NYC Taxi Data to predict tips\n",
    "\n",
    "## Import Libraries"
   ]
  },
  {
   "cell_type": "code",
   "execution_count": 6,
   "metadata": {},
   "outputs": [],
   "source": [
    "# Scikit learn\n",
    "from sklearn.metrics import f1_score, confusion_matrix,roc_auc_score\n",
    "from sklearn.datasets import load_svmlight_file\n",
    "\n",
    "# Numpy\n",
    "import numpy as np\n",
    "\n",
    "# Subprocess\n",
    "import subprocess\n",
    "# Dask\n",
    "import dask.dataframe as dd\n",
    "from dask import persist, compute\n",
    "from dask_glm.estimators import LogisticRegression"
   ]
  },
  {
   "cell_type": "markdown",
   "metadata": {},
   "source": [
    "## Start dask for data processing"
   ]
  },
  {
   "cell_type": "code",
   "execution_count": 7,
   "metadata": {},
   "outputs": [
    {
     "data": {
      "text/html": [
       "<table style=\"border: 2px solid white;\">\n",
       "<tr>\n",
       "<td style=\"vertical-align: top; border: 0px solid white\">\n",
       "<h3>Client</h3>\n",
       "<ul>\n",
       "  <li><b>Scheduler: </b>tcp://ip-172-31-24-238:8786\n",
       "  <li><b>Dashboard: </b><a href='http://ip-172-31-24-238:8787/status' target='_blank'>http://ip-172-31-24-238:8787/status</a>\n",
       "</ul>\n",
       "</td>\n",
       "<td style=\"vertical-align: top; border: 0px solid white\">\n",
       "<h3>Cluster</h3>\n",
       "<ul>\n",
       "  <li><b>Workers: </b>4</li>\n",
       "  <li><b>Cores: </b>64</li>\n",
       "  <li><b>Memory: </b>130.65 GB</li>\n",
       "</ul>\n",
       "</td>\n",
       "</tr>\n",
       "</table>"
      ],
      "text/plain": [
       "<Client: scheduler='tcp://172.31.24.238:8786' processes=4 cores=64>"
      ]
     },
     "execution_count": 7,
     "metadata": {},
     "output_type": "execute_result"
    }
   ],
   "source": [
    "hostname = subprocess.check_output('hostname').strip()\n",
    "from dask.distributed import Client\n",
    "client = Client(hostname+\":8786\")\n",
    "client"
   ]
  },
  {
   "cell_type": "markdown",
   "metadata": {},
   "source": [
    "## Read Data File and Inspect its contents"
   ]
  },
  {
   "cell_type": "code",
   "execution_count": 8,
   "metadata": {},
   "outputs": [],
   "source": [
    "filename = \"https://s3.amazonaws.com/nyc-tlc/trip+data/yellow_tripdata_2017-01.csv\"\n",
    "df = dd.read_csv(filename)"
   ]
  },
  {
   "cell_type": "markdown",
   "metadata": {},
   "source": [
    "## Check data statistics"
   ]
  },
  {
   "cell_type": "code",
   "execution_count": 9,
   "metadata": {},
   "outputs": [
    {
     "name": "stdout",
     "output_type": "stream",
     "text": [
      "           VendorID  passenger_count  trip_distance    RatecodeID  \\\n",
      "count  9.710124e+06     9.710124e+06   9.710124e+06  9.710124e+06   \n",
      "mean   1.547079e+00     1.628982e+00   2.813899e+00  1.039581e+00   \n",
      "std    4.977787e-01     1.271994e+00   3.611680e+00  5.059084e-01   \n",
      "min    1.000000e+00     0.000000e+00   0.000000e+00  1.000000e+00   \n",
      "25%    1.000000e+00     1.000000e+00   1.020000e+00  1.000000e+00   \n",
      "50%    2.000000e+00     1.000000e+00   1.780000e+00  1.000000e+00   \n",
      "75%    2.000000e+00     2.000000e+00   3.380000e+00  1.000000e+00   \n",
      "max    2.000000e+00     9.000000e+00   2.647100e+02  9.900000e+01   \n",
      "\n",
      "       PULocationID  DOLocationID  payment_type   fare_amount         extra  \\\n",
      "count  9.710124e+06  9.710124e+06  9.710124e+06  9.710124e+06  9.710124e+06   \n",
      "mean   1.641065e+02  1.617627e+02  1.337541e+00  1.237423e+01  3.234861e-01   \n",
      "std    6.664998e+01  7.067207e+01  4.913703e-01  2.652315e+02  4.425577e-01   \n",
      "min    1.000000e+00  1.000000e+00  1.000000e+00 -3.500000e+02 -5.520000e+01   \n",
      "25%    1.320000e+02  1.140000e+02  1.000000e+00  6.500000e+00  0.000000e+00   \n",
      "50%    1.620000e+02  1.630000e+02  1.000000e+00  9.000000e+00  5.000000e-01   \n",
      "75%    2.340000e+02  2.340000e+02  2.000000e+00  1.450000e+01  1.000000e+00   \n",
      "max    2.650000e+02  2.650000e+02  5.000000e+00  6.259008e+05  5.554000e+01   \n",
      "\n",
      "            mta_tax    tip_amount  tolls_amount  improvement_surcharge  \\\n",
      "count  9.710124e+06  9.710124e+06  9.710124e+06           9.710124e+06   \n",
      "mean   4.975229e-01  1.751269e+00  2.764163e-01           2.996799e-01   \n",
      "std    4.881278e-02  2.571253e+00  1.638840e+00           1.341976e-02   \n",
      "min   -5.000000e-01 -4.100000e+01 -1.500000e+01          -3.000000e-01   \n",
      "25%    5.000000e-01  0.000000e+00  0.000000e+00           3.000000e-01   \n",
      "50%    5.000000e-01  1.500000e+00  0.000000e+00           3.000000e-01   \n",
      "75%    5.000000e-01  2.460000e+00  0.000000e+00           3.000000e-01   \n",
      "max    5.650000e+01  9.999900e+02  9.110800e+02           3.000000e-01   \n",
      "\n",
      "       total_amount  \n",
      "count  9.710124e+06  \n",
      "mean   1.552673e+01  \n",
      "std    2.653479e+02  \n",
      "min   -3.503000e+02  \n",
      "25%    8.750000e+00  \n",
      "50%    1.176000e+01  \n",
      "75%    1.730000e+01  \n",
      "max    6.259016e+05  \n"
     ]
    }
   ],
   "source": [
    "stats = df.describe()\n",
    "print(stats.compute())"
   ]
  },
  {
   "cell_type": "markdown",
   "metadata": {},
   "source": [
    "## Create test and train data"
   ]
  },
  {
   "cell_type": "code",
   "execution_count": 10,
   "metadata": {},
   "outputs": [],
   "source": [
    "df_train,df_test = df.random_split([0.8,0.2],random_state=2)"
   ]
  },
  {
   "cell_type": "code",
   "execution_count": 11,
   "metadata": {},
   "outputs": [],
   "source": [
    "columns = ['VendorID','passenger_count','trip_distance','payment_type','fare_amount']\n",
    "X_train,y_train = df_train[columns], df_train[\"tip_amount\"] > 0\n",
    "X_test,y_test = df_test[columns], df_test[\"tip_amount\"] > 0\n",
    "X_train,y_train,X_test,y_test = persist(X_train,y_train,X_test,y_test)"
   ]
  },
  {
   "cell_type": "code",
   "execution_count": 12,
   "metadata": {},
   "outputs": [
    {
     "data": {
      "text/html": [
       "<div>\n",
       "<style scoped>\n",
       "    .dataframe tbody tr th:only-of-type {\n",
       "        vertical-align: middle;\n",
       "    }\n",
       "\n",
       "    .dataframe tbody tr th {\n",
       "        vertical-align: top;\n",
       "    }\n",
       "\n",
       "    .dataframe thead th {\n",
       "        text-align: right;\n",
       "    }\n",
       "</style>\n",
       "<table border=\"1\" class=\"dataframe\">\n",
       "  <thead>\n",
       "    <tr style=\"text-align: right;\">\n",
       "      <th></th>\n",
       "      <th>VendorID</th>\n",
       "      <th>passenger_count</th>\n",
       "      <th>trip_distance</th>\n",
       "      <th>payment_type</th>\n",
       "      <th>fare_amount</th>\n",
       "    </tr>\n",
       "  </thead>\n",
       "  <tbody>\n",
       "    <tr>\n",
       "      <th>0</th>\n",
       "      <td>1</td>\n",
       "      <td>1</td>\n",
       "      <td>3.30</td>\n",
       "      <td>1</td>\n",
       "      <td>12.5</td>\n",
       "    </tr>\n",
       "    <tr>\n",
       "      <th>1</th>\n",
       "      <td>1</td>\n",
       "      <td>1</td>\n",
       "      <td>0.90</td>\n",
       "      <td>1</td>\n",
       "      <td>5.0</td>\n",
       "    </tr>\n",
       "    <tr>\n",
       "      <th>2</th>\n",
       "      <td>1</td>\n",
       "      <td>1</td>\n",
       "      <td>1.10</td>\n",
       "      <td>1</td>\n",
       "      <td>5.5</td>\n",
       "    </tr>\n",
       "    <tr>\n",
       "      <th>3</th>\n",
       "      <td>1</td>\n",
       "      <td>1</td>\n",
       "      <td>1.10</td>\n",
       "      <td>1</td>\n",
       "      <td>6.0</td>\n",
       "    </tr>\n",
       "    <tr>\n",
       "      <th>4</th>\n",
       "      <td>2</td>\n",
       "      <td>1</td>\n",
       "      <td>0.02</td>\n",
       "      <td>2</td>\n",
       "      <td>52.0</td>\n",
       "    </tr>\n",
       "  </tbody>\n",
       "</table>\n",
       "</div>"
      ],
      "text/plain": [
       "   VendorID  passenger_count  trip_distance  payment_type  fare_amount\n",
       "0         1                1           3.30             1         12.5\n",
       "1         1                1           0.90             1          5.0\n",
       "2         1                1           1.10             1          5.5\n",
       "3         1                1           1.10             1          6.0\n",
       "4         2                1           0.02             2         52.0"
      ]
     },
     "execution_count": 12,
     "metadata": {},
     "output_type": "execute_result"
    }
   ],
   "source": [
    "X_train.head()"
   ]
  },
  {
   "cell_type": "markdown",
   "metadata": {},
   "source": [
    "## Logistic Regression"
   ]
  },
  {
   "cell_type": "code",
   "execution_count": 21,
   "metadata": {},
   "outputs": [
    {
     "name": "stdout",
     "output_type": "stream",
     "text": [
      "CPU times: user 396 ms, sys: 36 ms, total: 432 ms\n",
      "Wall time: 31.9 s\n"
     ]
    }
   ],
   "source": [
    "%%time\n",
    "lm = LogisticRegression(fit_intercept=False,max_iter=10)\n",
    "lm.fit(X_train.values,y_train.values)"
   ]
  },
  {
   "cell_type": "markdown",
   "metadata": {},
   "source": [
    "## Predict and compute F1 score and AUC"
   ]
  },
  {
   "cell_type": "code",
   "execution_count": 22,
   "metadata": {},
   "outputs": [],
   "source": [
    "y_predict = lm.predict(X_test.values)\n",
    "y_predict = y_predict.compute()\n",
    "y_true = y_test.values.compute()"
   ]
  },
  {
   "cell_type": "code",
   "execution_count": 23,
   "metadata": {},
   "outputs": [],
   "source": [
    "f1 = f1_score(y_true,y_predict)\n",
    "roc = roc_auc_score(y_true,y_predict)"
   ]
  },
  {
   "cell_type": "code",
   "execution_count": 24,
   "metadata": {},
   "outputs": [
    {
     "name": "stdout",
     "output_type": "stream",
     "text": [
      "F1 score = 0.875427, AUC = 0.855151\n"
     ]
    }
   ],
   "source": [
    "print(\"F1 score = %f, AUC = %f\"%(f1,roc))"
   ]
  },
  {
   "cell_type": "code",
   "execution_count": null,
   "metadata": {},
   "outputs": [],
   "source": []
  }
 ],
 "metadata": {
  "kernelspec": {
   "display_name": "Python 2",
   "language": "python",
   "name": "python2"
  },
  "language_info": {
   "codemirror_mode": {
    "name": "ipython",
    "version": 2
   },
   "file_extension": ".py",
   "mimetype": "text/x-python",
   "name": "python",
   "nbconvert_exporter": "python",
   "pygments_lexer": "ipython2",
   "version": "2.7.12"
  }
 },
 "nbformat": 4,
 "nbformat_minor": 2
}
