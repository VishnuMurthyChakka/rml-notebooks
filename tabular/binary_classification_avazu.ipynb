{
 "cells": [
  {
   "cell_type": "code",
   "execution_count": 2,
   "metadata": {},
   "outputs": [],
   "source": [
    "from rocketml.linear_model import LogisticRegression\n",
    "from rocketml.io import LIBSVM"
   ]
  },
  {
   "cell_type": "code",
   "execution_count": 4,
   "metadata": {},
   "outputs": [
    {
     "name": "stdout",
     "output_type": "stream",
     "text": [
      "------------------\n",
      "Cluster Resources\n",
      "------------------\n",
      "Nodes        = 32\n",
      "Sockets/node = 2\n",
      "Cores/socket = 9\n",
      "--------------------------\n",
      "Total Cores    = 576\n",
      "Total Memory(GB)   = 1886.94\n",
      "--------------------------\n"
     ]
    }
   ],
   "source": [
    "libsvm = LIBSVM(\"/home/ubuntu/rocketml-dev/data/avazu-app\")\n",
    "lr = LogisticRegression()\n",
    "lr.fit(libsvm)"
   ]
  },
  {
   "cell_type": "code",
   "execution_count": 12,
   "metadata": {},
   "outputs": [],
   "source": [
    "from rocketml.ensemble import GradientBoostingClassifier"
   ]
  },
  {
   "cell_type": "code",
   "execution_count": 16,
   "metadata": {},
   "outputs": [
    {
     "name": "stdout",
     "output_type": "stream",
     "text": [
      "------------------\n",
      "Cluster Resources\n",
      "------------------\n",
      "Nodes        = 32\n",
      "Sockets/node = 2\n",
      "Cores/socket = 9\n",
      "--------------------------\n",
      "Total Cores    = 576\n",
      "Total Memory(GB)   = 1886.94\n",
      "--------------------------\n"
     ]
    }
   ],
   "source": [
    "gbdt = GradientBoostingClassifier()\n",
    "gbdt.fit(libsvm)"
   ]
  },
  {
   "cell_type": "code",
   "execution_count": 19,
   "metadata": {},
   "outputs": [
    {
     "data": {
      "text/plain": [
       "array([[  5842],\n",
       "       [ 10165],\n",
       "       [ 11501],\n",
       "       [ 14756],\n",
       "       [ 54993],\n",
       "       [ 73521],\n",
       "       [ 86673],\n",
       "       [110797],\n",
       "       [148915],\n",
       "       [155962],\n",
       "       [156287],\n",
       "       [187282],\n",
       "       [187533],\n",
       "       [205982],\n",
       "       [213401],\n",
       "       [228214],\n",
       "       [245290],\n",
       "       [252610],\n",
       "       [289338],\n",
       "       [301965],\n",
       "       [307400],\n",
       "       [328096],\n",
       "       [370719],\n",
       "       [413587],\n",
       "       [416678],\n",
       "       [431478],\n",
       "       [441381],\n",
       "       [441768],\n",
       "       [448332],\n",
       "       [502252],\n",
       "       [508197],\n",
       "       [517237],\n",
       "       [534329],\n",
       "       [536024],\n",
       "       [538388],\n",
       "       [547010],\n",
       "       [637069],\n",
       "       [644572],\n",
       "       [696858],\n",
       "       [704082],\n",
       "       [727102],\n",
       "       [735737],\n",
       "       [752098],\n",
       "       [754390],\n",
       "       [763396],\n",
       "       [790364],\n",
       "       [797675],\n",
       "       [801043],\n",
       "       [811650],\n",
       "       [819429],\n",
       "       [820525],\n",
       "       [831028],\n",
       "       [849794],\n",
       "       [891765],\n",
       "       [912284],\n",
       "       [928312],\n",
       "       [929570],\n",
       "       [963986],\n",
       "       [972035],\n",
       "       [998864]])"
      ]
     },
     "execution_count": 19,
     "metadata": {},
     "output_type": "execute_result"
    }
   ],
   "source": [
    "np.argwhere(gbdt.feature_importance() > 0)"
   ]
  },
  {
   "cell_type": "code",
   "execution_count": null,
   "metadata": {},
   "outputs": [],
   "source": []
  }
 ],
 "metadata": {
  "kernelspec": {
   "display_name": "Python 3",
   "language": "python",
   "name": "python3"
  },
  "language_info": {
   "codemirror_mode": {
    "name": "ipython",
    "version": 3
   },
   "file_extension": ".py",
   "mimetype": "text/x-python",
   "name": "python",
   "nbconvert_exporter": "python",
   "pygments_lexer": "ipython3",
   "version": "3.6.7"
  }
 },
 "nbformat": 4,
 "nbformat_minor": 2
}
