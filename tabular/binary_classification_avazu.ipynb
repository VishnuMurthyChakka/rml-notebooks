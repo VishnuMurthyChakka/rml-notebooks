{
 "cells": [
  {
   "cell_type": "code",
   "execution_count": 89,
   "metadata": {},
   "outputs": [],
   "source": [
    "from rocketml.linear_model import LogisticRegression as RMLLogisticRegression\n",
    "from rocketml.io import LIBSVM\n",
    "import numpy as np"
   ]
  },
  {
   "cell_type": "code",
   "execution_count": 97,
   "metadata": {},
   "outputs": [
    {
     "name": "stdout",
     "output_type": "stream",
     "text": [
      "------------------\n",
      "Cluster Resources\n",
      "------------------\n",
      "Nodes        = 2\n",
      "Sockets/node = 2\n",
      "Cores/socket = 1\n",
      "--------------------------\n",
      "Total Cores    = 4\n",
      "Total Memory(GB)   = 15.59\n",
      "--------------------------\n"
     ]
    }
   ],
   "source": [
    "libsvm = LIBSVM(\"/home/ubuntu/rocketml-dev/data/avazu-app.val\")\n",
    "lr = RMLLogisticRegression(C=100.0,fit_intercept=True,max_iter=200)\n",
    "lr.fit(libsvm)"
   ]
  },
  {
   "cell_type": "code",
   "execution_count": 98,
   "metadata": {},
   "outputs": [
    {
     "name": "stdout",
     "output_type": "stream",
     "text": [
      "------------------\n",
      "Cluster Resources\n",
      "------------------\n",
      "Nodes        = 2\n",
      "Sockets/node = 2\n",
      "Cores/socket = 1\n",
      "--------------------------\n",
      "Total Cores    = 4\n",
      "Total Memory(GB)   = 15.59\n",
      "--------------------------\n"
     ]
    }
   ],
   "source": [
    "lsvm_test = LIBSVM(\"/home/ubuntu/rocketml-dev/data/avazu-app.val\")\n",
    "y_predict = lr.predict(lsvm_test)"
   ]
  },
  {
   "cell_type": "code",
   "execution_count": 96,
   "metadata": {},
   "outputs": [],
   "source": [
    "from sklearn.metrics import f1_score, confusion_matrix,roc_auc_score\n",
    "from sklearn.datasets import load_svmlight_file\n",
    "X,y_true = load_svmlight_file(\"/home/ubuntu/rocketml-dev/data/avazu-app.val\")"
   ]
  },
  {
   "cell_type": "code",
   "execution_count": 99,
   "metadata": {},
   "outputs": [
    {
     "name": "stdout",
     "output_type": "stream",
     "text": [
      "0.08771274843526956\n"
     ]
    }
   ],
   "source": [
    "print(f1_score(y_true,y_predict))"
   ]
  }
 ],
 "metadata": {
  "kernelspec": {
   "display_name": "Python 3",
   "language": "python",
   "name": "python3"
  },
  "language_info": {
   "codemirror_mode": {
    "name": "ipython",
    "version": 3
   },
   "file_extension": ".py",
   "mimetype": "text/x-python",
   "name": "python",
   "nbconvert_exporter": "python",
   "pygments_lexer": "ipython3",
   "version": "3.7.7"
  }
 },
 "nbformat": 4,
 "nbformat_minor": 4
}
