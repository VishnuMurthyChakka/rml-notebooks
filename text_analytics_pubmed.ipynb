{
 "cells": [
  {
   "cell_type": "markdown",
   "metadata": {},
   "source": [
    "# RocketML text topic modeling using SVD on Pubmed Data\n",
    "## Import Libraries"
   ]
  },
  {
   "cell_type": "code",
   "execution_count": 3,
   "metadata": {},
   "outputs": [],
   "source": [
    "from rocketml.io import DocumentSet\n",
    "from rocketml.decomposition import TruncatedSVD\n",
    "from rocketml.preprocessing import TextFilter\n",
    "from rocketml import Pipeline\n",
    "import sys\n",
    "import pandas as pd\n",
    "import seaborn as sns\n",
    "\n",
    "from bokeh.plotting import figure,show\n",
    "from bokeh.io import output_notebook\n",
    "from bokeh.models import ColumnDataSource, HoverTool\n",
    "from bokeh.models.ranges import Range1d\n",
    "import xmltodict\n",
    "import string\n",
    "%matplotlib inline"
   ]
  },
  {
   "cell_type": "code",
   "execution_count": 4,
   "metadata": {},
   "outputs": [],
   "source": [
    "printable = set(string.printable)"
   ]
  },
  {
   "cell_type": "markdown",
   "metadata": {},
   "source": [
    "## Create Document Set"
   ]
  },
  {
   "cell_type": "markdown",
   "metadata": {},
   "source": [
    "### Extract data from  .xml files"
   ]
  },
  {
   "cell_type": "code",
   "execution_count": 2,
   "metadata": {},
   "outputs": [],
   "source": [
    "filename = \"/home/santi/workspace/data/pubmed/pubmed18n0929.xml\"\n",
    "with open(filename,\"r\") as fp:\n",
    "    data = xmltodict.parse(fp.read())"
   ]
  },
  {
   "cell_type": "markdown",
   "metadata": {},
   "source": [
    "### Check one abstract"
   ]
  },
  {
   "cell_type": "code",
   "execution_count": 5,
   "metadata": {},
   "outputs": [],
   "source": [
    "abstract = data[\"PubmedArticleSet\"][\"PubmedArticle\"][0][\"MedlineCitation\"][\"Article\"][\"Abstract\"][\"AbstractText\"]"
   ]
  },
  {
   "cell_type": "code",
   "execution_count": 7,
   "metadata": {},
   "outputs": [
    {
     "name": "stdout",
     "output_type": "stream",
     "text": [
      "A simple, highly sensitive and reproducible method for the assay of gamma-glutamyl transpeptidase (EC 2.3.2-) activity is introduced, using gamma-glutamyl-p-nitroanilide as a substrate and glycylglycine as an acceptor in 50 g/l of polyoxyethylene nonylphenol. Serum transpeptidase activity was assayed in 1080 healthy adults, the normal mean value being 14.8 mU/ml. The diagnostic evaluation of the enzyme in various hepatobiliary diseases is also discussed.\n"
     ]
    }
   ],
   "source": [
    "abstract = filter(lambda x: x in printable,abstract)\n",
    "print(abstract)"
   ]
  },
  {
   "cell_type": "markdown",
   "metadata": {},
   "source": [
    "### Create text files with abs"
   ]
  },
  {
   "cell_type": "code",
   "execution_count": 14,
   "metadata": {},
   "outputs": [],
   "source": [
    "import sys\n",
    "abstract_filenames = []\n",
    "dirname = \"/home/santi/workspace/data/pubmed/abstracts/\"\n",
    "for _id,article in enumerate(data[\"PubmedArticleSet\"][\"PubmedArticle\"]):\n",
    "    metadata = article[\"MedlineCitation\"][\"Article\"]\n",
    "    abstract = \"\"\n",
    "    issn = \"\"\n",
    "    pgn = \"\"\n",
    "    if \"Abstract\" in metadata.keys():\n",
    "        abstract = metadata[\"Abstract\"][\"AbstractText\"]\n",
    "        if(not isinstance(abstract,unicode)):\n",
    "            continue\n",
    "        else:\n",
    "            abstract = filter(lambda x: x in printable,abstract)\n",
    "    if \"ISSN\" in metadata[\"Journal\"].keys():\n",
    "        issn = metadata[\"Journal\"][\"ISSN\"][\"#text\"]\n",
    "    if \"Pagination\" in metadata.keys():\n",
    "        pgn = metadata[\"Pagination\"][\"MedlinePgn\"]\n",
    "    if abstract and issn and pgn:\n",
    "        abstract_filename = dirname+ issn + \"_\" + pgn + \".txt\"\n",
    "        abstract_filenames.append(abstract_filename)\n",
    "        with open(abstract_filename,\"w\") as fp:\n",
    "            fp.write(abstract)"
   ]
  },
  {
   "cell_type": "code",
   "execution_count": 15,
   "metadata": {},
   "outputs": [],
   "source": [
    "import os\n",
    "dirname = \"/home/santi/workspace/data/pubmed/abstracts/\"\n",
    "abstract_filenames = [dirname+ff for ff in os.listdir(dirname)]"
   ]
  },
  {
   "cell_type": "code",
   "execution_count": 36,
   "metadata": {},
   "outputs": [
    {
     "name": "stdout",
     "output_type": "stream",
     "text": [
      "<rocketml.preprocessing.text.TextFilter object at 0x7ff64ea6fe10>\n",
      "text\n",
      "/tmp/jobs_folder/6c20c0c1/output.txt\n"
     ]
    },
    {
     "data": {
      "text/plain": [
       "14349"
      ]
     },
     "execution_count": 36,
     "metadata": {},
     "output_type": "execute_result"
    }
   ],
   "source": [
    "docset = DocumentSet(filelist=abstract_filenames)\n",
    "tf = TextFilter(stop_word_filter=True,stemming_filter=True,length_filter=True)\n",
    "svd = TruncatedSVD(n_components=20)\n",
    "pipeline = Pipeline([tf,svd])\n",
    "pipeline.fit(docset)\n",
    "len(docset.documents)"
   ]
  },
  {
   "cell_type": "code",
   "execution_count": 37,
   "metadata": {},
   "outputs": [
    {
     "data": {
      "text/plain": [
       "<matplotlib.axes._subplots.AxesSubplot at 0x7ff64ea6f510>"
      ]
     },
     "execution_count": 37,
     "metadata": {},
     "output_type": "execute_result"
    },
    {
     "data": {
      "image/png": "[encoded data removed]",
      "text/plain": [
       "<Figure size 432x288 with 1 Axes>"
      ]
     },
     "metadata": {},
     "output_type": "display_data"
    }
   ],
   "source": [
    "sns.tsplot(svd.singular_values_)"
   ]
  },
  {
   "cell_type": "code",
   "execution_count": 38,
   "metadata": {},
   "outputs": [],
   "source": [
    "df = pd.DataFrame([[key,value] for key,value in docset.terms_document_frequencies.iteritems()],columns=[\"Term\",\"Frequency\"])"
   ]
  },
  {
   "cell_type": "code",
   "execution_count": 58,
   "metadata": {},
   "outputs": [],
   "source": [
    "df_high = df[df[\"Frequency\"] > 2000].sort_values(by=[\"Frequency\"],ascending=False)"
   ]
  },
  {
   "cell_type": "code",
   "execution_count": 40,
   "metadata": {},
   "outputs": [
    {
     "data": {
      "text/html": [
       "\n",
       "    <div class=\"bk-root\">\n",
       "        <a href=\"https://bokeh.pydata.org\" target=\"_blank\" class=\"bk-logo bk-logo-small bk-logo-notebook\"></a>\n",
       "        <span id=\"46529dfd-e191-4508-be36-7187d8a9a607\">Loading BokehJS ...</span>\n",
       "    </div>"
      ]
     },
     "metadata": {},
     "output_type": "display_data"
    },
    {
     "data": {
      "application/javascript": [
       "\n",
       "(function(root) {\n",
       "  function now() {\n",
       "    return new Date();\n",
       "  }\n",
       "\n",
       "  var force = true;\n",
       "\n",
       "  if (typeof (root._bokeh_onload_callbacks) === \"undefined\" || force === true) {\n",
       "    root._bokeh_onload_callbacks = [];\n",
       "    root._bokeh_is_loading = undefined;\n",
       "  }\n",
       "\n",
       "  var JS_MIME_TYPE = 'application/javascript';\n",
       "  var HTML_MIME_TYPE = 'text/html';\n",
       "  var EXEC_MIME_TYPE = 'application/vnd.bokehjs_exec.v0+json';\n",
       "  var CLASS_NAME = 'output_bokeh rendered_html';\n",
       "\n",
       "  /**\n",
       "   * Render data to the DOM node\n",
       "   */\n",
       "  function render(props, node) {\n",
       "    var script = document.createElement(\"script\");\n",
       "    node.appendChild(script);\n",
       "  }\n",
       "\n",
       "  /**\n",
       "   * Handle when an output is cleared or removed\n",
       "   */\n",
       "  function handleClearOutput(event, handle) {\n",
       "    var cell = handle.cell;\n",
       "\n",
       "    var id = cell.output_area._bokeh_element_id;\n",
       "    var server_id = cell.output_area._bokeh_server_id;\n",
       "    // Clean up Bokeh references\n",
       "    if (id != null && id in Bokeh.index) {\n",
       "      Bokeh.index[id].model.document.clear();\n",
       "      delete Bokeh.index[id];\n",
       "    }\n",
       "\n",
       "    if (server_id !== undefined) {\n",
       "      // Clean up Bokeh references\n",
       "      var cmd = \"from bokeh.io.state import curstate; print(curstate().uuid_to_server['\" + server_id + \"'].get_sessions()[0].document.roots[0]._id)\";\n",
       "      cell.notebook.kernel.execute(cmd, {\n",
       "        iopub: {\n",
       "          output: function(msg) {\n",
       "            var id = msg.content.text.trim();\n",
       "            if (id in Bokeh.index) {\n",
       "              Bokeh.index[id].model.document.clear();\n",
       "              delete Bokeh.index[id];\n",
       "            }\n",
       "          }\n",
       "        }\n",
       "      });\n",
       "      // Destroy server and session\n",
       "      var cmd = \"import bokeh.io.notebook as ion; ion.destroy_server('\" + server_id + \"')\";\n",
       "      cell.notebook.kernel.execute(cmd);\n",
       "    }\n",
       "  }\n",
       "\n",
       "  /**\n",
       "   * Handle when a new output is added\n",
       "   */\n",
       "  function handleAddOutput(event, handle) {\n",
       "    var output_area = handle.output_area;\n",
       "    var output = handle.output;\n",
       "\n",
       "    // limit handleAddOutput to display_data with EXEC_MIME_TYPE content only\n",
       "    if ((output.output_type != \"display_data\") || (!output.data.hasOwnProperty(EXEC_MIME_TYPE))) {\n",
       "      return\n",
       "    }\n",
       "\n",
       "    var toinsert = output_area.element.find(\".\" + CLASS_NAME.split(' ')[0]);\n",
       "\n",
       "    if (output.metadata[EXEC_MIME_TYPE][\"id\"] !== undefined) {\n",
       "      toinsert[toinsert.length - 1].firstChild.textContent = output.data[JS_MIME_TYPE];\n",
       "      // store reference to embed id on output_area\n",
       "      output_area._bokeh_element_id = output.metadata[EXEC_MIME_TYPE][\"id\"];\n",
       "    }\n",
       "    if (output.metadata[EXEC_MIME_TYPE][\"server_id\"] !== undefined) {\n",
       "      var bk_div = document.createElement(\"div\");\n",
       "      bk_div.innerHTML = output.data[HTML_MIME_TYPE];\n",
       "      var script_attrs = bk_div.children[0].attributes;\n",
       "      for (var i = 0; i < script_attrs.length; i++) {\n",
       "        toinsert[toinsert.length - 1].firstChild.setAttribute(script_attrs[i].name, script_attrs[i].value);\n",
       "      }\n",
       "      // store reference to server id on output_area\n",
       "      output_area._bokeh_server_id = output.metadata[EXEC_MIME_TYPE][\"server_id\"];\n",
       "    }\n",
       "  }\n",
       "\n",
       "  function register_renderer(events, OutputArea) {\n",
       "\n",
       "    function append_mime(data, metadata, element) {\n",
       "      // create a DOM node to render to\n",
       "      var toinsert = this.create_output_subarea(\n",
       "        metadata,\n",
       "        CLASS_NAME,\n",
       "        EXEC_MIME_TYPE\n",
       "      );\n",
       "      this.keyboard_manager.register_events(toinsert);\n",
       "      // Render to node\n",
       "      var props = {data: data, metadata: metadata[EXEC_MIME_TYPE]};\n",
       "      render(props, toinsert[toinsert.length - 1]);\n",
       "      element.append(toinsert);\n",
       "      return toinsert\n",
       "    }\n",
       "\n",
       "    /* Handle when an output is cleared or removed */\n",
       "    events.on('clear_output.CodeCell', handleClearOutput);\n",
       "    events.on('delete.Cell', handleClearOutput);\n",
       "\n",
       "    /* Handle when a new output is added */\n",
       "    events.on('output_added.OutputArea', handleAddOutput);\n",
       "\n",
       "    /**\n",
       "     * Register the mime type and append_mime function with output_area\n",
       "     */\n",
       "    OutputArea.prototype.register_mime_type(EXEC_MIME_TYPE, append_mime, {\n",
       "      /* Is output safe? */\n",
       "      safe: true,\n",
       "      /* Index of renderer in `output_area.display_order` */\n",
       "      index: 0\n",
       "    });\n",
       "  }\n",
       "\n",
       "  // register the mime type if in Jupyter Notebook environment and previously unregistered\n",
       "  if (root.Jupyter !== undefined) {\n",
       "    var events = require('base/js/events');\n",
       "    var OutputArea = require('notebook/js/outputarea').OutputArea;\n",
       "\n",
       "    if (OutputArea.prototype.mime_types().indexOf(EXEC_MIME_TYPE) == -1) {\n",
       "      register_renderer(events, OutputArea);\n",
       "    }\n",
       "  }\n",
       "\n",
       "  \n",
       "  if (typeof (root._bokeh_timeout) === \"undefined\" || force === true) {\n",
       "    root._bokeh_timeout = Date.now() + 5000;\n",
       "    root._bokeh_failed_load = false;\n",
       "  }\n",
       "\n",
       "  var NB_LOAD_WARNING = {'data': {'text/html':\n",
       "     \"<div style='background-color: #fdd'>\\n\"+\n",
       "     \"<p>\\n\"+\n",
       "     \"BokehJS does not appear to have successfully loaded. If loading BokehJS from CDN, this \\n\"+\n",
       "     \"may be due to a slow or bad network connection. Possible fixes:\\n\"+\n",
       "     \"</p>\\n\"+\n",
       "     \"<ul>\\n\"+\n",
       "     \"<li>re-rerun `output_notebook()` to attempt to load from CDN again, or</li>\\n\"+\n",
       "     \"<li>use INLINE resources instead, as so:</li>\\n\"+\n",
       "     \"</ul>\\n\"+\n",
       "     \"<code>\\n\"+\n",
       "     \"from bokeh.resources import INLINE\\n\"+\n",
       "     \"output_notebook(resources=INLINE)\\n\"+\n",
       "     \"</code>\\n\"+\n",
       "     \"</div>\"}};\n",
       "\n",
       "  function display_loaded() {\n",
       "    var el = document.getElementById(\"46529dfd-e191-4508-be36-7187d8a9a607\");\n",
       "    if (el != null) {\n",
       "      el.textContent = \"BokehJS is loading...\";\n",
       "    }\n",
       "    if (root.Bokeh !== undefined) {\n",
       "      if (el != null) {\n",
       "        el.textContent = \"BokehJS \" + root.Bokeh.version + \" successfully loaded.\";\n",
       "      }\n",
       "    } else if (Date.now() < root._bokeh_timeout) {\n",
       "      setTimeout(display_loaded, 100)\n",
       "    }\n",
       "  }\n",
       "\n",
       "\n",
       "  function run_callbacks() {\n",
       "    try {\n",
       "      root._bokeh_onload_callbacks.forEach(function(callback) { callback() });\n",
       "    }\n",
       "    finally {\n",
       "      delete root._bokeh_onload_callbacks\n",
       "    }\n",
       "    console.info(\"Bokeh: all callbacks have finished\");\n",
       "  }\n",
       "\n",
       "  function load_libs(js_urls, callback) {\n",
       "    root._bokeh_onload_callbacks.push(callback);\n",
       "    if (root._bokeh_is_loading > 0) {\n",
       "      console.log(\"Bokeh: BokehJS is being loaded, scheduling callback at\", now());\n",
       "      return null;\n",
       "    }\n",
       "    if (js_urls == null || js_urls.length === 0) {\n",
       "      run_callbacks();\n",
       "      return null;\n",
       "    }\n",
       "    console.log(\"Bokeh: BokehJS not loaded, scheduling load and callback at\", now());\n",
       "    root._bokeh_is_loading = js_urls.length;\n",
       "    for (var i = 0; i < js_urls.length; i++) {\n",
       "      var url = js_urls[i];\n",
       "      var s = document.createElement('script');\n",
       "      s.src = url;\n",
       "      s.async = false;\n",
       "      s.onreadystatechange = s.onload = function() {\n",
       "        root._bokeh_is_loading--;\n",
       "        if (root._bokeh_is_loading === 0) {\n",
       "          console.log(\"Bokeh: all BokehJS libraries loaded\");\n",
       "          run_callbacks()\n",
       "        }\n",
       "      };\n",
       "      s.onerror = function() {\n",
       "        console.warn(\"failed to load library \" + url);\n",
       "      };\n",
       "      console.log(\"Bokeh: injecting script tag for BokehJS library: \", url);\n",
       "      document.getElementsByTagName(\"head\")[0].appendChild(s);\n",
       "    }\n",
       "  };var element = document.getElementById(\"46529dfd-e191-4508-be36-7187d8a9a607\");\n",
       "  if (element == null) {\n",
       "    console.log(\"Bokeh: ERROR: autoload.js configured with elementid '46529dfd-e191-4508-be36-7187d8a9a607' but no matching script tag was found. \")\n",
       "    return false;\n",
       "  }\n",
       "\n",
       "  var js_urls = [\"https://cdn.pydata.org/bokeh/release/bokeh-0.13.0.min.js\", \"https://cdn.pydata.org/bokeh/release/bokeh-widgets-0.13.0.min.js\", \"https://cdn.pydata.org/bokeh/release/bokeh-tables-0.13.0.min.js\", \"https://cdn.pydata.org/bokeh/release/bokeh-gl-0.13.0.min.js\"];\n",
       "\n",
       "  var inline_js = [\n",
       "    function(Bokeh) {\n",
       "      Bokeh.set_log_level(\"info\");\n",
       "    },\n",
       "    \n",
       "    function(Bokeh) {\n",
       "      \n",
       "    },\n",
       "    function(Bokeh) {\n",
       "      console.log(\"Bokeh: injecting CSS: https://cdn.pydata.org/bokeh/release/bokeh-0.13.0.min.css\");\n",
       "      Bokeh.embed.inject_css(\"https://cdn.pydata.org/bokeh/release/bokeh-0.13.0.min.css\");\n",
       "      console.log(\"Bokeh: injecting CSS: https://cdn.pydata.org/bokeh/release/bokeh-widgets-0.13.0.min.css\");\n",
       "      Bokeh.embed.inject_css(\"https://cdn.pydata.org/bokeh/release/bokeh-widgets-0.13.0.min.css\");\n",
       "      console.log(\"Bokeh: injecting CSS: https://cdn.pydata.org/bokeh/release/bokeh-tables-0.13.0.min.css\");\n",
       "      Bokeh.embed.inject_css(\"https://cdn.pydata.org/bokeh/release/bokeh-tables-0.13.0.min.css\");\n",
       "    }\n",
       "  ];\n",
       "\n",
       "  function run_inline_js() {\n",
       "    \n",
       "    if ((root.Bokeh !== undefined) || (force === true)) {\n",
       "      for (var i = 0; i < inline_js.length; i++) {\n",
       "        inline_js[i].call(root, root.Bokeh);\n",
       "      }if (force === true) {\n",
       "        display_loaded();\n",
       "      }} else if (Date.now() < root._bokeh_timeout) {\n",
       "      setTimeout(run_inline_js, 100);\n",
       "    } else if (!root._bokeh_failed_load) {\n",
       "      console.log(\"Bokeh: BokehJS failed to load within specified timeout.\");\n",
       "      root._bokeh_failed_load = true;\n",
       "    } else if (force !== true) {\n",
       "      var cell = $(document.getElementById(\"46529dfd-e191-4508-be36-7187d8a9a607\")).parents('.cell').data().cell;\n",
       "      cell.output_area.append_execute_result(NB_LOAD_WARNING)\n",
       "    }\n",
       "\n",
       "  }\n",
       "\n",
       "  if (root._bokeh_is_loading === 0) {\n",
       "    console.log(\"Bokeh: BokehJS loaded, going straight to plotting\");\n",
       "    run_inline_js();\n",
       "  } else {\n",
       "    load_libs(js_urls, function() {\n",
       "      console.log(\"Bokeh: BokehJS plotting callback run at\", now());\n",
       "      run_inline_js();\n",
       "    });\n",
       "  }\n",
       "}(window));"
      ],
      "application/vnd.bokehjs_load.v0+json": "\n(function(root) {\n  function now() {\n    return new Date();\n  }\n\n  var force = true;\n\n  if (typeof (root._bokeh_onload_callbacks) === \"undefined\" || force === true) {\n    root._bokeh_onload_callbacks = [];\n    root._bokeh_is_loading = undefined;\n  }\n\n  \n\n  \n  if (typeof (root._bokeh_timeout) === \"undefined\" || force === true) {\n    root._bokeh_timeout = Date.now() + 5000;\n    root._bokeh_failed_load = false;\n  }\n\n  var NB_LOAD_WARNING = {'data': {'text/html':\n     \"<div style='background-color: #fdd'>\\n\"+\n     \"<p>\\n\"+\n     \"BokehJS does not appear to have successfully loaded. If loading BokehJS from CDN, this \\n\"+\n     \"may be due to a slow or bad network connection. Possible fixes:\\n\"+\n     \"</p>\\n\"+\n     \"<ul>\\n\"+\n     \"<li>re-rerun `output_notebook()` to attempt to load from CDN again, or</li>\\n\"+\n     \"<li>use INLINE resources instead, as so:</li>\\n\"+\n     \"</ul>\\n\"+\n     \"<code>\\n\"+\n     \"from bokeh.resources import INLINE\\n\"+\n     \"output_notebook(resources=INLINE)\\n\"+\n     \"</code>\\n\"+\n     \"</div>\"}};\n\n  function display_loaded() {\n    var el = document.getElementById(\"46529dfd-e191-4508-be36-7187d8a9a607\");\n    if (el != null) {\n      el.textContent = \"BokehJS is loading...\";\n    }\n    if (root.Bokeh !== undefined) {\n      if (el != null) {\n        el.textContent = \"BokehJS \" + root.Bokeh.version + \" successfully loaded.\";\n      }\n    } else if (Date.now() < root._bokeh_timeout) {\n      setTimeout(display_loaded, 100)\n    }\n  }\n\n\n  function run_callbacks() {\n    try {\n      root._bokeh_onload_callbacks.forEach(function(callback) { callback() });\n    }\n    finally {\n      delete root._bokeh_onload_callbacks\n    }\n    console.info(\"Bokeh: all callbacks have finished\");\n  }\n\n  function load_libs(js_urls, callback) {\n    root._bokeh_onload_callbacks.push(callback);\n    if (root._bokeh_is_loading > 0) {\n      console.log(\"Bokeh: BokehJS is being loaded, scheduling callback at\", now());\n      return null;\n    }\n    if (js_urls == null || js_urls.length === 0) {\n      run_callbacks();\n      return null;\n    }\n    console.log(\"Bokeh: BokehJS not loaded, scheduling load and callback at\", now());\n    root._bokeh_is_loading = js_urls.length;\n    for (var i = 0; i < js_urls.length; i++) {\n      var url = js_urls[i];\n      var s = document.createElement('script');\n      s.src = url;\n      s.async = false;\n      s.onreadystatechange = s.onload = function() {\n        root._bokeh_is_loading--;\n        if (root._bokeh_is_loading === 0) {\n          console.log(\"Bokeh: all BokehJS libraries loaded\");\n          run_callbacks()\n        }\n      };\n      s.onerror = function() {\n        console.warn(\"failed to load library \" + url);\n      };\n      console.log(\"Bokeh: injecting script tag for BokehJS library: \", url);\n      document.getElementsByTagName(\"head\")[0].appendChild(s);\n    }\n  };var element = document.getElementById(\"46529dfd-e191-4508-be36-7187d8a9a607\");\n  if (element == null) {\n    console.log(\"Bokeh: ERROR: autoload.js configured with elementid '46529dfd-e191-4508-be36-7187d8a9a607' but no matching script tag was found. \")\n    return false;\n  }\n\n  var js_urls = [\"https://cdn.pydata.org/bokeh/release/bokeh-0.13.0.min.js\", \"https://cdn.pydata.org/bokeh/release/bokeh-widgets-0.13.0.min.js\", \"https://cdn.pydata.org/bokeh/release/bokeh-tables-0.13.0.min.js\", \"https://cdn.pydata.org/bokeh/release/bokeh-gl-0.13.0.min.js\"];\n\n  var inline_js = [\n    function(Bokeh) {\n      Bokeh.set_log_level(\"info\");\n    },\n    \n    function(Bokeh) {\n      \n    },\n    function(Bokeh) {\n      console.log(\"Bokeh: injecting CSS: https://cdn.pydata.org/bokeh/release/bokeh-0.13.0.min.css\");\n      Bokeh.embed.inject_css(\"https://cdn.pydata.org/bokeh/release/bokeh-0.13.0.min.css\");\n      console.log(\"Bokeh: injecting CSS: https://cdn.pydata.org/bokeh/release/bokeh-widgets-0.13.0.min.css\");\n      Bokeh.embed.inject_css(\"https://cdn.pydata.org/bokeh/release/bokeh-widgets-0.13.0.min.css\");\n      console.log(\"Bokeh: injecting CSS: https://cdn.pydata.org/bokeh/release/bokeh-tables-0.13.0.min.css\");\n      Bokeh.embed.inject_css(\"https://cdn.pydata.org/bokeh/release/bokeh-tables-0.13.0.min.css\");\n    }\n  ];\n\n  function run_inline_js() {\n    \n    if ((root.Bokeh !== undefined) || (force === true)) {\n      for (var i = 0; i < inline_js.length; i++) {\n        inline_js[i].call(root, root.Bokeh);\n      }if (force === true) {\n        display_loaded();\n      }} else if (Date.now() < root._bokeh_timeout) {\n      setTimeout(run_inline_js, 100);\n    } else if (!root._bokeh_failed_load) {\n      console.log(\"Bokeh: BokehJS failed to load within specified timeout.\");\n      root._bokeh_failed_load = true;\n    } else if (force !== true) {\n      var cell = $(document.getElementById(\"46529dfd-e191-4508-be36-7187d8a9a607\")).parents('.cell').data().cell;\n      cell.output_area.append_execute_result(NB_LOAD_WARNING)\n    }\n\n  }\n\n  if (root._bokeh_is_loading === 0) {\n    console.log(\"Bokeh: BokehJS loaded, going straight to plotting\");\n    run_inline_js();\n  } else {\n    load_libs(js_urls, function() {\n      console.log(\"Bokeh: BokehJS plotting callback run at\", now());\n      run_inline_js();\n    });\n  }\n}(window));"
     },
     "metadata": {},
     "output_type": "display_data"
    }
   ],
   "source": [
    "output_notebook()"
   ]
  },
  {
   "cell_type": "code",
   "execution_count": 56,
   "metadata": {},
   "outputs": [],
   "source": [
    "source = ColumnDataSource(df_high)"
   ]
  },
  {
   "cell_type": "code",
   "execution_count": 59,
   "metadata": {},
   "outputs": [
    {
     "data": {
      "text/html": [
       "\n",
       "\n",
       "\n",
       "\n",
       "\n",
       "\n",
       "  <div class=\"bk-root\" id=\"7f95c805-8379-4fd8-be6a-34efcf37b270\"></div>\n"
      ]
     },
     "metadata": {},
     "output_type": "display_data"
    },
    {
     "data": {
      "application/javascript": [
       "(function(root) {\n",
       "  function embed_document(root) {\n",
       "    \n",
       "  var docs_json = {\"b15df768-cc24-4ee0-83a4-6324f1ce0a20\":{\"roots\":{\"references\":[{\"attributes\":{\"fill_color\":{\"value\":\"#1f77b4\"},\"line_color\":{\"value\":\"#1f77b4\"},\"top\":{\"field\":\"Frequency\"},\"width\":{\"value\":0.2},\"x\":{\"field\":\"Term\"}},\"id\":\"6544836c-186a-408a-b28e-8af5c15c46fe\",\"type\":\"VBar\"},{\"attributes\":{\"callback\":null,\"end\":6081},\"id\":\"72a64ff3-d793-486f-9a18-1c2bd902e8f8\",\"type\":\"Range1d\"},{\"attributes\":{},\"id\":\"a80fcb11-c873-4fc2-a499-3bda54d31fe8\",\"type\":\"SaveTool\"},{\"attributes\":{},\"id\":\"707ac140-c1a4-4042-a601-52853671ee9a\",\"type\":\"HelpTool\"},{\"attributes\":{\"plot\":{\"id\":\"61f7ddaa-e46c-40ff-8885-ac6f2b028453\",\"subtype\":\"Figure\",\"type\":\"Plot\"},\"ticker\":{\"id\":\"63c2d178-17b7-485f-a180-6af17480b5fa\",\"type\":\"CategoricalTicker\"}},\"id\":\"3d1d1631-2d4c-47b8-a485-2e7a1d879ead\",\"type\":\"Grid\"},{\"attributes\":{\"callback\":null,\"factors\":[\"studi\",\"result\",\"patient\",\"cell\",\"increas\",\"effect\",\"activ\",\"show\",\"develop\",\"signific\",\"differ\",\"high\",\"suggest\",\"present\",\"diseas\",\"treatment\",\"associ\",\"two\",\"relat\",\"level\",\"function\",\"clinic\",\"compar\",\"specif\",\"found\",\"control\",\"protein\",\"factor\",\"report\",\"data\",\"express\",\"import\",\"respons\",\"observ\",\"indic\",\"role\",\"human\",\"demonstr\",\"investig\",\"determin\",\"base\",\"system\",\"time\",\"measur\",\"mechan\",\"potenti\"]},\"id\":\"ce8c1b3a-5545-473c-9f32-72a1eb78dfe0\",\"type\":\"FactorRange\"},{\"attributes\":{},\"id\":\"ab1ad3a4-b40d-4807-a00b-af7564a5e1ed\",\"type\":\"BasicTickFormatter\"},{\"attributes\":{\"active_drag\":\"auto\",\"active_inspect\":\"auto\",\"active_multi\":null,\"active_scroll\":\"auto\",\"active_tap\":\"auto\",\"tools\":[{\"id\":\"2d820ee8-f3b1-4462-b6b0-a48b73bbb63c\",\"type\":\"PanTool\"},{\"id\":\"78fe1611-277b-42ec-938d-e65ffe4fbc99\",\"type\":\"WheelZoomTool\"},{\"id\":\"69dce839-7bae-465a-a3b5-fe1da9f9d1e9\",\"type\":\"BoxZoomTool\"},{\"id\":\"a80fcb11-c873-4fc2-a499-3bda54d31fe8\",\"type\":\"SaveTool\"},{\"id\":\"c641e5bf-9955-4078-abc2-f106af048101\",\"type\":\"ResetTool\"},{\"id\":\"707ac140-c1a4-4042-a601-52853671ee9a\",\"type\":\"HelpTool\"},{\"id\":\"e02a3d1d-e673-4705-b6c3-010c3e61ad9d\",\"type\":\"HoverTool\"}]},\"id\":\"8241a1af-4fd3-4ac8-9cc8-2c30a94b44b0\",\"type\":\"Toolbar\"},{\"attributes\":{\"below\":[{\"id\":\"1d6f352e-b59d-4827-bf3a-7acac32c6e8e\",\"type\":\"CategoricalAxis\"}],\"left\":[{\"id\":\"af794663-9cbf-4944-aaaf-e3bd41413124\",\"type\":\"LinearAxis\"}],\"plot_height\":500,\"plot_width\":1000,\"renderers\":[{\"id\":\"1d6f352e-b59d-4827-bf3a-7acac32c6e8e\",\"type\":\"CategoricalAxis\"},{\"id\":\"3d1d1631-2d4c-47b8-a485-2e7a1d879ead\",\"type\":\"Grid\"},{\"id\":\"af794663-9cbf-4944-aaaf-e3bd41413124\",\"type\":\"LinearAxis\"},{\"id\":\"f35072b4-34a4-4dad-973c-10331680425b\",\"type\":\"Grid\"},{\"id\":\"eef3546b-3929-424c-a2fa-ecec334035eb\",\"type\":\"BoxAnnotation\"},{\"id\":\"975b6a87-728a-4290-9a67-5f7f02ef4492\",\"type\":\"GlyphRenderer\"}],\"title\":{\"id\":\"d7679a31-d019-4158-b3bc-1d24786b2900\",\"type\":\"Title\"},\"toolbar\":{\"id\":\"8241a1af-4fd3-4ac8-9cc8-2c30a94b44b0\",\"type\":\"Toolbar\"},\"x_range\":{\"id\":\"ce8c1b3a-5545-473c-9f32-72a1eb78dfe0\",\"type\":\"FactorRange\"},\"x_scale\":{\"id\":\"1b257c1f-5396-4733-8fac-42b0cc169f3c\",\"type\":\"CategoricalScale\"},\"y_range\":{\"id\":\"72a64ff3-d793-486f-9a18-1c2bd902e8f8\",\"type\":\"Range1d\"},\"y_scale\":{\"id\":\"b7b99edb-38a2-455d-a7b3-abd5f356c6c0\",\"type\":\"LinearScale\"}},\"id\":\"61f7ddaa-e46c-40ff-8885-ac6f2b028453\",\"subtype\":\"Figure\",\"type\":\"Plot\"},{\"attributes\":{\"formatter\":{\"id\":\"04b12fec-055a-4c62-9658-be6c3ae423e7\",\"type\":\"CategoricalTickFormatter\"},\"plot\":{\"id\":\"61f7ddaa-e46c-40ff-8885-ac6f2b028453\",\"subtype\":\"Figure\",\"type\":\"Plot\"},\"ticker\":{\"id\":\"63c2d178-17b7-485f-a180-6af17480b5fa\",\"type\":\"CategoricalTicker\"}},\"id\":\"1d6f352e-b59d-4827-bf3a-7acac32c6e8e\",\"type\":\"CategoricalAxis\"},{\"attributes\":{\"data_source\":{\"id\":\"97b8d33a-7250-40d4-95ef-384b42f74ef2\",\"type\":\"ColumnDataSource\"},\"glyph\":{\"id\":\"6544836c-186a-408a-b28e-8af5c15c46fe\",\"type\":\"VBar\"},\"hover_glyph\":null,\"muted_glyph\":null,\"nonselection_glyph\":{\"id\":\"3a73d941-71ad-4328-949c-918129d69b98\",\"type\":\"VBar\"},\"selection_glyph\":null,\"view\":{\"id\":\"36e320cd-1a86-4bd7-891b-056988c848e6\",\"type\":\"CDSView\"}},\"id\":\"975b6a87-728a-4290-9a67-5f7f02ef4492\",\"type\":\"GlyphRenderer\"},{\"attributes\":{\"overlay\":{\"id\":\"eef3546b-3929-424c-a2fa-ecec334035eb\",\"type\":\"BoxAnnotation\"}},\"id\":\"69dce839-7bae-465a-a3b5-fe1da9f9d1e9\",\"type\":\"BoxZoomTool\"},{\"attributes\":{},\"id\":\"2ab1c805-4c1e-4741-88bb-723db4597ec7\",\"type\":\"Selection\"},{\"attributes\":{},\"id\":\"63c2d178-17b7-485f-a180-6af17480b5fa\",\"type\":\"CategoricalTicker\"},{\"attributes\":{\"fill_alpha\":{\"value\":0.1},\"fill_color\":{\"value\":\"#1f77b4\"},\"line_alpha\":{\"value\":0.1},\"line_color\":{\"value\":\"#1f77b4\"},\"top\":{\"field\":\"Frequency\"},\"width\":{\"value\":0.2},\"x\":{\"field\":\"Term\"}},\"id\":\"3a73d941-71ad-4328-949c-918129d69b98\",\"type\":\"VBar\"},{\"attributes\":{\"callback\":null,\"data\":{\"Frequency\":[6081,4735,4325,4319,3943,3831,3504,3468,3355,3320,3271,3110,3094,2969,2901,2889,2886,2786,2686,2637,2620,2578,2577,2560,2474,2465,2354,2242,2233,2220,2204,2192,2189,2189,2170,2166,2166,2156,2147,2100,2071,2034,2033,2029,2020,2017,1986,1976,1976,1932,1931,1885,1872,1855,1804,1767,1765,1756,1739,1728,1719,1716,1694,1693,1692,1688,1683,1638,1630,1602,1585,1579,1546,1541,1504,1499,1499,1491,1473,1472,1462,1457,1454,1453,1449,1443,1437,1431,1430,1429,1424,1416,1411,1389,1379,1371,1363,1360,1359,1358,1358,1327,1324,1315,1315,1305,1302,1299,1295,1291,1281,1275,1271,1263,1242,1239,1235,1234,1203,1203,1202,1181,1172,1160,1157,1150,1147,1142,1132,1123,1114,1111,1104,1098,1096,1096,1092,1091,1078,1077,1073,1061,1060,1056,1054,1054,1052,1050,1049,1049,1047,1045,1041,1040,1039,1036,1029,1024,1006,1006,1003],\"Term\":[\"studi\",\"result\",\"patient\",\"cell\",\"increas\",\"effect\",\"activ\",\"show\",\"develop\",\"signific\",\"differ\",\"high\",\"suggest\",\"present\",\"diseas\",\"treatment\",\"associ\",\"two\",\"relat\",\"level\",\"function\",\"clinic\",\"compar\",\"specif\",\"found\",\"control\",\"protein\",\"factor\",\"report\",\"data\",\"express\",\"import\",\"respons\",\"observ\",\"indic\",\"role\",\"human\",\"demonstr\",\"investig\",\"determin\",\"base\",\"system\",\"time\",\"measur\",\"mechan\",\"potenti\",\"type\",\"identifi\",\"addit\",\"analysi\",\"chang\",\"model\",\"induc\",\"method\",\"follow\",\"process\",\"group\",\"test\",\"evalu\",\"gene\",\"new\",\"find\",\"perform\",\"reduc\",\"case\",\"tissu\",\"normal\",\"improv\",\"involv\",\"decreas\",\"three\",\"examin\",\"rate\",\"detect\",\"assess\",\"depend\",\"cancer\",\"caus\",\"therapi\",\"low\",\"age\",\"review\",\"risk\",\"higher\",\"requir\",\"reveal\",\"recent\",\"differenti\",\"concentr\",\"regul\",\"describ\",\"similar\",\"condit\",\"number\",\"form\",\"previous\",\"remain\",\"structur\",\"acid\",\"target\",\"evid\",\"current\",\"respect\",\"provid\",\"non\",\"approach\",\"treat\",\"possibl\",\"major\",\"common\",\"combin\",\"posit\",\"occur\",\"year\",\"direct\",\"individu\",\"affect\",\"larg\",\"complex\",\"correl\",\"sampl\",\"popul\",\"inhibit\",\"select\",\"growth\",\"molecular\",\"earli\",\"discuss\",\"obtain\",\"appear\",\"lead\",\"due\",\"limit\",\"product\",\"interact\",\"understand\",\"contain\",\"tumor\",\"organ\",\"character\",\"valu\",\"presenc\",\"total\",\"format\",\"signal\",\"term\",\"small\",\"lower\",\"support\",\"serum\",\"known\",\"rang\",\"assay\",\"enhanc\",\"sensit\",\"bone\",\"novel\",\"cultur\",\"mean\",\"experi\",\"various\"],\"index\":[24178,30570,26970,34629,17443,35027,21166,12663,3548,18398,31669,12007,28136,29998,35220,13663,18628,26543,10012,8172,34838,37512,9365,2934,21661,34682,6070,21795,28040,10710,6567,3480,35031,9734,32811,571,25705,22905,30102,9607,14057,22360,23948,30697,3764,28945,15241,12839,39888,5563,24679,18860,9084,31480,19052,1915,5798,3042,4960,4454,10280,36744,23194,33920,8551,4632,15676,6024,33010,3705,35576,35910,19092,18755,22662,25857,16190,19185,25401,23910,32040,38640,37705,9153,21173,10734,11713,38397,11040,368,37769,26253,20701,11465,13479,20668,6354,23111,9361,32963,12983,10601,20000,32964,3259,28068,34983,26415,29134,26771,18542,10317,19754,3296,7514,8332,15165,26965,18180,33936,1695,26796,33109,31506,20127,31677,33779,33497,30053,23403,40005,19391,15090,3218,39120,16889,34928,31348,11608,25714,16497,29989,1959,21962,14352,28505,1228,19462,3329,39639,29076,27932,17120,696,21542,31350,14915,39978,31354,6602,34904]},\"selected\":{\"id\":\"2ab1c805-4c1e-4741-88bb-723db4597ec7\",\"type\":\"Selection\"},\"selection_policy\":{\"id\":\"450e72f3-b125-4165-88fb-c816062b6c0d\",\"type\":\"UnionRenderers\"}},\"id\":\"97b8d33a-7250-40d4-95ef-384b42f74ef2\",\"type\":\"ColumnDataSource\"},{\"attributes\":{},\"id\":\"b7b99edb-38a2-455d-a7b3-abd5f356c6c0\",\"type\":\"LinearScale\"},{\"attributes\":{},\"id\":\"4fff94fe-39cc-4635-9874-369af80589ca\",\"type\":\"BasicTicker\"},{\"attributes\":{},\"id\":\"04b12fec-055a-4c62-9658-be6c3ae423e7\",\"type\":\"CategoricalTickFormatter\"},{\"attributes\":{},\"id\":\"1b257c1f-5396-4733-8fac-42b0cc169f3c\",\"type\":\"CategoricalScale\"},{\"attributes\":{},\"id\":\"c641e5bf-9955-4078-abc2-f106af048101\",\"type\":\"ResetTool\"},{\"attributes\":{\"source\":{\"id\":\"97b8d33a-7250-40d4-95ef-384b42f74ef2\",\"type\":\"ColumnDataSource\"}},\"id\":\"36e320cd-1a86-4bd7-891b-056988c848e6\",\"type\":\"CDSView\"},{\"attributes\":{\"dimension\":1,\"plot\":{\"id\":\"61f7ddaa-e46c-40ff-8885-ac6f2b028453\",\"subtype\":\"Figure\",\"type\":\"Plot\"},\"ticker\":{\"id\":\"4fff94fe-39cc-4635-9874-369af80589ca\",\"type\":\"BasicTicker\"}},\"id\":\"f35072b4-34a4-4dad-973c-10331680425b\",\"type\":\"Grid\"},{\"attributes\":{},\"id\":\"78fe1611-277b-42ec-938d-e65ffe4fbc99\",\"type\":\"WheelZoomTool\"},{\"attributes\":{},\"id\":\"450e72f3-b125-4165-88fb-c816062b6c0d\",\"type\":\"UnionRenderers\"},{\"attributes\":{},\"id\":\"2d820ee8-f3b1-4462-b6b0-a48b73bbb63c\",\"type\":\"PanTool\"},{\"attributes\":{\"callback\":null,\"renderers\":\"auto\",\"tooltips\":[[\"Term\",\"@Term\"],[\"Frequency\",\"@Frequency\"]]},\"id\":\"e02a3d1d-e673-4705-b6c3-010c3e61ad9d\",\"type\":\"HoverTool\"},{\"attributes\":{\"bottom_units\":\"screen\",\"fill_alpha\":{\"value\":0.5},\"fill_color\":{\"value\":\"lightgrey\"},\"left_units\":\"screen\",\"level\":\"overlay\",\"line_alpha\":{\"value\":1.0},\"line_color\":{\"value\":\"black\"},\"line_dash\":[4,4],\"line_width\":{\"value\":2},\"plot\":null,\"render_mode\":\"css\",\"right_units\":\"screen\",\"top_units\":\"screen\"},\"id\":\"eef3546b-3929-424c-a2fa-ecec334035eb\",\"type\":\"BoxAnnotation\"},{\"attributes\":{\"formatter\":{\"id\":\"ab1ad3a4-b40d-4807-a00b-af7564a5e1ed\",\"type\":\"BasicTickFormatter\"},\"plot\":{\"id\":\"61f7ddaa-e46c-40ff-8885-ac6f2b028453\",\"subtype\":\"Figure\",\"type\":\"Plot\"},\"ticker\":{\"id\":\"4fff94fe-39cc-4635-9874-369af80589ca\",\"type\":\"BasicTicker\"}},\"id\":\"af794663-9cbf-4944-aaaf-e3bd41413124\",\"type\":\"LinearAxis\"},{\"attributes\":{\"plot\":null,\"text\":\"Term Frequencies\"},\"id\":\"d7679a31-d019-4158-b3bc-1d24786b2900\",\"type\":\"Title\"}],\"root_ids\":[\"61f7ddaa-e46c-40ff-8885-ac6f2b028453\"]},\"title\":\"Bokeh Application\",\"version\":\"0.13.0\"}};\n",
       "  var render_items = [{\"docid\":\"b15df768-cc24-4ee0-83a4-6324f1ce0a20\",\"roots\":{\"61f7ddaa-e46c-40ff-8885-ac6f2b028453\":\"7f95c805-8379-4fd8-be6a-34efcf37b270\"}}];\n",
       "  root.Bokeh.embed.embed_items_notebook(docs_json, render_items);\n",
       "\n",
       "  }\n",
       "  if (root.Bokeh !== undefined) {\n",
       "    embed_document(root);\n",
       "  } else {\n",
       "    var attempts = 0;\n",
       "    var timer = setInterval(function(root) {\n",
       "      if (root.Bokeh !== undefined) {\n",
       "        embed_document(root);\n",
       "        clearInterval(timer);\n",
       "      }\n",
       "      attempts++;\n",
       "      if (attempts > 100) {\n",
       "        console.log(\"Bokeh: ERROR: Unable to run BokehJS code because BokehJS library is missing\")\n",
       "        clearInterval(timer);\n",
       "      }\n",
       "    }, 10, root)\n",
       "  }\n",
       "})(window);"
      ],
      "application/vnd.bokehjs_exec.v0+json": ""
     },
     "metadata": {
      "application/vnd.bokehjs_exec.v0+json": {
       "id": "61f7ddaa-e46c-40ff-8885-ac6f2b028453"
      }
     },
     "output_type": "display_data"
    }
   ],
   "source": [
    "p = figure(plot_width=1000,plot_height=500,title=\"Term Frequencies\",x_range=df_high[\"Term\"].values,y_range=Range1d(0,df_high[\"Frequency\"].max()))\n",
    "p.vbar(x=\"Term\",top = \"Frequency\",width=0.2,source=source)\n",
    "p.add_tools(HoverTool(tooltips=[(\"Term\",\"@Term\"),(\"Frequency\",\"@Frequency\")]))\n",
    "show(p)"
   ]
  },
  {
   "cell_type": "code",
   "execution_count": 54,
   "metadata": {},
   "outputs": [
    {
     "name": "stdout",
     "output_type": "stream",
     "text": [
      "cancer\n",
      "breast\n",
      "lung\n",
      "patient\n",
      "therapi\n",
      "chemotherapi\n",
      "tumor\n",
      "nsclc\n",
      "trial\n",
      "surviv\n",
      "agent\n",
      "serum\n",
      "treatment\n",
      "women\n",
      "risk\n",
      "prostat\n",
      "combin\n",
      "ci\n",
      "radiat\n",
      "dose\n"
     ]
    }
   ],
   "source": [
    "terms = sorted(df[\"Term\"])\n",
    "top_n = 20\n",
    "comp0 = svd.components_[6]\n",
    "top_indices = comp0.argsort()[-top_n:][::-1]\n",
    "for index in top_indices:\n",
    "    print(terms[index])"
   ]
  },
  {
   "cell_type": "code",
   "execution_count": null,
   "metadata": {},
   "outputs": [],
   "source": []
  }
 ],
 "metadata": {
  "kernelspec": {
   "display_name": "Python 2",
   "language": "python",
   "name": "python2"
  },
  "language_info": {
   "codemirror_mode": {
    "name": "ipython",
    "version": 2
   },
   "file_extension": ".py",
   "mimetype": "text/x-python",
   "name": "python",
   "nbconvert_exporter": "python",
   "pygments_lexer": "ipython2",
   "version": "2.7.11"
  }
 },
 "nbformat": 4,
 "nbformat_minor": 2
}
