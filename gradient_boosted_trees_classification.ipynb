{
 "cells": [
  {
   "cell_type": "markdown",
   "metadata": {},
   "source": [
    "# RocketML tutorial on binary classification using gradient boosted trees\n",
    "\n",
    "## Import Libraries"
   ]
  },
  {
   "cell_type": "code",
   "execution_count": 19,
   "metadata": {},
   "outputs": [],
   "source": [
    "from rocketml.ensemble import GradientBoostingClassifier\n",
    "from rocketml.io import LIBSVM,CSV\n",
    "from time import time\n",
    "import subprocess\n",
    "import os\n",
    "from sklearn.metrics import f1_score, confusion_matrix,roc_auc_score\n",
    "from sklearn.datasets import load_svmlight_file\n",
    "import numpy as np"
   ]
  },
  {
   "cell_type": "markdown",
   "metadata": {},
   "source": [
    "## Start dask for data processing"
   ]
  },
  {
   "cell_type": "code",
   "execution_count": 20,
   "metadata": {},
   "outputs": [
    {
     "data": {
      "text/html": [
       "<table style=\"border: 2px solid white;\">\n",
       "<tr>\n",
       "<td style=\"vertical-align: top; border: 0px solid white\">\n",
       "<h3>Client</h3>\n",
       "<ul>\n",
       "  <li><b>Scheduler: </b>tcp://ip-172-31-24-238:8786\n",
       "  <li><b>Dashboard: </b><a href='http://ip-172-31-24-238:8787/status' target='_blank'>http://ip-172-31-24-238:8787/status</a>\n",
       "</ul>\n",
       "</td>\n",
       "<td style=\"vertical-align: top; border: 0px solid white\">\n",
       "<h3>Cluster</h3>\n",
       "<ul>\n",
       "  <li><b>Workers: </b>4</li>\n",
       "  <li><b>Cores: </b>64</li>\n",
       "  <li><b>Memory: </b>130.65 GB</li>\n",
       "</ul>\n",
       "</td>\n",
       "</tr>\n",
       "</table>"
      ],
      "text/plain": [
       "<Client: scheduler='tcp://172.31.24.238:8786' processes=4 cores=64>"
      ]
     },
     "execution_count": 20,
     "metadata": {},
     "output_type": "execute_result"
    }
   ],
   "source": [
    "hostname = subprocess.check_output('hostname').strip()\n",
    "from dask.distributed import Client\n",
    "client = Client(hostname+\":8786\")\n",
    "client"
   ]
  },
  {
   "cell_type": "markdown",
   "metadata": {},
   "source": [
    "## Read Data File and Inspect its contents"
   ]
  },
  {
   "cell_type": "code",
   "execution_count": 21,
   "metadata": {},
   "outputs": [],
   "source": [
    "import dask.dataframe as dd\n",
    "filename = \"/home/ubuntu/rocketml-dev/data/SUSY.csv\"\n",
    "df = dd.read_csv(filename,header=None)"
   ]
  },
  {
   "cell_type": "markdown",
   "metadata": {},
   "source": [
    "## Check data statistics"
   ]
  },
  {
   "cell_type": "code",
   "execution_count": 22,
   "metadata": {},
   "outputs": [
    {
     "name": "stdout",
     "output_type": "stream",
     "text": [
      "Int64Index([0, 1, 2, 3, 4, 5, 6, 7, 8, 9, 10, 11, 12, 13, 14, 15, 16, 17, 18], dtype='int64')\n",
      "    0         1         2         3         4         5         6         7   \\\n",
      "0  0.0  0.972861  0.653855  1.176225  1.157156 -1.739873 -0.874309  0.567765   \n",
      "1  1.0  1.667973  0.064191 -1.225171  0.506102 -0.338939  1.672543  3.475464   \n",
      "2  1.0  0.444840 -0.134298 -0.709972  0.451719 -1.613871 -0.768661  1.219918   \n",
      "3  1.0  0.381256 -0.976145  0.693152  0.448959  0.891753 -0.677328  2.033060   \n",
      "4  1.0  1.309996 -0.690089 -0.676259  1.589283 -0.693326  0.622907  1.087562   \n",
      "\n",
      "         8         9         10        11        12        13        14  \\\n",
      "0 -0.175000  0.810061 -0.252552  1.921887  0.889637  0.410772  1.145621   \n",
      "1 -1.219136  0.012955  3.775174  1.045977  0.568051  0.481928  0.000000   \n",
      "2  0.504026  1.831248 -0.431385  0.526283  0.941514  1.587535  2.024308   \n",
      "3  1.533041  3.046260 -1.005285  0.569386  1.015211  1.582217  1.551914   \n",
      "4 -0.381742  0.589204  1.365479  1.179295  0.968218  0.728563  0.000000   \n",
      "\n",
      "         15        16        17        18  \n",
      "0  1.932632  0.994464  1.367815  0.040714  \n",
      "1  0.448410  0.205356  1.321893  0.377584  \n",
      "2  0.603498  1.562374  1.135454  0.180910  \n",
      "3  0.761215  1.715464  1.492257  0.090719  \n",
      "4  1.083158  0.043429  1.154854  0.094859  \n",
      "                 0             1             2             3             4   \\\n",
      "count  5.000000e+06  5.000000e+06  5.000000e+06  5.000000e+06  5.000000e+06   \n",
      "mean   4.575654e-01  1.000318e+00  2.192580e-05 -4.994657e-05  9.994304e-01   \n",
      "std    4.981961e-01  6.873341e-01  1.003107e+00  1.001670e+00  6.542200e-01   \n",
      "min    0.000000e+00  2.548815e-01 -2.102927e+00 -1.734789e+00  4.285860e-01   \n",
      "25%    0.000000e+00  5.645088e-01 -7.498343e-01 -8.553654e-01  5.997536e-01   \n",
      "50%    0.000000e+00  7.967809e-01  1.019062e-02  7.215456e-03  8.066353e-01   \n",
      "75%    1.000000e+00  1.210398e+00  7.639620e-01  8.797520e-01  1.173608e+00   \n",
      "max    1.000000e+00  2.055345e+01  2.101605e+00  1.734839e+00  3.303562e+01   \n",
      "\n",
      "                 5             6             7             8             9   \\\n",
      "count  5.000000e+06  5.000000e+06  5.000000e+06  5.000000e+06  5.000000e+06   \n",
      "mean  -3.713140e-05 -1.972243e-05  9.999744e-01  3.542352e-05  1.001437e+00   \n",
      "std    1.002839e+00  1.001631e+00  8.728877e-01  1.001654e+00  8.901668e-01   \n",
      "min   -2.059306e+00 -1.734202e+00  2.598711e-04 -1.727117e+00  7.693475e-08   \n",
      "25%   -7.597778e-01 -8.605206e-01  4.811369e-01 -8.579164e-01  3.727698e-01   \n",
      "50%    1.267848e-02  9.025665e-03  7.776579e-01  5.314612e-03  8.056843e-01   \n",
      "75%    7.809311e-01  8.762644e-01  1.216612e+00  8.788207e-01  1.381692e+00   \n",
      "max    2.059721e+00  1.734686e+00  2.106888e+01  1.740689e+00  2.338644e+01   \n",
      "\n",
      "                 10            11            12            13            14  \\\n",
      "count  5.000000e+06  5.000000e+06  5.000000e+06  5.000000e+06  5.000000e+06   \n",
      "mean  -4.878472e-05  1.000360e+00  9.999559e-01  9.999164e-01  1.000422e+00   \n",
      "std    1.001594e+00  6.288446e-01  5.841139e-01  4.708406e-01  8.592491e-01   \n",
      "min   -1.671863e+01  2.673070e-01  1.041228e-03  2.048078e-03  0.000000e+00   \n",
      "25%   -4.860176e-01  5.899485e-01  6.243452e-01  6.541929e-01  1.762082e-01   \n",
      "50%   -7.648131e-02  8.331401e-01  8.810161e-01  9.378149e-01  9.085907e-01   \n",
      "75%    3.542883e-01  1.217882e+00  1.226523e+00  1.287781e+00  1.620498e+00   \n",
      "max    2.048790e+01  2.107572e+01  1.616682e+01  6.731210e+00  2.068624e+01   \n",
      "\n",
      "                 15            16            17            18  \n",
      "count  5.000000e+06  5.000000e+06  5.000000e+06  5.000000e+06  \n",
      "mean   1.000112e+00  1.000192e+00  9.994852e-01  2.249139e-01  \n",
      "std    6.207165e-01  6.237672e-01  4.360948e-01  1.969804e-01  \n",
      "min    2.734135e-02  4.452858e-03  3.211849e-07  4.172130e-08  \n",
      "25%    6.005731e-01  5.171539e-01  6.918772e-01  7.016135e-02  \n",
      "50%    8.403197e-01  9.185967e-01  1.097269e+00  1.686910e-01  \n",
      "75%    1.215782e+00  1.390189e+00  1.371711e+00  3.330465e-01  \n",
      "max    2.115226e+01  1.561370e+01  1.591660e+00  1.000000e+00  \n"
     ]
    }
   ],
   "source": [
    "print(df.columns)\n",
    "print(df.head())\n",
    "stats = df.describe()\n",
    "print(stats.compute())"
   ]
  },
  {
   "cell_type": "markdown",
   "metadata": {},
   "source": [
    "## Create test and train data for Gradient Boosted Trees"
   ]
  },
  {
   "cell_type": "code",
   "execution_count": 7,
   "metadata": {},
   "outputs": [],
   "source": [
    "df_train,df_test = df.random_split([0.95,0.05])"
   ]
  },
  {
   "cell_type": "markdown",
   "metadata": {},
   "source": [
    "## Run Compute() on the dataframes "
   ]
  },
  {
   "cell_type": "code",
   "execution_count": 8,
   "metadata": {},
   "outputs": [],
   "source": [
    "df_train.compute()\n",
    "df_test.compute()\n",
    "y_true = df_test[0].compute().values"
   ]
  },
  {
   "cell_type": "markdown",
   "metadata": {},
   "source": [
    "## Write Train and Test Data to files"
   ]
  },
  {
   "cell_type": "code",
   "execution_count": 4,
   "metadata": {},
   "outputs": [],
   "source": [
    "def mkdir_p(path):\n",
    "    try:\n",
    "        os.makedirs(path)\n",
    "    except OSError as exc:\n",
    "        if exc.errno == errno.EEXIST and os.path.isdir(path):\n",
    "            pass\n",
    "        else:\n",
    "            raise"
   ]
  },
  {
   "cell_type": "code",
   "execution_count": 11,
   "metadata": {},
   "outputs": [],
   "source": [
    "test_file_dir = \"/shared/data/test_data/\"\n",
    "#mkdir_p(test_file_dir)\n",
    "test_filenames = df_test.to_csv(test_file_dir,header=None,index=False)"
   ]
  },
  {
   "cell_type": "code",
   "execution_count": 12,
   "metadata": {},
   "outputs": [],
   "source": [
    "with open('/shared/data/test.csv','w') as fp:\n",
    "    for fn in test_filenames:\n",
    "        with open(fn) as f:\n",
    "            fp.write(f.read())"
   ]
  },
  {
   "cell_type": "code",
   "execution_count": 13,
   "metadata": {},
   "outputs": [],
   "source": [
    "train_filenames = df_train.to_csv('/shared/data/train_data/',header=None,index=False)"
   ]
  },
  {
   "cell_type": "code",
   "execution_count": 15,
   "metadata": {},
   "outputs": [],
   "source": [
    "with open('/shared/data/train.csv','w') as fp:\n",
    "    for fn in train_filenames:\n",
    "        with open(fn) as f:\n",
    "            fp.write(f.read())"
   ]
  },
  {
   "cell_type": "markdown",
   "metadata": {},
   "source": [
    "## Train using RocketML Gradient Boosting Classifier"
   ]
  },
  {
   "cell_type": "code",
   "execution_count": 26,
   "metadata": {},
   "outputs": [
    {
     "name": "stdout",
     "output_type": "stream",
     "text": [
      "------------------\n",
      "Cluster Resources\n",
      "------------------\n",
      "Nodes        = 4\n",
      "Sockets/node = 1\n",
      "Cores/socket = 8\n",
      "--------------------------\n",
      "Total Cores    = 32\n",
      "Total Memory(GB)   = 121.68\n",
      "--------------------------\n",
      "Time to build a model = 7.25\n"
     ]
    }
   ],
   "source": [
    "start = time()\n",
    "data_file = CSV(filename='/shared/data/train.csv')\n",
    "gbdt_classifier = GradientBoostingClassifier(n_estimators=20,learning_rate=0.01,num_leaves=255,min_child_samples=0,min_sum_hessian_in_leaf=100)\n",
    "gbdt_classifier.fit(data_file)\n",
    "print(\"Time to build a model = %0.2f\"%(time()-start))"
   ]
  },
  {
   "cell_type": "markdown",
   "metadata": {},
   "source": [
    "## Predict and compute accuracy scores"
   ]
  },
  {
   "cell_type": "code",
   "execution_count": 27,
   "metadata": {},
   "outputs": [
    {
     "name": "stdout",
     "output_type": "stream",
     "text": [
      "------------------\n",
      "Cluster Resources\n",
      "------------------\n",
      "Nodes        = 4\n",
      "Sockets/node = 1\n",
      "Cores/socket = 8\n",
      "--------------------------\n",
      "Total Cores    = 32\n",
      "Total Memory(GB)   = 121.68\n",
      "--------------------------\n"
     ]
    }
   ],
   "source": [
    "test_file_name = '/shared/data/test.csv'\n",
    "test_file = CSV(filename=test_file_name)\n",
    "y_predict = gbdt_classifier.predict(test_file)"
   ]
  },
  {
   "cell_type": "code",
   "execution_count": 28,
   "metadata": {},
   "outputs": [
    {
     "name": "stdout",
     "output_type": "stream",
     "text": [
      "F1 score = 0.760618\n",
      "ROC Score = 0.789323\n"
     ]
    }
   ],
   "source": [
    "f1 = f1_score(y_true,y_predict)\n",
    "roc_score = roc_auc_score(y_true,y_predict)\n",
    "print(\"F1 score = %f\"%f1)\n",
    "print(\"ROC Score = %f\"%roc_score)"
   ]
  },
  {
   "cell_type": "code",
   "execution_count": null,
   "metadata": {},
   "outputs": [],
   "source": []
  }
 ],
 "metadata": {
  "kernelspec": {
   "display_name": "Python 2",
   "language": "python",
   "name": "python2"
  },
  "language_info": {
   "codemirror_mode": {
    "name": "ipython",
    "version": 2
   },
   "file_extension": ".py",
   "mimetype": "text/x-python",
   "name": "python",
   "nbconvert_exporter": "python",
   "pygments_lexer": "ipython2",
   "version": "2.7.12"
  }
 },
 "nbformat": 4,
 "nbformat_minor": 2
}
