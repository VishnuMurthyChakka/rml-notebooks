{
 "cells": [
  {
   "cell_type": "markdown",
   "metadata": {},
   "source": [
    "# RocketML Tutorial on distributed object detection on videos\n",
    "\n",
    "## Import Libraries"
   ]
  },
  {
   "cell_type": "code",
   "execution_count": 10,
   "metadata": {},
   "outputs": [],
   "source": [
    "from rocketml.io import VideoSet, MongoWriter, Video\n",
    "from rocketml.feature_extraction import ObjectDetection\n",
    "from rocketml.pipeline import Pipeline\n",
    "import sys\n",
    "import os\n",
    "import pymongo\n",
    "from pprint import pprint\n",
    "import subprocess\n",
    "from time import time"
   ]
  },
  {
   "cell_type": "code",
   "execution_count": 2,
   "metadata": {},
   "outputs": [],
   "source": [
    "#Simple Generator-->To clear rerun\n",
    "def simple_gen():\n",
    "    for x in range(100):\n",
    "        yield x\n",
    "        \n",
    "x=simple_gen()\n"
   ]
  },
  {
   "cell_type": "code",
   "execution_count": 8,
   "metadata": {},
   "outputs": [
    {
     "data": {
      "text/plain": [
       "5"
      ]
     },
     "execution_count": 8,
     "metadata": {},
     "output_type": "execute_result"
    }
   ],
   "source": [
    "num=next(x)#<--generate the next sequence number\n",
    "num"
   ]
  },
  {
   "cell_type": "markdown",
   "metadata": {},
   "source": [
    "## Defaults\n"
   ]
  },
  {
   "cell_type": "code",
   "execution_count": 12,
   "metadata": {
    "scrolled": false
   },
   "outputs": [
    {
     "name": "stdout",
     "output_type": "stream",
     "text": [
      "Video file #/home/ubuntu/rocketml-dev/data/home-videos/santi_lr_1.MOV is dropped\n",
      "Video file #/home/ubuntu/rocketml-dev/data/home-videos/santi_lr_2.MOV is dropped\n",
      "Video file #/home/ubuntu/rocketml-dev/data/home-videos/santi_lr_3.MOV is dropped\n",
      "Video file #/home/ubuntu/rocketml-dev/data/home-videos/santi_lr_5.MOV is dropped\n",
      "Video file #/home/ubuntu/s3_mount/SampleVideo_1280x720_10mb.mkv is dropped\n",
      "Video file #/home/ubuntu/s3_mount/SampleVideo_1280x720_10mb.flv is dropped\n",
      "Video file #/home/ubuntu/s3_mount/Top Gear - [05x05] - 2004.11.21 [VFUA].avi #large scale experiment is dropped\n",
      "<rocketml.feature_extraction.object_detection.ObjectDetection object at 0x7f33912a4650>\n",
      "video\n",
      "------------------\n",
      "Cluster Resources\n",
      "------------------\n",
      "Nodes        = 1\n",
      "Sockets/node = 1\n",
      "Cores/socket = 1\n",
      "--------------------------\n",
      "Total Cores    = 1\n",
      "Total Memory(GB)   = 3.86\n",
      "--------------------------\n",
      "Time for object detection = 86.48\n"
     ]
    }
   ],
   "source": [
    "start = time()\n",
    "filename = \"/home/ubuntu/rml-notebooks/home_video_list_4.txt\"\n",
    "# Image Set\n",
    "vm = VideoSet(filename,resize_width=64,resize_height=64,frame_rate=10)\n",
    "\n",
    "# Get uri\n",
    "hname = subprocess.check_output([\"hostname\"])\n",
    "mongo_uri = \"mongodb://\"+hname.strip()+\":27017\"\n",
    "\n",
    "# MongoWriter\n",
    "mw = MongoWriter(uri=mongo_uri,db=\"rml_collection_video_tf_demo\",collection=\"default_run_\"+str(num))\n",
    "\n",
    "# Object Detection\n",
    "od = ObjectDetection(model_type=\"ssd_inception_v2_coco_2017_11_17\",model_framework=\"tensorflow\")\n",
    "#od = ObjectDetection(model_type=\"yolo_v2\",model_framework=\"darknet\",object_detection_models_config=test_location)\n",
    "\n",
    "\n",
    "\n",
    "# Pipeline\n",
    "pipeline = Pipeline([od,mw])\n",
    "pipeline.fit(vm,cores=\"all\",verbose=True)\n",
    "\n",
    "\n",
    "\n",
    "print(\"Time for object detection = %0.2f\"%(time()-start))"
   ]
  },
  {
   "cell_type": "markdown",
   "metadata": {},
   "source": [
    "## Draw objects on a single video"
   ]
  },
  {
   "cell_type": "code",
   "execution_count": 13,
   "metadata": {},
   "outputs": [
    {
     "name": "stdout",
     "output_type": "stream",
     "text": [
      "[u'run_2', u'system.indexes', u'test_run', u'run2', u'test_run_0', u'test_run_1', u'test_run_2', u'test_run_5', u'default_run_4', u'default_run_5']\n"
     ]
    }
   ],
   "source": [
    "vid = Video(filename=\"/home/ubuntu/s3_mount/SampleVideo_1280x720_10mb.mp4\")\n",
    "vid.draw_objects(mw,\"/home/ubuntu/s3_mount/default_video_\"+str(num)+\".mp4\")"
   ]
  },
  {
   "cell_type": "markdown",
   "metadata": {},
   "source": [
    "**Inspect JSON**\n",
    "--------"
   ]
  },
  {
   "cell_type": "code",
   "execution_count": 14,
   "metadata": {},
   "outputs": [],
   "source": [
    "import json\n",
    "with open('/home/ubuntu/test_folder/object_detection/object_detection_models_config.json', 'r') as fp:\n",
    "    data=json.load(fp)"
   ]
  },
  {
   "cell_type": "code",
   "execution_count": 15,
   "metadata": {},
   "outputs": [
    {
     "data": {
      "text/plain": [
       "{u'tensorflow': {u'channel_scale_1': 127.5,\n",
       "  u'channel_scale_2': 127.5,\n",
       "  u'channel_scale_3': 127.5,\n",
       "  u'class_names': u'/etc/rocketml.d/object_detection/ssd_inception_v2_coco_2017_11_17_class_names.json',\n",
       "  u'model_binary': u'/etc/rocketml.d/object_detection/ssd_inception_v2_coco_2017_11_17_frozen_inference_graph.pb',\n",
       "  u'model_config': u'/etc/rocketml.d/object_detection/ssd_inception_v2_coco_2017_11_17.pbtxt',\n",
       "  u'scale_factor': 0.00784313725490196,\n",
       "  u'size_x': 300.0,\n",
       "  u'size_y': 300.0}}"
      ]
     },
     "execution_count": 15,
     "metadata": {},
     "output_type": "execute_result"
    }
   ],
   "source": [
    "data['ssd_inception_v2_coco_2017_11_17']"
   ]
  },
  {
   "cell_type": "markdown",
   "metadata": {},
   "source": [
    "Modify\n",
    "====="
   ]
  },
  {
   "cell_type": "markdown",
   "metadata": {},
   "source": [
    "**class name**"
   ]
  },
  {
   "cell_type": "code",
   "execution_count": 16,
   "metadata": {},
   "outputs": [],
   "source": [
    "data['ssd_inception_v2_coco_2017_11_17']['tensorflow']['class_names']=u'/home/ubuntu/test_folder/object_detection/ssd_mobilenet_v1_coco_2018_01_2018/ssd_inception_v2_coco_2017_11_17_class_names.json'"
   ]
  },
  {
   "cell_type": "markdown",
   "metadata": {},
   "source": [
    "**model binary**"
   ]
  },
  {
   "cell_type": "code",
   "execution_count": 17,
   "metadata": {},
   "outputs": [],
   "source": [
    "data['ssd_inception_v2_coco_2017_11_17']['tensorflow']['model_binary']=u'/home/ubuntu/test_folder/object_detection/ssd_mobilenet_v1_coco_2018_01_2018/frozen_inference_graph.pb'"
   ]
  },
  {
   "cell_type": "markdown",
   "metadata": {},
   "source": [
    "**model config**"
   ]
  },
  {
   "cell_type": "code",
   "execution_count": 18,
   "metadata": {},
   "outputs": [],
   "source": [
    "data['ssd_inception_v2_coco_2017_11_17']['tensorflow']['model_config']=u'/home/ubuntu/test_folder/object_detection/ssd_mobilenet_v1_coco_2018_01_2018/pipeline.config.xml'"
   ]
  },
  {
   "cell_type": "markdown",
   "metadata": {},
   "source": [
    "**Export JSON**"
   ]
  },
  {
   "cell_type": "code",
   "execution_count": 19,
   "metadata": {},
   "outputs": [],
   "source": [
    "import json\n",
    "with open('/home/ubuntu/test_folder/object_detection/object_detection_models_config_test.json', 'w') as fp:\n",
    "    json.dump(data,fp)"
   ]
  },
  {
   "cell_type": "code",
   "execution_count": 20,
   "metadata": {},
   "outputs": [],
   "source": [
    "import pandas as pd\n",
    "#from pprint import pprint\n",
    "pd.set_option('display.max_colwidth',-1)\n",
    "from pandas.io.json import json_normalize\n",
    "dataset=pd.DataFrame.from_dict(json_normalize(data), orient='columns')\n",
    "columns=['coco_channel_scale_1','coco_channel_scale_2','coco_channel_scale_3','coco_class_names','coco_model_binary','coco_model_config','coco_scale_factor','coco_size_x','coco_size_y','yolo_channel_scale_1','yolo_channel_scale_2','yolo_channel_scale_3','yolo_class_names','yolo_model_binary','yolo_model_config','yolo_scale_factor','yolo_size_x','yolo_size_y']\n",
    "dataset.columns=columns\n",
    "dataset=dataset.transpose()\n",
    "dataset.rename(index=str,columns={0:'Values'},inplace=True)"
   ]
  },
  {
   "cell_type": "code",
   "execution_count": 21,
   "metadata": {},
   "outputs": [
    {
     "data": {
      "text/html": [
       "<div>\n",
       "<style scoped>\n",
       "    .dataframe tbody tr th:only-of-type {\n",
       "        vertical-align: middle;\n",
       "    }\n",
       "\n",
       "    .dataframe tbody tr th {\n",
       "        vertical-align: top;\n",
       "    }\n",
       "\n",
       "    .dataframe thead th {\n",
       "        text-align: right;\n",
       "    }\n",
       "</style>\n",
       "<table border=\"1\" class=\"dataframe\">\n",
       "  <thead>\n",
       "    <tr style=\"text-align: right;\">\n",
       "      <th></th>\n",
       "      <th>Values</th>\n",
       "    </tr>\n",
       "  </thead>\n",
       "  <tbody>\n",
       "    <tr>\n",
       "      <th>coco_channel_scale_1</th>\n",
       "      <td>127.5</td>\n",
       "    </tr>\n",
       "    <tr>\n",
       "      <th>coco_channel_scale_2</th>\n",
       "      <td>127.5</td>\n",
       "    </tr>\n",
       "    <tr>\n",
       "      <th>coco_channel_scale_3</th>\n",
       "      <td>127.5</td>\n",
       "    </tr>\n",
       "    <tr>\n",
       "      <th>coco_class_names</th>\n",
       "      <td>/home/ubuntu/test_folder/object_detection/ssd_mobilenet_v1_coco_2018_01_2018/ssd_inception_v2_coco_2017_11_17_class_names.json</td>\n",
       "    </tr>\n",
       "    <tr>\n",
       "      <th>coco_model_binary</th>\n",
       "      <td>/home/ubuntu/test_folder/object_detection/ssd_mobilenet_v1_coco_2018_01_2018/frozen_inference_graph.pb</td>\n",
       "    </tr>\n",
       "    <tr>\n",
       "      <th>coco_model_config</th>\n",
       "      <td>/home/ubuntu/test_folder/object_detection/ssd_mobilenet_v1_coco_2018_01_2018/pipeline.config.xml</td>\n",
       "    </tr>\n",
       "    <tr>\n",
       "      <th>coco_scale_factor</th>\n",
       "      <td>0.00784314</td>\n",
       "    </tr>\n",
       "    <tr>\n",
       "      <th>coco_size_x</th>\n",
       "      <td>300</td>\n",
       "    </tr>\n",
       "    <tr>\n",
       "      <th>coco_size_y</th>\n",
       "      <td>300</td>\n",
       "    </tr>\n",
       "    <tr>\n",
       "      <th>yolo_channel_scale_1</th>\n",
       "      <td>0</td>\n",
       "    </tr>\n",
       "    <tr>\n",
       "      <th>yolo_channel_scale_2</th>\n",
       "      <td>0</td>\n",
       "    </tr>\n",
       "    <tr>\n",
       "      <th>yolo_channel_scale_3</th>\n",
       "      <td>0</td>\n",
       "    </tr>\n",
       "    <tr>\n",
       "      <th>yolo_class_names</th>\n",
       "      <td>/etc/rocketml.d/object_detection/yolo_class_names.json</td>\n",
       "    </tr>\n",
       "    <tr>\n",
       "      <th>yolo_model_binary</th>\n",
       "      <td>/etc/rocketml.d/object_detection/yolo.weights</td>\n",
       "    </tr>\n",
       "    <tr>\n",
       "      <th>yolo_model_config</th>\n",
       "      <td>/etc/rocketml.d/object_detection/yolo.cfg</td>\n",
       "    </tr>\n",
       "    <tr>\n",
       "      <th>yolo_scale_factor</th>\n",
       "      <td>0.00392157</td>\n",
       "    </tr>\n",
       "    <tr>\n",
       "      <th>yolo_size_x</th>\n",
       "      <td>416</td>\n",
       "    </tr>\n",
       "    <tr>\n",
       "      <th>yolo_size_y</th>\n",
       "      <td>416</td>\n",
       "    </tr>\n",
       "  </tbody>\n",
       "</table>\n",
       "</div>"
      ],
      "text/plain": [
       "                                                                                                                                              Values\n",
       "coco_channel_scale_1  127.5                                                                                                                         \n",
       "coco_channel_scale_2  127.5                                                                                                                         \n",
       "coco_channel_scale_3  127.5                                                                                                                         \n",
       "coco_class_names      /home/ubuntu/test_folder/object_detection/ssd_mobilenet_v1_coco_2018_01_2018/ssd_inception_v2_coco_2017_11_17_class_names.json\n",
       "coco_model_binary     /home/ubuntu/test_folder/object_detection/ssd_mobilenet_v1_coco_2018_01_2018/frozen_inference_graph.pb                        \n",
       "coco_model_config     /home/ubuntu/test_folder/object_detection/ssd_mobilenet_v1_coco_2018_01_2018/pipeline.config.xml                              \n",
       "coco_scale_factor     0.00784314                                                                                                                    \n",
       "coco_size_x           300                                                                                                                           \n",
       "coco_size_y           300                                                                                                                           \n",
       "yolo_channel_scale_1  0                                                                                                                             \n",
       "yolo_channel_scale_2  0                                                                                                                             \n",
       "yolo_channel_scale_3  0                                                                                                                             \n",
       "yolo_class_names      /etc/rocketml.d/object_detection/yolo_class_names.json                                                                        \n",
       "yolo_model_binary     /etc/rocketml.d/object_detection/yolo.weights                                                                                 \n",
       "yolo_model_config     /etc/rocketml.d/object_detection/yolo.cfg                                                                                     \n",
       "yolo_scale_factor     0.00392157                                                                                                                    \n",
       "yolo_size_x           416                                                                                                                           \n",
       "yolo_size_y           416                                                                                                                           "
      ]
     },
     "execution_count": 21,
     "metadata": {},
     "output_type": "execute_result"
    }
   ],
   "source": [
    "dataset"
   ]
  },
  {
   "cell_type": "code",
   "execution_count": 27,
   "metadata": {},
   "outputs": [
    {
     "name": "stdout",
     "output_type": "stream",
     "text": [
      "Values    /home/ubuntu/test_folder/object_detection/ssd_mobilenet_v1_coco_2018_01_2018/ssd_inception_v2_coco_2017_11_17_class_names.json\n",
      "Name: coco_class_names, dtype: object\n"
     ]
    }
   ],
   "source": [
    "pprint(dataset.iloc[3])"
   ]
  },
  {
   "cell_type": "code",
   "execution_count": 28,
   "metadata": {},
   "outputs": [
    {
     "name": "stdout",
     "output_type": "stream",
     "text": [
      "Values    /home/ubuntu/test_folder/object_detection/ssd_mobilenet_v1_coco_2018_01_2018/frozen_inference_graph.pb\n",
      "Name: coco_model_binary, dtype: object\n"
     ]
    }
   ],
   "source": [
    "pprint(dataset.iloc[4])"
   ]
  },
  {
   "cell_type": "code",
   "execution_count": 29,
   "metadata": {},
   "outputs": [
    {
     "name": "stdout",
     "output_type": "stream",
     "text": [
      "Values    /home/ubuntu/test_folder/object_detection/ssd_mobilenet_v1_coco_2018_01_2018/pipeline.config.xml\n",
      "Name: coco_model_config, dtype: object\n"
     ]
    }
   ],
   "source": [
    "pprint(dataset.iloc[5])"
   ]
  },
  {
   "cell_type": "markdown",
   "metadata": {},
   "source": [
    "## Run Modified"
   ]
  },
  {
   "cell_type": "code",
   "execution_count": 22,
   "metadata": {},
   "outputs": [
    {
     "name": "stdout",
     "output_type": "stream",
     "text": [
      "Video file #/home/ubuntu/rocketml-dev/data/home-videos/santi_lr_1.MOV is dropped\n",
      "Video file #/home/ubuntu/rocketml-dev/data/home-videos/santi_lr_2.MOV is dropped\n",
      "Video file #/home/ubuntu/rocketml-dev/data/home-videos/santi_lr_3.MOV is dropped\n",
      "Video file #/home/ubuntu/rocketml-dev/data/home-videos/santi_lr_5.MOV is dropped\n",
      "Video file #/home/ubuntu/s3_mount/SampleVideo_1280x720_10mb.mkv is dropped\n",
      "Video file #/home/ubuntu/s3_mount/SampleVideo_1280x720_10mb.flv is dropped\n",
      "Video file #/home/ubuntu/s3_mount/Top Gear - [05x05] - 2004.11.21 [VFUA].avi #large scale experiment is dropped\n",
      "<rocketml.feature_extraction.object_detection.ObjectDetection object at 0x7f3340532490>\n",
      "video\n",
      "------------------\n",
      "Cluster Resources\n",
      "------------------\n",
      "Nodes        = 1\n",
      "Sockets/node = 1\n",
      "Cores/socket = 1\n",
      "--------------------------\n",
      "Total Cores    = 1\n",
      "Total Memory(GB)   = 3.86\n",
      "--------------------------\n",
      "('Test Run:', 5)\n",
      "Time for object detection = 86.43\n"
     ]
    }
   ],
   "source": [
    "test_location='/home/ubuntu/test_folder/object_detection/object_detection_models_config_test.json'\n",
    "start = time()\n",
    "filename = \"/home/ubuntu/rml-notebooks/home_video_list_4.txt\"\n",
    "# Image Set\n",
    "vm = VideoSet(filename,resize_width=64,resize_height=64,frame_rate=10)\n",
    "\n",
    "# Get uri\n",
    "hname = subprocess.check_output([\"hostname\"])\n",
    "mongo_uri = \"mongodb://\"+hname.strip()+\":27017\"\n",
    "\n",
    "# MongoWriter\n",
    "mw = MongoWriter(uri=mongo_uri,db=\"rml_collection_video_tf_demo\",collection=\"test_run_\"+str(num))\n",
    "\n",
    "# Object Detection\n",
    "od = ObjectDetection(model_type=\"ssd_inception_v2_coco_2017_11_17\",model_framework=\"tensorflow\")\n",
    "#od = ObjectDetection(model_type=\"yolo_v2\",model_framework=\"darknet\",object_detection_models_config=test_location)\n",
    "\n",
    "\n",
    "\n",
    "# Pipeline\n",
    "pipeline = Pipeline([od,mw])\n",
    "pipeline.fit(vm,cores=\"all\",verbose=True)\n",
    "\n",
    "\n",
    "print('Test Run:',num)\n",
    "print(\"Time for object detection = %0.2f\"%(time()-start))"
   ]
  },
  {
   "cell_type": "markdown",
   "metadata": {},
   "source": [
    "## Draw objects on a single video"
   ]
  },
  {
   "cell_type": "code",
   "execution_count": 23,
   "metadata": {},
   "outputs": [
    {
     "name": "stdout",
     "output_type": "stream",
     "text": [
      "[u'run_2', u'system.indexes', u'test_run', u'run2', u'test_run_0', u'test_run_1', u'test_run_2', u'test_run_5', u'default_run_4', u'default_run_5']\n"
     ]
    }
   ],
   "source": [
    "vid = Video(filename=\"/home/ubuntu/s3_mount/SampleVideo_1280x720_10mb.mp4\")\n",
    "vid.draw_objects(mw,\"/home/ubuntu/s3_mount/test_video_\"+str(num)+\".mp4\")"
   ]
  },
  {
   "cell_type": "code",
   "execution_count": 55,
   "metadata": {},
   "outputs": [],
   "source": [
    "import pymongo\n",
    "from pymongo import MongoClient\n",
    "\n",
    "client = MongoClient()\n",
    "client = MongoClient(mongo_uri)\n",
    "db = client.rml_collection_video_tf_demo\n",
    "collection = db[\"test_run_\"+str(num)]"
   ]
  },
  {
   "cell_type": "code",
   "execution_count": 103,
   "metadata": {},
   "outputs": [
    {
     "name": "stdout",
     "output_type": "stream",
     "text": [
      "The number of indexed items: 312\n"
     ]
    }
   ],
   "source": [
    "myList=[]\n",
    "for i in collection.find():\n",
    "    myList.append(i) \n",
    "print 'The number of indexed items:',len(myList)"
   ]
  },
  {
   "cell_type": "code",
   "execution_count": 104,
   "metadata": {},
   "outputs": [],
   "source": [
    "RequestItem=1"
   ]
  },
  {
   "cell_type": "markdown",
   "metadata": {},
   "source": [
    "Objects MetaData\n",
    "----"
   ]
  },
  {
   "cell_type": "code",
   "execution_count": 105,
   "metadata": {},
   "outputs": [
    {
     "data": {
      "text/html": [
       "<div>\n",
       "<style scoped>\n",
       "    .dataframe tbody tr th:only-of-type {\n",
       "        vertical-align: middle;\n",
       "    }\n",
       "\n",
       "    .dataframe tbody tr th {\n",
       "        vertical-align: top;\n",
       "    }\n",
       "\n",
       "    .dataframe thead th {\n",
       "        text-align: right;\n",
       "    }\n",
       "</style>\n",
       "<table border=\"1\" class=\"dataframe\">\n",
       "  <thead>\n",
       "    <tr style=\"text-align: right;\">\n",
       "      <th>_id</th>\n",
       "      <th>meta_data</th>\n",
       "      <th>5b58ed4458e9ba355e239283</th>\n",
       "    </tr>\n",
       "  </thead>\n",
       "  <tbody>\n",
       "    <tr>\n",
       "      <th>0</th>\n",
       "      <td>file_name</td>\n",
       "      <td>/home/ubuntu/s3_mount/SampleVideo_1280x720_10mb.mp4</td>\n",
       "    </tr>\n",
       "    <tr>\n",
       "      <th>1</th>\n",
       "      <td>fps</td>\n",
       "      <td>25</td>\n",
       "    </tr>\n",
       "    <tr>\n",
       "      <th>2</th>\n",
       "      <td>frame_id</td>\n",
       "      <td>10</td>\n",
       "    </tr>\n",
       "    <tr>\n",
       "      <th>3</th>\n",
       "      <td>height</td>\n",
       "      <td>720</td>\n",
       "    </tr>\n",
       "    <tr>\n",
       "      <th>4</th>\n",
       "      <td>row_id</td>\n",
       "      <td>1</td>\n",
       "    </tr>\n",
       "    <tr>\n",
       "      <th>5</th>\n",
       "      <td>width</td>\n",
       "      <td>1280</td>\n",
       "    </tr>\n",
       "  </tbody>\n",
       "</table>\n",
       "</div>"
      ],
      "text/plain": [
       "_id  meta_data                             5b58ed4458e9ba355e239283\n",
       "0    file_name  /home/ubuntu/s3_mount/SampleVideo_1280x720_10mb.mp4\n",
       "1    fps        25                                                 \n",
       "2    frame_id   10                                                 \n",
       "3    height     720                                                \n",
       "4    row_id     1                                                  \n",
       "5    width      1280                                               "
      ]
     },
     "execution_count": 105,
     "metadata": {},
     "output_type": "execute_result"
    }
   ],
   "source": [
    "import pandas as pd\n",
    "#from pprint import pprint\n",
    "pd.set_option('display.max_colwidth',-1)\n",
    "from pandas.io.json import json_normalize\n",
    "dataset=pd.DataFrame.from_dict(json_normalize(myList[RequestItem]), orient='columns')\n",
    "heading=dataset['_id']\n",
    "dataset.drop(columns=['objects','_id'],inplace=True)\n",
    "dataset=dataset.transpose()\n",
    "dataset.columns=heading\n",
    "dataset.reset_index(inplace=True)\n",
    "dataset['index']=dataset['index'].str.replace('frame_meta_data.','')\n",
    "dataset.rename(columns={'index':'meta_data'},inplace=True)\n",
    "dataset"
   ]
  },
  {
   "cell_type": "markdown",
   "metadata": {},
   "source": [
    "Items found\n",
    "------"
   ]
  },
  {
   "cell_type": "code",
   "execution_count": 106,
   "metadata": {},
   "outputs": [
    {
     "data": {
      "text/html": [
       "<div>\n",
       "<style scoped>\n",
       "    .dataframe tbody tr th:only-of-type {\n",
       "        vertical-align: middle;\n",
       "    }\n",
       "\n",
       "    .dataframe tbody tr th {\n",
       "        vertical-align: top;\n",
       "    }\n",
       "\n",
       "    .dataframe thead th {\n",
       "        text-align: right;\n",
       "    }\n",
       "</style>\n",
       "<table border=\"1\" class=\"dataframe\">\n",
       "  <thead>\n",
       "    <tr style=\"text-align: right;\">\n",
       "      <th></th>\n",
       "      <th>found_items</th>\n",
       "      <th>cow</th>\n",
       "    </tr>\n",
       "  </thead>\n",
       "  <tbody>\n",
       "    <tr>\n",
       "      <th>0</th>\n",
       "      <td>confidence</td>\n",
       "      <td>0.369920</td>\n",
       "    </tr>\n",
       "    <tr>\n",
       "      <th>1</th>\n",
       "      <td>height</td>\n",
       "      <td>510.227478</td>\n",
       "    </tr>\n",
       "    <tr>\n",
       "      <th>2</th>\n",
       "      <td>id</td>\n",
       "      <td>21.000000</td>\n",
       "    </tr>\n",
       "    <tr>\n",
       "      <th>3</th>\n",
       "      <td>width</td>\n",
       "      <td>542.751404</td>\n",
       "    </tr>\n",
       "    <tr>\n",
       "      <th>4</th>\n",
       "      <td>x_center</td>\n",
       "      <td>334.666901</td>\n",
       "    </tr>\n",
       "    <tr>\n",
       "      <th>5</th>\n",
       "      <td>y_center</td>\n",
       "      <td>307.685822</td>\n",
       "    </tr>\n",
       "  </tbody>\n",
       "</table>\n",
       "</div>"
      ],
      "text/plain": [
       "  found_items         cow\n",
       "0  confidence  0.369920  \n",
       "1  height      510.227478\n",
       "2  id          21.000000 \n",
       "3  width       542.751404\n",
       "4  x_center    334.666901\n",
       "5  y_center    307.685822"
      ]
     },
     "execution_count": 106,
     "metadata": {},
     "output_type": "execute_result"
    }
   ],
   "source": [
    "objects=pd.DataFrame.from_dict(json_normalize(myList[RequestItem]['objects']), orient='columns')\n",
    "names=list(objects['name'])\n",
    "objects.drop(columns=['name'],inplace=True)\n",
    "objects=objects.transpose()\n",
    "objects.columns=names\n",
    "objects.reset_index(inplace=True)\n",
    "objects.rename(columns={'index':'found_items'},inplace=True)\n",
    "objects"
   ]
  },
  {
   "cell_type": "code",
   "execution_count": null,
   "metadata": {},
   "outputs": [],
   "source": []
  },
  {
   "cell_type": "code",
   "execution_count": null,
   "metadata": {},
   "outputs": [],
   "source": []
  },
  {
   "cell_type": "code",
   "execution_count": null,
   "metadata": {},
   "outputs": [],
   "source": []
  },
  {
   "cell_type": "code",
   "execution_count": null,
   "metadata": {},
   "outputs": [],
   "source": []
  },
  {
   "cell_type": "code",
   "execution_count": 54,
   "metadata": {},
   "outputs": [
    {
     "name": "stdout",
     "output_type": "stream",
     "text": [
      "Help on ObjectDetection in module rocketml.feature_extraction.object_detection object:\n",
      "\n",
      "class ObjectDetection(rocketml.base.Node)\n",
      " |  Detects object using Pre-built Deep Learning Models\n",
      " |  \n",
      " |  Method resolution order:\n",
      " |      ObjectDetection\n",
      " |      rocketml.base.Node\n",
      " |      __builtin__.object\n",
      " |  \n",
      " |  Methods defined here:\n",
      " |  \n",
      " |  __init__(self, model_type='yolo_v2', model_framework='darknet', min_confidence=0.24, dump_json=False, dump_json_prefix='/tmp/jobs_folder/object_detection', object_detection_models_config='/etc/rocketml.d/object_detection/object_detection_models_config.json', **kwargs)\n",
      " |  \n",
      " |  ----------------------------------------------------------------------\n",
      " |  Methods inherited from rocketml.base.Node:\n",
      " |  \n",
      " |  get_app_info(self, data_type, _type='')\n",
      " |      Method to get a list of app names, app data types, and conig files matching this node\n",
      " |  \n",
      " |  to_dict(self)\n",
      " |      Return node as a dictionary\n",
      " |  \n",
      " |  ----------------------------------------------------------------------\n",
      " |  Data descriptors inherited from rocketml.base.Node:\n",
      " |  \n",
      " |  __dict__\n",
      " |      dictionary for instance variables (if defined)\n",
      " |  \n",
      " |  __weakref__\n",
      " |      list of weak references to the object (if defined)\n",
      "\n"
     ]
    }
   ],
   "source": [
    "help(od)"
   ]
  },
  {
   "cell_type": "code",
   "execution_count": null,
   "metadata": {},
   "outputs": [],
   "source": []
  }
 ],
 "metadata": {
  "kernelspec": {
   "display_name": "Python 2",
   "language": "python",
   "name": "python2"
  },
  "language_info": {
   "codemirror_mode": {
    "name": "ipython",
    "version": 2
   },
   "file_extension": ".py",
   "mimetype": "text/x-python",
   "name": "python",
   "nbconvert_exporter": "python",
   "pygments_lexer": "ipython2",
   "version": "2.7.12"
  }
 },
 "nbformat": 4,
 "nbformat_minor": 2
}
