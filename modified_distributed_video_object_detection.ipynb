{
 "cells": [
  {
   "cell_type": "markdown",
   "metadata": {},
   "source": [
    "# RocketML Tutorial on distributed object detection on videos\n",
    "\n",
    "## Import Libraries"
   ]
  },
  {
   "cell_type": "code",
   "execution_count": 6,
   "metadata": {},
   "outputs": [],
   "source": [
    "from rocketml.io import VideoSet, MongoWriter, Video\n",
    "from rocketml.feature_extraction import ObjectDetection\n",
    "from rocketml.pipeline import Pipeline\n",
    "import numpy as np\n",
    "import sys\n",
    "import os\n",
    "import pymongo\n",
    "from pprint import pprint\n",
    "import subprocess\n",
    "from time import time"
   ]
  },
  {
   "cell_type": "code",
   "execution_count": 23,
   "metadata": {},
   "outputs": [
    {
     "name": "stdout",
     "output_type": "stream",
     "text": [
      "1.8.0\n"
     ]
    }
   ],
   "source": [
    "import tensorflow as tf; print(tf.__version__)"
   ]
  },
  {
   "cell_type": "code",
   "execution_count": 7,
   "metadata": {},
   "outputs": [],
   "source": [
    "#Simple Generator-->To clear rerun\n",
    "def simple_gen():\n",
    "    for x in range(100):\n",
    "        yield x\n",
    "        \n",
    "x=simple_gen()"
   ]
  },
  {
   "cell_type": "code",
   "execution_count": 8,
   "metadata": {},
   "outputs": [
    {
     "data": {
      "text/plain": [
       "0"
      ]
     },
     "execution_count": 8,
     "metadata": {},
     "output_type": "execute_result"
    }
   ],
   "source": [
    "num=next(x)#<--generate the next sequence number\n",
    "num"
   ]
  },
  {
   "cell_type": "markdown",
   "metadata": {},
   "source": [
    "## Defaults\n"
   ]
  },
  {
   "cell_type": "code",
   "execution_count": 13,
   "metadata": {
    "scrolled": false
   },
   "outputs": [
    {
     "name": "stdout",
     "output_type": "stream",
     "text": [
      "<rocketml.feature_extraction.object_detection.ObjectDetection object at 0x7fe0077dc890>\n",
      "video\n",
      "------------------\n",
      "Cluster Resources\n",
      "------------------\n",
      "Nodes        = 1\n",
      "Sockets/node = 1\n",
      "Cores/socket = 1\n",
      "--------------------------\n",
      "Total Cores    = 1\n",
      "Total Memory(GB)   = 3.86\n",
      "--------------------------\n",
      "Time for object detection = 84.95\n"
     ]
    }
   ],
   "source": [
    "default_location='/home/ubuntu/test_folder/object_detection/object_detection_models_config.json'\n",
    "\n",
    "start = time()\n",
    "filename = \"/home/ubuntu/rml-notebooks/home_video_list_4.txt\"\n",
    "# Image Set\n",
    "vm = VideoSet(filename,resize_width=64,resize_height=64,frame_rate=10)\n",
    "\n",
    "# Get uri\n",
    "hname = subprocess.check_output([\"hostname\"])\n",
    "mongo_uri = \"mongodb://\"+hname.strip()+\":27017\"\n",
    "\n",
    "# MongoWriter\n",
    "mw = MongoWriter(uri=mongo_uri,db=\"rml_default_database\",collection=\"default_collection_\"+str(num))\n",
    "\n",
    "# Object Detection\n",
    "od = ObjectDetection(model_type=\"ssd_inception_v2_coco_2017_11_17\",model_framework=\"tensorflow\",object_detection_models_config=default_location)\n",
    "#od = ObjectDetection(model_type=\"yolo_v2\",model_framework=\"darknet\",object_detection_models_config=test_location)\n",
    "\n",
    "\n",
    "\n",
    "# Pipeline\n",
    "pipeline = Pipeline([od,mw])\n",
    "pipeline.fit(vm,cores=\"all\",verbose=True)\n",
    "\n",
    "\n",
    "\n",
    "print(\"Time for object detection = %0.2f\"%(time()-start))"
   ]
  },
  {
   "cell_type": "markdown",
   "metadata": {},
   "source": [
    "## Draw objects on a single video"
   ]
  },
  {
   "cell_type": "code",
   "execution_count": 14,
   "metadata": {},
   "outputs": [
    {
     "name": "stdout",
     "output_type": "stream",
     "text": [
      "[u'default_collection_0', u'system.indexes']\n"
     ]
    }
   ],
   "source": [
    "vid = Video(filename=\"/home/ubuntu/s3_mount/SampleVideo_1280x720_10mb.mp4\")\n",
    "vid.draw_objects(mw,\"/home/ubuntu/test_folder/default_video_\"+str(num)+\".mp4\")"
   ]
  },
  {
   "cell_type": "markdown",
   "metadata": {},
   "source": [
    "**Inspect JSON**\n",
    "--------"
   ]
  },
  {
   "cell_type": "code",
   "execution_count": 15,
   "metadata": {},
   "outputs": [],
   "source": [
    "import json\n",
    "with open('/home/ubuntu/test_folder/object_detection/object_detection_models_config_test.json', 'r') as fp:\n",
    "    data=json.load(fp)"
   ]
  },
  {
   "cell_type": "code",
   "execution_count": 16,
   "metadata": {},
   "outputs": [
    {
     "data": {
      "text/plain": [
       "{u'tensorflow': {u'channel_scale_1': 127.5,\n",
       "  u'channel_scale_2': 127.5,\n",
       "  u'channel_scale_3': 127.5,\n",
       "  u'class_names': u'/home/ubuntu/test_folder/object_detection/ssd_inception_v2_coco_2017_11_17_class_names.json',\n",
       "  u'model_binary': u'/home/ubuntu/test_folder/ssd_mobilenet_v1_0.75_depth_300x300_coco14_sync_2018_07_03/frozen_inference_graph.pb',\n",
       "  u'model_config': u'/home/ubuntu/test_folder/ssd_mobilenet_v1_0.75_depth_300x300_coco14_sync_2018_07_03/ssd_mobbilenet_v1_coco_2017_11_17.pbtxt',\n",
       "  u'scale_factor': 0.00784313725490196,\n",
       "  u'size_x': 300.0,\n",
       "  u'size_y': 300.0}}"
      ]
     },
     "execution_count": 16,
     "metadata": {},
     "output_type": "execute_result"
    }
   ],
   "source": [
    "data['ssd_inception_v2_coco_2017_11_17']"
   ]
  },
  {
   "cell_type": "markdown",
   "metadata": {},
   "source": [
    "Modify JSON\n",
    "====="
   ]
  },
  {
   "cell_type": "code",
   "execution_count": 44,
   "metadata": {},
   "outputs": [],
   "source": [
    "folder='ssd_mobilenet_v1_0.75_depth_300x300_coco14_sync_2018_07_03/'"
   ]
  },
  {
   "cell_type": "markdown",
   "metadata": {},
   "source": [
    "**class name**"
   ]
  },
  {
   "cell_type": "code",
   "execution_count": 45,
   "metadata": {},
   "outputs": [],
   "source": [
    "location=u'/home/ubuntu/test_folder/'\n",
    "data['ssd_inception_v2_coco_2017_11_17']['tensorflow']['class_names']=location+'object_detection/ssd_inception_v2_coco_2017_11_17_class_names.json'"
   ]
  },
  {
   "cell_type": "markdown",
   "metadata": {},
   "source": [
    "**model binary**"
   ]
  },
  {
   "cell_type": "code",
   "execution_count": 46,
   "metadata": {},
   "outputs": [],
   "source": [
    "\n",
    "data['ssd_inception_v2_coco_2017_11_17']['tensorflow']['model_binary']=location+folder+'frozen_inference_graph.pb'"
   ]
  },
  {
   "cell_type": "markdown",
   "metadata": {},
   "source": [
    "**model config**"
   ]
  },
  {
   "cell_type": "code",
   "execution_count": 47,
   "metadata": {},
   "outputs": [],
   "source": [
    "data['ssd_inception_v2_coco_2017_11_17']['tensorflow']['model_config']=location+folder+'ssd_mobbilenet_v1_coco_2017_11_17.pbtxt'"
   ]
  },
  {
   "cell_type": "markdown",
   "metadata": {},
   "source": [
    "**Export JSON**"
   ]
  },
  {
   "cell_type": "code",
   "execution_count": 48,
   "metadata": {},
   "outputs": [],
   "source": [
    "with open('/home/ubuntu/test_folder/object_detection/object_detection_models_config_test.json', 'w') as fp:\n",
    "    json.dump(data,fp)"
   ]
  },
  {
   "cell_type": "markdown",
   "metadata": {},
   "source": [
    "**View Changes**"
   ]
  },
  {
   "cell_type": "code",
   "execution_count": 49,
   "metadata": {},
   "outputs": [],
   "source": [
    "import pandas as pd\n",
    "#from pprint import pprint\n",
    "pd.set_option('display.max_colwidth',-1)\n",
    "from pandas.io.json import json_normalize\n",
    "dataset=pd.DataFrame.from_dict(json_normalize(data), orient='columns')\n",
    "columns=['coco_channel_scale_1','coco_channel_scale_2','coco_channel_scale_3','coco_class_names','coco_model_binary','coco_model_config','coco_scale_factor','coco_size_x','coco_size_y','yolo_channel_scale_1','yolo_channel_scale_2','yolo_channel_scale_3','yolo_class_names','yolo_model_binary','yolo_model_config','yolo_scale_factor','yolo_size_x','yolo_size_y']\n",
    "dataset.columns=columns\n",
    "dataset=dataset.transpose()\n",
    "dataset.rename(index=str,columns={0:'Values'},inplace=True)"
   ]
  },
  {
   "cell_type": "code",
   "execution_count": 50,
   "metadata": {},
   "outputs": [
    {
     "data": {
      "text/html": [
       "<div>\n",
       "<style scoped>\n",
       "    .dataframe tbody tr th:only-of-type {\n",
       "        vertical-align: middle;\n",
       "    }\n",
       "\n",
       "    .dataframe tbody tr th {\n",
       "        vertical-align: top;\n",
       "    }\n",
       "\n",
       "    .dataframe thead th {\n",
       "        text-align: right;\n",
       "    }\n",
       "</style>\n",
       "<table border=\"1\" class=\"dataframe\">\n",
       "  <thead>\n",
       "    <tr style=\"text-align: right;\">\n",
       "      <th></th>\n",
       "      <th>Values</th>\n",
       "    </tr>\n",
       "  </thead>\n",
       "  <tbody>\n",
       "    <tr>\n",
       "      <th>coco_channel_scale_1</th>\n",
       "      <td>127.5</td>\n",
       "    </tr>\n",
       "    <tr>\n",
       "      <th>coco_channel_scale_2</th>\n",
       "      <td>127.5</td>\n",
       "    </tr>\n",
       "    <tr>\n",
       "      <th>coco_channel_scale_3</th>\n",
       "      <td>127.5</td>\n",
       "    </tr>\n",
       "    <tr>\n",
       "      <th>coco_class_names</th>\n",
       "      <td>/home/ubuntu/test_folder/object_detection/ssd_inception_v2_coco_2017_11_17_class_names.json</td>\n",
       "    </tr>\n",
       "    <tr>\n",
       "      <th>coco_model_binary</th>\n",
       "      <td>/home/ubuntu/test_folder/ssd_mobilenet_v1_0.75_depth_300x300_coco14_sync_2018_07_03/frozen_inference_graph.pb</td>\n",
       "    </tr>\n",
       "    <tr>\n",
       "      <th>coco_model_config</th>\n",
       "      <td>/home/ubuntu/test_folder/ssd_mobilenet_v1_0.75_depth_300x300_coco14_sync_2018_07_03/ssd_mobbilenet_v1_coco_2017_11_17.pbtxt</td>\n",
       "    </tr>\n",
       "    <tr>\n",
       "      <th>coco_scale_factor</th>\n",
       "      <td>0.00784314</td>\n",
       "    </tr>\n",
       "    <tr>\n",
       "      <th>coco_size_x</th>\n",
       "      <td>300</td>\n",
       "    </tr>\n",
       "    <tr>\n",
       "      <th>coco_size_y</th>\n",
       "      <td>300</td>\n",
       "    </tr>\n",
       "    <tr>\n",
       "      <th>yolo_channel_scale_1</th>\n",
       "      <td>0</td>\n",
       "    </tr>\n",
       "    <tr>\n",
       "      <th>yolo_channel_scale_2</th>\n",
       "      <td>0</td>\n",
       "    </tr>\n",
       "    <tr>\n",
       "      <th>yolo_channel_scale_3</th>\n",
       "      <td>0</td>\n",
       "    </tr>\n",
       "    <tr>\n",
       "      <th>yolo_class_names</th>\n",
       "      <td>/etc/rocketml.d/object_detection/yolo_class_names.json</td>\n",
       "    </tr>\n",
       "    <tr>\n",
       "      <th>yolo_model_binary</th>\n",
       "      <td>/etc/rocketml.d/object_detection/yolo.weights</td>\n",
       "    </tr>\n",
       "    <tr>\n",
       "      <th>yolo_model_config</th>\n",
       "      <td>/etc/rocketml.d/object_detection/yolo.cfg</td>\n",
       "    </tr>\n",
       "    <tr>\n",
       "      <th>yolo_scale_factor</th>\n",
       "      <td>0.00392157</td>\n",
       "    </tr>\n",
       "    <tr>\n",
       "      <th>yolo_size_x</th>\n",
       "      <td>416</td>\n",
       "    </tr>\n",
       "    <tr>\n",
       "      <th>yolo_size_y</th>\n",
       "      <td>416</td>\n",
       "    </tr>\n",
       "  </tbody>\n",
       "</table>\n",
       "</div>"
      ],
      "text/plain": [
       "                                                                                                                                           Values\n",
       "coco_channel_scale_1  127.5                                                                                                                      \n",
       "coco_channel_scale_2  127.5                                                                                                                      \n",
       "coco_channel_scale_3  127.5                                                                                                                      \n",
       "coco_class_names      /home/ubuntu/test_folder/object_detection/ssd_inception_v2_coco_2017_11_17_class_names.json                                \n",
       "coco_model_binary     /home/ubuntu/test_folder/ssd_mobilenet_v1_0.75_depth_300x300_coco14_sync_2018_07_03/frozen_inference_graph.pb              \n",
       "coco_model_config     /home/ubuntu/test_folder/ssd_mobilenet_v1_0.75_depth_300x300_coco14_sync_2018_07_03/ssd_mobbilenet_v1_coco_2017_11_17.pbtxt\n",
       "coco_scale_factor     0.00784314                                                                                                                 \n",
       "coco_size_x           300                                                                                                                        \n",
       "coco_size_y           300                                                                                                                        \n",
       "yolo_channel_scale_1  0                                                                                                                          \n",
       "yolo_channel_scale_2  0                                                                                                                          \n",
       "yolo_channel_scale_3  0                                                                                                                          \n",
       "yolo_class_names      /etc/rocketml.d/object_detection/yolo_class_names.json                                                                     \n",
       "yolo_model_binary     /etc/rocketml.d/object_detection/yolo.weights                                                                              \n",
       "yolo_model_config     /etc/rocketml.d/object_detection/yolo.cfg                                                                                  \n",
       "yolo_scale_factor     0.00392157                                                                                                                 \n",
       "yolo_size_x           416                                                                                                                        \n",
       "yolo_size_y           416                                                                                                                        "
      ]
     },
     "execution_count": 50,
     "metadata": {},
     "output_type": "execute_result"
    }
   ],
   "source": [
    "dataset"
   ]
  },
  {
   "cell_type": "code",
   "execution_count": 51,
   "metadata": {},
   "outputs": [
    {
     "name": "stdout",
     "output_type": "stream",
     "text": [
      "Values    /home/ubuntu/test_folder/object_detection/ssd_inception_v2_coco_2017_11_17_class_names.json\n",
      "Name: coco_class_names, dtype: object\n"
     ]
    }
   ],
   "source": [
    "pprint(dataset.iloc[3])"
   ]
  },
  {
   "cell_type": "code",
   "execution_count": 52,
   "metadata": {},
   "outputs": [
    {
     "name": "stdout",
     "output_type": "stream",
     "text": [
      "Values    /home/ubuntu/test_folder/ssd_mobilenet_v1_0.75_depth_300x300_coco14_sync_2018_07_03/frozen_inference_graph.pb\n",
      "Name: coco_model_binary, dtype: object\n"
     ]
    }
   ],
   "source": [
    "pprint(dataset.iloc[4])"
   ]
  },
  {
   "cell_type": "code",
   "execution_count": 53,
   "metadata": {},
   "outputs": [
    {
     "name": "stdout",
     "output_type": "stream",
     "text": [
      "Values    /home/ubuntu/test_folder/ssd_mobilenet_v1_0.75_depth_300x300_coco14_sync_2018_07_03/ssd_mobbilenet_v1_coco_2017_11_17.pbtxt\n",
      "Name: coco_model_config, dtype: object\n"
     ]
    }
   ],
   "source": [
    "pprint(dataset.iloc[5])"
   ]
  },
  {
   "cell_type": "markdown",
   "metadata": {},
   "source": [
    "## Run Modified"
   ]
  },
  {
   "cell_type": "code",
   "execution_count": 54,
   "metadata": {
    "scrolled": true
   },
   "outputs": [
    {
     "name": "stdout",
     "output_type": "stream",
     "text": [
      "<rocketml.feature_extraction.object_detection.ObjectDetection object at 0x7f4716c0acd0>\n",
      "video\n",
      "------------------\n",
      "Cluster Resources\n",
      "------------------\n",
      "Nodes        = 1\n",
      "Sockets/node = 1\n",
      "Cores/socket = 1\n",
      "--------------------------\n",
      "Total Cores    = 1\n",
      "Total Memory(GB)   = 3.86\n",
      "--------------------------\n",
      "('Test Run:', 0)\n",
      "Time for object detection = 1.50\n"
     ]
    }
   ],
   "source": [
    "test_location='/home/ubuntu/test_folder/object_detection/object_detection_models_config_test.json'\n",
    "start = time()\n",
    "filename = \"/home/ubuntu/rml-notebooks/home_video_list_4.txt\"\n",
    "# Image Set\n",
    "vm = VideoSet(filename,resize_width=64,resize_height=64,frame_rate=10)\n",
    "\n",
    "# Get uri\n",
    "hname = subprocess.check_output([\"hostname\"])\n",
    "mongo_uri = \"mongodb://\"+hname.strip()+\":27017\"\n",
    "\n",
    "# MongoWriter\n",
    "mw = MongoWriter(uri=mongo_uri,db=\"rml_test_databse\",collection=\"test_collection_\"+str(num))\n",
    "\n",
    "# Object Detection\n",
    "od = ObjectDetection(model_type=\"ssd_inception_v2_coco_2017_11_17\",model_framework=\"tensorflow\",object_detection_models_config=test_location)\n",
    "\n",
    "#od = ObjectDetection(model_type=\"yolo_v2\",model_framework=\"darknet\",object_detection_models_config=test_location)\n",
    "\n",
    "\n",
    "\n",
    "# Pipeline\n",
    "pipeline = Pipeline([od,mw])\n",
    "pipeline.fit(vm,cores=\"all\",verbose=True)\n",
    "\n",
    "\n",
    "print('Test Run:',num)\n",
    "print(\"Time for object detection = %0.2f\"%(time()-start))"
   ]
  },
  {
   "cell_type": "markdown",
   "metadata": {},
   "source": [
    "## Draw objects on a single video"
   ]
  },
  {
   "cell_type": "code",
   "execution_count": 47,
   "metadata": {},
   "outputs": [
    {
     "name": "stdout",
     "output_type": "stream",
     "text": [
      "[]\n"
     ]
    },
    {
     "ename": "TypeError",
     "evalue": "'NoneType' object has no attribute '__getitem__'",
     "output_type": "error",
     "traceback": [
      "\u001b[0;31m---------------------------------------------------------------------------\u001b[0m",
      "\u001b[0;31mTypeError\u001b[0m                                 Traceback (most recent call last)",
      "\u001b[0;32m<ipython-input-47-270421b90c57>\u001b[0m in \u001b[0;36m<module>\u001b[0;34m()\u001b[0m\n\u001b[1;32m      1\u001b[0m \u001b[0mvid\u001b[0m \u001b[0;34m=\u001b[0m \u001b[0mVideo\u001b[0m\u001b[0;34m(\u001b[0m\u001b[0mfilename\u001b[0m\u001b[0;34m=\u001b[0m\u001b[0;34m\"/home/ubuntu/s3_mount/SampleVideo_1280x720_10mb.mp4\"\u001b[0m\u001b[0;34m)\u001b[0m\u001b[0;34m\u001b[0m\u001b[0m\n\u001b[0;32m----> 2\u001b[0;31m \u001b[0mvid\u001b[0m\u001b[0;34m.\u001b[0m\u001b[0mdraw_objects\u001b[0m\u001b[0;34m(\u001b[0m\u001b[0mmw\u001b[0m\u001b[0;34m,\u001b[0m\u001b[0;34m\"/home/ubuntu/test_folder/test_video_\"\u001b[0m\u001b[0;34m+\u001b[0m\u001b[0mstr\u001b[0m\u001b[0;34m(\u001b[0m\u001b[0mnum\u001b[0m\u001b[0;34m)\u001b[0m\u001b[0;34m+\u001b[0m\u001b[0;34m\".mp4\"\u001b[0m\u001b[0;34m)\u001b[0m\u001b[0;34m\u001b[0m\u001b[0m\n\u001b[0m",
      "\u001b[0;32m/home/ubuntu/.local/lib/python2.7/site-packages/rocketml/io/video.pyc\u001b[0m in \u001b[0;36mdraw_objects\u001b[0;34m(self, mongo_writer, out_filename)\u001b[0m\n\u001b[1;32m     52\u001b[0m \u001b[0;34m\u001b[0m\u001b[0m\n\u001b[1;32m     53\u001b[0m         \u001b[0mitem1\u001b[0m  \u001b[0;34m=\u001b[0m  \u001b[0mcollection\u001b[0m\u001b[0;34m.\u001b[0m\u001b[0mfind_one\u001b[0m\u001b[0;34m(\u001b[0m\u001b[0;34m{\u001b[0m\u001b[0;34m\"frame_meta_data.file_name\"\u001b[0m\u001b[0;34m:\u001b[0m\u001b[0mself\u001b[0m\u001b[0;34m.\u001b[0m\u001b[0mfilename\u001b[0m\u001b[0;34m}\u001b[0m\u001b[0;34m)\u001b[0m\u001b[0;34m\u001b[0m\u001b[0m\n\u001b[0;32m---> 54\u001b[0;31m         \u001b[0mwidth\u001b[0m  \u001b[0;34m=\u001b[0m  \u001b[0mitem1\u001b[0m\u001b[0;34m[\u001b[0m\u001b[0;34m\"frame_meta_data\"\u001b[0m\u001b[0;34m]\u001b[0m\u001b[0;34m[\u001b[0m\u001b[0;34m\"width\"\u001b[0m\u001b[0;34m]\u001b[0m\u001b[0;34m\u001b[0m\u001b[0m\n\u001b[0m\u001b[1;32m     55\u001b[0m         \u001b[0mheight\u001b[0m \u001b[0;34m=\u001b[0m  \u001b[0mitem1\u001b[0m\u001b[0;34m[\u001b[0m\u001b[0;34m\"frame_meta_data\"\u001b[0m\u001b[0;34m]\u001b[0m\u001b[0;34m[\u001b[0m\u001b[0;34m\"height\"\u001b[0m\u001b[0;34m]\u001b[0m\u001b[0;34m\u001b[0m\u001b[0m\n\u001b[1;32m     56\u001b[0m         \u001b[0mfps\u001b[0m    \u001b[0;34m=\u001b[0m  \u001b[0mitem1\u001b[0m\u001b[0;34m[\u001b[0m\u001b[0;34m\"frame_meta_data\"\u001b[0m\u001b[0;34m]\u001b[0m\u001b[0;34m[\u001b[0m\u001b[0;34m\"fps\"\u001b[0m\u001b[0;34m]\u001b[0m\u001b[0;34m\u001b[0m\u001b[0m\n",
      "\u001b[0;31mTypeError\u001b[0m: 'NoneType' object has no attribute '__getitem__'"
     ]
    }
   ],
   "source": [
    "vid = Video(filename=\"/home/ubuntu/s3_mount/SampleVideo_1280x720_10mb.mp4\")\n",
    "vid.draw_objects(mw,\"/home/ubuntu/test_folder/test_video_\"+str(num)+\".mp4\")"
   ]
  },
  {
   "cell_type": "code",
   "execution_count": 261,
   "metadata": {},
   "outputs": [],
   "source": [
    "import pymongo\n",
    "from pymongo import MongoClient\n",
    "\n",
    "client = MongoClient()\n",
    "client = MongoClient(mongo_uri)\n",
    "db = client.rml_collection_video_tf_demo\n",
    "collection = db[\"test_run_\"+str(num)]"
   ]
  },
  {
   "cell_type": "code",
   "execution_count": 262,
   "metadata": {},
   "outputs": [
    {
     "name": "stdout",
     "output_type": "stream",
     "text": [
      "The number of indexed items: 2181\n"
     ]
    }
   ],
   "source": [
    "myList=[]\n",
    "for i in collection.find():\n",
    "    myList.append(i) \n",
    "print 'The number of indexed items:',len(myList)"
   ]
  },
  {
   "cell_type": "code",
   "execution_count": 384,
   "metadata": {},
   "outputs": [],
   "source": [
    "final_ids=[]\n",
    "for i in range(0,len(myList)):\n",
    "    together=[]\n",
    "    final_ids.append(together)\n",
    "    #print(i)\n",
    "    obj=myList[i]['objects']\n",
    "    for j in obj:\n",
    "        indices=j\n",
    "        id_values=[]\n",
    "        double=[]\n",
    "        together.append(double)\n",
    "        if 'id' in indices.keys():\n",
    "            id_values.append(indices['id'])\n",
    "            #print(id_values)\n",
    "            double.append(id_values)\n",
    "        else:\n",
    "            continue"
   ]
  },
  {
   "cell_type": "code",
   "execution_count": 472,
   "metadata": {},
   "outputs": [],
   "source": [
    "id_column=[]\n",
    "for i in range(0,len(final_ids)):\n",
    "    id_column.append(np.array(pd.Series(str(final_ids[i])).str.replace('[','').str.replace(']','')))"
   ]
  },
  {
   "cell_type": "code",
   "execution_count": 507,
   "metadata": {},
   "outputs": [],
   "source": [
    "import pandas as pd\n",
    "#from pprint import pprint\n",
    "pd.set_option('display.max_colwidth',-1)\n",
    "from pandas.io.json import json_normalize\n",
    "\n",
    "\n",
    "full_dataset=pd.DataFrame(columns=['_id','file_name','fps','frame_id','height','row_id','width','objectsReturned'])\n",
    "\n",
    "for i in range(0,len(myList)): \n",
    "    \n",
    "    dataset=pd.DataFrame.from_dict(json_normalize(myList[i]), orient='columns')\n",
    "    dataset.drop(columns=['objects'],inplace=True)\n",
    "    dataCol=pd.Series(dataset.columns)\n",
    "    dataCol=dataCol.str.replace('frame_meta_data.','')\n",
    "    dataset.columns=dataCol\n",
    "    dataset['objectsReturned']='something'\n",
    "    \n",
    "    full_dataset.loc[len(full_dataset)]=dataset.loc[0]\n",
    "\n",
    "full_dataset['objectsReturned']=id_column"
   ]
  },
  {
   "cell_type": "code",
   "execution_count": 530,
   "metadata": {},
   "outputs": [
    {
     "data": {
      "text/html": [
       "<div>\n",
       "<style scoped>\n",
       "    .dataframe tbody tr th:only-of-type {\n",
       "        vertical-align: middle;\n",
       "    }\n",
       "\n",
       "    .dataframe tbody tr th {\n",
       "        vertical-align: top;\n",
       "    }\n",
       "\n",
       "    .dataframe thead th {\n",
       "        text-align: right;\n",
       "    }\n",
       "</style>\n",
       "<table border=\"1\" class=\"dataframe\">\n",
       "  <thead>\n",
       "    <tr style=\"text-align: right;\">\n",
       "      <th></th>\n",
       "      <th>_id</th>\n",
       "      <th>file_name</th>\n",
       "      <th>fps</th>\n",
       "      <th>frame_id</th>\n",
       "      <th>height</th>\n",
       "      <th>row_id</th>\n",
       "      <th>width</th>\n",
       "      <th>objectsReturned</th>\n",
       "    </tr>\n",
       "  </thead>\n",
       "  <tbody>\n",
       "    <tr>\n",
       "      <th>0</th>\n",
       "      <td>5b58281858e9ba2d120f6ef2</td>\n",
       "      <td>/home/ubuntu/s3_mount/SampleVideo_1280x720_10mb.mp4</td>\n",
       "      <td>25.0</td>\n",
       "      <td>0</td>\n",
       "      <td>720</td>\n",
       "      <td>0</td>\n",
       "      <td>1280</td>\n",
       "      <td>[16, 23]</td>\n",
       "    </tr>\n",
       "    <tr>\n",
       "      <th>1</th>\n",
       "      <td>5b58281858e9ba2d120f6ef3</td>\n",
       "      <td>/home/ubuntu/s3_mount/SampleVideo_1280x720_10mb.mp4</td>\n",
       "      <td>25.0</td>\n",
       "      <td>1</td>\n",
       "      <td>720</td>\n",
       "      <td>1</td>\n",
       "      <td>1280</td>\n",
       "      <td>[16, 23]</td>\n",
       "    </tr>\n",
       "    <tr>\n",
       "      <th>2</th>\n",
       "      <td>5b58281858e9ba2d120f6ef4</td>\n",
       "      <td>/home/ubuntu/s3_mount/SampleVideo_1280x720_10mb.mp4</td>\n",
       "      <td>25.0</td>\n",
       "      <td>2</td>\n",
       "      <td>720</td>\n",
       "      <td>2</td>\n",
       "      <td>1280</td>\n",
       "      <td>[]</td>\n",
       "    </tr>\n",
       "    <tr>\n",
       "      <th>3</th>\n",
       "      <td>5b58281858e9ba2d120f6ef5</td>\n",
       "      <td>/home/ubuntu/s3_mount/SampleVideo_1280x720_10mb.mp4</td>\n",
       "      <td>25.0</td>\n",
       "      <td>3</td>\n",
       "      <td>720</td>\n",
       "      <td>3</td>\n",
       "      <td>1280</td>\n",
       "      <td>[]</td>\n",
       "    </tr>\n",
       "    <tr>\n",
       "      <th>4</th>\n",
       "      <td>5b58281858e9ba2d120f6ef6</td>\n",
       "      <td>/home/ubuntu/s3_mount/SampleVideo_1280x720_10mb.mp4</td>\n",
       "      <td>25.0</td>\n",
       "      <td>4</td>\n",
       "      <td>720</td>\n",
       "      <td>4</td>\n",
       "      <td>1280</td>\n",
       "      <td>[16]</td>\n",
       "    </tr>\n",
       "    <tr>\n",
       "      <th>5</th>\n",
       "      <td>5b58281858e9ba2d120f6ef7</td>\n",
       "      <td>/home/ubuntu/s3_mount/SampleVideo_1280x720_10mb.mp4</td>\n",
       "      <td>25.0</td>\n",
       "      <td>5</td>\n",
       "      <td>720</td>\n",
       "      <td>5</td>\n",
       "      <td>1280</td>\n",
       "      <td>[16]</td>\n",
       "    </tr>\n",
       "    <tr>\n",
       "      <th>6</th>\n",
       "      <td>5b58281858e9ba2d120f6ef8</td>\n",
       "      <td>/home/ubuntu/s3_mount/SampleVideo_1280x720_10mb.mp4</td>\n",
       "      <td>25.0</td>\n",
       "      <td>6</td>\n",
       "      <td>720</td>\n",
       "      <td>6</td>\n",
       "      <td>1280</td>\n",
       "      <td>[21]</td>\n",
       "    </tr>\n",
       "    <tr>\n",
       "      <th>7</th>\n",
       "      <td>5b58281858e9ba2d120f6ef9</td>\n",
       "      <td>/home/ubuntu/s3_mount/SampleVideo_1280x720_10mb.mp4</td>\n",
       "      <td>25.0</td>\n",
       "      <td>7</td>\n",
       "      <td>720</td>\n",
       "      <td>7</td>\n",
       "      <td>1280</td>\n",
       "      <td>[21]</td>\n",
       "    </tr>\n",
       "    <tr>\n",
       "      <th>8</th>\n",
       "      <td>5b58281858e9ba2d120f6efa</td>\n",
       "      <td>/home/ubuntu/s3_mount/SampleVideo_1280x720_10mb.mp4</td>\n",
       "      <td>25.0</td>\n",
       "      <td>8</td>\n",
       "      <td>720</td>\n",
       "      <td>8</td>\n",
       "      <td>1280</td>\n",
       "      <td>[21]</td>\n",
       "    </tr>\n",
       "    <tr>\n",
       "      <th>9</th>\n",
       "      <td>5b58281858e9ba2d120f6efb</td>\n",
       "      <td>/home/ubuntu/s3_mount/SampleVideo_1280x720_10mb.mp4</td>\n",
       "      <td>25.0</td>\n",
       "      <td>9</td>\n",
       "      <td>720</td>\n",
       "      <td>9</td>\n",
       "      <td>1280</td>\n",
       "      <td>[21]</td>\n",
       "    </tr>\n",
       "    <tr>\n",
       "      <th>10</th>\n",
       "      <td>5b58281858e9ba2d120f6efc</td>\n",
       "      <td>/home/ubuntu/s3_mount/SampleVideo_1280x720_10mb.mp4</td>\n",
       "      <td>25.0</td>\n",
       "      <td>10</td>\n",
       "      <td>720</td>\n",
       "      <td>10</td>\n",
       "      <td>1280</td>\n",
       "      <td>[21]</td>\n",
       "    </tr>\n",
       "    <tr>\n",
       "      <th>11</th>\n",
       "      <td>5b58281858e9ba2d120f6efd</td>\n",
       "      <td>/home/ubuntu/s3_mount/SampleVideo_1280x720_10mb.mp4</td>\n",
       "      <td>25.0</td>\n",
       "      <td>11</td>\n",
       "      <td>720</td>\n",
       "      <td>11</td>\n",
       "      <td>1280</td>\n",
       "      <td>[21]</td>\n",
       "    </tr>\n",
       "    <tr>\n",
       "      <th>12</th>\n",
       "      <td>5b58281858e9ba2d120f6efe</td>\n",
       "      <td>/home/ubuntu/s3_mount/SampleVideo_1280x720_10mb.mp4</td>\n",
       "      <td>25.0</td>\n",
       "      <td>12</td>\n",
       "      <td>720</td>\n",
       "      <td>12</td>\n",
       "      <td>1280</td>\n",
       "      <td>[21]</td>\n",
       "    </tr>\n",
       "    <tr>\n",
       "      <th>13</th>\n",
       "      <td>5b58281858e9ba2d120f6eff</td>\n",
       "      <td>/home/ubuntu/s3_mount/SampleVideo_1280x720_10mb.mp4</td>\n",
       "      <td>25.0</td>\n",
       "      <td>13</td>\n",
       "      <td>720</td>\n",
       "      <td>13</td>\n",
       "      <td>1280</td>\n",
       "      <td>[20, 21]</td>\n",
       "    </tr>\n",
       "    <tr>\n",
       "      <th>14</th>\n",
       "      <td>5b58281858e9ba2d120f6f00</td>\n",
       "      <td>/home/ubuntu/s3_mount/SampleVideo_1280x720_10mb.mp4</td>\n",
       "      <td>25.0</td>\n",
       "      <td>14</td>\n",
       "      <td>720</td>\n",
       "      <td>14</td>\n",
       "      <td>1280</td>\n",
       "      <td>[20, 21, 37]</td>\n",
       "    </tr>\n",
       "    <tr>\n",
       "      <th>15</th>\n",
       "      <td>5b58281858e9ba2d120f6f11</td>\n",
       "      <td>/home/ubuntu/s3_mount/SampleVideo_1280x720_10mb.mp4</td>\n",
       "      <td>25.0</td>\n",
       "      <td>31</td>\n",
       "      <td>720</td>\n",
       "      <td>31</td>\n",
       "      <td>1280</td>\n",
       "      <td>[]</td>\n",
       "    </tr>\n",
       "    <tr>\n",
       "      <th>16</th>\n",
       "      <td>5b58281858e9ba2d120f6f01</td>\n",
       "      <td>/home/ubuntu/s3_mount/SampleVideo_1280x720_10mb.mp4</td>\n",
       "      <td>25.0</td>\n",
       "      <td>15</td>\n",
       "      <td>720</td>\n",
       "      <td>15</td>\n",
       "      <td>1280</td>\n",
       "      <td>[20, 21]</td>\n",
       "    </tr>\n",
       "    <tr>\n",
       "      <th>17</th>\n",
       "      <td>5b58281858e9ba2d120f6f02</td>\n",
       "      <td>/home/ubuntu/s3_mount/SampleVideo_1280x720_10mb.mp4</td>\n",
       "      <td>25.0</td>\n",
       "      <td>16</td>\n",
       "      <td>720</td>\n",
       "      <td>16</td>\n",
       "      <td>1280</td>\n",
       "      <td>[16, 20, 21]</td>\n",
       "    </tr>\n",
       "    <tr>\n",
       "      <th>18</th>\n",
       "      <td>5b58281858e9ba2d120f6f03</td>\n",
       "      <td>/home/ubuntu/s3_mount/SampleVideo_1280x720_10mb.mp4</td>\n",
       "      <td>25.0</td>\n",
       "      <td>17</td>\n",
       "      <td>720</td>\n",
       "      <td>17</td>\n",
       "      <td>1280</td>\n",
       "      <td>[16, 20]</td>\n",
       "    </tr>\n",
       "    <tr>\n",
       "      <th>19</th>\n",
       "      <td>5b58281858e9ba2d120f6f04</td>\n",
       "      <td>/home/ubuntu/s3_mount/SampleVideo_1280x720_10mb.mp4</td>\n",
       "      <td>25.0</td>\n",
       "      <td>18</td>\n",
       "      <td>720</td>\n",
       "      <td>18</td>\n",
       "      <td>1280</td>\n",
       "      <td>[16, 20]</td>\n",
       "    </tr>\n",
       "    <tr>\n",
       "      <th>20</th>\n",
       "      <td>5b58281858e9ba2d120f6f05</td>\n",
       "      <td>/home/ubuntu/s3_mount/SampleVideo_1280x720_10mb.mp4</td>\n",
       "      <td>25.0</td>\n",
       "      <td>19</td>\n",
       "      <td>720</td>\n",
       "      <td>19</td>\n",
       "      <td>1280</td>\n",
       "      <td>[20]</td>\n",
       "    </tr>\n",
       "    <tr>\n",
       "      <th>21</th>\n",
       "      <td>5b58281858e9ba2d120f6f06</td>\n",
       "      <td>/home/ubuntu/s3_mount/SampleVideo_1280x720_10mb.mp4</td>\n",
       "      <td>25.0</td>\n",
       "      <td>20</td>\n",
       "      <td>720</td>\n",
       "      <td>20</td>\n",
       "      <td>1280</td>\n",
       "      <td>[20]</td>\n",
       "    </tr>\n",
       "    <tr>\n",
       "      <th>22</th>\n",
       "      <td>5b58281858e9ba2d120f6f07</td>\n",
       "      <td>/home/ubuntu/s3_mount/SampleVideo_1280x720_10mb.mp4</td>\n",
       "      <td>25.0</td>\n",
       "      <td>21</td>\n",
       "      <td>720</td>\n",
       "      <td>21</td>\n",
       "      <td>1280</td>\n",
       "      <td>[20]</td>\n",
       "    </tr>\n",
       "    <tr>\n",
       "      <th>23</th>\n",
       "      <td>5b58281858e9ba2d120f6f08</td>\n",
       "      <td>/home/ubuntu/s3_mount/SampleVideo_1280x720_10mb.mp4</td>\n",
       "      <td>25.0</td>\n",
       "      <td>22</td>\n",
       "      <td>720</td>\n",
       "      <td>22</td>\n",
       "      <td>1280</td>\n",
       "      <td>[20]</td>\n",
       "    </tr>\n",
       "    <tr>\n",
       "      <th>24</th>\n",
       "      <td>5b58281858e9ba2d120f6f09</td>\n",
       "      <td>/home/ubuntu/s3_mount/SampleVideo_1280x720_10mb.mp4</td>\n",
       "      <td>25.0</td>\n",
       "      <td>23</td>\n",
       "      <td>720</td>\n",
       "      <td>23</td>\n",
       "      <td>1280</td>\n",
       "      <td>[20, 21]</td>\n",
       "    </tr>\n",
       "  </tbody>\n",
       "</table>\n",
       "</div>"
      ],
      "text/plain": [
       "                         _id  \\\n",
       "0   5b58281858e9ba2d120f6ef2   \n",
       "1   5b58281858e9ba2d120f6ef3   \n",
       "2   5b58281858e9ba2d120f6ef4   \n",
       "3   5b58281858e9ba2d120f6ef5   \n",
       "4   5b58281858e9ba2d120f6ef6   \n",
       "5   5b58281858e9ba2d120f6ef7   \n",
       "6   5b58281858e9ba2d120f6ef8   \n",
       "7   5b58281858e9ba2d120f6ef9   \n",
       "8   5b58281858e9ba2d120f6efa   \n",
       "9   5b58281858e9ba2d120f6efb   \n",
       "10  5b58281858e9ba2d120f6efc   \n",
       "11  5b58281858e9ba2d120f6efd   \n",
       "12  5b58281858e9ba2d120f6efe   \n",
       "13  5b58281858e9ba2d120f6eff   \n",
       "14  5b58281858e9ba2d120f6f00   \n",
       "15  5b58281858e9ba2d120f6f11   \n",
       "16  5b58281858e9ba2d120f6f01   \n",
       "17  5b58281858e9ba2d120f6f02   \n",
       "18  5b58281858e9ba2d120f6f03   \n",
       "19  5b58281858e9ba2d120f6f04   \n",
       "20  5b58281858e9ba2d120f6f05   \n",
       "21  5b58281858e9ba2d120f6f06   \n",
       "22  5b58281858e9ba2d120f6f07   \n",
       "23  5b58281858e9ba2d120f6f08   \n",
       "24  5b58281858e9ba2d120f6f09   \n",
       "\n",
       "                                              file_name   fps frame_id height  \\\n",
       "0   /home/ubuntu/s3_mount/SampleVideo_1280x720_10mb.mp4  25.0  0        720     \n",
       "1   /home/ubuntu/s3_mount/SampleVideo_1280x720_10mb.mp4  25.0  1        720     \n",
       "2   /home/ubuntu/s3_mount/SampleVideo_1280x720_10mb.mp4  25.0  2        720     \n",
       "3   /home/ubuntu/s3_mount/SampleVideo_1280x720_10mb.mp4  25.0  3        720     \n",
       "4   /home/ubuntu/s3_mount/SampleVideo_1280x720_10mb.mp4  25.0  4        720     \n",
       "5   /home/ubuntu/s3_mount/SampleVideo_1280x720_10mb.mp4  25.0  5        720     \n",
       "6   /home/ubuntu/s3_mount/SampleVideo_1280x720_10mb.mp4  25.0  6        720     \n",
       "7   /home/ubuntu/s3_mount/SampleVideo_1280x720_10mb.mp4  25.0  7        720     \n",
       "8   /home/ubuntu/s3_mount/SampleVideo_1280x720_10mb.mp4  25.0  8        720     \n",
       "9   /home/ubuntu/s3_mount/SampleVideo_1280x720_10mb.mp4  25.0  9        720     \n",
       "10  /home/ubuntu/s3_mount/SampleVideo_1280x720_10mb.mp4  25.0  10       720     \n",
       "11  /home/ubuntu/s3_mount/SampleVideo_1280x720_10mb.mp4  25.0  11       720     \n",
       "12  /home/ubuntu/s3_mount/SampleVideo_1280x720_10mb.mp4  25.0  12       720     \n",
       "13  /home/ubuntu/s3_mount/SampleVideo_1280x720_10mb.mp4  25.0  13       720     \n",
       "14  /home/ubuntu/s3_mount/SampleVideo_1280x720_10mb.mp4  25.0  14       720     \n",
       "15  /home/ubuntu/s3_mount/SampleVideo_1280x720_10mb.mp4  25.0  31       720     \n",
       "16  /home/ubuntu/s3_mount/SampleVideo_1280x720_10mb.mp4  25.0  15       720     \n",
       "17  /home/ubuntu/s3_mount/SampleVideo_1280x720_10mb.mp4  25.0  16       720     \n",
       "18  /home/ubuntu/s3_mount/SampleVideo_1280x720_10mb.mp4  25.0  17       720     \n",
       "19  /home/ubuntu/s3_mount/SampleVideo_1280x720_10mb.mp4  25.0  18       720     \n",
       "20  /home/ubuntu/s3_mount/SampleVideo_1280x720_10mb.mp4  25.0  19       720     \n",
       "21  /home/ubuntu/s3_mount/SampleVideo_1280x720_10mb.mp4  25.0  20       720     \n",
       "22  /home/ubuntu/s3_mount/SampleVideo_1280x720_10mb.mp4  25.0  21       720     \n",
       "23  /home/ubuntu/s3_mount/SampleVideo_1280x720_10mb.mp4  25.0  22       720     \n",
       "24  /home/ubuntu/s3_mount/SampleVideo_1280x720_10mb.mp4  25.0  23       720     \n",
       "\n",
       "   row_id width objectsReturned  \n",
       "0   0      1280  [16, 23]        \n",
       "1   1      1280  [16, 23]        \n",
       "2   2      1280  []              \n",
       "3   3      1280  []              \n",
       "4   4      1280  [16]            \n",
       "5   5      1280  [16]            \n",
       "6   6      1280  [21]            \n",
       "7   7      1280  [21]            \n",
       "8   8      1280  [21]            \n",
       "9   9      1280  [21]            \n",
       "10  10     1280  [21]            \n",
       "11  11     1280  [21]            \n",
       "12  12     1280  [21]            \n",
       "13  13     1280  [20, 21]        \n",
       "14  14     1280  [20, 21, 37]    \n",
       "15  31     1280  []              \n",
       "16  15     1280  [20, 21]        \n",
       "17  16     1280  [16, 20, 21]    \n",
       "18  17     1280  [16, 20]        \n",
       "19  18     1280  [16, 20]        \n",
       "20  19     1280  [20]            \n",
       "21  20     1280  [20]            \n",
       "22  21     1280  [20]            \n",
       "23  22     1280  [20]            \n",
       "24  23     1280  [20, 21]        "
      ]
     },
     "execution_count": 530,
     "metadata": {},
     "output_type": "execute_result"
    }
   ],
   "source": [
    "full_dataset.head(n=25)"
   ]
  },
  {
   "cell_type": "code",
   "execution_count": null,
   "metadata": {},
   "outputs": [],
   "source": []
  },
  {
   "cell_type": "markdown",
   "metadata": {},
   "source": [
    "Inspect Items\n",
    "-----"
   ]
  },
  {
   "cell_type": "code",
   "execution_count": 532,
   "metadata": {},
   "outputs": [],
   "source": [
    "RequestItem=0"
   ]
  },
  {
   "cell_type": "code",
   "execution_count": 533,
   "metadata": {},
   "outputs": [
    {
     "data": {
      "text/plain": [
       "{u'_id': ObjectId('5b58281858e9ba2d120f6ef2'),\n",
       " u'frame_meta_data': {u'file_name': u'/home/ubuntu/s3_mount/SampleVideo_1280x720_10mb.mp4',\n",
       "  u'fps': 25.0,\n",
       "  u'frame_id': 0,\n",
       "  u'height': 720,\n",
       "  u'row_id': 0,\n",
       "  u'width': 1280},\n",
       " u'objects': [{u'confidence': 0.258360534906387,\n",
       "   u'height': 288.673950195312,\n",
       "   u'id': 16,\n",
       "   u'name': u'bird',\n",
       "   u'width': 181.070068359375,\n",
       "   u'x_center': 159.617218017578,\n",
       "   u'y_center': 385.527770996094},\n",
       "  {u'confidence': 0.260805279016495,\n",
       "   u'height': 610.177062988281,\n",
       "   u'id': 23,\n",
       "   u'name': u'bear',\n",
       "   u'width': 1043.73266601562,\n",
       "   u'x_center': 545.624267578125,\n",
       "   u'y_center': 308.561065673828}]}"
      ]
     },
     "execution_count": 533,
     "metadata": {},
     "output_type": "execute_result"
    }
   ],
   "source": [
    "myList[0]"
   ]
  },
  {
   "cell_type": "markdown",
   "metadata": {},
   "source": [
    "Objects MetaData\n",
    "----"
   ]
  },
  {
   "cell_type": "code",
   "execution_count": 534,
   "metadata": {},
   "outputs": [],
   "source": [
    "import pandas as pd\n",
    "#from pprint import pprint\n",
    "pd.set_option('display.max_colwidth',-1)\n",
    "from pandas.io.json import json_normalize\n",
    "dataset=pd.DataFrame.from_dict(json_normalize(myList[RequestItem]), orient='columns')\n",
    "heading=dataset['_id']\n",
    "dataset.drop(columns=['objects','_id'],inplace=True)\n",
    "dataset=dataset.transpose()\n",
    "dataset.columns=heading\n",
    "dataset.reset_index(inplace=True)\n",
    "dataset['index']=dataset['index'].str.replace('frame_meta_data.','')\n",
    "dataset.rename(columns={'index':'meta_frame'},inplace=True)\n",
    "#dataset"
   ]
  },
  {
   "cell_type": "markdown",
   "metadata": {},
   "source": [
    "Items found in frame\n",
    "------"
   ]
  },
  {
   "cell_type": "markdown",
   "metadata": {},
   "source": [
    "Needs a condition that checks if there were objects found"
   ]
  },
  {
   "cell_type": "code",
   "execution_count": 535,
   "metadata": {},
   "outputs": [
    {
     "data": {
      "text/html": [
       "<div>\n",
       "<style scoped>\n",
       "    .dataframe tbody tr th:only-of-type {\n",
       "        vertical-align: middle;\n",
       "    }\n",
       "\n",
       "    .dataframe tbody tr th {\n",
       "        vertical-align: top;\n",
       "    }\n",
       "\n",
       "    .dataframe thead th {\n",
       "        text-align: right;\n",
       "    }\n",
       "</style>\n",
       "<table border=\"1\" class=\"dataframe\">\n",
       "  <thead>\n",
       "    <tr style=\"text-align: right;\">\n",
       "      <th></th>\n",
       "      <th>found_items</th>\n",
       "      <th>bird</th>\n",
       "      <th>bear</th>\n",
       "    </tr>\n",
       "  </thead>\n",
       "  <tbody>\n",
       "    <tr>\n",
       "      <th>0</th>\n",
       "      <td>confidence</td>\n",
       "      <td>0.258361</td>\n",
       "      <td>0.260805</td>\n",
       "    </tr>\n",
       "    <tr>\n",
       "      <th>1</th>\n",
       "      <td>height</td>\n",
       "      <td>288.673950</td>\n",
       "      <td>610.177063</td>\n",
       "    </tr>\n",
       "    <tr>\n",
       "      <th>2</th>\n",
       "      <td>id</td>\n",
       "      <td>16.000000</td>\n",
       "      <td>23.000000</td>\n",
       "    </tr>\n",
       "    <tr>\n",
       "      <th>3</th>\n",
       "      <td>width</td>\n",
       "      <td>181.070068</td>\n",
       "      <td>1043.732666</td>\n",
       "    </tr>\n",
       "    <tr>\n",
       "      <th>4</th>\n",
       "      <td>x_center</td>\n",
       "      <td>159.617218</td>\n",
       "      <td>545.624268</td>\n",
       "    </tr>\n",
       "    <tr>\n",
       "      <th>5</th>\n",
       "      <td>y_center</td>\n",
       "      <td>385.527771</td>\n",
       "      <td>308.561066</td>\n",
       "    </tr>\n",
       "  </tbody>\n",
       "</table>\n",
       "</div>"
      ],
      "text/plain": [
       "  found_items        bird         bear\n",
       "0  confidence  0.258361    0.260805   \n",
       "1  height      288.673950  610.177063 \n",
       "2  id          16.000000   23.000000  \n",
       "3  width       181.070068  1043.732666\n",
       "4  x_center    159.617218  545.624268 \n",
       "5  y_center    385.527771  308.561066 "
      ]
     },
     "execution_count": 535,
     "metadata": {},
     "output_type": "execute_result"
    }
   ],
   "source": [
    "objects=pd.DataFrame.from_dict(json_normalize(myList[RequestItem]['objects']), orient='columns')\n",
    "names=list(objects['name'])\n",
    "objects.drop(columns=['name'],inplace=True)\n",
    "objects=objects.transpose()\n",
    "objects.columns=names\n",
    "objects.reset_index(inplace=True)\n",
    "objects.rename(columns={'index':'found_items'},inplace=True)\n",
    "objects"
   ]
  },
  {
   "cell_type": "code",
   "execution_count": 536,
   "metadata": {},
   "outputs": [
    {
     "data": {
      "text/html": [
       "<div>\n",
       "<style scoped>\n",
       "    .dataframe tbody tr th:only-of-type {\n",
       "        vertical-align: middle;\n",
       "    }\n",
       "\n",
       "    .dataframe tbody tr th {\n",
       "        vertical-align: top;\n",
       "    }\n",
       "\n",
       "    .dataframe thead th {\n",
       "        text-align: right;\n",
       "    }\n",
       "</style>\n",
       "<table border=\"1\" class=\"dataframe\">\n",
       "  <thead>\n",
       "    <tr style=\"text-align: right;\">\n",
       "      <th></th>\n",
       "      <th>meta_frame</th>\n",
       "      <th>5b58281858e9ba2d120f6ef2</th>\n",
       "      <th>found_items</th>\n",
       "      <th>bird</th>\n",
       "      <th>bear</th>\n",
       "    </tr>\n",
       "  </thead>\n",
       "  <tbody>\n",
       "    <tr>\n",
       "      <th>0</th>\n",
       "      <td>file_name</td>\n",
       "      <td>/home/ubuntu/s3_mount/SampleVideo_1280x720_10mb.mp4</td>\n",
       "      <td>confidence</td>\n",
       "      <td>0.258361</td>\n",
       "      <td>0.260805</td>\n",
       "    </tr>\n",
       "    <tr>\n",
       "      <th>1</th>\n",
       "      <td>fps</td>\n",
       "      <td>25</td>\n",
       "      <td>height</td>\n",
       "      <td>288.673950</td>\n",
       "      <td>610.177063</td>\n",
       "    </tr>\n",
       "    <tr>\n",
       "      <th>2</th>\n",
       "      <td>frame_id</td>\n",
       "      <td>0</td>\n",
       "      <td>id</td>\n",
       "      <td>16.000000</td>\n",
       "      <td>23.000000</td>\n",
       "    </tr>\n",
       "    <tr>\n",
       "      <th>3</th>\n",
       "      <td>height</td>\n",
       "      <td>720</td>\n",
       "      <td>width</td>\n",
       "      <td>181.070068</td>\n",
       "      <td>1043.732666</td>\n",
       "    </tr>\n",
       "    <tr>\n",
       "      <th>4</th>\n",
       "      <td>row_id</td>\n",
       "      <td>0</td>\n",
       "      <td>x_center</td>\n",
       "      <td>159.617218</td>\n",
       "      <td>545.624268</td>\n",
       "    </tr>\n",
       "    <tr>\n",
       "      <th>5</th>\n",
       "      <td>width</td>\n",
       "      <td>1280</td>\n",
       "      <td>y_center</td>\n",
       "      <td>385.527771</td>\n",
       "      <td>308.561066</td>\n",
       "    </tr>\n",
       "  </tbody>\n",
       "</table>\n",
       "</div>"
      ],
      "text/plain": [
       "  meta_frame                             5b58281858e9ba2d120f6ef2 found_items  \\\n",
       "0  file_name  /home/ubuntu/s3_mount/SampleVideo_1280x720_10mb.mp4  confidence   \n",
       "1  fps        25                                                   height       \n",
       "2  frame_id   0                                                    id           \n",
       "3  height     720                                                  width        \n",
       "4  row_id     0                                                    x_center     \n",
       "5  width      1280                                                 y_center     \n",
       "\n",
       "         bird         bear  \n",
       "0  0.258361    0.260805     \n",
       "1  288.673950  610.177063   \n",
       "2  16.000000   23.000000    \n",
       "3  181.070068  1043.732666  \n",
       "4  159.617218  545.624268   \n",
       "5  385.527771  308.561066   "
      ]
     },
     "execution_count": 536,
     "metadata": {},
     "output_type": "execute_result"
    }
   ],
   "source": [
    "pd.concat([dataset, objects], axis=1)"
   ]
  },
  {
   "cell_type": "code",
   "execution_count": null,
   "metadata": {},
   "outputs": [],
   "source": []
  },
  {
   "cell_type": "code",
   "execution_count": null,
   "metadata": {},
   "outputs": [],
   "source": []
  },
  {
   "cell_type": "code",
   "execution_count": null,
   "metadata": {},
   "outputs": [],
   "source": []
  },
  {
   "cell_type": "code",
   "execution_count": 54,
   "metadata": {},
   "outputs": [
    {
     "name": "stdout",
     "output_type": "stream",
     "text": [
      "Help on ObjectDetection in module rocketml.feature_extraction.object_detection object:\n",
      "\n",
      "class ObjectDetection(rocketml.base.Node)\n",
      " |  Detects object using Pre-built Deep Learning Models\n",
      " |  \n",
      " |  Method resolution order:\n",
      " |      ObjectDetection\n",
      " |      rocketml.base.Node\n",
      " |      __builtin__.object\n",
      " |  \n",
      " |  Methods defined here:\n",
      " |  \n",
      " |  __init__(self, model_type='yolo_v2', model_framework='darknet', min_confidence=0.24, dump_json=False, dump_json_prefix='/tmp/jobs_folder/object_detection', object_detection_models_config='/etc/rocketml.d/object_detection/object_detection_models_config.json', **kwargs)\n",
      " |  \n",
      " |  ----------------------------------------------------------------------\n",
      " |  Methods inherited from rocketml.base.Node:\n",
      " |  \n",
      " |  get_app_info(self, data_type, _type='')\n",
      " |      Method to get a list of app names, app data types, and conig files matching this node\n",
      " |  \n",
      " |  to_dict(self)\n",
      " |      Return node as a dictionary\n",
      " |  \n",
      " |  ----------------------------------------------------------------------\n",
      " |  Data descriptors inherited from rocketml.base.Node:\n",
      " |  \n",
      " |  __dict__\n",
      " |      dictionary for instance variables (if defined)\n",
      " |  \n",
      " |  __weakref__\n",
      " |      list of weak references to the object (if defined)\n",
      "\n"
     ]
    }
   ],
   "source": [
    "help(od)"
   ]
  },
  {
   "cell_type": "markdown",
   "metadata": {},
   "source": [
    "## Testing Ground\n"
   ]
  },
  {
   "cell_type": "code",
   "execution_count": 16,
   "metadata": {},
   "outputs": [],
   "source": [
    "#!pip install --user matplotlib"
   ]
  },
  {
   "cell_type": "code",
   "execution_count": 35,
   "metadata": {},
   "outputs": [
    {
     "data": {
      "text/plain": [
       "'3.4.1-dev'"
      ]
     },
     "execution_count": 35,
     "metadata": {},
     "output_type": "execute_result"
    }
   ],
   "source": [
    "import cv2 as cv\n",
    "cv.__version__"
   ]
  },
  {
   "cell_type": "code",
   "execution_count": 41,
   "metadata": {},
   "outputs": [
    {
     "data": {
      "image/png": "[encoded data removed]",
      "text/plain": [
       "<Figure size 432x288 with 1 Axes>"
      ]
     },
     "metadata": {},
     "output_type": "display_data"
    }
   ],
   "source": [
    "import cv2 as cv\n",
    "import matplotlib.pyplot as plt\n",
    "location1='/home/ubuntu/test_folder/ssd_mobilenet_v1_coco_2017_11_17/'\n",
    "location2='/home/ubuntu/test_folder/ssd_inception_v2_coco_2017_11_17/'\n",
    "\n",
    "cvNet = cv.dnn.readNetFromTensorflow(location1+'frozen_inference_graph.pb', location1+'ssd_mobilenet_v1_coco_2017_11_17.pbtxt')\n",
    "\n",
    "img = cv.imread('picture1.jpg')\n",
    "rows = img.shape[0]\n",
    "cols = img.shape[1]\n",
    "cvNet.setInput(cv.dnn.blobFromImage(img, 1.0/127.5, (300, 300), (127.5, 127.5, 127.5), swapRB=True, crop=False))\n",
    "cvOut = cvNet.forward()\n",
    "\n",
    "for detection in cvOut[0,0,:,:]:\n",
    "    score = float(detection[2])\n",
    "    if score > 0.3:\n",
    "        left = detection[3] * cols\n",
    "        top = detection[4] * rows\n",
    "        right = detection[5] * cols\n",
    "        bottom = detection[6] * rows\n",
    "        cv.rectangle(img, (int(left), int(top)), (int(right), int(bottom)), (23, 230, 210), thickness=2)\n",
    "\n",
    "plt.imshow(img)\n",
    "plt.show()"
   ]
  },
  {
   "cell_type": "code",
   "execution_count": null,
   "metadata": {},
   "outputs": [],
   "source": []
  }
 ],
 "metadata": {
  "kernelspec": {
   "display_name": "Python 2",
   "language": "python",
   "name": "python2"
  },
  "language_info": {
   "codemirror_mode": {
    "name": "ipython",
    "version": 2
   },
   "file_extension": ".py",
   "mimetype": "text/x-python",
   "name": "python",
   "nbconvert_exporter": "python",
   "pygments_lexer": "ipython2",
   "version": "2.7.12"
  }
 },
 "nbformat": 4,
 "nbformat_minor": 2
}
