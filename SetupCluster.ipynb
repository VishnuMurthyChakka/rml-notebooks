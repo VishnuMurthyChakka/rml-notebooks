{
 "cells": [
  {
   "cell_type": "markdown",
   "metadata": {},
   "source": [
    "Setup Cluster Notebook\n",
    "==============\n"
   ]
  },
  {
   "cell_type": "markdown",
   "metadata": {},
   "source": [
    "This Jupyer Notebook should help you with the initial stages of setting up your RocketML cluster.\n",
    "\n",
    "*If you haven't installed the cfncluster package yet you may do that by uncommenting the code below and executing the cell.*"
   ]
  },
  {
   "cell_type": "code",
   "execution_count": null,
   "metadata": {
    "scrolled": true
   },
   "outputs": [],
   "source": [
    "#!python -m pip install --upgrade pip\n",
    "#!pip install cfncluster"
   ]
  },
  {
   "cell_type": "markdown",
   "metadata": {},
   "source": [
    "The location below should point to where the config file is placed on your local machine."
   ]
  },
  {
   "cell_type": "code",
   "execution_count": 1,
   "metadata": {},
   "outputs": [],
   "source": [
    "#This location points to where the config file is placed on your local machine.\n",
    "location='/Users/YourUsername/Desktop/RocketML/config.py'"
   ]
  },
  {
   "cell_type": "markdown",
   "metadata": {},
   "source": [
    "**Cluster Creation**\n"
   ]
  },
  {
   "cell_type": "markdown",
   "metadata": {},
   "source": [
    "*Execute the following command to start your RocketML cluster. This will take about 10 minutes or so. Get some coffee or chat up a friend after executing this command.*"
   ]
  },
  {
   "cell_type": "code",
   "execution_count": null,
   "metadata": {},
   "outputs": [],
   "source": [
    "#command    option  name        config location\n",
    "!cfncluster create RmlCluster -config location "
   ]
  },
  {
   "cell_type": "markdown",
   "metadata": {},
   "source": [
    "**Stop and Start Cluster**"
   ]
  },
  {
   "cell_type": "markdown",
   "metadata": {},
   "source": [
    "*\n",
    "**Stopping** and **Starting** the cluster is most often used for troubleshooting purposes. If the cluster appears to be stalling or having issues executing commands sometimes it can be helpful to stop the cluster, followed by a fresh 'start' once completely stopped. This can have the added advantage of not completely deleting the cluster and losing all of your saved work. Unfortunately your unsaved work will most likely be lost; so use this option sparingly. *"
   ]
  },
  {
   "cell_type": "markdown",
   "metadata": {},
   "source": [
    "Stop"
   ]
  },
  {
   "cell_type": "code",
   "execution_count": null,
   "metadata": {},
   "outputs": [],
   "source": [
    "#command    option  name     config locatoin\n",
    "#!cfncluster stop RmlCluster --config location"
   ]
  },
  {
   "cell_type": "markdown",
   "metadata": {},
   "source": [
    "Start"
   ]
  },
  {
   "cell_type": "code",
   "execution_count": null,
   "metadata": {},
   "outputs": [],
   "source": [
    "#!cfncluster start RmlCluster --config location"
   ]
  },
  {
   "cell_type": "markdown",
   "metadata": {},
   "source": [
    "**Cluster Status**"
   ]
  },
  {
   "cell_type": "markdown",
   "metadata": {},
   "source": [
    "*\n",
    "**Cluster Status** is useful for troubleshooting or checking whether the cluster is currently running or not. It will also conveniently provide for you the IP address you will need for connecting to the cluster.*\n"
   ]
  },
  {
   "cell_type": "code",
   "execution_count": null,
   "metadata": {},
   "outputs": [],
   "source": [
    "!cfncluster status RmlCluster --config location"
   ]
  },
  {
   "cell_type": "markdown",
   "metadata": {},
   "source": [
    "**Cluster Deletion**"
   ]
  },
  {
   "cell_type": "markdown",
   "metadata": {},
   "source": [
    "*Be careful executing **Cluster Deletion** will wipe out your cluster and anything you don't have backed up on your S3 bucket and you will need to create a new cluster if you want to use the RocketML system again.*"
   ]
  },
  {
   "cell_type": "code",
   "execution_count": null,
   "metadata": {},
   "outputs": [],
   "source": [
    "!cfncluster delete RmlCluster --config location "
   ]
  },
  {
   "cell_type": "markdown",
   "metadata": {},
   "source": [
    "Mount S3 Bucket\n",
    "-------"
   ]
  },
  {
   "cell_type": "code",
   "execution_count": null,
   "metadata": {},
   "outputs": [],
   "source": [
    "from rocketml.dbutils import mount_s3_bucket,unmount_s3_bucket\n",
    "import os\n",
    "\n",
    "access_key = os.environ.get(\"AWS_ACCESS_KEY\",\"8675309\")#<Insert your AWS access key here \n",
    "secret_key = os.environ.get(\"AWS_SECRET_KEY\",\"rml123456789abc123\")#<Insert your AWS secret key here \n",
    "bucket_name = \"YourBucket-rml\"#<The name for your bucket\n",
    "mount_dir = \"/home/ubuntu/s3_mount\"\n",
    "region='us-east-1'#<check your region- should be on your s3 page\n",
    "mount_s3_bucket(access_key=access_key,secret_key=secret_key,bucket_name=bucket_name,mount_dir=mount_dir,region=region)\n",
    "#unmount_s3_bucket(mount_dir=mount_dir)"
   ]
  },
  {
   "cell_type": "markdown",
   "metadata": {},
   "source": [
    "In Terminal\n",
    "--"
   ]
  },
  {
   "cell_type": "markdown",
   "metadata": {},
   "source": [
    "type: git clone https://github.com/adavanisanti/rml-notebooks"
   ]
  },
  {
   "cell_type": "code",
   "execution_count": null,
   "metadata": {},
   "outputs": [],
   "source": []
  }
 ],
 "metadata": {
  "kernelspec": {
   "display_name": "Python 3",
   "language": "python",
   "name": "python3"
  },
  "language_info": {
   "codemirror_mode": {
    "name": "ipython",
    "version": 3
   },
   "file_extension": ".py",
   "mimetype": "text/x-python",
   "name": "python",
   "nbconvert_exporter": "python",
   "pygments_lexer": "ipython3",
   "version": "3.6.5"
  }
 },
 "nbformat": 4,
 "nbformat_minor": 2
}
