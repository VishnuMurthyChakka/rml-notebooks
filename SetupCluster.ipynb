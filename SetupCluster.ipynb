{
 "cells": [
  {
   "cell_type": "markdown",
   "metadata": {},
   "source": [
    "Cluster Creation\n",
    "----------------\n"
   ]
  },
  {
   "cell_type": "code",
   "execution_count": 1,
   "metadata": {
    "scrolled": true
   },
   "outputs": [],
   "source": [
    "#!pip install cfncluster\n",
    "#!python -m pip install --upgrade pip"
   ]
  },
  {
   "cell_type": "code",
   "execution_count": 1,
   "metadata": {},
   "outputs": [
    {
     "name": "stdout",
     "output_type": "stream",
     "text": [
      "\n",
      "C:\\Users\\pmlef\\Desktop\\RML_work>doskey make=mingw32-make.exe  \n",
      "Beginning cluster creation for cluster: MattRML\n",
      "Creating stack named: cfncluster-MattRML\n",
      "\n",
      "Status: cfncluster-MattRML - CREATE_IN_PROGRESS                                 \n",
      "Status: DynamoDBTable - CREATE_IN_PROGRESS                                      \n",
      "Status: SQS - CREATE_COMPLETE                                                   \n",
      "Status: MasterSecurityGroup - CREATE_COMPLETE                                   \n",
      "Status: MasterENI - CREATE_IN_PROGRESS                                          \n",
      "Status: SNS - CREATE_COMPLETE                                                   \n",
      "Status: MasterSecurityGroupIngress - CREATE_COMPLETE                            \n",
      "Status: DynamoDBTable - CREATE_COMPLETE                                         \n",
      "Status: CfnClusterPolicies - CREATE_IN_PROGRESS                                 \n",
      "Status: CfnClusterPolicies - CREATE_IN_PROGRESS                                 \n",
      "Status: CfnClusterPolicies - CREATE_COMPLETE                                    \n",
      "Status: AssociateEIP - CREATE_COMPLETE                                          \n",
      "Status: AssociateEIP - CREATE_COMPLETE                                          \n",
      "Status: AssociateEIP - CREATE_COMPLETE                                          \n",
      "Status: AssociateEIP - CREATE_COMPLETE                                          \n",
      "Status: AssociateEIP - CREATE_COMPLETE                                          \n",
      "Status: AssociateEIP - CREATE_COMPLETE                                          \n",
      "Status: AssociateEIP - CREATE_COMPLETE                                          \n",
      "Status: AssociateEIP - CREATE_COMPLETE                                          \n",
      "Status: AssociateEIP - CREATE_COMPLETE                                          \n",
      "Status: AssociateEIP - CREATE_COMPLETE                                          \n",
      "Status: AssociateEIP - CREATE_COMPLETE                                          \n",
      "Status: AssociateEIP - CREATE_COMPLETE                                          \n",
      "Status: AssociateEIP - CREATE_COMPLETE                                          \n",
      "Status: AssociateEIP - CREATE_COMPLETE                                          \n",
      "Status: AssociateEIP - CREATE_COMPLETE                                          \n",
      "Status: AssociateEIP - CREATE_COMPLETE                                          \n",
      "Status: AssociateEIP - CREATE_COMPLETE                                          \n",
      "Status: AssociateEIP - CREATE_COMPLETE                                          \n",
      "Status: RootInstanceProfile - CREATE_COMPLETE                                   \n",
      "Status: MasterServer - CREATE_IN_PROGRESS                                       \n",
      "Status: MasterServer - CREATE_IN_PROGRESS                                       \n",
      "Status: MasterServer - CREATE_IN_PROGRESS                                       \n",
      "Status: MasterServer - CREATE_IN_PROGRESS                                       \n",
      "Status: MasterServer - CREATE_IN_PROGRESS                                       \n",
      "Status: MasterServer - CREATE_IN_PROGRESS                                       \n",
      "Status: MasterServer - CREATE_IN_PROGRESS                                       \n",
      "Status: MasterServer - CREATE_IN_PROGRESS                                       \n",
      "Status: MasterServer - CREATE_IN_PROGRESS                                       \n",
      "Status: MasterServer - CREATE_IN_PROGRESS                                       \n",
      "Status: MasterServer - CREATE_IN_PROGRESS                                       \n",
      "Status: MasterServer - CREATE_IN_PROGRESS                                       \n",
      "Status: MasterServer - CREATE_IN_PROGRESS                                       \n",
      "Status: MasterServer - CREATE_IN_PROGRESS                                       \n",
      "Status: MasterServer - CREATE_IN_PROGRESS                                       \n",
      "Status: MasterServer - CREATE_IN_PROGRESS                                       \n",
      "Status: MasterServer - CREATE_IN_PROGRESS                                       \n",
      "Status: MasterServer - CREATE_IN_PROGRESS                                       \n",
      "Status: MasterServer - CREATE_IN_PROGRESS                                       \n",
      "Status: MasterServer - CREATE_IN_PROGRESS                                       \n",
      "Status: MasterServer - CREATE_IN_PROGRESS                                       \n",
      "Status: MasterServer - CREATE_IN_PROGRESS                                       \n",
      "Status: MasterServer - CREATE_IN_PROGRESS                                       \n",
      "Status: MasterServer - CREATE_IN_PROGRESS                                       \n",
      "Status: MasterServer - CREATE_IN_PROGRESS                                       \n",
      "Status: MasterServer - CREATE_IN_PROGRESS                                       \n",
      "Status: MasterServer - CREATE_IN_PROGRESS                                       \n",
      "Status: MasterServer - CREATE_IN_PROGRESS                                       \n",
      "Status: MasterServer - CREATE_IN_PROGRESS                                       \n",
      "Status: MasterServer - CREATE_IN_PROGRESS                                       \n",
      "Status: MasterServer - CREATE_IN_PROGRESS                                       \n",
      "Status: MasterServer - CREATE_IN_PROGRESS                                       \n",
      "Status: MasterServer - CREATE_IN_PROGRESS                                       \n",
      "Status: MasterServer - CREATE_IN_PROGRESS                                       \n",
      "Status: MasterServer - CREATE_IN_PROGRESS                                       \n",
      "Status: MasterServer - CREATE_IN_PROGRESS                                       \n",
      "Status: MasterServer - CREATE_IN_PROGRESS                                       \n",
      "Status: MasterServer - CREATE_IN_PROGRESS                                       \n",
      "Status: MasterServer - CREATE_IN_PROGRESS                                       \n",
      "Status: MasterServer - CREATE_IN_PROGRESS                                       \n",
      "Status: MasterServer - CREATE_IN_PROGRESS                                       \n",
      "Status: MasterServer - CREATE_IN_PROGRESS                                       \n",
      "Status: MasterServer - CREATE_IN_PROGRESS                                       \n",
      "Status: MasterServer - CREATE_IN_PROGRESS                                       \n",
      "Status: MasterServer - CREATE_IN_PROGRESS                                       \n",
      "Status: MasterServer - CREATE_IN_PROGRESS                                       \n",
      "Status: MasterServer - CREATE_IN_PROGRESS                                       \n",
      "Status: MasterServer - CREATE_IN_PROGRESS                                       \n",
      "Status: MasterServer - CREATE_IN_PROGRESS                                       \n",
      "Status: MasterServer - CREATE_IN_PROGRESS                                       \n",
      "Status: MasterServer - CREATE_IN_PROGRESS                                       \n",
      "Status: MasterServer - CREATE_IN_PROGRESS                                       \n",
      "Status: MasterServer - CREATE_IN_PROGRESS                                       \n",
      "Status: MasterServer - CREATE_IN_PROGRESS                                       \n",
      "Status: MasterServer - CREATE_IN_PROGRESS                                       \n",
      "Status: MasterServer - CREATE_IN_PROGRESS                                       \n",
      "Status: MasterServer - CREATE_IN_PROGRESS                                       \n",
      "Status: MasterServer - CREATE_IN_PROGRESS                                       \n",
      "Status: MasterServer - CREATE_IN_PROGRESS                                       \n",
      "Status: MasterServer - CREATE_IN_PROGRESS                                       \n",
      "Status: MasterServer - CREATE_COMPLETE                                          \n",
      "Status: ComputeServerLaunchConfig - CREATE_COMPLETE                             \n",
      "Status: ComputeFleet - CREATE_IN_PROGRESS                                       \n",
      "Status: ComputeFleet - CREATE_IN_PROGRESS                                       \n",
      "Status: ComputeFleet - CREATE_IN_PROGRESS                                       \n",
      "Status: ComputeFleet - CREATE_IN_PROGRESS                                       \n",
      "Status: ComputeFleet - CREATE_IN_PROGRESS                                       \n",
      "Status: ComputeFleet - CREATE_IN_PROGRESS                                       \n",
      "Status: ComputeFleet - CREATE_IN_PROGRESS                                       \n",
      "Status: ComputeFleet - CREATE_IN_PROGRESS                                       \n",
      "Status: ComputeFleet - CREATE_IN_PROGRESS                                       \n",
      "Status: ComputeFleet - CREATE_IN_PROGRESS                                       \n",
      "Status: ComputeFleet - CREATE_IN_PROGRESS                                       \n",
      "Status: ComputeFleet - CREATE_IN_PROGRESS                                       \n",
      "Status: ComputeFleet - CREATE_IN_PROGRESS                                       \n",
      "Status: ComputeFleet - CREATE_IN_PROGRESS                                       \n",
      "Status: ComputeFleet - CREATE_IN_PROGRESS                                       \n",
      "Status: ComputeFleet - CREATE_IN_PROGRESS                                       \n",
      "Status: ComputeFleet - CREATE_IN_PROGRESS                                       \n",
      "Status: ComputeFleet - CREATE_IN_PROGRESS                                       \n",
      "Status: ComputeFleet - CREATE_IN_PROGRESS                                       \n",
      "Status: ComputeFleet - CREATE_IN_PROGRESS                                       \n",
      "Status: ComputeFleet - CREATE_IN_PROGRESS                                       \n",
      "Status: ComputeFleet - CREATE_IN_PROGRESS                                       \n",
      "Status: ComputeFleet - CREATE_IN_PROGRESS                                       \n",
      "Status: ComputeFleet - CREATE_IN_PROGRESS                                       \n",
      "Status: ComputeFleet - CREATE_IN_PROGRESS                                       \n",
      "Status: ComputeFleet - CREATE_IN_PROGRESS                                       \n",
      "Status: ComputeFleet - CREATE_IN_PROGRESS                                       \n",
      "Status: ComputeFleet - CREATE_IN_PROGRESS                                       \n",
      "Status: ComputeFleet - CREATE_IN_PROGRESS                                       \n",
      "Status: ComputeFleet - CREATE_IN_PROGRESS                                       \n",
      "Status: ComputeFleet - CREATE_IN_PROGRESS                                       \n",
      "Status: ComputeFleet - CREATE_IN_PROGRESS                                       \n",
      "Status: ComputeFleet - CREATE_IN_PROGRESS                                       \n",
      "Status: ComputeFleet - CREATE_IN_PROGRESS                                       \n",
      "Status: ComputeFleet - CREATE_IN_PROGRESS                                       \n",
      "Status: ComputeFleet - CREATE_IN_PROGRESS                                       \n",
      "Status: ComputeFleet - CREATE_IN_PROGRESS                                       \n",
      "Status: ComputeFleet - CREATE_IN_PROGRESS                                       \n",
      "Status: ComputeFleet - CREATE_IN_PROGRESS                                       \n",
      "Status: ComputeFleet - CREATE_IN_PROGRESS                                       \n",
      "Status: ComputeFleet - CREATE_IN_PROGRESS                                       \n",
      "Status: ComputeFleet - CREATE_IN_PROGRESS                                       \n",
      "Status: ComputeFleet - CREATE_IN_PROGRESS                                       \n",
      "Status: ComputeFleet - CREATE_IN_PROGRESS                                       \n",
      "Status: ComputeFleet - CREATE_IN_PROGRESS                                       \n",
      "Status: ComputeFleet - CREATE_IN_PROGRESS                                       \n",
      "Status: ComputeFleet - CREATE_IN_PROGRESS                                       \n",
      "Status: ComputeFleet - CREATE_IN_PROGRESS                                       \n",
      "Status: ComputeFleet - CREATE_IN_PROGRESS                                       \n",
      "Status: ComputeFleet - CREATE_IN_PROGRESS                                       \n",
      "Status: ComputeFleet - CREATE_COMPLETE                                          \n",
      "Status: ScaleUpPolicy2 - CREATE_COMPLETE                                        \n",
      "Status: AddCapacityAlarm2 - CREATE_COMPLETE                                     Could not connect to the endpoint URL: \"https://cloudformation.us-west-2.amazonaws.com/\"\n"
     ]
    }
   ],
   "source": [
    "#command    option  name        config location\n",
    "!cfncluster create RmlCluster -config /Users/pmlef/Desktop/RML_Work/config.py "
   ]
  },
  {
   "cell_type": "code",
   "execution_count": 3,
   "metadata": {},
   "outputs": [
    {
     "name": "stdout",
     "output_type": "stream",
     "text": [
      "\n",
      "C:\\Users\\pmlef\\Desktop\\RML_work>doskey make=mingw32-make.exe  \n",
      "Stopping compute fleet : MattRML\n"
     ]
    }
   ],
   "source": [
    "#command    option  name     config locatoin\n",
    "!cfncluster stop RmlCluster --config /Users/pmlef/Desktop/RML_Work/config.py "
   ]
  },
  {
   "cell_type": "code",
   "execution_count": 4,
   "metadata": {},
   "outputs": [
    {
     "name": "stdout",
     "output_type": "stream",
     "text": [
      "\n",
      "C:\\Users\\pmlef\\Desktop\\RML_work>doskey make=mingw32-make.exe  \n",
      "Starting compute fleet : MattRML\n"
     ]
    }
   ],
   "source": [
    "!cfncluster start RmlCluster --config /Users/pmlef/Desktop/RML_Work/config.py "
   ]
  },
  {
   "cell_type": "code",
   "execution_count": 1,
   "metadata": {},
   "outputs": [
    {
     "name": "stdout",
     "output_type": "stream",
     "text": [
      "\n",
      "C:\\Users\\pmlef\\Desktop\\RML_work>doskey make=mingw32-make.exe  \n",
      "\n",
      "Status: CREATE_COMPLETE\n",
      "Status: CREATE_COMPLETE\n",
      "\n",
      "MasterServer: RUNNING\n",
      "MasterServer: RUNNING\n",
      "MasterPublicIP: 52.11.252.17\n",
      "ClusterUser: ubuntu\n",
      "MasterPrivateIP: 172.31.22.251\n",
      "GangliaPublicURL: http://52.11.252.17/ganglia/\n",
      "GangliaPrivateURL: http://172.31.22.251/ganglia/\n"
     ]
    }
   ],
   "source": [
    "!cfncluster status RmlCluster --config /Users/pmlef/Desktop/RML_Work/config.py "
   ]
  },
  {
   "cell_type": "code",
   "execution_count": 5,
   "metadata": {},
   "outputs": [
    {
     "name": "stdout",
     "output_type": "stream",
     "text": [
      "\n",
      "C:\\Users\\pmlef\\Desktop\\RML_work>doskey make=mingw32-make.exe  \n",
      "Deleting: MattRML\n",
      "\n",
      "Status: DELETE_IN_PROGRESS\n",
      "Status: ComputeFleet - DELETE_IN_PROGRESS                                       \n",
      "Status: ComputeFleet - DELETE_IN_PROGRESS                                       \n",
      "Status: ComputeFleet - DELETE_IN_PROGRESS                                       \n",
      "Status: MasterEIP - DELETE_COMPLETE                                             \n",
      "Status: MasterEIP - DELETE_COMPLETE                                             \n",
      "Status: MasterEIP - DELETE_COMPLETE                                             \n",
      "Status: MasterEIP - DELETE_COMPLETE                                             \n",
      "Status: MasterEIP - DELETE_COMPLETE                                             \n",
      "Status: MasterEIP - DELETE_COMPLETE                                             \n",
      "Status: MasterEIP - DELETE_COMPLETE                                             \n",
      "Status: MasterEIP - DELETE_COMPLETE                                             \n",
      "Status: MasterEIP - DELETE_COMPLETE                                             \n",
      "Status: MasterEIP - DELETE_COMPLETE                                             \n",
      "Status: MasterEIP - DELETE_COMPLETE                                             \n",
      "Status: MasterEIP - DELETE_COMPLETE                                             \n",
      "Status: MasterEIP - DELETE_COMPLETE                                             \n",
      "Status: MasterEIP - DELETE_COMPLETE                                             \n",
      "Status: MasterEIP - DELETE_COMPLETE                                             \n",
      "Status: MasterEIP - DELETE_COMPLETE                                             \n",
      "Status: MasterEIP - DELETE_COMPLETE                                             \n",
      "Status: MasterEIP - DELETE_COMPLETE                                             \n",
      "Status: MasterEIP - DELETE_COMPLETE                                             \n",
      "Status: MasterEIP - DELETE_COMPLETE                                             \n",
      "Status: MasterEIP - DELETE_COMPLETE                                             \n",
      "Status: MasterEIP - DELETE_COMPLETE                                             \n",
      "Status: MasterEIP - DELETE_COMPLETE                                             \n",
      "Status: MasterEIP - DELETE_COMPLETE                                             \n",
      "Status: MasterEIP - DELETE_COMPLETE                                             \n",
      "Status: MasterEIP - DELETE_COMPLETE                                             \n",
      "Status: MasterEIP - DELETE_COMPLETE                                             \n",
      "Status: MasterEIP - DELETE_COMPLETE                                             \n",
      "Status: MasterEIP - DELETE_COMPLETE                                             \n",
      "Status: MasterEIP - DELETE_COMPLETE                                             \n",
      "Status: MasterEIP - DELETE_COMPLETE                                             \n",
      "Status: MasterEIP - DELETE_COMPLETE                                             \n",
      "Status: MasterEIP - DELETE_COMPLETE                                             \n",
      "Status: MasterEIP - DELETE_COMPLETE                                             \n",
      "Status: MasterEIP - DELETE_COMPLETE                                             \n",
      "Status: MasterEIP - DELETE_COMPLETE                                             \n",
      "Status: MasterEIP - DELETE_COMPLETE                                             \n",
      "Status: MasterEIP - DELETE_COMPLETE                                             \n",
      "Status: MasterEIP - DELETE_COMPLETE                                             \n",
      "Status: MasterEIP - DELETE_COMPLETE                                             \n",
      "Status: MasterEIP - DELETE_COMPLETE                                             \n",
      "Status: MasterEIP - DELETE_COMPLETE                                             \n",
      "Status: MasterEIP - DELETE_COMPLETE                                             \n",
      "Status: MasterEIP - DELETE_COMPLETE                                             \n",
      "Status: MasterEIP - DELETE_COMPLETE                                             \n",
      "Status: MasterEIP - DELETE_COMPLETE                                             \n",
      "Status: MasterEIP - DELETE_COMPLETE                                             \n",
      "Status: MasterEIP - DELETE_COMPLETE                                             \n",
      "Status: MasterEIP - DELETE_COMPLETE                                             \n",
      "Status: MasterEIP - DELETE_COMPLETE                                             \n",
      "Status: ComputeSecurityGroup - DELETE_IN_PROGRESS                               \n",
      "Status: ComputeSecurityGroup - DELETE_COMPLETE                                  \n",
      "Status: ComputeSecurityGroup - DELETE_COMPLETE                                  \n",
      "Status: ComputeSecurityGroup - DELETE_COMPLETE                                  \n",
      "Status: ComputeSecurityGroup - DELETE_COMPLETE                                  \n",
      "Status: ComputeSecurityGroup - DELETE_COMPLETE                                  \n",
      "Status: ComputeSecurityGroup - DELETE_COMPLETE                                  \n",
      "Status: ComputeSecurityGroup - DELETE_COMPLETE                                  \n",
      "Status: ComputeSecurityGroup - DELETE_COMPLETE                                  \n",
      "Status: ComputeSecurityGroup - DELETE_COMPLETE                                  \n",
      "Status: ComputeSecurityGroup - DELETE_COMPLETE                                  \n",
      "Status: ComputeSecurityGroup - DELETE_COMPLETE                                  \n",
      "Status: ComputeSecurityGroup - DELETE_COMPLETE                                  \n",
      "Status: ComputeSecurityGroup - DELETE_COMPLETE                                  \n",
      "Status: ComputeSecurityGroup - DELETE_COMPLETE                                  \n",
      "Status: ComputeSecurityGroup - DELETE_COMPLETE                                  \n",
      "Status: ComputeSecurityGroup - DELETE_COMPLETE                                  \n",
      "Status: RootRole - DELETE_COMPLETE                                              \n",
      "Status: RootRole - DELETE_COMPLETE                                              \n",
      "Status: RootRole - DELETE_COMPLETE                                              \n",
      "Status: MasterSecurityGroup - DELETE_COMPLETE                                   \n",
      "Status: MasterSecurityGroup - DELETE_COMPLETE                                   \n",
      "Status: MasterSecurityGroup - DELETE_COMPLETE                                   \n",
      "Status: DynamoDBTable - DELETE_COMPLETE                                         \n",
      "Status: DynamoDBTable - DELETE_COMPLETE                                         \n",
      "Status: DynamoDBTable - DELETE_COMPLETE                                         \n",
      "Status: DynamoDBTable - DELETE_COMPLETE                                         \n",
      "Status: DynamoDBTable - DELETE_COMPLETE                                         \n",
      "Cluster deleted successfully.\n"
     ]
    }
   ],
   "source": [
    "!cfncluster delete RmlCluster --config /Users/pmlef/Desktop/RML_Work/config.py "
   ]
  },
  {
   "cell_type": "markdown",
   "metadata": {},
   "source": [
    "Mount S3 Bucket\n",
    "-------"
   ]
  },
  {
   "cell_type": "code",
   "execution_count": null,
   "metadata": {
    "collapsed": true
   },
   "outputs": [],
   "source": [
    "from rocketml.dbutils import mount_s3_bucket,unmount_s3_bucket\n",
    "import os\n",
    "\n",
    "access_key = os.environ.get(\"AWS_ACCESS_KEY\",\"8675309\")#<Insert your AWS access key here \n",
    "secret_key = os.environ.get(\"AWS_SECRET_KEY\",\"rml123456789abc123\")#<Insert your AWS secret key here \n",
    "bucket_name = \"YourBucket-rml\"#<The name for your bucket\n",
    "mount_dir = \"/home/ubuntu/s3_mount\"\n",
    "region='us-east-1'#<check your region- should be on your s3 page\n",
    "mount_s3_bucket(access_key=access_key,secret_key=secret_key,bucket_name=bucket_name,mount_dir=mount_dir,region=region)\n",
    "#unmount_s3_bucket(mount_dir=mount_dir)"
   ]
  },
  {
   "cell_type": "markdown",
   "metadata": {},
   "source": [
    "In Terminal\n",
    "--"
   ]
  },
  {
   "cell_type": "markdown",
   "metadata": {},
   "source": [
    "type: git clone https://github.com/adavanisanti/rml-notebooks"
   ]
  }
 ],
 "metadata": {
  "kernelspec": {
   "display_name": "Python 3",
   "language": "python",
   "name": "python3"
  },
  "language_info": {
   "codemirror_mode": {
    "name": "ipython",
    "version": 3
   },
   "file_extension": ".py",
   "mimetype": "text/x-python",
   "name": "python",
   "nbconvert_exporter": "python",
   "pygments_lexer": "ipython3",
   "version": "3.6.5"
  }
 },
 "nbformat": 4,
 "nbformat_minor": 2
}
