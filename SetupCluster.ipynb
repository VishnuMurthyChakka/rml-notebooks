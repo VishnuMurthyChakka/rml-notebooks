{
 "cells": [
  {
   "cell_type": "markdown",
   "metadata": {},
   "source": [
    "Cluster Creation\n",
    "----------------\n"
   ]
  },
  {
   "cell_type": "code",
   "execution_count": null,
   "metadata": {
    "scrolled": true
   },
   "outputs": [],
   "source": [
    "#!pip install cfncluster\n",
    "#!python -m pip install --upgrade pip"
   ]
  },
  {
   "cell_type": "code",
   "execution_count": null,
   "metadata": {},
   "outputs": [],
   "source": [
    "#location where the config file is placed\n",
    "location='/Users/pmlef/Desktop/RML_Work/config.py'"
   ]
  },
  {
   "cell_type": "code",
   "execution_count": null,
   "metadata": {},
   "outputs": [],
   "source": [
    "#command    option  name        config location\n",
    "!cfncluster create RmlCluster -config location "
   ]
  },
  {
   "cell_type": "code",
   "execution_count": null,
   "metadata": {},
   "outputs": [],
   "source": [
    "#command    option  name     config locatoin\n",
    "!cfncluster stop RmlCluster --config location"
   ]
  },
  {
   "cell_type": "code",
   "execution_count": null,
   "metadata": {},
   "outputs": [],
   "source": [
    "!cfncluster start RmlCluster --config location"
   ]
  },
  {
   "cell_type": "code",
   "execution_count": null,
   "metadata": {},
   "outputs": [],
   "source": [
    "!cfncluster status RmlCluster --config location"
   ]
  },
  {
   "cell_type": "code",
   "execution_count": null,
   "metadata": {},
   "outputs": [],
   "source": [
    "!cfncluster delete RmlCluster --config location "
   ]
  },
  {
   "cell_type": "markdown",
   "metadata": {},
   "source": [
    "Mount S3 Bucket\n",
    "-------"
   ]
  },
  {
   "cell_type": "code",
   "execution_count": null,
   "metadata": {},
   "outputs": [],
   "source": [
    "from rocketml.dbutils import mount_s3_bucket,unmount_s3_bucket\n",
    "import os\n",
    "\n",
    "access_key = os.environ.get(\"AWS_ACCESS_KEY\",\"8675309\")#<Insert your AWS access key here \n",
    "secret_key = os.environ.get(\"AWS_SECRET_KEY\",\"rml123456789abc123\")#<Insert your AWS secret key here \n",
    "bucket_name = \"YourBucket-rml\"#<The name for your bucket\n",
    "mount_dir = \"/home/ubuntu/s3_mount\"\n",
    "region='us-east-1'#<check your region- should be on your s3 page\n",
    "mount_s3_bucket(access_key=access_key,secret_key=secret_key,bucket_name=bucket_name,mount_dir=mount_dir,region=region)\n",
    "#unmount_s3_bucket(mount_dir=mount_dir)"
   ]
  },
  {
   "cell_type": "markdown",
   "metadata": {},
   "source": [
    "In Terminal\n",
    "--"
   ]
  },
  {
   "cell_type": "markdown",
   "metadata": {},
   "source": [
    "type: git clone https://github.com/adavanisanti/rml-notebooks"
   ]
  }
 ],
 "metadata": {
  "kernelspec": {
   "display_name": "Python 3",
   "language": "python",
   "name": "python3"
  },
  "language_info": {
   "codemirror_mode": {
    "name": "ipython",
    "version": 3
   },
   "file_extension": ".py",
   "mimetype": "text/x-python",
   "name": "python",
   "nbconvert_exporter": "python",
   "pygments_lexer": "ipython3",
   "version": "3.6.5"
  }
 },
 "nbformat": 4,
 "nbformat_minor": 2
}
