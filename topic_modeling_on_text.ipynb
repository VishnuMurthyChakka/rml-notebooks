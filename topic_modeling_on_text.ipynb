{
 "cells": [
  {
   "cell_type": "markdown",
   "metadata": {},
   "source": [
    "# RocketML text topic modeling using SVD\n",
    "## Import Libraries"
   ]
  },
  {
   "cell_type": "code",
   "execution_count": 14,
   "metadata": {},
   "outputs": [],
   "source": [
    "from rocketml.io import DocumentSet\n",
    "from rocketml.decomposition import TruncatedSVD\n",
    "from rocketml.preprocessing import TextFilter\n",
    "from rocketml import Pipeline\n",
    "import sys\n",
    "import pandas as pd\n",
    "import seaborn as sns\n",
    "\n",
    "from bokeh.plotting import figure,show\n",
    "from bokeh.io import output_notebook\n",
    "from bokeh.models import ColumnDataSource, HoverTool\n",
    "from bokeh.models.ranges import Range1d\n",
    "\n",
    "%matplotlib inline"
   ]
  },
  {
   "cell_type": "markdown",
   "metadata": {},
   "source": [
    "## Create Document Set"
   ]
  },
  {
   "cell_type": "code",
   "execution_count": 15,
   "metadata": {},
   "outputs": [
    {
     "name": "stdout",
     "output_type": "stream",
     "text": [
      "<rocketml.preprocessing.text.TextFilter object at 0x7f8edba180d0>\n",
      "text\n",
      "------------------\n",
      "Cluster Resources\n",
      "------------------\n",
      "Nodes        = 4\n",
      "Sockets/node = 1\n",
      "Cores/socket = 8\n",
      "--------------------------\n",
      "Total Cores    = 32\n",
      "Total Memory(GB)   = 121.68\n",
      "--------------------------\n",
      "/shared/jobs_folder/010879f9/output.txt\n"
     ]
    },
    {
     "data": {
      "text/plain": [
       "137"
      ]
     },
     "execution_count": 15,
     "metadata": {},
     "output_type": "execute_result"
    }
   ],
   "source": [
    "filename = \"/home/ubuntu/examples/345_blogs_list.txt\"\n",
    "docset = DocumentSet(filename=filename)\n",
    "tf = TextFilter(stop_word_filter=True,stemming_filter=True,length_filter=True)\n",
    "svd = TruncatedSVD()\n",
    "pipeline = Pipeline([tf,svd])\n",
    "pipeline.fit(docset)\n",
    "len(docset.documents)"
   ]
  },
  {
   "cell_type": "markdown",
   "metadata": {},
   "source": [
    "## Plot Singular Values"
   ]
  },
  {
   "cell_type": "code",
   "execution_count": 16,
   "metadata": {},
   "outputs": [
    {
     "data": {
      "text/plain": [
       "<matplotlib.axes._subplots.AxesSubplot at 0x7f8f5c03e890>"
      ]
     },
     "execution_count": 16,
     "metadata": {},
     "output_type": "execute_result"
    },
    {
     "data": {
      "image/png": "[encoded data removed]",
      "text/plain": [
       "<Figure size 432x288 with 1 Axes>"
      ]
     },
     "metadata": {},
     "output_type": "display_data"
    }
   ],
   "source": [
    "sns.tsplot(svd.singular_values_)"
   ]
  },
  {
   "cell_type": "markdown",
   "metadata": {},
   "source": [
    "## Check term frequencies"
   ]
  },
  {
   "cell_type": "code",
   "execution_count": 18,
   "metadata": {},
   "outputs": [],
   "source": [
    "df = pd.DataFrame([[key,value] for key,value in docset.terms_document_frequencies.iteritems()],columns=[\"Term\",\"Frequency\"])"
   ]
  },
  {
   "cell_type": "code",
   "execution_count": 19,
   "metadata": {},
   "outputs": [],
   "source": [
    "df_high = df[df[\"Frequency\"] > 120].sort_values(by=[\"Frequency\"],ascending=False)"
   ]
  },
  {
   "cell_type": "markdown",
   "metadata": {},
   "source": [
    "## Plot term frequencies using bokeh"
   ]
  },
  {
   "cell_type": "code",
   "execution_count": 10,
   "metadata": {},
   "outputs": [
    {
     "data": {
      "text/html": [
       "\n",
       "    <div class=\"bk-root\">\n",
       "        <a href=\"https://bokeh.pydata.org\" target=\"_blank\" class=\"bk-logo bk-logo-small bk-logo-notebook\"></a>\n",
       "        <span id=\"a9592cf8-194b-4c5b-9305-4399984ef020\">Loading BokehJS ...</span>\n",
       "    </div>"
      ]
     },
     "metadata": {},
     "output_type": "display_data"
    },
    {
     "data": {
      "application/javascript": [
       "\n",
       "(function(root) {\n",
       "  function now() {\n",
       "    return new Date();\n",
       "  }\n",
       "\n",
       "  var force = true;\n",
       "\n",
       "  if (typeof (root._bokeh_onload_callbacks) === \"undefined\" || force === true) {\n",
       "    root._bokeh_onload_callbacks = [];\n",
       "    root._bokeh_is_loading = undefined;\n",
       "  }\n",
       "\n",
       "  var JS_MIME_TYPE = 'application/javascript';\n",
       "  var HTML_MIME_TYPE = 'text/html';\n",
       "  var EXEC_MIME_TYPE = 'application/vnd.bokehjs_exec.v0+json';\n",
       "  var CLASS_NAME = 'output_bokeh rendered_html';\n",
       "\n",
       "  /**\n",
       "   * Render data to the DOM node\n",
       "   */\n",
       "  function render(props, node) {\n",
       "    var script = document.createElement(\"script\");\n",
       "    node.appendChild(script);\n",
       "  }\n",
       "\n",
       "  /**\n",
       "   * Handle when an output is cleared or removed\n",
       "   */\n",
       "  function handleClearOutput(event, handle) {\n",
       "    var cell = handle.cell;\n",
       "\n",
       "    var id = cell.output_area._bokeh_element_id;\n",
       "    var server_id = cell.output_area._bokeh_server_id;\n",
       "    // Clean up Bokeh references\n",
       "    if (id != null && id in Bokeh.index) {\n",
       "      Bokeh.index[id].model.document.clear();\n",
       "      delete Bokeh.index[id];\n",
       "    }\n",
       "\n",
       "    if (server_id !== undefined) {\n",
       "      // Clean up Bokeh references\n",
       "      var cmd = \"from bokeh.io.state import curstate; print(curstate().uuid_to_server['\" + server_id + \"'].get_sessions()[0].document.roots[0]._id)\";\n",
       "      cell.notebook.kernel.execute(cmd, {\n",
       "        iopub: {\n",
       "          output: function(msg) {\n",
       "            var id = msg.content.text.trim();\n",
       "            if (id in Bokeh.index) {\n",
       "              Bokeh.index[id].model.document.clear();\n",
       "              delete Bokeh.index[id];\n",
       "            }\n",
       "          }\n",
       "        }\n",
       "      });\n",
       "      // Destroy server and session\n",
       "      var cmd = \"import bokeh.io.notebook as ion; ion.destroy_server('\" + server_id + \"')\";\n",
       "      cell.notebook.kernel.execute(cmd);\n",
       "    }\n",
       "  }\n",
       "\n",
       "  /**\n",
       "   * Handle when a new output is added\n",
       "   */\n",
       "  function handleAddOutput(event, handle) {\n",
       "    var output_area = handle.output_area;\n",
       "    var output = handle.output;\n",
       "\n",
       "    // limit handleAddOutput to display_data with EXEC_MIME_TYPE content only\n",
       "    if ((output.output_type != \"display_data\") || (!output.data.hasOwnProperty(EXEC_MIME_TYPE))) {\n",
       "      return\n",
       "    }\n",
       "\n",
       "    var toinsert = output_area.element.find(\".\" + CLASS_NAME.split(' ')[0]);\n",
       "\n",
       "    if (output.metadata[EXEC_MIME_TYPE][\"id\"] !== undefined) {\n",
       "      toinsert[toinsert.length - 1].firstChild.textContent = output.data[JS_MIME_TYPE];\n",
       "      // store reference to embed id on output_area\n",
       "      output_area._bokeh_element_id = output.metadata[EXEC_MIME_TYPE][\"id\"];\n",
       "    }\n",
       "    if (output.metadata[EXEC_MIME_TYPE][\"server_id\"] !== undefined) {\n",
       "      var bk_div = document.createElement(\"div\");\n",
       "      bk_div.innerHTML = output.data[HTML_MIME_TYPE];\n",
       "      var script_attrs = bk_div.children[0].attributes;\n",
       "      for (var i = 0; i < script_attrs.length; i++) {\n",
       "        toinsert[toinsert.length - 1].firstChild.setAttribute(script_attrs[i].name, script_attrs[i].value);\n",
       "      }\n",
       "      // store reference to server id on output_area\n",
       "      output_area._bokeh_server_id = output.metadata[EXEC_MIME_TYPE][\"server_id\"];\n",
       "    }\n",
       "  }\n",
       "\n",
       "  function register_renderer(events, OutputArea) {\n",
       "\n",
       "    function append_mime(data, metadata, element) {\n",
       "      // create a DOM node to render to\n",
       "      var toinsert = this.create_output_subarea(\n",
       "        metadata,\n",
       "        CLASS_NAME,\n",
       "        EXEC_MIME_TYPE\n",
       "      );\n",
       "      this.keyboard_manager.register_events(toinsert);\n",
       "      // Render to node\n",
       "      var props = {data: data, metadata: metadata[EXEC_MIME_TYPE]};\n",
       "      render(props, toinsert[toinsert.length - 1]);\n",
       "      element.append(toinsert);\n",
       "      return toinsert\n",
       "    }\n",
       "\n",
       "    /* Handle when an output is cleared or removed */\n",
       "    events.on('clear_output.CodeCell', handleClearOutput);\n",
       "    events.on('delete.Cell', handleClearOutput);\n",
       "\n",
       "    /* Handle when a new output is added */\n",
       "    events.on('output_added.OutputArea', handleAddOutput);\n",
       "\n",
       "    /**\n",
       "     * Register the mime type and append_mime function with output_area\n",
       "     */\n",
       "    OutputArea.prototype.register_mime_type(EXEC_MIME_TYPE, append_mime, {\n",
       "      /* Is output safe? */\n",
       "      safe: true,\n",
       "      /* Index of renderer in `output_area.display_order` */\n",
       "      index: 0\n",
       "    });\n",
       "  }\n",
       "\n",
       "  // register the mime type if in Jupyter Notebook environment and previously unregistered\n",
       "  if (root.Jupyter !== undefined) {\n",
       "    var events = require('base/js/events');\n",
       "    var OutputArea = require('notebook/js/outputarea').OutputArea;\n",
       "\n",
       "    if (OutputArea.prototype.mime_types().indexOf(EXEC_MIME_TYPE) == -1) {\n",
       "      register_renderer(events, OutputArea);\n",
       "    }\n",
       "  }\n",
       "\n",
       "  \n",
       "  if (typeof (root._bokeh_timeout) === \"undefined\" || force === true) {\n",
       "    root._bokeh_timeout = Date.now() + 5000;\n",
       "    root._bokeh_failed_load = false;\n",
       "  }\n",
       "\n",
       "  var NB_LOAD_WARNING = {'data': {'text/html':\n",
       "     \"<div style='background-color: #fdd'>\\n\"+\n",
       "     \"<p>\\n\"+\n",
       "     \"BokehJS does not appear to have successfully loaded. If loading BokehJS from CDN, this \\n\"+\n",
       "     \"may be due to a slow or bad network connection. Possible fixes:\\n\"+\n",
       "     \"</p>\\n\"+\n",
       "     \"<ul>\\n\"+\n",
       "     \"<li>re-rerun `output_notebook()` to attempt to load from CDN again, or</li>\\n\"+\n",
       "     \"<li>use INLINE resources instead, as so:</li>\\n\"+\n",
       "     \"</ul>\\n\"+\n",
       "     \"<code>\\n\"+\n",
       "     \"from bokeh.resources import INLINE\\n\"+\n",
       "     \"output_notebook(resources=INLINE)\\n\"+\n",
       "     \"</code>\\n\"+\n",
       "     \"</div>\"}};\n",
       "\n",
       "  function display_loaded() {\n",
       "    var el = document.getElementById(\"a9592cf8-194b-4c5b-9305-4399984ef020\");\n",
       "    if (el != null) {\n",
       "      el.textContent = \"BokehJS is loading...\";\n",
       "    }\n",
       "    if (root.Bokeh !== undefined) {\n",
       "      if (el != null) {\n",
       "        el.textContent = \"BokehJS \" + root.Bokeh.version + \" successfully loaded.\";\n",
       "      }\n",
       "    } else if (Date.now() < root._bokeh_timeout) {\n",
       "      setTimeout(display_loaded, 100)\n",
       "    }\n",
       "  }\n",
       "\n",
       "\n",
       "  function run_callbacks() {\n",
       "    try {\n",
       "      root._bokeh_onload_callbacks.forEach(function(callback) { callback() });\n",
       "    }\n",
       "    finally {\n",
       "      delete root._bokeh_onload_callbacks\n",
       "    }\n",
       "    console.info(\"Bokeh: all callbacks have finished\");\n",
       "  }\n",
       "\n",
       "  function load_libs(js_urls, callback) {\n",
       "    root._bokeh_onload_callbacks.push(callback);\n",
       "    if (root._bokeh_is_loading > 0) {\n",
       "      console.log(\"Bokeh: BokehJS is being loaded, scheduling callback at\", now());\n",
       "      return null;\n",
       "    }\n",
       "    if (js_urls == null || js_urls.length === 0) {\n",
       "      run_callbacks();\n",
       "      return null;\n",
       "    }\n",
       "    console.log(\"Bokeh: BokehJS not loaded, scheduling load and callback at\", now());\n",
       "    root._bokeh_is_loading = js_urls.length;\n",
       "    for (var i = 0; i < js_urls.length; i++) {\n",
       "      var url = js_urls[i];\n",
       "      var s = document.createElement('script');\n",
       "      s.src = url;\n",
       "      s.async = false;\n",
       "      s.onreadystatechange = s.onload = function() {\n",
       "        root._bokeh_is_loading--;\n",
       "        if (root._bokeh_is_loading === 0) {\n",
       "          console.log(\"Bokeh: all BokehJS libraries loaded\");\n",
       "          run_callbacks()\n",
       "        }\n",
       "      };\n",
       "      s.onerror = function() {\n",
       "        console.warn(\"failed to load library \" + url);\n",
       "      };\n",
       "      console.log(\"Bokeh: injecting script tag for BokehJS library: \", url);\n",
       "      document.getElementsByTagName(\"head\")[0].appendChild(s);\n",
       "    }\n",
       "  };var element = document.getElementById(\"a9592cf8-194b-4c5b-9305-4399984ef020\");\n",
       "  if (element == null) {\n",
       "    console.log(\"Bokeh: ERROR: autoload.js configured with elementid 'a9592cf8-194b-4c5b-9305-4399984ef020' but no matching script tag was found. \")\n",
       "    return false;\n",
       "  }\n",
       "\n",
       "  var js_urls = [\"https://cdn.pydata.org/bokeh/release/bokeh-0.13.0.min.js\", \"https://cdn.pydata.org/bokeh/release/bokeh-widgets-0.13.0.min.js\", \"https://cdn.pydata.org/bokeh/release/bokeh-tables-0.13.0.min.js\", \"https://cdn.pydata.org/bokeh/release/bokeh-gl-0.13.0.min.js\"];\n",
       "\n",
       "  var inline_js = [\n",
       "    function(Bokeh) {\n",
       "      Bokeh.set_log_level(\"info\");\n",
       "    },\n",
       "    \n",
       "    function(Bokeh) {\n",
       "      \n",
       "    },\n",
       "    function(Bokeh) {\n",
       "      console.log(\"Bokeh: injecting CSS: https://cdn.pydata.org/bokeh/release/bokeh-0.13.0.min.css\");\n",
       "      Bokeh.embed.inject_css(\"https://cdn.pydata.org/bokeh/release/bokeh-0.13.0.min.css\");\n",
       "      console.log(\"Bokeh: injecting CSS: https://cdn.pydata.org/bokeh/release/bokeh-widgets-0.13.0.min.css\");\n",
       "      Bokeh.embed.inject_css(\"https://cdn.pydata.org/bokeh/release/bokeh-widgets-0.13.0.min.css\");\n",
       "      console.log(\"Bokeh: injecting CSS: https://cdn.pydata.org/bokeh/release/bokeh-tables-0.13.0.min.css\");\n",
       "      Bokeh.embed.inject_css(\"https://cdn.pydata.org/bokeh/release/bokeh-tables-0.13.0.min.css\");\n",
       "    }\n",
       "  ];\n",
       "\n",
       "  function run_inline_js() {\n",
       "    \n",
       "    if ((root.Bokeh !== undefined) || (force === true)) {\n",
       "      for (var i = 0; i < inline_js.length; i++) {\n",
       "        inline_js[i].call(root, root.Bokeh);\n",
       "      }if (force === true) {\n",
       "        display_loaded();\n",
       "      }} else if (Date.now() < root._bokeh_timeout) {\n",
       "      setTimeout(run_inline_js, 100);\n",
       "    } else if (!root._bokeh_failed_load) {\n",
       "      console.log(\"Bokeh: BokehJS failed to load within specified timeout.\");\n",
       "      root._bokeh_failed_load = true;\n",
       "    } else if (force !== true) {\n",
       "      var cell = $(document.getElementById(\"a9592cf8-194b-4c5b-9305-4399984ef020\")).parents('.cell').data().cell;\n",
       "      cell.output_area.append_execute_result(NB_LOAD_WARNING)\n",
       "    }\n",
       "\n",
       "  }\n",
       "\n",
       "  if (root._bokeh_is_loading === 0) {\n",
       "    console.log(\"Bokeh: BokehJS loaded, going straight to plotting\");\n",
       "    run_inline_js();\n",
       "  } else {\n",
       "    load_libs(js_urls, function() {\n",
       "      console.log(\"Bokeh: BokehJS plotting callback run at\", now());\n",
       "      run_inline_js();\n",
       "    });\n",
       "  }\n",
       "}(window));"
      ],
      "application/vnd.bokehjs_load.v0+json": "\n(function(root) {\n  function now() {\n    return new Date();\n  }\n\n  var force = true;\n\n  if (typeof (root._bokeh_onload_callbacks) === \"undefined\" || force === true) {\n    root._bokeh_onload_callbacks = [];\n    root._bokeh_is_loading = undefined;\n  }\n\n  \n\n  \n  if (typeof (root._bokeh_timeout) === \"undefined\" || force === true) {\n    root._bokeh_timeout = Date.now() + 5000;\n    root._bokeh_failed_load = false;\n  }\n\n  var NB_LOAD_WARNING = {'data': {'text/html':\n     \"<div style='background-color: #fdd'>\\n\"+\n     \"<p>\\n\"+\n     \"BokehJS does not appear to have successfully loaded. If loading BokehJS from CDN, this \\n\"+\n     \"may be due to a slow or bad network connection. Possible fixes:\\n\"+\n     \"</p>\\n\"+\n     \"<ul>\\n\"+\n     \"<li>re-rerun `output_notebook()` to attempt to load from CDN again, or</li>\\n\"+\n     \"<li>use INLINE resources instead, as so:</li>\\n\"+\n     \"</ul>\\n\"+\n     \"<code>\\n\"+\n     \"from bokeh.resources import INLINE\\n\"+\n     \"output_notebook(resources=INLINE)\\n\"+\n     \"</code>\\n\"+\n     \"</div>\"}};\n\n  function display_loaded() {\n    var el = document.getElementById(\"a9592cf8-194b-4c5b-9305-4399984ef020\");\n    if (el != null) {\n      el.textContent = \"BokehJS is loading...\";\n    }\n    if (root.Bokeh !== undefined) {\n      if (el != null) {\n        el.textContent = \"BokehJS \" + root.Bokeh.version + \" successfully loaded.\";\n      }\n    } else if (Date.now() < root._bokeh_timeout) {\n      setTimeout(display_loaded, 100)\n    }\n  }\n\n\n  function run_callbacks() {\n    try {\n      root._bokeh_onload_callbacks.forEach(function(callback) { callback() });\n    }\n    finally {\n      delete root._bokeh_onload_callbacks\n    }\n    console.info(\"Bokeh: all callbacks have finished\");\n  }\n\n  function load_libs(js_urls, callback) {\n    root._bokeh_onload_callbacks.push(callback);\n    if (root._bokeh_is_loading > 0) {\n      console.log(\"Bokeh: BokehJS is being loaded, scheduling callback at\", now());\n      return null;\n    }\n    if (js_urls == null || js_urls.length === 0) {\n      run_callbacks();\n      return null;\n    }\n    console.log(\"Bokeh: BokehJS not loaded, scheduling load and callback at\", now());\n    root._bokeh_is_loading = js_urls.length;\n    for (var i = 0; i < js_urls.length; i++) {\n      var url = js_urls[i];\n      var s = document.createElement('script');\n      s.src = url;\n      s.async = false;\n      s.onreadystatechange = s.onload = function() {\n        root._bokeh_is_loading--;\n        if (root._bokeh_is_loading === 0) {\n          console.log(\"Bokeh: all BokehJS libraries loaded\");\n          run_callbacks()\n        }\n      };\n      s.onerror = function() {\n        console.warn(\"failed to load library \" + url);\n      };\n      console.log(\"Bokeh: injecting script tag for BokehJS library: \", url);\n      document.getElementsByTagName(\"head\")[0].appendChild(s);\n    }\n  };var element = document.getElementById(\"a9592cf8-194b-4c5b-9305-4399984ef020\");\n  if (element == null) {\n    console.log(\"Bokeh: ERROR: autoload.js configured with elementid 'a9592cf8-194b-4c5b-9305-4399984ef020' but no matching script tag was found. \")\n    return false;\n  }\n\n  var js_urls = [\"https://cdn.pydata.org/bokeh/release/bokeh-0.13.0.min.js\", \"https://cdn.pydata.org/bokeh/release/bokeh-widgets-0.13.0.min.js\", \"https://cdn.pydata.org/bokeh/release/bokeh-tables-0.13.0.min.js\", \"https://cdn.pydata.org/bokeh/release/bokeh-gl-0.13.0.min.js\"];\n\n  var inline_js = [\n    function(Bokeh) {\n      Bokeh.set_log_level(\"info\");\n    },\n    \n    function(Bokeh) {\n      \n    },\n    function(Bokeh) {\n      console.log(\"Bokeh: injecting CSS: https://cdn.pydata.org/bokeh/release/bokeh-0.13.0.min.css\");\n      Bokeh.embed.inject_css(\"https://cdn.pydata.org/bokeh/release/bokeh-0.13.0.min.css\");\n      console.log(\"Bokeh: injecting CSS: https://cdn.pydata.org/bokeh/release/bokeh-widgets-0.13.0.min.css\");\n      Bokeh.embed.inject_css(\"https://cdn.pydata.org/bokeh/release/bokeh-widgets-0.13.0.min.css\");\n      console.log(\"Bokeh: injecting CSS: https://cdn.pydata.org/bokeh/release/bokeh-tables-0.13.0.min.css\");\n      Bokeh.embed.inject_css(\"https://cdn.pydata.org/bokeh/release/bokeh-tables-0.13.0.min.css\");\n    }\n  ];\n\n  function run_inline_js() {\n    \n    if ((root.Bokeh !== undefined) || (force === true)) {\n      for (var i = 0; i < inline_js.length; i++) {\n        inline_js[i].call(root, root.Bokeh);\n      }if (force === true) {\n        display_loaded();\n      }} else if (Date.now() < root._bokeh_timeout) {\n      setTimeout(run_inline_js, 100);\n    } else if (!root._bokeh_failed_load) {\n      console.log(\"Bokeh: BokehJS failed to load within specified timeout.\");\n      root._bokeh_failed_load = true;\n    } else if (force !== true) {\n      var cell = $(document.getElementById(\"a9592cf8-194b-4c5b-9305-4399984ef020\")).parents('.cell').data().cell;\n      cell.output_area.append_execute_result(NB_LOAD_WARNING)\n    }\n\n  }\n\n  if (root._bokeh_is_loading === 0) {\n    console.log(\"Bokeh: BokehJS loaded, going straight to plotting\");\n    run_inline_js();\n  } else {\n    load_libs(js_urls, function() {\n      console.log(\"Bokeh: BokehJS plotting callback run at\", now());\n      run_inline_js();\n    });\n  }\n}(window));"
     },
     "metadata": {},
     "output_type": "display_data"
    }
   ],
   "source": [
    "output_notebook()"
   ]
  },
  {
   "cell_type": "code",
   "execution_count": 11,
   "metadata": {},
   "outputs": [],
   "source": [
    "source = ColumnDataSource(df_high)"
   ]
  },
  {
   "cell_type": "code",
   "execution_count": 20,
   "metadata": {},
   "outputs": [
    {
     "data": {
      "text/html": [
       "\n",
       "\n",
       "\n",
       "\n",
       "\n",
       "\n",
       "  <div class=\"bk-root\" id=\"9d86b80c-3595-43c2-b665-0e319e294d98\"></div>\n"
      ]
     },
     "metadata": {},
     "output_type": "display_data"
    },
    {
     "data": {
      "application/javascript": [
       "(function(root) {\n",
       "  function embed_document(root) {\n",
       "    \n",
       "  var docs_json = {\"5c97564a-6266-41e2-b3b1-e4394311da05\":{\"roots\":{\"references\":[{\"attributes\":{\"fill_color\":{\"value\":\"#1f77b4\"},\"line_color\":{\"value\":\"#1f77b4\"},\"top\":{\"field\":\"Frequency\"},\"width\":{\"value\":0.2},\"x\":{\"field\":\"Term\"}},\"id\":\"0bd29174-2fba-4981-8828-5a8c008ad3e0\",\"type\":\"VBar\"},{\"attributes\":{\"bottom_units\":\"screen\",\"fill_alpha\":{\"value\":0.5},\"fill_color\":{\"value\":\"lightgrey\"},\"left_units\":\"screen\",\"level\":\"overlay\",\"line_alpha\":{\"value\":1.0},\"line_color\":{\"value\":\"black\"},\"line_dash\":[4,4],\"line_width\":{\"value\":2},\"plot\":null,\"render_mode\":\"css\",\"right_units\":\"screen\",\"top_units\":\"screen\"},\"id\":\"ebdcf796-3e11-4742-9913-74f9c6db78f1\",\"type\":\"BoxAnnotation\"},{\"attributes\":{},\"id\":\"a6417879-1bd2-4136-800d-734df75bc6ca\",\"type\":\"CategoricalTicker\"},{\"attributes\":{},\"id\":\"3a19b09d-c926-4a36-858b-cda697ec4040\",\"type\":\"SaveTool\"},{\"attributes\":{\"callback\":null,\"data\":{\"Frequency\":[137,137,137,129,129,125,124,123,121],\"Term\":[\"date\",\"post\",\"blog\",\"time\",\"make\",\"know\",\"think\",\"thing\",\"come\"],\"index\":[5734,12606,21147,12991,13922,21817,14177,14173,21097]},\"selected\":{\"id\":\"32023d9b-7539-497b-bbb1-30eeaa38594a\",\"type\":\"Selection\"},\"selection_policy\":{\"id\":\"9e410e4f-31af-453c-9724-fa4caf650f21\",\"type\":\"UnionRenderers\"}},\"id\":\"268d1243-fb08-4fb1-80db-809afea34613\",\"type\":\"ColumnDataSource\"},{\"attributes\":{},\"id\":\"67149499-3c2c-4526-8803-78b481fb5ade\",\"type\":\"WheelZoomTool\"},{\"attributes\":{\"fill_alpha\":{\"value\":0.1},\"fill_color\":{\"value\":\"#1f77b4\"},\"line_alpha\":{\"value\":0.1},\"line_color\":{\"value\":\"#1f77b4\"},\"top\":{\"field\":\"Frequency\"},\"width\":{\"value\":0.2},\"x\":{\"field\":\"Term\"}},\"id\":\"0fffe430-b643-4e06-b172-b6b710258aa4\",\"type\":\"VBar\"},{\"attributes\":{},\"id\":\"9e410e4f-31af-453c-9724-fa4caf650f21\",\"type\":\"UnionRenderers\"},{\"attributes\":{},\"id\":\"32023d9b-7539-497b-bbb1-30eeaa38594a\",\"type\":\"Selection\"},{\"attributes\":{},\"id\":\"92e330f3-7767-48fc-a5bc-406330d41be8\",\"type\":\"PanTool\"},{\"attributes\":{\"callback\":null,\"factors\":[\"date\",\"post\",\"blog\",\"time\",\"make\",\"know\",\"think\",\"thing\",\"come\"]},\"id\":\"23a667ac-1d11-472a-b7a7-fe24a92927d9\",\"type\":\"FactorRange\"},{\"attributes\":{},\"id\":\"d326b57d-e318-42fb-b82c-e8aafbc0c303\",\"type\":\"CategoricalTickFormatter\"},{\"attributes\":{},\"id\":\"cf9826b4-f112-43cd-87a5-01490843090f\",\"type\":\"CategoricalScale\"},{\"attributes\":{\"active_drag\":\"auto\",\"active_inspect\":\"auto\",\"active_multi\":null,\"active_scroll\":\"auto\",\"active_tap\":\"auto\",\"tools\":[{\"id\":\"92e330f3-7767-48fc-a5bc-406330d41be8\",\"type\":\"PanTool\"},{\"id\":\"67149499-3c2c-4526-8803-78b481fb5ade\",\"type\":\"WheelZoomTool\"},{\"id\":\"18a98849-ce81-4ada-8cda-d04c2d30344a\",\"type\":\"BoxZoomTool\"},{\"id\":\"3a19b09d-c926-4a36-858b-cda697ec4040\",\"type\":\"SaveTool\"},{\"id\":\"fad00e63-4e32-4474-832d-d7c9381e0c50\",\"type\":\"ResetTool\"},{\"id\":\"7e7db4da-ca0d-443c-8f24-db805e72d63f\",\"type\":\"HelpTool\"},{\"id\":\"d23cece3-b77f-4f03-b41b-51c650539b1f\",\"type\":\"HoverTool\"}]},\"id\":\"f24082ed-c139-46d7-950c-6efddfb15554\",\"type\":\"Toolbar\"},{\"attributes\":{\"plot\":{\"id\":\"50efff98-b2ea-4fb1-b14c-7c20a1abb799\",\"subtype\":\"Figure\",\"type\":\"Plot\"},\"ticker\":{\"id\":\"a6417879-1bd2-4136-800d-734df75bc6ca\",\"type\":\"CategoricalTicker\"}},\"id\":\"65882130-89c2-4d5d-9b6a-c7b3035ba6a3\",\"type\":\"Grid\"},{\"attributes\":{},\"id\":\"026304df-1bdc-4ff9-94a7-7845fba9a8e5\",\"type\":\"LinearScale\"},{\"attributes\":{\"data_source\":{\"id\":\"268d1243-fb08-4fb1-80db-809afea34613\",\"type\":\"ColumnDataSource\"},\"glyph\":{\"id\":\"0bd29174-2fba-4981-8828-5a8c008ad3e0\",\"type\":\"VBar\"},\"hover_glyph\":null,\"muted_glyph\":null,\"nonselection_glyph\":{\"id\":\"0fffe430-b643-4e06-b172-b6b710258aa4\",\"type\":\"VBar\"},\"selection_glyph\":null,\"view\":{\"id\":\"3d1f73bc-c8be-4176-a2fd-e4b8a1ff8c96\",\"type\":\"CDSView\"}},\"id\":\"b1712cae-db4a-4815-8cd4-74de02c2fec0\",\"type\":\"GlyphRenderer\"},{\"attributes\":{},\"id\":\"7e7db4da-ca0d-443c-8f24-db805e72d63f\",\"type\":\"HelpTool\"},{\"attributes\":{\"callback\":null,\"end\":137},\"id\":\"f588fa49-517a-4ce9-9874-16781b67ec0c\",\"type\":\"Range1d\"},{\"attributes\":{\"overlay\":{\"id\":\"ebdcf796-3e11-4742-9913-74f9c6db78f1\",\"type\":\"BoxAnnotation\"}},\"id\":\"18a98849-ce81-4ada-8cda-d04c2d30344a\",\"type\":\"BoxZoomTool\"},{\"attributes\":{\"below\":[{\"id\":\"a5de9ea8-f4cf-4704-8767-dc23c891706b\",\"type\":\"CategoricalAxis\"}],\"left\":[{\"id\":\"45905006-4ee7-4442-897b-97d5565164af\",\"type\":\"LinearAxis\"}],\"plot_height\":500,\"plot_width\":1000,\"renderers\":[{\"id\":\"a5de9ea8-f4cf-4704-8767-dc23c891706b\",\"type\":\"CategoricalAxis\"},{\"id\":\"65882130-89c2-4d5d-9b6a-c7b3035ba6a3\",\"type\":\"Grid\"},{\"id\":\"45905006-4ee7-4442-897b-97d5565164af\",\"type\":\"LinearAxis\"},{\"id\":\"8db656df-2745-4923-a7ec-70a130387b24\",\"type\":\"Grid\"},{\"id\":\"ebdcf796-3e11-4742-9913-74f9c6db78f1\",\"type\":\"BoxAnnotation\"},{\"id\":\"b1712cae-db4a-4815-8cd4-74de02c2fec0\",\"type\":\"GlyphRenderer\"}],\"title\":{\"id\":\"a586e810-9a02-41bb-8ac4-180c27eea11a\",\"type\":\"Title\"},\"toolbar\":{\"id\":\"f24082ed-c139-46d7-950c-6efddfb15554\",\"type\":\"Toolbar\"},\"x_range\":{\"id\":\"23a667ac-1d11-472a-b7a7-fe24a92927d9\",\"type\":\"FactorRange\"},\"x_scale\":{\"id\":\"cf9826b4-f112-43cd-87a5-01490843090f\",\"type\":\"CategoricalScale\"},\"y_range\":{\"id\":\"f588fa49-517a-4ce9-9874-16781b67ec0c\",\"type\":\"Range1d\"},\"y_scale\":{\"id\":\"026304df-1bdc-4ff9-94a7-7845fba9a8e5\",\"type\":\"LinearScale\"}},\"id\":\"50efff98-b2ea-4fb1-b14c-7c20a1abb799\",\"subtype\":\"Figure\",\"type\":\"Plot\"},{\"attributes\":{},\"id\":\"2f2ceaeb-ebe3-4c2e-811d-b3d7efe37cd0\",\"type\":\"BasicTickFormatter\"},{\"attributes\":{\"callback\":null,\"renderers\":\"auto\",\"tooltips\":[[\"Term\",\"@Term\"],[\"Frequency\",\"@Frequency\"]]},\"id\":\"d23cece3-b77f-4f03-b41b-51c650539b1f\",\"type\":\"HoverTool\"},{\"attributes\":{},\"id\":\"fad00e63-4e32-4474-832d-d7c9381e0c50\",\"type\":\"ResetTool\"},{\"attributes\":{\"formatter\":{\"id\":\"2f2ceaeb-ebe3-4c2e-811d-b3d7efe37cd0\",\"type\":\"BasicTickFormatter\"},\"plot\":{\"id\":\"50efff98-b2ea-4fb1-b14c-7c20a1abb799\",\"subtype\":\"Figure\",\"type\":\"Plot\"},\"ticker\":{\"id\":\"e04e9975-100e-4e2c-b367-77f0686bf0ed\",\"type\":\"BasicTicker\"}},\"id\":\"45905006-4ee7-4442-897b-97d5565164af\",\"type\":\"LinearAxis\"},{\"attributes\":{},\"id\":\"e04e9975-100e-4e2c-b367-77f0686bf0ed\",\"type\":\"BasicTicker\"},{\"attributes\":{\"plot\":null,\"text\":\"Term Frequencies\"},\"id\":\"a586e810-9a02-41bb-8ac4-180c27eea11a\",\"type\":\"Title\"},{\"attributes\":{\"source\":{\"id\":\"268d1243-fb08-4fb1-80db-809afea34613\",\"type\":\"ColumnDataSource\"}},\"id\":\"3d1f73bc-c8be-4176-a2fd-e4b8a1ff8c96\",\"type\":\"CDSView\"},{\"attributes\":{\"dimension\":1,\"plot\":{\"id\":\"50efff98-b2ea-4fb1-b14c-7c20a1abb799\",\"subtype\":\"Figure\",\"type\":\"Plot\"},\"ticker\":{\"id\":\"e04e9975-100e-4e2c-b367-77f0686bf0ed\",\"type\":\"BasicTicker\"}},\"id\":\"8db656df-2745-4923-a7ec-70a130387b24\",\"type\":\"Grid\"},{\"attributes\":{\"formatter\":{\"id\":\"d326b57d-e318-42fb-b82c-e8aafbc0c303\",\"type\":\"CategoricalTickFormatter\"},\"plot\":{\"id\":\"50efff98-b2ea-4fb1-b14c-7c20a1abb799\",\"subtype\":\"Figure\",\"type\":\"Plot\"},\"ticker\":{\"id\":\"a6417879-1bd2-4136-800d-734df75bc6ca\",\"type\":\"CategoricalTicker\"}},\"id\":\"a5de9ea8-f4cf-4704-8767-dc23c891706b\",\"type\":\"CategoricalAxis\"}],\"root_ids\":[\"50efff98-b2ea-4fb1-b14c-7c20a1abb799\"]},\"title\":\"Bokeh Application\",\"version\":\"0.13.0\"}};\n",
       "  var render_items = [{\"docid\":\"5c97564a-6266-41e2-b3b1-e4394311da05\",\"roots\":{\"50efff98-b2ea-4fb1-b14c-7c20a1abb799\":\"9d86b80c-3595-43c2-b665-0e319e294d98\"}}];\n",
       "  root.Bokeh.embed.embed_items_notebook(docs_json, render_items);\n",
       "\n",
       "  }\n",
       "  if (root.Bokeh !== undefined) {\n",
       "    embed_document(root);\n",
       "  } else {\n",
       "    var attempts = 0;\n",
       "    var timer = setInterval(function(root) {\n",
       "      if (root.Bokeh !== undefined) {\n",
       "        embed_document(root);\n",
       "        clearInterval(timer);\n",
       "      }\n",
       "      attempts++;\n",
       "      if (attempts > 100) {\n",
       "        console.log(\"Bokeh: ERROR: Unable to run BokehJS code because BokehJS library is missing\")\n",
       "        clearInterval(timer);\n",
       "      }\n",
       "    }, 10, root)\n",
       "  }\n",
       "})(window);"
      ],
      "application/vnd.bokehjs_exec.v0+json": ""
     },
     "metadata": {
      "application/vnd.bokehjs_exec.v0+json": {
       "id": "50efff98-b2ea-4fb1-b14c-7c20a1abb799"
      }
     },
     "output_type": "display_data"
    }
   ],
   "source": [
    "p = figure(plot_width=1000,plot_height=500,title=\"Term Frequencies\",x_range=df_high[\"Term\"].values,y_range=Range1d(0,df_high[\"Frequency\"].max()))\n",
    "p.vbar(x=\"Term\",top = \"Frequency\",width=0.2,source=source)\n",
    "p.add_tools(HoverTool(tooltips=[(\"Term\",\"@Term\"),(\"Frequency\",\"@Frequency\")]))\n",
    "show(p)"
   ]
  },
  {
   "cell_type": "code",
   "execution_count": null,
   "metadata": {},
   "outputs": [],
   "source": []
  }
 ],
 "metadata": {
  "kernelspec": {
   "display_name": "Python 2",
   "language": "python",
   "name": "python2"
  },
  "language_info": {
   "codemirror_mode": {
    "name": "ipython",
    "version": 2
   },
   "file_extension": ".py",
   "mimetype": "text/x-python",
   "name": "python",
   "nbconvert_exporter": "python",
   "pygments_lexer": "ipython2",
   "version": "2.7.12"
  }
 },
 "nbformat": 4,
 "nbformat_minor": 2
}
