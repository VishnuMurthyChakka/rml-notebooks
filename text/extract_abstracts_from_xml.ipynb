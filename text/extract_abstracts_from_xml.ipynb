{
 "cells": [
  {
   "cell_type": "code",
   "execution_count": 2,
   "metadata": {},
   "outputs": [
    {
     "name": "stdout",
     "output_type": "stream",
     "text": [
      "Collecting xmltodict\n",
      "  Downloading https://files.pythonhosted.org/packages/42/a9/7e99652c6bc619d19d58cdd8c47560730eb5825d43a7e25db2e1d776ceb7/xmltodict-0.11.0-py2.py3-none-any.whl\n",
      "Installing collected packages: xmltodict\n",
      "Successfully installed xmltodict-0.11.0\n",
      "\u001b[33mYou are using pip version 9.0.1, however version 18.0 is available.\n",
      "You should consider upgrading via the 'pip install --upgrade pip' command.\u001b[0m\n"
     ]
    }
   ],
   "source": [
    "!pip install --user xmltodict"
   ]
  },
  {
   "cell_type": "code",
   "execution_count": 30,
   "metadata": {},
   "outputs": [],
   "source": [
    "import xmltodict\n",
    "import string\n",
    "import subprocess\n",
    "import os"
   ]
  },
  {
   "cell_type": "code",
   "execution_count": 31,
   "metadata": {},
   "outputs": [],
   "source": [
    "printable = set(string.printable)\n",
    "def get_data(input_file):\n",
    "    with open(input_file,\"r\") as fp:\n",
    "        data = xmltodict.parse(fp.read())\n",
    "    return data[\"PubmedArticleSet\"][\"PubmedArticle\"]\n",
    "\n",
    "def get_text(input_data):\n",
    "    text= \"\"\n",
    "    if isinstance(input_data,dict):\n",
    "        for key in input_data.keys():\n",
    "            text += get_text(input_data[key]) \n",
    "    elif isinstance(input_data,list):\n",
    "        for item in input_data:\n",
    "            text += get_text(item)\n",
    "    elif isinstance(input_data,str):\n",
    "        return input_data+\" \"\n",
    "    elif input_data:\n",
    "        out_text = filter(lambda x: x in printable,input_data)\n",
    "        return out_text+\" \"\n",
    "    else:\n",
    "        return \"\"\n",
    "    return text\n",
    "    "
   ]
  },
  {
   "cell_type": "code",
   "execution_count": 32,
   "metadata": {},
   "outputs": [],
   "source": [
    "from dask.distributed import Client"
   ]
  },
  {
   "cell_type": "code",
   "execution_count": 33,
   "metadata": {},
   "outputs": [],
   "source": [
    "hostname = subprocess.check_output('hostname').strip()\n",
    "client = Client(hostname +':8786')"
   ]
  },
  {
   "cell_type": "code",
   "execution_count": 34,
   "metadata": {},
   "outputs": [
    {
     "data": {
      "text/html": [
       "<table style=\"border: 2px solid white;\">\n",
       "<tr>\n",
       "<td style=\"vertical-align: top; border: 0px solid white\">\n",
       "<h3>Client</h3>\n",
       "<ul>\n",
       "  <li><b>Scheduler: </b>tcp://ip-172-31-18-54:8786\n",
       "  <li><b>Dashboard: </b><a href='http://ip-172-31-18-54:8787/status' target='_blank'>http://ip-172-31-18-54:8787/status</a>\n",
       "</ul>\n",
       "</td>\n",
       "<td style=\"vertical-align: top; border: 0px solid white\">\n",
       "<h3>Cluster</h3>\n",
       "<ul>\n",
       "  <li><b>Workers: </b>4</li>\n",
       "  <li><b>Cores: </b>64</li>\n",
       "  <li><b>Memory: </b>130.65 GB</li>\n",
       "</ul>\n",
       "</td>\n",
       "</tr>\n",
       "</table>"
      ],
      "text/plain": [
       "<Client: scheduler='tcp://172.31.18.54:8786' processes=4 cores=64>"
      ]
     },
     "execution_count": 34,
     "metadata": {},
     "output_type": "execute_result"
    }
   ],
   "source": [
    "client"
   ]
  },
  {
   "cell_type": "code",
   "execution_count": 36,
   "metadata": {},
   "outputs": [
    {
     "name": "stdout",
     "output_type": "stream",
     "text": [
      "CPU times: user 2min 43s, sys: 8.25 s, total: 2min 51s\n",
      "Wall time: 8min 12s\n"
     ]
    }
   ],
   "source": [
    "%%time\n",
    "filename1 = \"/shared/data/pubmed18n0929.xml\"\n",
    "filename2 = \"/shared/data/pubmed18n0930.xml\"\n",
    "data_list = client.map(get_data,[filename1,filename2])\n",
    "data_list = client.gather(data_list)"
   ]
  },
  {
   "cell_type": "code",
   "execution_count": 37,
   "metadata": {},
   "outputs": [
    {
     "data": {
      "text/plain": [
       "30000"
      ]
     },
     "execution_count": 37,
     "metadata": {},
     "output_type": "execute_result"
    }
   ],
   "source": [
    "len(data_list[1])"
   ]
  },
  {
   "cell_type": "code",
   "execution_count": 38,
   "metadata": {},
   "outputs": [],
   "source": [
    "text_data = client.map(get_text,data_list[1])\n",
    "final_text_data = client.gather(text_data)"
   ]
  },
  {
   "cell_type": "code",
   "execution_count": 39,
   "metadata": {},
   "outputs": [
    {
     "data": {
      "text/plain": [
       "30000"
      ]
     },
     "execution_count": 39,
     "metadata": {},
     "output_type": "execute_result"
    }
   ],
   "source": [
    "len(final_text_data)"
   ]
  },
  {
   "cell_type": "code",
   "execution_count": 40,
   "metadata": {},
   "outputs": [
    {
     "data": {
      "text/plain": [
       "u'MEDLINE NLM 1 27406060 2017 11 16 2017 11 28 Print Electronic 1937-3392 Internet 22 8 2016 Aug Tissue engineering. Part C, Methods Tissue Eng Part C Methods Antioxidant N-Acetylcysteine and Glutathione Increase the Viability and Proliferation of MG63 Cells Encapsulated in the Gelatin Methacrylate/VA-086/Blue Light Hydrogel System. 792-800 doi Y 10.1089/ten.TEC.2016.0025 Photoencapsulation of cells inside a hydrogel system can provide a suitable path to establish a gel in situ for soft tissue regeneration applications. However, the presence of photoinitiators and blue or UV light irradiation can result in cell damage and an increase of reactive oxygen species. We here evaluate the benefits of an antioxidant pretreatment on the photoencapsulated cells. We study this by evaluating proliferation and viability of MG63 cells, which we combined with a gelatin methacrylate (GelMA) hydrogel system, using the photoinitiator, VA-086, cured with 440nm blue light. We found that blue light irradiation as well as the presence of 1% VA-086 reduced MG63 cell proliferation rates. Adding a short pretreatment step to the MG63 cells, consisting of the antioxidant molecules N-acetylcysteine (NAC) and reduced glutathione (GSH), and optimizing the GelMA encapsulation steps, we found that both NAC and GSH pretreatments of MG63 cells significantly increased both proliferation and viability of the cells, when using a 15% GelMA hydrogel, 1% VA-086, and 1-min blue light exposure. These findings suggest that the use of antioxidant pretreatment can counteract the negative presence of the photoinitiators and blue light exposure and result in a suitable environment for photoencapsulating cells in situ for tissue engineering and soft tissue applications. Y Y Lin Chih-Hsin CH 1 Department of Dentistry, School of Dentistry, National Yang-Ming University , Taipei, Taiwan . Y Lin Kai-Fung KF 1 Department of Dentistry, School of Dentistry, National Yang-Ming University , Taipei, Taiwan . Y Mar Kwei K 2 Department of Dentistry, Taipei City Hospital , Taipei, Taiwan . Y Lee Shyh-Yuan SY 1 Department of Dentistry, School of Dentistry, National Yang-Ming University , Taipei, Taiwan . 3 Department of Stomatology, Taipei Veterans General Hospital , Taipei, Taiwan . Y Lin Yuan-Min YM 1 Department of Dentistry, School of Dentistry, National Yang-Ming University , Taipei, Taiwan . 3 Department of Stomatology, Taipei Veterans General Hospital , Taipei, Taiwan . eng D016428 Journal Article United States Tissue Eng Part C Methods 101466663 1937-3384 0 C000605936 2,2-azobis(2-methyl-N-(2-hydroxyethyl)propionamide 0 D000081 Acetamides 0 D000975 Antioxidants 0 D001391 Azo Compounds 0 D003432 Cross-Linking Reagents 0 D008689 Methacrylates 0 D017382 Reactive Oxygen Species 25852-47-5 D020136 Hydrogel, Polyethylene Glycol Dimethacrylate 9000-70-8 D005780 Gelatin GAN16C9B8O D005978 Glutathione WYQ7N0BPYC D000111 Acetylcysteine IM D000081 N Acetamides Q000737 N chemistry D000111 N Acetylcysteine Q000494 Y pharmacology D000975 N Antioxidants Q000494 Y pharmacology D001391 N Azo Compounds Q000737 N chemistry D001859 N Bone Neoplasms Q000188 N drug therapy Q000378 N metabolism Q000473 Y pathology D049109 N Cell Proliferation Q000187 Y drug effects D002470 N Cell Survival D003432 N Cross-Linking Reagents Q000737 N chemistry D005780 N Gelatin Q000737 N chemistry D005978 N Glutathione Q000494 Y pharmacology D006801 N Humans D020136 N Hydrogel, Polyethylene Glycol Dimethacrylate Q000737 Y chemistry D008027 N Light D008689 N Methacrylates D012516 N Osteosarcoma Q000188 N drug therapy Q000378 N metabolism Q000473 Y pathology D017382 N Reactive Oxygen Species Q000378 N metabolism D014407 N Tumor Cells, Cultured entrez 2016 7 14 6 0 pubmed 2016 7 14 6 0 medline 2016 7 14 6 0 ppublish pubmed 27406060 doi 10.1089/ten.TEC.2016.0025 '"
      ]
     },
     "execution_count": 40,
     "metadata": {},
     "output_type": "execute_result"
    }
   ],
   "source": [
    "final_text_data[0]"
   ]
  },
  {
   "cell_type": "code",
   "execution_count": 42,
   "metadata": {},
   "outputs": [],
   "source": [
    "dirname = \"/shared/data/pubmed/abstracts/\"\n",
    "if not os.path.exists(dirname):\n",
    "    os.makedirs(dirname)\n",
    "    \n",
    "for _id,article in enumerate(final_text_data):\n",
    "    filename = dirname + \"/abstract_\" + str(_id) + \".txt\"\n",
    "    with open(filename,\"w\") as fp:\n",
    "        fp.write(article)"
   ]
  },
  {
   "cell_type": "code",
   "execution_count": 43,
   "metadata": {},
   "outputs": [],
   "source": [
    "from rocketml.io import DocumentSet\n",
    "from rocketml.decomposition import TruncatedSVD\n",
    "from rocketml.preprocessing import TextFilter\n",
    "from rocketml import Pipeline"
   ]
  },
  {
   "cell_type": "code",
   "execution_count": 44,
   "metadata": {},
   "outputs": [
    {
     "name": "stdout",
     "output_type": "stream",
     "text": [
      "<rocketml.preprocessing.text.TextFilter object at 0x7fbbdb7be110>\n",
      "text\n",
      "------------------\n",
      "Cluster Resources\n",
      "------------------\n",
      "Nodes        = 4\n",
      "Sockets/node = 1\n",
      "Cores/socket = 8\n",
      "--------------------------\n",
      "Total Cores    = 32\n",
      "Total Memory(GB)   = 121.68\n",
      "--------------------------\n",
      "/shared/jobs_folder/81a42b2b/output.txt\n",
      "CPU times: user 560 ms, sys: 748 ms, total: 1.31 s\n",
      "Wall time: 31.8 s\n"
     ]
    }
   ],
   "source": [
    "%%time\n",
    "abstract_filenames = [dirname+ff for ff in os.listdir(dirname)]\n",
    "docset = DocumentSet(filelist=abstract_filenames)\n",
    "tf = TextFilter(stop_word_filter=True,stemming_filter=True,length_filter=True)\n",
    "svd = TruncatedSVD(n_components=20)\n",
    "pipeline = Pipeline([tf,svd])\n",
    "docset_transofrm = pipeline.fit_transform(docset)\n",
    "len(docset.documents)\n",
    "svd.components_.shape"
   ]
  },
  {
   "cell_type": "code",
   "execution_count": 45,
   "metadata": {},
   "outputs": [],
   "source": [
    "import pandas as pd\n",
    "df = pd.DataFrame([[key,value] for key,value in docset.terms_document_frequencies.iteritems()],columns=[\"Term\",\"Frequency\"])\n",
    "df_high = df[df[\"Frequency\"] > 10000].sort_values(by=[\"Frequency\"],ascending=False)"
   ]
  },
  {
   "cell_type": "code",
   "execution_count": 46,
   "metadata": {},
   "outputs": [],
   "source": [
    "from bokeh.plotting import figure,show\n",
    "from bokeh.io import output_notebook\n",
    "from bokeh.models import ColumnDataSource, HoverTool\n",
    "from bokeh.models.ranges import Range1d\n",
    "import xmltodict\n",
    "import string\n",
    "%matplotlib inline"
   ]
  },
  {
   "cell_type": "code",
   "execution_count": 47,
   "metadata": {},
   "outputs": [
    {
     "data": {
      "text/html": [
       "\n",
       "    <div class=\"bk-root\">\n",
       "        <a href=\"https://bokeh.pydata.org\" target=\"_blank\" class=\"bk-logo bk-logo-small bk-logo-notebook\"></a>\n",
       "        <span id=\"ad962c69-9557-415c-be32-cebbd54f0a73\">Loading BokehJS ...</span>\n",
       "    </div>"
      ]
     },
     "metadata": {},
     "output_type": "display_data"
    },
    {
     "data": {
      "application/javascript": [
       "\n",
       "(function(root) {\n",
       "  function now() {\n",
       "    return new Date();\n",
       "  }\n",
       "\n",
       "  var force = true;\n",
       "\n",
       "  if (typeof (root._bokeh_onload_callbacks) === \"undefined\" || force === true) {\n",
       "    root._bokeh_onload_callbacks = [];\n",
       "    root._bokeh_is_loading = undefined;\n",
       "  }\n",
       "\n",
       "  var JS_MIME_TYPE = 'application/javascript';\n",
       "  var HTML_MIME_TYPE = 'text/html';\n",
       "  var EXEC_MIME_TYPE = 'application/vnd.bokehjs_exec.v0+json';\n",
       "  var CLASS_NAME = 'output_bokeh rendered_html';\n",
       "\n",
       "  /**\n",
       "   * Render data to the DOM node\n",
       "   */\n",
       "  function render(props, node) {\n",
       "    var script = document.createElement(\"script\");\n",
       "    node.appendChild(script);\n",
       "  }\n",
       "\n",
       "  /**\n",
       "   * Handle when an output is cleared or removed\n",
       "   */\n",
       "  function handleClearOutput(event, handle) {\n",
       "    var cell = handle.cell;\n",
       "\n",
       "    var id = cell.output_area._bokeh_element_id;\n",
       "    var server_id = cell.output_area._bokeh_server_id;\n",
       "    // Clean up Bokeh references\n",
       "    if (id != null && id in Bokeh.index) {\n",
       "      Bokeh.index[id].model.document.clear();\n",
       "      delete Bokeh.index[id];\n",
       "    }\n",
       "\n",
       "    if (server_id !== undefined) {\n",
       "      // Clean up Bokeh references\n",
       "      var cmd = \"from bokeh.io.state import curstate; print(curstate().uuid_to_server['\" + server_id + \"'].get_sessions()[0].document.roots[0]._id)\";\n",
       "      cell.notebook.kernel.execute(cmd, {\n",
       "        iopub: {\n",
       "          output: function(msg) {\n",
       "            var id = msg.content.text.trim();\n",
       "            if (id in Bokeh.index) {\n",
       "              Bokeh.index[id].model.document.clear();\n",
       "              delete Bokeh.index[id];\n",
       "            }\n",
       "          }\n",
       "        }\n",
       "      });\n",
       "      // Destroy server and session\n",
       "      var cmd = \"import bokeh.io.notebook as ion; ion.destroy_server('\" + server_id + \"')\";\n",
       "      cell.notebook.kernel.execute(cmd);\n",
       "    }\n",
       "  }\n",
       "\n",
       "  /**\n",
       "   * Handle when a new output is added\n",
       "   */\n",
       "  function handleAddOutput(event, handle) {\n",
       "    var output_area = handle.output_area;\n",
       "    var output = handle.output;\n",
       "\n",
       "    // limit handleAddOutput to display_data with EXEC_MIME_TYPE content only\n",
       "    if ((output.output_type != \"display_data\") || (!output.data.hasOwnProperty(EXEC_MIME_TYPE))) {\n",
       "      return\n",
       "    }\n",
       "\n",
       "    var toinsert = output_area.element.find(\".\" + CLASS_NAME.split(' ')[0]);\n",
       "\n",
       "    if (output.metadata[EXEC_MIME_TYPE][\"id\"] !== undefined) {\n",
       "      toinsert[toinsert.length - 1].firstChild.textContent = output.data[JS_MIME_TYPE];\n",
       "      // store reference to embed id on output_area\n",
       "      output_area._bokeh_element_id = output.metadata[EXEC_MIME_TYPE][\"id\"];\n",
       "    }\n",
       "    if (output.metadata[EXEC_MIME_TYPE][\"server_id\"] !== undefined) {\n",
       "      var bk_div = document.createElement(\"div\");\n",
       "      bk_div.innerHTML = output.data[HTML_MIME_TYPE];\n",
       "      var script_attrs = bk_div.children[0].attributes;\n",
       "      for (var i = 0; i < script_attrs.length; i++) {\n",
       "        toinsert[toinsert.length - 1].firstChild.setAttribute(script_attrs[i].name, script_attrs[i].value);\n",
       "      }\n",
       "      // store reference to server id on output_area\n",
       "      output_area._bokeh_server_id = output.metadata[EXEC_MIME_TYPE][\"server_id\"];\n",
       "    }\n",
       "  }\n",
       "\n",
       "  function register_renderer(events, OutputArea) {\n",
       "\n",
       "    function append_mime(data, metadata, element) {\n",
       "      // create a DOM node to render to\n",
       "      var toinsert = this.create_output_subarea(\n",
       "        metadata,\n",
       "        CLASS_NAME,\n",
       "        EXEC_MIME_TYPE\n",
       "      );\n",
       "      this.keyboard_manager.register_events(toinsert);\n",
       "      // Render to node\n",
       "      var props = {data: data, metadata: metadata[EXEC_MIME_TYPE]};\n",
       "      render(props, toinsert[toinsert.length - 1]);\n",
       "      element.append(toinsert);\n",
       "      return toinsert\n",
       "    }\n",
       "\n",
       "    /* Handle when an output is cleared or removed */\n",
       "    events.on('clear_output.CodeCell', handleClearOutput);\n",
       "    events.on('delete.Cell', handleClearOutput);\n",
       "\n",
       "    /* Handle when a new output is added */\n",
       "    events.on('output_added.OutputArea', handleAddOutput);\n",
       "\n",
       "    /**\n",
       "     * Register the mime type and append_mime function with output_area\n",
       "     */\n",
       "    OutputArea.prototype.register_mime_type(EXEC_MIME_TYPE, append_mime, {\n",
       "      /* Is output safe? */\n",
       "      safe: true,\n",
       "      /* Index of renderer in `output_area.display_order` */\n",
       "      index: 0\n",
       "    });\n",
       "  }\n",
       "\n",
       "  // register the mime type if in Jupyter Notebook environment and previously unregistered\n",
       "  if (root.Jupyter !== undefined) {\n",
       "    var events = require('base/js/events');\n",
       "    var OutputArea = require('notebook/js/outputarea').OutputArea;\n",
       "\n",
       "    if (OutputArea.prototype.mime_types().indexOf(EXEC_MIME_TYPE) == -1) {\n",
       "      register_renderer(events, OutputArea);\n",
       "    }\n",
       "  }\n",
       "\n",
       "  \n",
       "  if (typeof (root._bokeh_timeout) === \"undefined\" || force === true) {\n",
       "    root._bokeh_timeout = Date.now() + 5000;\n",
       "    root._bokeh_failed_load = false;\n",
       "  }\n",
       "\n",
       "  var NB_LOAD_WARNING = {'data': {'text/html':\n",
       "     \"<div style='background-color: #fdd'>\\n\"+\n",
       "     \"<p>\\n\"+\n",
       "     \"BokehJS does not appear to have successfully loaded. If loading BokehJS from CDN, this \\n\"+\n",
       "     \"may be due to a slow or bad network connection. Possible fixes:\\n\"+\n",
       "     \"</p>\\n\"+\n",
       "     \"<ul>\\n\"+\n",
       "     \"<li>re-rerun `output_notebook()` to attempt to load from CDN again, or</li>\\n\"+\n",
       "     \"<li>use INLINE resources instead, as so:</li>\\n\"+\n",
       "     \"</ul>\\n\"+\n",
       "     \"<code>\\n\"+\n",
       "     \"from bokeh.resources import INLINE\\n\"+\n",
       "     \"output_notebook(resources=INLINE)\\n\"+\n",
       "     \"</code>\\n\"+\n",
       "     \"</div>\"}};\n",
       "\n",
       "  function display_loaded() {\n",
       "    var el = document.getElementById(\"ad962c69-9557-415c-be32-cebbd54f0a73\");\n",
       "    if (el != null) {\n",
       "      el.textContent = \"BokehJS is loading...\";\n",
       "    }\n",
       "    if (root.Bokeh !== undefined) {\n",
       "      if (el != null) {\n",
       "        el.textContent = \"BokehJS \" + root.Bokeh.version + \" successfully loaded.\";\n",
       "      }\n",
       "    } else if (Date.now() < root._bokeh_timeout) {\n",
       "      setTimeout(display_loaded, 100)\n",
       "    }\n",
       "  }\n",
       "\n",
       "\n",
       "  function run_callbacks() {\n",
       "    try {\n",
       "      root._bokeh_onload_callbacks.forEach(function(callback) { callback() });\n",
       "    }\n",
       "    finally {\n",
       "      delete root._bokeh_onload_callbacks\n",
       "    }\n",
       "    console.info(\"Bokeh: all callbacks have finished\");\n",
       "  }\n",
       "\n",
       "  function load_libs(js_urls, callback) {\n",
       "    root._bokeh_onload_callbacks.push(callback);\n",
       "    if (root._bokeh_is_loading > 0) {\n",
       "      console.log(\"Bokeh: BokehJS is being loaded, scheduling callback at\", now());\n",
       "      return null;\n",
       "    }\n",
       "    if (js_urls == null || js_urls.length === 0) {\n",
       "      run_callbacks();\n",
       "      return null;\n",
       "    }\n",
       "    console.log(\"Bokeh: BokehJS not loaded, scheduling load and callback at\", now());\n",
       "    root._bokeh_is_loading = js_urls.length;\n",
       "    for (var i = 0; i < js_urls.length; i++) {\n",
       "      var url = js_urls[i];\n",
       "      var s = document.createElement('script');\n",
       "      s.src = url;\n",
       "      s.async = false;\n",
       "      s.onreadystatechange = s.onload = function() {\n",
       "        root._bokeh_is_loading--;\n",
       "        if (root._bokeh_is_loading === 0) {\n",
       "          console.log(\"Bokeh: all BokehJS libraries loaded\");\n",
       "          run_callbacks()\n",
       "        }\n",
       "      };\n",
       "      s.onerror = function() {\n",
       "        console.warn(\"failed to load library \" + url);\n",
       "      };\n",
       "      console.log(\"Bokeh: injecting script tag for BokehJS library: \", url);\n",
       "      document.getElementsByTagName(\"head\")[0].appendChild(s);\n",
       "    }\n",
       "  };var element = document.getElementById(\"ad962c69-9557-415c-be32-cebbd54f0a73\");\n",
       "  if (element == null) {\n",
       "    console.log(\"Bokeh: ERROR: autoload.js configured with elementid 'ad962c69-9557-415c-be32-cebbd54f0a73' but no matching script tag was found. \")\n",
       "    return false;\n",
       "  }\n",
       "\n",
       "  var js_urls = [\"https://cdn.pydata.org/bokeh/release/bokeh-0.13.0.min.js\", \"https://cdn.pydata.org/bokeh/release/bokeh-widgets-0.13.0.min.js\", \"https://cdn.pydata.org/bokeh/release/bokeh-tables-0.13.0.min.js\", \"https://cdn.pydata.org/bokeh/release/bokeh-gl-0.13.0.min.js\"];\n",
       "\n",
       "  var inline_js = [\n",
       "    function(Bokeh) {\n",
       "      Bokeh.set_log_level(\"info\");\n",
       "    },\n",
       "    \n",
       "    function(Bokeh) {\n",
       "      \n",
       "    },\n",
       "    function(Bokeh) {\n",
       "      console.log(\"Bokeh: injecting CSS: https://cdn.pydata.org/bokeh/release/bokeh-0.13.0.min.css\");\n",
       "      Bokeh.embed.inject_css(\"https://cdn.pydata.org/bokeh/release/bokeh-0.13.0.min.css\");\n",
       "      console.log(\"Bokeh: injecting CSS: https://cdn.pydata.org/bokeh/release/bokeh-widgets-0.13.0.min.css\");\n",
       "      Bokeh.embed.inject_css(\"https://cdn.pydata.org/bokeh/release/bokeh-widgets-0.13.0.min.css\");\n",
       "      console.log(\"Bokeh: injecting CSS: https://cdn.pydata.org/bokeh/release/bokeh-tables-0.13.0.min.css\");\n",
       "      Bokeh.embed.inject_css(\"https://cdn.pydata.org/bokeh/release/bokeh-tables-0.13.0.min.css\");\n",
       "    }\n",
       "  ];\n",
       "\n",
       "  function run_inline_js() {\n",
       "    \n",
       "    if ((root.Bokeh !== undefined) || (force === true)) {\n",
       "      for (var i = 0; i < inline_js.length; i++) {\n",
       "        inline_js[i].call(root, root.Bokeh);\n",
       "      }if (force === true) {\n",
       "        display_loaded();\n",
       "      }} else if (Date.now() < root._bokeh_timeout) {\n",
       "      setTimeout(run_inline_js, 100);\n",
       "    } else if (!root._bokeh_failed_load) {\n",
       "      console.log(\"Bokeh: BokehJS failed to load within specified timeout.\");\n",
       "      root._bokeh_failed_load = true;\n",
       "    } else if (force !== true) {\n",
       "      var cell = $(document.getElementById(\"ad962c69-9557-415c-be32-cebbd54f0a73\")).parents('.cell').data().cell;\n",
       "      cell.output_area.append_execute_result(NB_LOAD_WARNING)\n",
       "    }\n",
       "\n",
       "  }\n",
       "\n",
       "  if (root._bokeh_is_loading === 0) {\n",
       "    console.log(\"Bokeh: BokehJS loaded, going straight to plotting\");\n",
       "    run_inline_js();\n",
       "  } else {\n",
       "    load_libs(js_urls, function() {\n",
       "      console.log(\"Bokeh: BokehJS plotting callback run at\", now());\n",
       "      run_inline_js();\n",
       "    });\n",
       "  }\n",
       "}(window));"
      ],
      "application/vnd.bokehjs_load.v0+json": "\n(function(root) {\n  function now() {\n    return new Date();\n  }\n\n  var force = true;\n\n  if (typeof (root._bokeh_onload_callbacks) === \"undefined\" || force === true) {\n    root._bokeh_onload_callbacks = [];\n    root._bokeh_is_loading = undefined;\n  }\n\n  \n\n  \n  if (typeof (root._bokeh_timeout) === \"undefined\" || force === true) {\n    root._bokeh_timeout = Date.now() + 5000;\n    root._bokeh_failed_load = false;\n  }\n\n  var NB_LOAD_WARNING = {'data': {'text/html':\n     \"<div style='background-color: #fdd'>\\n\"+\n     \"<p>\\n\"+\n     \"BokehJS does not appear to have successfully loaded. If loading BokehJS from CDN, this \\n\"+\n     \"may be due to a slow or bad network connection. Possible fixes:\\n\"+\n     \"</p>\\n\"+\n     \"<ul>\\n\"+\n     \"<li>re-rerun `output_notebook()` to attempt to load from CDN again, or</li>\\n\"+\n     \"<li>use INLINE resources instead, as so:</li>\\n\"+\n     \"</ul>\\n\"+\n     \"<code>\\n\"+\n     \"from bokeh.resources import INLINE\\n\"+\n     \"output_notebook(resources=INLINE)\\n\"+\n     \"</code>\\n\"+\n     \"</div>\"}};\n\n  function display_loaded() {\n    var el = document.getElementById(\"ad962c69-9557-415c-be32-cebbd54f0a73\");\n    if (el != null) {\n      el.textContent = \"BokehJS is loading...\";\n    }\n    if (root.Bokeh !== undefined) {\n      if (el != null) {\n        el.textContent = \"BokehJS \" + root.Bokeh.version + \" successfully loaded.\";\n      }\n    } else if (Date.now() < root._bokeh_timeout) {\n      setTimeout(display_loaded, 100)\n    }\n  }\n\n\n  function run_callbacks() {\n    try {\n      root._bokeh_onload_callbacks.forEach(function(callback) { callback() });\n    }\n    finally {\n      delete root._bokeh_onload_callbacks\n    }\n    console.info(\"Bokeh: all callbacks have finished\");\n  }\n\n  function load_libs(js_urls, callback) {\n    root._bokeh_onload_callbacks.push(callback);\n    if (root._bokeh_is_loading > 0) {\n      console.log(\"Bokeh: BokehJS is being loaded, scheduling callback at\", now());\n      return null;\n    }\n    if (js_urls == null || js_urls.length === 0) {\n      run_callbacks();\n      return null;\n    }\n    console.log(\"Bokeh: BokehJS not loaded, scheduling load and callback at\", now());\n    root._bokeh_is_loading = js_urls.length;\n    for (var i = 0; i < js_urls.length; i++) {\n      var url = js_urls[i];\n      var s = document.createElement('script');\n      s.src = url;\n      s.async = false;\n      s.onreadystatechange = s.onload = function() {\n        root._bokeh_is_loading--;\n        if (root._bokeh_is_loading === 0) {\n          console.log(\"Bokeh: all BokehJS libraries loaded\");\n          run_callbacks()\n        }\n      };\n      s.onerror = function() {\n        console.warn(\"failed to load library \" + url);\n      };\n      console.log(\"Bokeh: injecting script tag for BokehJS library: \", url);\n      document.getElementsByTagName(\"head\")[0].appendChild(s);\n    }\n  };var element = document.getElementById(\"ad962c69-9557-415c-be32-cebbd54f0a73\");\n  if (element == null) {\n    console.log(\"Bokeh: ERROR: autoload.js configured with elementid 'ad962c69-9557-415c-be32-cebbd54f0a73' but no matching script tag was found. \")\n    return false;\n  }\n\n  var js_urls = [\"https://cdn.pydata.org/bokeh/release/bokeh-0.13.0.min.js\", \"https://cdn.pydata.org/bokeh/release/bokeh-widgets-0.13.0.min.js\", \"https://cdn.pydata.org/bokeh/release/bokeh-tables-0.13.0.min.js\", \"https://cdn.pydata.org/bokeh/release/bokeh-gl-0.13.0.min.js\"];\n\n  var inline_js = [\n    function(Bokeh) {\n      Bokeh.set_log_level(\"info\");\n    },\n    \n    function(Bokeh) {\n      \n    },\n    function(Bokeh) {\n      console.log(\"Bokeh: injecting CSS: https://cdn.pydata.org/bokeh/release/bokeh-0.13.0.min.css\");\n      Bokeh.embed.inject_css(\"https://cdn.pydata.org/bokeh/release/bokeh-0.13.0.min.css\");\n      console.log(\"Bokeh: injecting CSS: https://cdn.pydata.org/bokeh/release/bokeh-widgets-0.13.0.min.css\");\n      Bokeh.embed.inject_css(\"https://cdn.pydata.org/bokeh/release/bokeh-widgets-0.13.0.min.css\");\n      console.log(\"Bokeh: injecting CSS: https://cdn.pydata.org/bokeh/release/bokeh-tables-0.13.0.min.css\");\n      Bokeh.embed.inject_css(\"https://cdn.pydata.org/bokeh/release/bokeh-tables-0.13.0.min.css\");\n    }\n  ];\n\n  function run_inline_js() {\n    \n    if ((root.Bokeh !== undefined) || (force === true)) {\n      for (var i = 0; i < inline_js.length; i++) {\n        inline_js[i].call(root, root.Bokeh);\n      }if (force === true) {\n        display_loaded();\n      }} else if (Date.now() < root._bokeh_timeout) {\n      setTimeout(run_inline_js, 100);\n    } else if (!root._bokeh_failed_load) {\n      console.log(\"Bokeh: BokehJS failed to load within specified timeout.\");\n      root._bokeh_failed_load = true;\n    } else if (force !== true) {\n      var cell = $(document.getElementById(\"ad962c69-9557-415c-be32-cebbd54f0a73\")).parents('.cell').data().cell;\n      cell.output_area.append_execute_result(NB_LOAD_WARNING)\n    }\n\n  }\n\n  if (root._bokeh_is_loading === 0) {\n    console.log(\"Bokeh: BokehJS loaded, going straight to plotting\");\n    run_inline_js();\n  } else {\n    load_libs(js_urls, function() {\n      console.log(\"Bokeh: BokehJS plotting callback run at\", now());\n      run_inline_js();\n    });\n  }\n}(window));"
     },
     "metadata": {},
     "output_type": "display_data"
    }
   ],
   "source": [
    "output_notebook()"
   ]
  },
  {
   "cell_type": "code",
   "execution_count": 48,
   "metadata": {},
   "outputs": [
    {
     "data": {
      "text/html": [
       "\n",
       "\n",
       "\n",
       "\n",
       "\n",
       "\n",
       "  <div class=\"bk-root\" id=\"d7c2ff4a-fc0b-43a6-a5c5-0c37ffe85866\"></div>\n"
      ]
     },
     "metadata": {},
     "output_type": "display_data"
    },
    {
     "data": {
      "application/javascript": [
       "(function(root) {\n",
       "  function embed_document(root) {\n",
       "    \n",
       "  var docs_json = {\"f1e0d746-703b-4304-86c9-a1dea3029937\":{\"roots\":{\"references\":[{\"attributes\":{\"formatter\":{\"id\":\"cd3dd263-bc29-4de5-8be9-a672f48d8f97\",\"type\":\"CategoricalTickFormatter\"},\"plot\":{\"id\":\"528fd0e1-8535-4fe8-b4c6-a40f1713853b\",\"subtype\":\"Figure\",\"type\":\"Plot\"},\"ticker\":{\"id\":\"67d219b0-ce9a-4905-8d5e-670cbd446b85\",\"type\":\"CategoricalTicker\"}},\"id\":\"2ec840a5-84e5-4e10-81e0-67854820df07\",\"type\":\"CategoricalAxis\"},{\"attributes\":{\"source\":{\"id\":\"6930768f-1f5f-4284-897e-d7e7e6682f7f\",\"type\":\"ColumnDataSource\"}},\"id\":\"0a09e201-20d7-4be7-bf89-7e4e501fec66\",\"type\":\"CDSView\"},{\"attributes\":{\"active_drag\":\"auto\",\"active_inspect\":\"auto\",\"active_multi\":null,\"active_scroll\":\"auto\",\"active_tap\":\"auto\",\"tools\":[{\"id\":\"bfcc0f42-4a13-4f5e-b5f1-89e1c817e522\",\"type\":\"PanTool\"},{\"id\":\"1308e3e6-c82e-4972-a100-cc9de32025c2\",\"type\":\"WheelZoomTool\"},{\"id\":\"0eb37ec6-f6ae-4c9b-be78-af50fa2efd19\",\"type\":\"BoxZoomTool\"},{\"id\":\"242204aa-3ffc-4c43-ad3e-2b30404c8c9f\",\"type\":\"SaveTool\"},{\"id\":\"4fbcb1da-5d74-47f3-b4b8-01d43ff53c35\",\"type\":\"ResetTool\"},{\"id\":\"6d0d85e9-3900-4047-ba23-8039e005310c\",\"type\":\"HelpTool\"},{\"id\":\"db635de6-811b-425d-9bdd-f29a0f3bd5fe\",\"type\":\"HoverTool\"}]},\"id\":\"4db5800f-70c4-4e9d-800a-3ec4da1454ec\",\"type\":\"Toolbar\"},{\"attributes\":{\"formatter\":{\"id\":\"c8399d94-d3d0-43d7-a912-8b217646fef0\",\"type\":\"BasicTickFormatter\"},\"plot\":{\"id\":\"528fd0e1-8535-4fe8-b4c6-a40f1713853b\",\"subtype\":\"Figure\",\"type\":\"Plot\"},\"ticker\":{\"id\":\"e999226d-2b6a-426c-9255-eda90c1fcb1b\",\"type\":\"BasicTicker\"}},\"id\":\"533bf123-ff37-4153-b940-86d9711685df\",\"type\":\"LinearAxis\"},{\"attributes\":{},\"id\":\"cd3dd263-bc29-4de5-8be9-a672f48d8f97\",\"type\":\"CategoricalTickFormatter\"},{\"attributes\":{},\"id\":\"e999226d-2b6a-426c-9255-eda90c1fcb1b\",\"type\":\"BasicTicker\"},{\"attributes\":{\"bottom_units\":\"screen\",\"fill_alpha\":{\"value\":0.5},\"fill_color\":{\"value\":\"lightgrey\"},\"left_units\":\"screen\",\"level\":\"overlay\",\"line_alpha\":{\"value\":1.0},\"line_color\":{\"value\":\"black\"},\"line_dash\":[4,4],\"line_width\":{\"value\":2},\"plot\":null,\"render_mode\":\"css\",\"right_units\":\"screen\",\"top_units\":\"screen\"},\"id\":\"c362b4c6-bb1b-4a06-bad2-20398d1a9513\",\"type\":\"BoxAnnotation\"},{\"attributes\":{},\"id\":\"1308e3e6-c82e-4972-a100-cc9de32025c2\",\"type\":\"WheelZoomTool\"},{\"attributes\":{},\"id\":\"6d0d85e9-3900-4047-ba23-8039e005310c\",\"type\":\"HelpTool\"},{\"attributes\":{},\"id\":\"9a1403c7-c0b5-4ea3-975f-a8c3e5ba153c\",\"type\":\"CategoricalScale\"},{\"attributes\":{\"callback\":null,\"data\":{\"Frequency\":[30000,30000,30000,30000,29386,29068,28922,28471,28357,27511,26316,25663,24004,21630,21411,20298,19947,19229,18607,18607,16721,16252,16067,14384,14252,13405,12967,12168,11436,10935,10905,10548,10396,10298,10149,10009],\"Term\":[\"entrez\",\"nlm\",\"medlin\",\"pubm\",\"eng\",\"doi\",\"internet\",\"journal\",\"electron\",\"articl\",\"print\",\"ppublish\",\"im\",\"univers\",\"pii\",\"receiv\",\"accept\",\"notnlm\",\"depart\",\"human\",\"unit\",\"state\",\"studi\",\"result\",\"research\",\"method\",\"medicin\",\"scienc\",\"revis\",\"dec\",\"address\",\"effect\",\"institut\",\"jan\",\"medic\",\"copyright\"],\"index\":[18576,36654,199825,173930,57446,190428,52822,137322,130122,43667,34181,136110,19817,191002,153595,98686,119537,209040,106530,138077,38842,44925,203916,144502,1938,193615,122802,57944,124147,73170,105767,150195,57294,54590,174737,110544]},\"selected\":{\"id\":\"ca02a3fd-ae12-423c-8430-82231fd56c69\",\"type\":\"Selection\"},\"selection_policy\":{\"id\":\"0fd9463c-4993-4865-b495-94234a27026d\",\"type\":\"UnionRenderers\"}},\"id\":\"6930768f-1f5f-4284-897e-d7e7e6682f7f\",\"type\":\"ColumnDataSource\"},{\"attributes\":{\"plot\":{\"id\":\"528fd0e1-8535-4fe8-b4c6-a40f1713853b\",\"subtype\":\"Figure\",\"type\":\"Plot\"},\"ticker\":{\"id\":\"67d219b0-ce9a-4905-8d5e-670cbd446b85\",\"type\":\"CategoricalTicker\"}},\"id\":\"1d53919c-35aa-4bc9-8cb2-68175cb7f7af\",\"type\":\"Grid\"},{\"attributes\":{\"callback\":null,\"factors\":[\"entrez\",\"nlm\",\"medlin\",\"pubm\",\"eng\",\"doi\",\"internet\",\"journal\",\"electron\",\"articl\",\"print\",\"ppublish\",\"im\",\"univers\",\"pii\",\"receiv\",\"accept\",\"notnlm\",\"depart\",\"human\",\"unit\",\"state\",\"studi\",\"result\",\"research\",\"method\",\"medicin\",\"scienc\",\"revis\",\"dec\",\"address\",\"effect\",\"institut\",\"jan\",\"medic\",\"copyright\"]},\"id\":\"36b16031-29cd-4d04-9448-88cadd289bc9\",\"type\":\"FactorRange\"},{\"attributes\":{},\"id\":\"67d219b0-ce9a-4905-8d5e-670cbd446b85\",\"type\":\"CategoricalTicker\"},{\"attributes\":{},\"id\":\"242204aa-3ffc-4c43-ad3e-2b30404c8c9f\",\"type\":\"SaveTool\"},{\"attributes\":{\"below\":[{\"id\":\"2ec840a5-84e5-4e10-81e0-67854820df07\",\"type\":\"CategoricalAxis\"}],\"left\":[{\"id\":\"533bf123-ff37-4153-b940-86d9711685df\",\"type\":\"LinearAxis\"}],\"plot_height\":500,\"plot_width\":1000,\"renderers\":[{\"id\":\"2ec840a5-84e5-4e10-81e0-67854820df07\",\"type\":\"CategoricalAxis\"},{\"id\":\"1d53919c-35aa-4bc9-8cb2-68175cb7f7af\",\"type\":\"Grid\"},{\"id\":\"533bf123-ff37-4153-b940-86d9711685df\",\"type\":\"LinearAxis\"},{\"id\":\"a5ab7a64-216f-4ee5-9588-a4939dfcda2e\",\"type\":\"Grid\"},{\"id\":\"c362b4c6-bb1b-4a06-bad2-20398d1a9513\",\"type\":\"BoxAnnotation\"},{\"id\":\"9f3e395f-54f1-4b97-b036-0adbb7135771\",\"type\":\"GlyphRenderer\"}],\"title\":{\"id\":\"a4401567-7342-4c2f-8fa2-5559834576b4\",\"type\":\"Title\"},\"toolbar\":{\"id\":\"4db5800f-70c4-4e9d-800a-3ec4da1454ec\",\"type\":\"Toolbar\"},\"x_range\":{\"id\":\"36b16031-29cd-4d04-9448-88cadd289bc9\",\"type\":\"FactorRange\"},\"x_scale\":{\"id\":\"9a1403c7-c0b5-4ea3-975f-a8c3e5ba153c\",\"type\":\"CategoricalScale\"},\"y_range\":{\"id\":\"f7f67736-233d-4fea-93a5-49aac251aa4c\",\"type\":\"Range1d\"},\"y_scale\":{\"id\":\"8b540acf-7d10-4dfc-927e-4426dc94aca1\",\"type\":\"LinearScale\"}},\"id\":\"528fd0e1-8535-4fe8-b4c6-a40f1713853b\",\"subtype\":\"Figure\",\"type\":\"Plot\"},{\"attributes\":{},\"id\":\"c8399d94-d3d0-43d7-a912-8b217646fef0\",\"type\":\"BasicTickFormatter\"},{\"attributes\":{\"callback\":null,\"renderers\":\"auto\",\"tooltips\":[[\"Term\",\"@Term\"],[\"Frequency\",\"@Frequency\"]]},\"id\":\"db635de6-811b-425d-9bdd-f29a0f3bd5fe\",\"type\":\"HoverTool\"},{\"attributes\":{},\"id\":\"0fd9463c-4993-4865-b495-94234a27026d\",\"type\":\"UnionRenderers\"},{\"attributes\":{},\"id\":\"4fbcb1da-5d74-47f3-b4b8-01d43ff53c35\",\"type\":\"ResetTool\"},{\"attributes\":{\"overlay\":{\"id\":\"c362b4c6-bb1b-4a06-bad2-20398d1a9513\",\"type\":\"BoxAnnotation\"}},\"id\":\"0eb37ec6-f6ae-4c9b-be78-af50fa2efd19\",\"type\":\"BoxZoomTool\"},{\"attributes\":{\"fill_color\":{\"value\":\"#1f77b4\"},\"line_color\":{\"value\":\"#1f77b4\"},\"top\":{\"field\":\"Frequency\"},\"width\":{\"value\":0.2},\"x\":{\"field\":\"Term\"}},\"id\":\"c538818c-215c-49c1-9e70-14e20fa1968e\",\"type\":\"VBar\"},{\"attributes\":{\"dimension\":1,\"plot\":{\"id\":\"528fd0e1-8535-4fe8-b4c6-a40f1713853b\",\"subtype\":\"Figure\",\"type\":\"Plot\"},\"ticker\":{\"id\":\"e999226d-2b6a-426c-9255-eda90c1fcb1b\",\"type\":\"BasicTicker\"}},\"id\":\"a5ab7a64-216f-4ee5-9588-a4939dfcda2e\",\"type\":\"Grid\"},{\"attributes\":{\"data_source\":{\"id\":\"6930768f-1f5f-4284-897e-d7e7e6682f7f\",\"type\":\"ColumnDataSource\"},\"glyph\":{\"id\":\"c538818c-215c-49c1-9e70-14e20fa1968e\",\"type\":\"VBar\"},\"hover_glyph\":null,\"muted_glyph\":null,\"nonselection_glyph\":{\"id\":\"a3d5dee6-78e2-4bba-81d0-c7a6b0e1ebec\",\"type\":\"VBar\"},\"selection_glyph\":null,\"view\":{\"id\":\"0a09e201-20d7-4be7-bf89-7e4e501fec66\",\"type\":\"CDSView\"}},\"id\":\"9f3e395f-54f1-4b97-b036-0adbb7135771\",\"type\":\"GlyphRenderer\"},{\"attributes\":{\"fill_alpha\":{\"value\":0.1},\"fill_color\":{\"value\":\"#1f77b4\"},\"line_alpha\":{\"value\":0.1},\"line_color\":{\"value\":\"#1f77b4\"},\"top\":{\"field\":\"Frequency\"},\"width\":{\"value\":0.2},\"x\":{\"field\":\"Term\"}},\"id\":\"a3d5dee6-78e2-4bba-81d0-c7a6b0e1ebec\",\"type\":\"VBar\"},{\"attributes\":{},\"id\":\"8b540acf-7d10-4dfc-927e-4426dc94aca1\",\"type\":\"LinearScale\"},{\"attributes\":{\"callback\":null,\"end\":30000},\"id\":\"f7f67736-233d-4fea-93a5-49aac251aa4c\",\"type\":\"Range1d\"},{\"attributes\":{\"plot\":null,\"text\":\"Term Frequencies\"},\"id\":\"a4401567-7342-4c2f-8fa2-5559834576b4\",\"type\":\"Title\"},{\"attributes\":{},\"id\":\"bfcc0f42-4a13-4f5e-b5f1-89e1c817e522\",\"type\":\"PanTool\"},{\"attributes\":{},\"id\":\"ca02a3fd-ae12-423c-8430-82231fd56c69\",\"type\":\"Selection\"}],\"root_ids\":[\"528fd0e1-8535-4fe8-b4c6-a40f1713853b\"]},\"title\":\"Bokeh Application\",\"version\":\"0.13.0\"}};\n",
       "  var render_items = [{\"docid\":\"f1e0d746-703b-4304-86c9-a1dea3029937\",\"roots\":{\"528fd0e1-8535-4fe8-b4c6-a40f1713853b\":\"d7c2ff4a-fc0b-43a6-a5c5-0c37ffe85866\"}}];\n",
       "  root.Bokeh.embed.embed_items_notebook(docs_json, render_items);\n",
       "\n",
       "  }\n",
       "  if (root.Bokeh !== undefined) {\n",
       "    embed_document(root);\n",
       "  } else {\n",
       "    var attempts = 0;\n",
       "    var timer = setInterval(function(root) {\n",
       "      if (root.Bokeh !== undefined) {\n",
       "        embed_document(root);\n",
       "        clearInterval(timer);\n",
       "      }\n",
       "      attempts++;\n",
       "      if (attempts > 100) {\n",
       "        console.log(\"Bokeh: ERROR: Unable to run BokehJS code because BokehJS library is missing\")\n",
       "        clearInterval(timer);\n",
       "      }\n",
       "    }, 10, root)\n",
       "  }\n",
       "})(window);"
      ],
      "application/vnd.bokehjs_exec.v0+json": ""
     },
     "metadata": {
      "application/vnd.bokehjs_exec.v0+json": {
       "id": "528fd0e1-8535-4fe8-b4c6-a40f1713853b"
      }
     },
     "output_type": "display_data"
    }
   ],
   "source": [
    "source = ColumnDataSource(df_high)\n",
    "p = figure(plot_width=1000,plot_height=500,title=\"Term Frequencies\",x_range=df_high[\"Term\"].values,y_range=Range1d(0,df_high[\"Frequency\"].max()))\n",
    "p.vbar(x=\"Term\",top = \"Frequency\",width=0.2,source=source)\n",
    "p.add_tools(HoverTool(tooltips=[(\"Term\",\"@Term\"),(\"Frequency\",\"@Frequency\")]))\n",
    "show(p)"
   ]
  },
  {
   "cell_type": "code",
   "execution_count": 69,
   "metadata": {},
   "outputs": [
    {
     "name": "stdout",
     "output_type": "stream",
     "text": [
      "korea\n",
      "seoul\n",
      "republ\n",
      "pediatr\n",
      "israel\n",
      "south\n",
      "tel\n",
      "imag\n",
      "aviv\n",
      "sleep\n"
     ]
    }
   ],
   "source": [
    "terms = sorted(df[\"Term\"])\n",
    "top_n = 10\n",
    "comp0 = svd.components_[19]\n",
    "top_indices = comp0.argsort()[-top_n:][::-1]\n",
    "for index in top_indices:\n",
    "    print(terms[index])"
   ]
  },
  {
   "cell_type": "code",
   "execution_count": 13,
   "metadata": {},
   "outputs": [
    {
     "data": {
      "text/plain": [
       "180875"
      ]
     },
     "execution_count": 13,
     "metadata": {},
     "output_type": "execute_result"
    }
   ],
   "source": []
  },
  {
   "cell_type": "code",
   "execution_count": null,
   "metadata": {},
   "outputs": [],
   "source": []
  }
 ],
 "metadata": {
  "kernelspec": {
   "display_name": "Python 2",
   "language": "python",
   "name": "python2"
  },
  "language_info": {
   "codemirror_mode": {
    "name": "ipython",
    "version": 2
   },
   "file_extension": ".py",
   "mimetype": "text/x-python",
   "name": "python",
   "nbconvert_exporter": "python",
   "pygments_lexer": "ipython2",
   "version": "2.7.12"
  }
 },
 "nbformat": 4,
 "nbformat_minor": 1
}
