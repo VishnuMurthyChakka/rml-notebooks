{
 "cells": [
  {
   "cell_type": "code",
   "execution_count": 2,
   "metadata": {},
   "outputs": [
    {
     "name": "stdout",
     "output_type": "stream",
     "text": [
      "Collecting seaborn\n",
      "\u001b[?25l  Downloading https://files.pythonhosted.org/packages/7a/bf/04cfcfc9616cedd4b5dd24dfc40395965ea9f50c1db0d3f3e52b050f74a5/seaborn-0.9.0.tar.gz (198kB)\n",
      "\u001b[K    100% |████████████████████████████████| 204kB 7.1MB/s ta 0:00:01\n",
      "\u001b[?25hRequirement already satisfied: numpy>=1.9.3 in /home/ubuntu/.local/lib/python2.7/site-packages (from seaborn) (1.14.3)\n",
      "Requirement already satisfied: scipy>=0.14.0 in /home/ubuntu/.local/lib/python2.7/site-packages (from seaborn) (1.0.0)\n",
      "Requirement already satisfied: pandas>=0.15.2 in /home/ubuntu/.local/lib/python2.7/site-packages (from seaborn) (0.23.1)\n",
      "Collecting matplotlib>=1.4.3 (from seaborn)\n",
      "\u001b[?25l  Downloading https://files.pythonhosted.org/packages/59/08/04933377dc4500e3698e93f9113dc3624874e0914f4c85767ecb5b389084/matplotlib-2.2.3-cp27-cp27mu-manylinux1_x86_64.whl (12.6MB)\n",
      "\u001b[K    100% |████████████████████████████████| 12.6MB 3.7MB/s eta 0:00:01\n",
      "\u001b[?25hRequirement already satisfied: pytz>=2011k in /home/ubuntu/.local/lib/python2.7/site-packages (from pandas>=0.15.2->seaborn) (2018.5)\n",
      "Requirement already satisfied: python-dateutil>=2.5.0 in /home/ubuntu/.local/lib/python2.7/site-packages (from pandas>=0.15.2->seaborn) (2.7.3)\n",
      "Collecting cycler>=0.10 (from matplotlib>=1.4.3->seaborn)\n",
      "  Downloading https://files.pythonhosted.org/packages/f7/d2/e07d3ebb2bd7af696440ce7e754c59dd546ffe1bbe732c8ab68b9c834e61/cycler-0.10.0-py2.py3-none-any.whl\n",
      "Collecting kiwisolver>=1.0.1 (from matplotlib>=1.4.3->seaborn)\n",
      "\u001b[?25l  Downloading https://files.pythonhosted.org/packages/3a/62/a8c9bef3059d55ab38e41fe9cba4fad773bfc04e47290bab84db1c18262e/kiwisolver-1.0.1-cp27-cp27mu-manylinux1_x86_64.whl (951kB)\n",
      "\u001b[K    100% |████████████████████████████████| 952kB 31.2MB/s ta 0:00:01\n",
      "\u001b[?25hRequirement already satisfied: six>=1.10 in /home/ubuntu/.local/lib/python2.7/site-packages (from matplotlib>=1.4.3->seaborn) (1.11.0)\n",
      "Collecting subprocess32 (from matplotlib>=1.4.3->seaborn)\n",
      "\u001b[?25l  Downloading https://files.pythonhosted.org/packages/be/2b/beeba583e9877e64db10b52a96915afc0feabf7144dcbf2a0d0ea68bf73d/subprocess32-3.5.3.tar.gz (96kB)\n",
      "\u001b[K    100% |████████████████████████████████| 102kB 42.1MB/s a 0:00:01\n",
      "\u001b[?25hCollecting backports.functools-lru-cache (from matplotlib>=1.4.3->seaborn)\n",
      "  Downloading https://files.pythonhosted.org/packages/03/8e/2424c0e65c4a066e28f539364deee49b6451f8fcd4f718fefa50cc3dcf48/backports.functools_lru_cache-1.5-py2.py3-none-any.whl\n",
      "Requirement already satisfied: pyparsing!=2.0.4,!=2.1.2,!=2.1.6,>=2.0.1 in /home/ubuntu/.local/lib/python2.7/site-packages (from matplotlib>=1.4.3->seaborn) (2.2.0)\n",
      "Requirement already satisfied: setuptools in /usr/local/lib/python2.7/dist-packages (from kiwisolver>=1.0.1->matplotlib>=1.4.3->seaborn) (38.4.0)\n",
      "Building wheels for collected packages: seaborn, subprocess32\n",
      "  Running setup.py bdist_wheel for seaborn ... \u001b[?25ldone\n",
      "\u001b[?25h  Stored in directory: /home/ubuntu/.cache/pip/wheels/fc/1c/74/c8f80a532c06a789599b8659b117ec7d7574cac4a06f7dabfe\n",
      "  Running setup.py bdist_wheel for subprocess32 ... \u001b[?25ldone\n",
      "\u001b[?25h  Stored in directory: /home/ubuntu/.cache/pip/wheels/c0/08/48/bb468e57d688ea6fa40a450d88d7d9f5fb3c955510077da743\n",
      "Successfully built seaborn subprocess32\n",
      "Installing collected packages: cycler, kiwisolver, subprocess32, backports.functools-lru-cache, matplotlib, seaborn\n",
      "Successfully installed backports.functools-lru-cache-1.5 cycler-0.10.0 kiwisolver-1.0.1 matplotlib-2.2.3 seaborn-0.9.0 subprocess32-3.5.3\n",
      "Requirement already satisfied: matplotlib in /home/ubuntu/.local/lib/python2.7/site-packages (2.2.3)\n",
      "Requirement already satisfied: numpy>=1.7.1 in /home/ubuntu/.local/lib/python2.7/site-packages (from matplotlib) (1.14.3)\n",
      "Requirement already satisfied: cycler>=0.10 in /home/ubuntu/.local/lib/python2.7/site-packages (from matplotlib) (0.10.0)\n",
      "Requirement already satisfied: kiwisolver>=1.0.1 in /home/ubuntu/.local/lib/python2.7/site-packages (from matplotlib) (1.0.1)\n",
      "Requirement already satisfied: python-dateutil>=2.1 in /home/ubuntu/.local/lib/python2.7/site-packages (from matplotlib) (2.7.3)\n",
      "Requirement already satisfied: six>=1.10 in /home/ubuntu/.local/lib/python2.7/site-packages (from matplotlib) (1.11.0)\n",
      "Requirement already satisfied: pytz in /home/ubuntu/.local/lib/python2.7/site-packages (from matplotlib) (2018.5)\n",
      "Requirement already satisfied: subprocess32 in /home/ubuntu/.local/lib/python2.7/site-packages (from matplotlib) (3.5.3)\n",
      "Requirement already satisfied: backports.functools-lru-cache in /home/ubuntu/.local/lib/python2.7/site-packages (from matplotlib) (1.5)\n",
      "Requirement already satisfied: pyparsing!=2.0.4,!=2.1.2,!=2.1.6,>=2.0.1 in /home/ubuntu/.local/lib/python2.7/site-packages (from matplotlib) (2.2.0)\n",
      "Requirement already satisfied: setuptools in /usr/local/lib/python2.7/dist-packages (from kiwisolver>=1.0.1->matplotlib) (38.4.0)\n"
     ]
    }
   ],
   "source": [
    "#!pip install --user seaborn\n",
    "#!pip install --user matplotlib"
   ]
  },
  {
   "cell_type": "markdown",
   "metadata": {},
   "source": [
    "RocketML text topic modeling using SVD\n",
    "=========================="
   ]
  },
  {
   "cell_type": "markdown",
   "metadata": {},
   "source": [
    "**Import Libraries**"
   ]
  },
  {
   "cell_type": "code",
   "execution_count": 3,
   "metadata": {},
   "outputs": [],
   "source": [
    "from rocketml.io import DocumentSet\n",
    "from rocketml.decomposition import TruncatedSVD\n",
    "from rocketml.preprocessing import TextFilter\n",
    "from rocketml import Pipeline\n",
    "import sys\n",
    "\n",
    "import pandas as pd\n",
    "import matplotlib\n",
    "import matplotlib.pyplot as plt\n",
    "import seaborn as sns\n",
    "\n",
    "from bokeh.plotting import figure,show\n",
    "from bokeh.io import output_notebook\n",
    "from bokeh.models import ColumnDataSource, HoverTool\n",
    "from bokeh.models.ranges import Range1d\n",
    "from bokeh.models import LabelSet\n",
    "\n",
    "%matplotlib inline"
   ]
  },
  {
   "cell_type": "code",
   "execution_count": 4,
   "metadata": {},
   "outputs": [
    {
     "name": "stdout",
     "output_type": "stream",
     "text": [
      "Seaborn Version: 0.9.0\n",
      "Pandas Version: 0.23.1\n",
      "Matplotlib Version: 2.2.3\n"
     ]
    }
   ],
   "source": [
    "print('Seaborn Version: '+str(sns.__version__))\n",
    "print('Pandas Version: '+str(pd.__version__))\n",
    "print('Matplotlib Version: '+str(matplotlib.__version__))"
   ]
  },
  {
   "cell_type": "markdown",
   "metadata": {},
   "source": [
    "Create Document Set\n",
    "-----------"
   ]
  },
  {
   "cell_type": "code",
   "execution_count": 8,
   "metadata": {},
   "outputs": [],
   "source": [
    "file_location='/home/ubuntu/SoundDir'"
   ]
  },
  {
   "cell_type": "markdown",
   "metadata": {},
   "source": [
    "Preview a text file"
   ]
  },
  {
   "cell_type": "code",
   "execution_count": 17,
   "metadata": {},
   "outputs": [
    {
     "name": "stderr",
     "output_type": "stream",
     "text": [
      "Skipping line 7: expected 43 fields, saw 45\n",
      "Skipping line 11: expected 43 fields, saw 47\n",
      "Skipping line 13: expected 43 fields, saw 60\n",
      "Skipping line 15: expected 43 fields, saw 54\n",
      "\n"
     ]
    },
    {
     "data": {
      "text/plain": [
       "0       anyhow\n",
       "1        whole\n",
       "2           we\n",
       "3     pancates\n",
       "4         made\n",
       "5         with\n",
       "6         sour\n",
       "7           do\n",
       "8          for\n",
       "9          the\n",
       "10       night\n",
       "11     morning\n",
       "12     running\n",
       "13         was\n",
       "14         too\n",
       "dtype: object"
      ]
     },
     "execution_count": 17,
     "metadata": {},
     "output_type": "execute_result"
    }
   ],
   "source": [
    "preview=pd.read_csv(file_location+\"/AudioData.txt\",delimiter=' ', header=None, error_bad_lines=False).transpose()\n",
    "preview=pd.concat([preview[col] for col in preview])\n",
    "preview.columns=['words']\n",
    "preview.head(n=15)"
   ]
  },
  {
   "cell_type": "markdown",
   "metadata": {},
   "source": [
    "Add list of files to be analyzed for term frequency."
   ]
  },
  {
   "cell_type": "code",
   "execution_count": 22,
   "metadata": {},
   "outputs": [
    {
     "name": "stdout",
     "output_type": "stream",
     "text": [
      "('Documents to be analyzed: ', 5)\n"
     ]
    }
   ],
   "source": [
    "filelist = [file_location+\"/AudioData.txt\",\\\n",
    "            file_location+\"/rank_0-chunk0_16bit.wav-data.txt\",\\\n",
    "            file_location+\"/rank_0-chunk1_16bit.wav-data.txt\",\\\n",
    "            file_location+\"/rank_0-chunk3_16bit.wav-data.txt\",\\\n",
    "            file_location+\"/rank_0-chunk4_16bit.wav-data.txt\",]\n",
    "docset = DocumentSet(filelist=filelist)\n",
    "print('Documents to be analyzed: ',len(docset.documents))"
   ]
  },
  {
   "cell_type": "markdown",
   "metadata": {},
   "source": [
    "Filter out stop words, stemming, and length"
   ]
  },
  {
   "cell_type": "code",
   "execution_count": 23,
   "metadata": {},
   "outputs": [],
   "source": [
    "tf = TextFilter(stop_word_filter=True,stemming_filter=True,length_filter=True)"
   ]
  },
  {
   "cell_type": "markdown",
   "metadata": {},
   "source": [
    "Apply Single Value Decomposition to filtered text files"
   ]
  },
  {
   "cell_type": "code",
   "execution_count": 24,
   "metadata": {},
   "outputs": [
    {
     "name": "stdout",
     "output_type": "stream",
     "text": [
      "<rocketml.preprocessing.text.TextFilter object at 0x7fa247b7bdd0>\n",
      "text\n",
      "------------------\n",
      "Cluster Resources\n",
      "------------------\n",
      "Nodes        = 2\n",
      "Sockets/node = 2\n",
      "Cores/socket = 1\n",
      "--------------------------\n",
      "Total Cores    = 4\n",
      "Total Memory(GB)   = 15.59\n",
      "--------------------------\n",
      "/shared/jobs_folder/3bb36408/output.txt\n"
     ]
    }
   ],
   "source": [
    "svd = TruncatedSVD()\n",
    "pipeline = Pipeline([tf,svd])\n",
    "pipeline.fit(docset)"
   ]
  },
  {
   "cell_type": "code",
   "execution_count": 25,
   "metadata": {},
   "outputs": [
    {
     "name": "stdout",
     "output_type": "stream",
     "text": [
      "<rocketml.preprocessing.text.TextFilter object at 0x7fa247b7bdd0>\n",
      "text\n",
      "------------------\n",
      "Cluster Resources\n",
      "------------------\n",
      "Nodes        = 2\n",
      "Sockets/node = 2\n",
      "Cores/socket = 1\n",
      "--------------------------\n",
      "Total Cores    = 4\n",
      "Total Memory(GB)   = 15.59\n",
      "--------------------------\n",
      "/shared/jobs_folder/3bb36408/output.txt\n"
     ]
    }
   ],
   "source": [
    "#docset = DocumentSet(filename=filename)\n",
    "docset_transform = pipeline.fit_transform(docset)"
   ]
  },
  {
   "cell_type": "markdown",
   "metadata": {},
   "source": [
    "**Plot Singular Values**"
   ]
  },
  {
   "cell_type": "code",
   "execution_count": 26,
   "metadata": {},
   "outputs": [
    {
     "data": {
      "text/plain": [
       "Text(0.5,1,'Single Value Decomposition')"
      ]
     },
     "execution_count": 26,
     "metadata": {},
     "output_type": "execute_result"
    },
    {
     "data": {
      "image/png": "[encoded data removed]",
      "text/plain": [
       "<Figure size 432x288 with 1 Axes>"
      ]
     },
     "metadata": {},
     "output_type": "display_data"
    }
   ],
   "source": [
    "#sns.tsplot(svd.singular_values_)\n",
    "plt.plot(svd.singular_values_)\n",
    "plt.title('Single Value Decomposition')"
   ]
  },
  {
   "cell_type": "markdown",
   "metadata": {},
   "source": [
    "**Check term frequencies**\n",
    "\n",
    "Showing the top 10% frequencies"
   ]
  },
  {
   "cell_type": "code",
   "execution_count": 27,
   "metadata": {},
   "outputs": [
    {
     "data": {
      "text/html": [
       "<div>\n",
       "<style scoped>\n",
       "    .dataframe tbody tr th:only-of-type {\n",
       "        vertical-align: middle;\n",
       "    }\n",
       "\n",
       "    .dataframe tbody tr th {\n",
       "        vertical-align: top;\n",
       "    }\n",
       "\n",
       "    .dataframe thead th {\n",
       "        text-align: right;\n",
       "    }\n",
       "</style>\n",
       "<table border=\"1\" class=\"dataframe\">\n",
       "  <thead>\n",
       "    <tr style=\"text-align: right;\">\n",
       "      <th></th>\n",
       "      <th>Term</th>\n",
       "      <th>Frequency</th>\n",
       "    </tr>\n",
       "  </thead>\n",
       "  <tbody>\n",
       "    <tr>\n",
       "      <th>200</th>\n",
       "      <td>space</td>\n",
       "      <td>4</td>\n",
       "    </tr>\n",
       "    <tr>\n",
       "      <th>135</th>\n",
       "      <td>nineteen</td>\n",
       "      <td>3</td>\n",
       "    </tr>\n",
       "    <tr>\n",
       "      <th>98</th>\n",
       "      <td>three</td>\n",
       "      <td>3</td>\n",
       "    </tr>\n",
       "    <tr>\n",
       "      <th>86</th>\n",
       "      <td>om</td>\n",
       "      <td>3</td>\n",
       "    </tr>\n",
       "    <tr>\n",
       "      <th>14</th>\n",
       "      <td>earth</td>\n",
       "      <td>3</td>\n",
       "    </tr>\n",
       "    <tr>\n",
       "      <th>75</th>\n",
       "      <td>led</td>\n",
       "      <td>2</td>\n",
       "    </tr>\n",
       "    <tr>\n",
       "      <th>76</th>\n",
       "      <td>lebrivox</td>\n",
       "      <td>2</td>\n",
       "    </tr>\n",
       "    <tr>\n",
       "      <th>124</th>\n",
       "      <td>peopl</td>\n",
       "      <td>2</td>\n",
       "    </tr>\n",
       "    <tr>\n",
       "      <th>123</th>\n",
       "      <td>way</td>\n",
       "      <td>2</td>\n",
       "    </tr>\n",
       "    <tr>\n",
       "      <th>122</th>\n",
       "      <td>murder</td>\n",
       "      <td>2</td>\n",
       "    </tr>\n",
       "    <tr>\n",
       "      <th>117</th>\n",
       "      <td>lot</td>\n",
       "      <td>2</td>\n",
       "    </tr>\n",
       "    <tr>\n",
       "      <th>115</th>\n",
       "      <td>petti</td>\n",
       "      <td>2</td>\n",
       "    </tr>\n",
       "    <tr>\n",
       "      <th>114</th>\n",
       "      <td>checker</td>\n",
       "      <td>2</td>\n",
       "    </tr>\n",
       "    <tr>\n",
       "      <th>112</th>\n",
       "      <td>breath</td>\n",
       "      <td>2</td>\n",
       "    </tr>\n",
       "    <tr>\n",
       "      <th>111</th>\n",
       "      <td>fiction</td>\n",
       "      <td>2</td>\n",
       "    </tr>\n",
       "    <tr>\n",
       "      <th>109</th>\n",
       "      <td>stori</td>\n",
       "      <td>2</td>\n",
       "    </tr>\n",
       "    <tr>\n",
       "      <th>108</th>\n",
       "      <td>visit</td>\n",
       "      <td>2</td>\n",
       "    </tr>\n",
       "    <tr>\n",
       "      <th>105</th>\n",
       "      <td>lustredelray</td>\n",
       "      <td>2</td>\n",
       "    </tr>\n",
       "    <tr>\n",
       "      <th>101</th>\n",
       "      <td>least</td>\n",
       "      <td>2</td>\n",
       "    </tr>\n",
       "    <tr>\n",
       "      <th>66</th>\n",
       "      <td>costand</td>\n",
       "      <td>2</td>\n",
       "    </tr>\n",
       "  </tbody>\n",
       "</table>\n",
       "</div>"
      ],
      "text/plain": [
       "             Term  Frequency\n",
       "200         space          4\n",
       "135      nineteen          3\n",
       "98          three          3\n",
       "86             om          3\n",
       "14          earth          3\n",
       "75            led          2\n",
       "76       lebrivox          2\n",
       "124         peopl          2\n",
       "123           way          2\n",
       "122        murder          2\n",
       "117           lot          2\n",
       "115         petti          2\n",
       "114       checker          2\n",
       "112        breath          2\n",
       "111       fiction          2\n",
       "109         stori          2\n",
       "108         visit          2\n",
       "105  lustredelray          2\n",
       "101         least          2\n",
       "66        costand          2"
      ]
     },
     "execution_count": 27,
     "metadata": {},
     "output_type": "execute_result"
    }
   ],
   "source": [
    "term_freq = pd.DataFrame([[key,value] for key,value in docset.terms_document_frequencies.iteritems()],columns=[\"Term\",\"Frequency\"])\n",
    "term_freq.sort_values(by='Frequency',ascending=False).head(n=int(len(term_freq)*.1))"
   ]
  },
  {
   "cell_type": "code",
   "execution_count": 28,
   "metadata": {},
   "outputs": [
    {
     "name": "stdout",
     "output_type": "stream",
     "text": [
      "('The top 10% frequency has ', 20.700000000000003, 'values.')\n"
     ]
    }
   ],
   "source": [
    "print('The top 10% frequency has ',len(term_freq)*.1,'values.')"
   ]
  },
  {
   "cell_type": "code",
   "execution_count": 29,
   "metadata": {},
   "outputs": [
    {
     "data": {
      "text/html": [
       "\n",
       "    <div class=\"bk-root\">\n",
       "        <a href=\"https://bokeh.pydata.org\" target=\"_blank\" class=\"bk-logo bk-logo-small bk-logo-notebook\"></a>\n",
       "        <span id=\"3f04a7bf-85a5-4b1f-a885-184d4d03eac7\">Loading BokehJS ...</span>\n",
       "    </div>"
      ]
     },
     "metadata": {},
     "output_type": "display_data"
    },
    {
     "data": {
      "application/javascript": [
       "\n",
       "(function(root) {\n",
       "  function now() {\n",
       "    return new Date();\n",
       "  }\n",
       "\n",
       "  var force = true;\n",
       "\n",
       "  if (typeof (root._bokeh_onload_callbacks) === \"undefined\" || force === true) {\n",
       "    root._bokeh_onload_callbacks = [];\n",
       "    root._bokeh_is_loading = undefined;\n",
       "  }\n",
       "\n",
       "  var JS_MIME_TYPE = 'application/javascript';\n",
       "  var HTML_MIME_TYPE = 'text/html';\n",
       "  var EXEC_MIME_TYPE = 'application/vnd.bokehjs_exec.v0+json';\n",
       "  var CLASS_NAME = 'output_bokeh rendered_html';\n",
       "\n",
       "  /**\n",
       "   * Render data to the DOM node\n",
       "   */\n",
       "  function render(props, node) {\n",
       "    var script = document.createElement(\"script\");\n",
       "    node.appendChild(script);\n",
       "  }\n",
       "\n",
       "  /**\n",
       "   * Handle when an output is cleared or removed\n",
       "   */\n",
       "  function handleClearOutput(event, handle) {\n",
       "    var cell = handle.cell;\n",
       "\n",
       "    var id = cell.output_area._bokeh_element_id;\n",
       "    var server_id = cell.output_area._bokeh_server_id;\n",
       "    // Clean up Bokeh references\n",
       "    if (id != null && id in Bokeh.index) {\n",
       "      Bokeh.index[id].model.document.clear();\n",
       "      delete Bokeh.index[id];\n",
       "    }\n",
       "\n",
       "    if (server_id !== undefined) {\n",
       "      // Clean up Bokeh references\n",
       "      var cmd = \"from bokeh.io.state import curstate; print(curstate().uuid_to_server['\" + server_id + \"'].get_sessions()[0].document.roots[0]._id)\";\n",
       "      cell.notebook.kernel.execute(cmd, {\n",
       "        iopub: {\n",
       "          output: function(msg) {\n",
       "            var id = msg.content.text.trim();\n",
       "            if (id in Bokeh.index) {\n",
       "              Bokeh.index[id].model.document.clear();\n",
       "              delete Bokeh.index[id];\n",
       "            }\n",
       "          }\n",
       "        }\n",
       "      });\n",
       "      // Destroy server and session\n",
       "      var cmd = \"import bokeh.io.notebook as ion; ion.destroy_server('\" + server_id + \"')\";\n",
       "      cell.notebook.kernel.execute(cmd);\n",
       "    }\n",
       "  }\n",
       "\n",
       "  /**\n",
       "   * Handle when a new output is added\n",
       "   */\n",
       "  function handleAddOutput(event, handle) {\n",
       "    var output_area = handle.output_area;\n",
       "    var output = handle.output;\n",
       "\n",
       "    // limit handleAddOutput to display_data with EXEC_MIME_TYPE content only\n",
       "    if ((output.output_type != \"display_data\") || (!output.data.hasOwnProperty(EXEC_MIME_TYPE))) {\n",
       "      return\n",
       "    }\n",
       "\n",
       "    var toinsert = output_area.element.find(\".\" + CLASS_NAME.split(' ')[0]);\n",
       "\n",
       "    if (output.metadata[EXEC_MIME_TYPE][\"id\"] !== undefined) {\n",
       "      toinsert[toinsert.length - 1].firstChild.textContent = output.data[JS_MIME_TYPE];\n",
       "      // store reference to embed id on output_area\n",
       "      output_area._bokeh_element_id = output.metadata[EXEC_MIME_TYPE][\"id\"];\n",
       "    }\n",
       "    if (output.metadata[EXEC_MIME_TYPE][\"server_id\"] !== undefined) {\n",
       "      var bk_div = document.createElement(\"div\");\n",
       "      bk_div.innerHTML = output.data[HTML_MIME_TYPE];\n",
       "      var script_attrs = bk_div.children[0].attributes;\n",
       "      for (var i = 0; i < script_attrs.length; i++) {\n",
       "        toinsert[toinsert.length - 1].firstChild.setAttribute(script_attrs[i].name, script_attrs[i].value);\n",
       "      }\n",
       "      // store reference to server id on output_area\n",
       "      output_area._bokeh_server_id = output.metadata[EXEC_MIME_TYPE][\"server_id\"];\n",
       "    }\n",
       "  }\n",
       "\n",
       "  function register_renderer(events, OutputArea) {\n",
       "\n",
       "    function append_mime(data, metadata, element) {\n",
       "      // create a DOM node to render to\n",
       "      var toinsert = this.create_output_subarea(\n",
       "        metadata,\n",
       "        CLASS_NAME,\n",
       "        EXEC_MIME_TYPE\n",
       "      );\n",
       "      this.keyboard_manager.register_events(toinsert);\n",
       "      // Render to node\n",
       "      var props = {data: data, metadata: metadata[EXEC_MIME_TYPE]};\n",
       "      render(props, toinsert[toinsert.length - 1]);\n",
       "      element.append(toinsert);\n",
       "      return toinsert\n",
       "    }\n",
       "\n",
       "    /* Handle when an output is cleared or removed */\n",
       "    events.on('clear_output.CodeCell', handleClearOutput);\n",
       "    events.on('delete.Cell', handleClearOutput);\n",
       "\n",
       "    /* Handle when a new output is added */\n",
       "    events.on('output_added.OutputArea', handleAddOutput);\n",
       "\n",
       "    /**\n",
       "     * Register the mime type and append_mime function with output_area\n",
       "     */\n",
       "    OutputArea.prototype.register_mime_type(EXEC_MIME_TYPE, append_mime, {\n",
       "      /* Is output safe? */\n",
       "      safe: true,\n",
       "      /* Index of renderer in `output_area.display_order` */\n",
       "      index: 0\n",
       "    });\n",
       "  }\n",
       "\n",
       "  // register the mime type if in Jupyter Notebook environment and previously unregistered\n",
       "  if (root.Jupyter !== undefined) {\n",
       "    var events = require('base/js/events');\n",
       "    var OutputArea = require('notebook/js/outputarea').OutputArea;\n",
       "\n",
       "    if (OutputArea.prototype.mime_types().indexOf(EXEC_MIME_TYPE) == -1) {\n",
       "      register_renderer(events, OutputArea);\n",
       "    }\n",
       "  }\n",
       "\n",
       "  \n",
       "  if (typeof (root._bokeh_timeout) === \"undefined\" || force === true) {\n",
       "    root._bokeh_timeout = Date.now() + 5000;\n",
       "    root._bokeh_failed_load = false;\n",
       "  }\n",
       "\n",
       "  var NB_LOAD_WARNING = {'data': {'text/html':\n",
       "     \"<div style='background-color: #fdd'>\\n\"+\n",
       "     \"<p>\\n\"+\n",
       "     \"BokehJS does not appear to have successfully loaded. If loading BokehJS from CDN, this \\n\"+\n",
       "     \"may be due to a slow or bad network connection. Possible fixes:\\n\"+\n",
       "     \"</p>\\n\"+\n",
       "     \"<ul>\\n\"+\n",
       "     \"<li>re-rerun `output_notebook()` to attempt to load from CDN again, or</li>\\n\"+\n",
       "     \"<li>use INLINE resources instead, as so:</li>\\n\"+\n",
       "     \"</ul>\\n\"+\n",
       "     \"<code>\\n\"+\n",
       "     \"from bokeh.resources import INLINE\\n\"+\n",
       "     \"output_notebook(resources=INLINE)\\n\"+\n",
       "     \"</code>\\n\"+\n",
       "     \"</div>\"}};\n",
       "\n",
       "  function display_loaded() {\n",
       "    var el = document.getElementById(\"3f04a7bf-85a5-4b1f-a885-184d4d03eac7\");\n",
       "    if (el != null) {\n",
       "      el.textContent = \"BokehJS is loading...\";\n",
       "    }\n",
       "    if (root.Bokeh !== undefined) {\n",
       "      if (el != null) {\n",
       "        el.textContent = \"BokehJS \" + root.Bokeh.version + \" successfully loaded.\";\n",
       "      }\n",
       "    } else if (Date.now() < root._bokeh_timeout) {\n",
       "      setTimeout(display_loaded, 100)\n",
       "    }\n",
       "  }\n",
       "\n",
       "\n",
       "  function run_callbacks() {\n",
       "    try {\n",
       "      root._bokeh_onload_callbacks.forEach(function(callback) { callback() });\n",
       "    }\n",
       "    finally {\n",
       "      delete root._bokeh_onload_callbacks\n",
       "    }\n",
       "    console.info(\"Bokeh: all callbacks have finished\");\n",
       "  }\n",
       "\n",
       "  function load_libs(js_urls, callback) {\n",
       "    root._bokeh_onload_callbacks.push(callback);\n",
       "    if (root._bokeh_is_loading > 0) {\n",
       "      console.log(\"Bokeh: BokehJS is being loaded, scheduling callback at\", now());\n",
       "      return null;\n",
       "    }\n",
       "    if (js_urls == null || js_urls.length === 0) {\n",
       "      run_callbacks();\n",
       "      return null;\n",
       "    }\n",
       "    console.log(\"Bokeh: BokehJS not loaded, scheduling load and callback at\", now());\n",
       "    root._bokeh_is_loading = js_urls.length;\n",
       "    for (var i = 0; i < js_urls.length; i++) {\n",
       "      var url = js_urls[i];\n",
       "      var s = document.createElement('script');\n",
       "      s.src = url;\n",
       "      s.async = false;\n",
       "      s.onreadystatechange = s.onload = function() {\n",
       "        root._bokeh_is_loading--;\n",
       "        if (root._bokeh_is_loading === 0) {\n",
       "          console.log(\"Bokeh: all BokehJS libraries loaded\");\n",
       "          run_callbacks()\n",
       "        }\n",
       "      };\n",
       "      s.onerror = function() {\n",
       "        console.warn(\"failed to load library \" + url);\n",
       "      };\n",
       "      console.log(\"Bokeh: injecting script tag for BokehJS library: \", url);\n",
       "      document.getElementsByTagName(\"head\")[0].appendChild(s);\n",
       "    }\n",
       "  };var element = document.getElementById(\"3f04a7bf-85a5-4b1f-a885-184d4d03eac7\");\n",
       "  if (element == null) {\n",
       "    console.log(\"Bokeh: ERROR: autoload.js configured with elementid '3f04a7bf-85a5-4b1f-a885-184d4d03eac7' but no matching script tag was found. \")\n",
       "    return false;\n",
       "  }\n",
       "\n",
       "  var js_urls = [\"https://cdn.pydata.org/bokeh/release/bokeh-0.13.0.min.js\", \"https://cdn.pydata.org/bokeh/release/bokeh-widgets-0.13.0.min.js\", \"https://cdn.pydata.org/bokeh/release/bokeh-tables-0.13.0.min.js\", \"https://cdn.pydata.org/bokeh/release/bokeh-gl-0.13.0.min.js\"];\n",
       "\n",
       "  var inline_js = [\n",
       "    function(Bokeh) {\n",
       "      Bokeh.set_log_level(\"info\");\n",
       "    },\n",
       "    \n",
       "    function(Bokeh) {\n",
       "      \n",
       "    },\n",
       "    function(Bokeh) {\n",
       "      console.log(\"Bokeh: injecting CSS: https://cdn.pydata.org/bokeh/release/bokeh-0.13.0.min.css\");\n",
       "      Bokeh.embed.inject_css(\"https://cdn.pydata.org/bokeh/release/bokeh-0.13.0.min.css\");\n",
       "      console.log(\"Bokeh: injecting CSS: https://cdn.pydata.org/bokeh/release/bokeh-widgets-0.13.0.min.css\");\n",
       "      Bokeh.embed.inject_css(\"https://cdn.pydata.org/bokeh/release/bokeh-widgets-0.13.0.min.css\");\n",
       "      console.log(\"Bokeh: injecting CSS: https://cdn.pydata.org/bokeh/release/bokeh-tables-0.13.0.min.css\");\n",
       "      Bokeh.embed.inject_css(\"https://cdn.pydata.org/bokeh/release/bokeh-tables-0.13.0.min.css\");\n",
       "    }\n",
       "  ];\n",
       "\n",
       "  function run_inline_js() {\n",
       "    \n",
       "    if ((root.Bokeh !== undefined) || (force === true)) {\n",
       "      for (var i = 0; i < inline_js.length; i++) {\n",
       "        inline_js[i].call(root, root.Bokeh);\n",
       "      }if (force === true) {\n",
       "        display_loaded();\n",
       "      }} else if (Date.now() < root._bokeh_timeout) {\n",
       "      setTimeout(run_inline_js, 100);\n",
       "    } else if (!root._bokeh_failed_load) {\n",
       "      console.log(\"Bokeh: BokehJS failed to load within specified timeout.\");\n",
       "      root._bokeh_failed_load = true;\n",
       "    } else if (force !== true) {\n",
       "      var cell = $(document.getElementById(\"3f04a7bf-85a5-4b1f-a885-184d4d03eac7\")).parents('.cell').data().cell;\n",
       "      cell.output_area.append_execute_result(NB_LOAD_WARNING)\n",
       "    }\n",
       "\n",
       "  }\n",
       "\n",
       "  if (root._bokeh_is_loading === 0) {\n",
       "    console.log(\"Bokeh: BokehJS loaded, going straight to plotting\");\n",
       "    run_inline_js();\n",
       "  } else {\n",
       "    load_libs(js_urls, function() {\n",
       "      console.log(\"Bokeh: BokehJS plotting callback run at\", now());\n",
       "      run_inline_js();\n",
       "    });\n",
       "  }\n",
       "}(window));"
      ],
      "application/vnd.bokehjs_load.v0+json": "\n(function(root) {\n  function now() {\n    return new Date();\n  }\n\n  var force = true;\n\n  if (typeof (root._bokeh_onload_callbacks) === \"undefined\" || force === true) {\n    root._bokeh_onload_callbacks = [];\n    root._bokeh_is_loading = undefined;\n  }\n\n  \n\n  \n  if (typeof (root._bokeh_timeout) === \"undefined\" || force === true) {\n    root._bokeh_timeout = Date.now() + 5000;\n    root._bokeh_failed_load = false;\n  }\n\n  var NB_LOAD_WARNING = {'data': {'text/html':\n     \"<div style='background-color: #fdd'>\\n\"+\n     \"<p>\\n\"+\n     \"BokehJS does not appear to have successfully loaded. If loading BokehJS from CDN, this \\n\"+\n     \"may be due to a slow or bad network connection. Possible fixes:\\n\"+\n     \"</p>\\n\"+\n     \"<ul>\\n\"+\n     \"<li>re-rerun `output_notebook()` to attempt to load from CDN again, or</li>\\n\"+\n     \"<li>use INLINE resources instead, as so:</li>\\n\"+\n     \"</ul>\\n\"+\n     \"<code>\\n\"+\n     \"from bokeh.resources import INLINE\\n\"+\n     \"output_notebook(resources=INLINE)\\n\"+\n     \"</code>\\n\"+\n     \"</div>\"}};\n\n  function display_loaded() {\n    var el = document.getElementById(\"3f04a7bf-85a5-4b1f-a885-184d4d03eac7\");\n    if (el != null) {\n      el.textContent = \"BokehJS is loading...\";\n    }\n    if (root.Bokeh !== undefined) {\n      if (el != null) {\n        el.textContent = \"BokehJS \" + root.Bokeh.version + \" successfully loaded.\";\n      }\n    } else if (Date.now() < root._bokeh_timeout) {\n      setTimeout(display_loaded, 100)\n    }\n  }\n\n\n  function run_callbacks() {\n    try {\n      root._bokeh_onload_callbacks.forEach(function(callback) { callback() });\n    }\n    finally {\n      delete root._bokeh_onload_callbacks\n    }\n    console.info(\"Bokeh: all callbacks have finished\");\n  }\n\n  function load_libs(js_urls, callback) {\n    root._bokeh_onload_callbacks.push(callback);\n    if (root._bokeh_is_loading > 0) {\n      console.log(\"Bokeh: BokehJS is being loaded, scheduling callback at\", now());\n      return null;\n    }\n    if (js_urls == null || js_urls.length === 0) {\n      run_callbacks();\n      return null;\n    }\n    console.log(\"Bokeh: BokehJS not loaded, scheduling load and callback at\", now());\n    root._bokeh_is_loading = js_urls.length;\n    for (var i = 0; i < js_urls.length; i++) {\n      var url = js_urls[i];\n      var s = document.createElement('script');\n      s.src = url;\n      s.async = false;\n      s.onreadystatechange = s.onload = function() {\n        root._bokeh_is_loading--;\n        if (root._bokeh_is_loading === 0) {\n          console.log(\"Bokeh: all BokehJS libraries loaded\");\n          run_callbacks()\n        }\n      };\n      s.onerror = function() {\n        console.warn(\"failed to load library \" + url);\n      };\n      console.log(\"Bokeh: injecting script tag for BokehJS library: \", url);\n      document.getElementsByTagName(\"head\")[0].appendChild(s);\n    }\n  };var element = document.getElementById(\"3f04a7bf-85a5-4b1f-a885-184d4d03eac7\");\n  if (element == null) {\n    console.log(\"Bokeh: ERROR: autoload.js configured with elementid '3f04a7bf-85a5-4b1f-a885-184d4d03eac7' but no matching script tag was found. \")\n    return false;\n  }\n\n  var js_urls = [\"https://cdn.pydata.org/bokeh/release/bokeh-0.13.0.min.js\", \"https://cdn.pydata.org/bokeh/release/bokeh-widgets-0.13.0.min.js\", \"https://cdn.pydata.org/bokeh/release/bokeh-tables-0.13.0.min.js\", \"https://cdn.pydata.org/bokeh/release/bokeh-gl-0.13.0.min.js\"];\n\n  var inline_js = [\n    function(Bokeh) {\n      Bokeh.set_log_level(\"info\");\n    },\n    \n    function(Bokeh) {\n      \n    },\n    function(Bokeh) {\n      console.log(\"Bokeh: injecting CSS: https://cdn.pydata.org/bokeh/release/bokeh-0.13.0.min.css\");\n      Bokeh.embed.inject_css(\"https://cdn.pydata.org/bokeh/release/bokeh-0.13.0.min.css\");\n      console.log(\"Bokeh: injecting CSS: https://cdn.pydata.org/bokeh/release/bokeh-widgets-0.13.0.min.css\");\n      Bokeh.embed.inject_css(\"https://cdn.pydata.org/bokeh/release/bokeh-widgets-0.13.0.min.css\");\n      console.log(\"Bokeh: injecting CSS: https://cdn.pydata.org/bokeh/release/bokeh-tables-0.13.0.min.css\");\n      Bokeh.embed.inject_css(\"https://cdn.pydata.org/bokeh/release/bokeh-tables-0.13.0.min.css\");\n    }\n  ];\n\n  function run_inline_js() {\n    \n    if ((root.Bokeh !== undefined) || (force === true)) {\n      for (var i = 0; i < inline_js.length; i++) {\n        inline_js[i].call(root, root.Bokeh);\n      }if (force === true) {\n        display_loaded();\n      }} else if (Date.now() < root._bokeh_timeout) {\n      setTimeout(run_inline_js, 100);\n    } else if (!root._bokeh_failed_load) {\n      console.log(\"Bokeh: BokehJS failed to load within specified timeout.\");\n      root._bokeh_failed_load = true;\n    } else if (force !== true) {\n      var cell = $(document.getElementById(\"3f04a7bf-85a5-4b1f-a885-184d4d03eac7\")).parents('.cell').data().cell;\n      cell.output_area.append_execute_result(NB_LOAD_WARNING)\n    }\n\n  }\n\n  if (root._bokeh_is_loading === 0) {\n    console.log(\"Bokeh: BokehJS loaded, going straight to plotting\");\n    run_inline_js();\n  } else {\n    load_libs(js_urls, function() {\n      console.log(\"Bokeh: BokehJS plotting callback run at\", now());\n      run_inline_js();\n    });\n  }\n}(window));"
     },
     "metadata": {},
     "output_type": "display_data"
    }
   ],
   "source": [
    "output_notebook()"
   ]
  },
  {
   "cell_type": "markdown",
   "metadata": {},
   "source": [
    "Selecting items greater than the median."
   ]
  },
  {
   "cell_type": "code",
   "execution_count": 30,
   "metadata": {},
   "outputs": [],
   "source": [
    "df_high = term_freq[term_freq[\"Frequency\"] > int(term_freq.median().item())].sort_values(by=[\"Frequency\"],ascending=False)"
   ]
  },
  {
   "cell_type": "code",
   "execution_count": 31,
   "metadata": {},
   "outputs": [],
   "source": [
    "source = ColumnDataSource(df_high)"
   ]
  },
  {
   "cell_type": "code",
   "execution_count": 32,
   "metadata": {},
   "outputs": [
    {
     "data": {
      "text/html": [
       "<div>\n",
       "<style scoped>\n",
       "    .dataframe tbody tr th:only-of-type {\n",
       "        vertical-align: middle;\n",
       "    }\n",
       "\n",
       "    .dataframe tbody tr th {\n",
       "        vertical-align: top;\n",
       "    }\n",
       "\n",
       "    .dataframe thead th {\n",
       "        text-align: right;\n",
       "    }\n",
       "</style>\n",
       "<table border=\"1\" class=\"dataframe\">\n",
       "  <thead>\n",
       "    <tr style=\"text-align: right;\">\n",
       "      <th></th>\n",
       "      <th>Term</th>\n",
       "      <th>Frequency</th>\n",
       "    </tr>\n",
       "  </thead>\n",
       "  <tbody>\n",
       "    <tr>\n",
       "      <th>200</th>\n",
       "      <td>space</td>\n",
       "      <td>4</td>\n",
       "    </tr>\n",
       "    <tr>\n",
       "      <th>14</th>\n",
       "      <td>earth</td>\n",
       "      <td>3</td>\n",
       "    </tr>\n",
       "    <tr>\n",
       "      <th>98</th>\n",
       "      <td>three</td>\n",
       "      <td>3</td>\n",
       "    </tr>\n",
       "    <tr>\n",
       "      <th>135</th>\n",
       "      <td>nineteen</td>\n",
       "      <td>3</td>\n",
       "    </tr>\n",
       "    <tr>\n",
       "      <th>86</th>\n",
       "      <td>om</td>\n",
       "      <td>3</td>\n",
       "    </tr>\n",
       "    <tr>\n",
       "      <th>0</th>\n",
       "      <td>fute</td>\n",
       "      <td>2</td>\n",
       "    </tr>\n",
       "    <tr>\n",
       "      <th>134</th>\n",
       "      <td>louisziana</td>\n",
       "      <td>2</td>\n",
       "    </tr>\n",
       "    <tr>\n",
       "      <th>153</th>\n",
       "      <td>penny</td>\n",
       "      <td>2</td>\n",
       "    </tr>\n",
       "    <tr>\n",
       "      <th>148</th>\n",
       "      <td>lebri</td>\n",
       "      <td>2</td>\n",
       "    </tr>\n",
       "    <tr>\n",
       "      <th>142</th>\n",
       "      <td>gotten</td>\n",
       "      <td>2</td>\n",
       "    </tr>\n",
       "    <tr>\n",
       "      <th>141</th>\n",
       "      <td>wasn't</td>\n",
       "      <td>2</td>\n",
       "    </tr>\n",
       "    <tr>\n",
       "      <th>140</th>\n",
       "      <td>look</td>\n",
       "      <td>2</td>\n",
       "    </tr>\n",
       "    <tr>\n",
       "      <th>124</th>\n",
       "      <td>peopl</td>\n",
       "      <td>2</td>\n",
       "    </tr>\n",
       "    <tr>\n",
       "      <th>131</th>\n",
       "      <td>breeth</td>\n",
       "      <td>2</td>\n",
       "    </tr>\n",
       "    <tr>\n",
       "      <th>158</th>\n",
       "      <td>ind</td>\n",
       "      <td>2</td>\n",
       "    </tr>\n",
       "    <tr>\n",
       "      <th>123</th>\n",
       "      <td>way</td>\n",
       "      <td>2</td>\n",
       "    </tr>\n",
       "    <tr>\n",
       "      <th>122</th>\n",
       "      <td>murder</td>\n",
       "      <td>2</td>\n",
       "    </tr>\n",
       "    <tr>\n",
       "      <th>117</th>\n",
       "      <td>lot</td>\n",
       "      <td>2</td>\n",
       "    </tr>\n",
       "    <tr>\n",
       "      <th>115</th>\n",
       "      <td>petti</td>\n",
       "      <td>2</td>\n",
       "    </tr>\n",
       "    <tr>\n",
       "      <th>114</th>\n",
       "      <td>checker</td>\n",
       "      <td>2</td>\n",
       "    </tr>\n",
       "    <tr>\n",
       "      <th>155</th>\n",
       "      <td>worri</td>\n",
       "      <td>2</td>\n",
       "    </tr>\n",
       "    <tr>\n",
       "      <th>160</th>\n",
       "      <td>penni</td>\n",
       "      <td>2</td>\n",
       "    </tr>\n",
       "    <tr>\n",
       "      <th>111</th>\n",
       "      <td>fiction</td>\n",
       "      <td>2</td>\n",
       "    </tr>\n",
       "    <tr>\n",
       "      <th>161</th>\n",
       "      <td>vox</td>\n",
       "      <td>2</td>\n",
       "    </tr>\n",
       "    <tr>\n",
       "      <th>205</th>\n",
       "      <td>stummarh</td>\n",
       "      <td>2</td>\n",
       "    </tr>\n",
       "    <tr>\n",
       "      <th>203</th>\n",
       "      <td>inform</td>\n",
       "      <td>2</td>\n",
       "    </tr>\n",
       "    <tr>\n",
       "      <th>202</th>\n",
       "      <td>thought</td>\n",
       "      <td>2</td>\n",
       "    </tr>\n",
       "    <tr>\n",
       "      <th>196</th>\n",
       "      <td>don</td>\n",
       "      <td>2</td>\n",
       "    </tr>\n",
       "    <tr>\n",
       "      <th>182</th>\n",
       "      <td>heve</td>\n",
       "      <td>2</td>\n",
       "    </tr>\n",
       "    <tr>\n",
       "      <th>179</th>\n",
       "      <td>juli</td>\n",
       "      <td>2</td>\n",
       "    </tr>\n",
       "    <tr>\n",
       "      <th>...</th>\n",
       "      <td>...</td>\n",
       "      <td>...</td>\n",
       "    </tr>\n",
       "    <tr>\n",
       "      <th>36</th>\n",
       "      <td>five</td>\n",
       "      <td>2</td>\n",
       "    </tr>\n",
       "    <tr>\n",
       "      <th>35</th>\n",
       "      <td>band</td>\n",
       "      <td>2</td>\n",
       "    </tr>\n",
       "    <tr>\n",
       "      <th>29</th>\n",
       "      <td>complaint</td>\n",
       "      <td>2</td>\n",
       "    </tr>\n",
       "    <tr>\n",
       "      <th>28</th>\n",
       "      <td>chaper</td>\n",
       "      <td>2</td>\n",
       "    </tr>\n",
       "    <tr>\n",
       "      <th>25</th>\n",
       "      <td>board</td>\n",
       "      <td>2</td>\n",
       "    </tr>\n",
       "    <tr>\n",
       "      <th>24</th>\n",
       "      <td>public</td>\n",
       "      <td>2</td>\n",
       "    </tr>\n",
       "    <tr>\n",
       "      <th>23</th>\n",
       "      <td>knew</td>\n",
       "      <td>2</td>\n",
       "    </tr>\n",
       "    <tr>\n",
       "      <th>17</th>\n",
       "      <td>shon</td>\n",
       "      <td>2</td>\n",
       "    </tr>\n",
       "    <tr>\n",
       "      <th>10</th>\n",
       "      <td>publish</td>\n",
       "      <td>2</td>\n",
       "    </tr>\n",
       "    <tr>\n",
       "      <th>7</th>\n",
       "      <td>byus</td>\n",
       "      <td>2</td>\n",
       "    </tr>\n",
       "    <tr>\n",
       "      <th>50</th>\n",
       "      <td>quarter</td>\n",
       "      <td>2</td>\n",
       "    </tr>\n",
       "    <tr>\n",
       "      <th>52</th>\n",
       "      <td>domain</td>\n",
       "      <td>2</td>\n",
       "    </tr>\n",
       "    <tr>\n",
       "      <th>4</th>\n",
       "      <td>sound</td>\n",
       "      <td>2</td>\n",
       "    </tr>\n",
       "    <tr>\n",
       "      <th>53</th>\n",
       "      <td>setron</td>\n",
       "      <td>2</td>\n",
       "    </tr>\n",
       "    <tr>\n",
       "      <th>105</th>\n",
       "      <td>lustredelray</td>\n",
       "      <td>2</td>\n",
       "    </tr>\n",
       "    <tr>\n",
       "      <th>101</th>\n",
       "      <td>least</td>\n",
       "      <td>2</td>\n",
       "    </tr>\n",
       "    <tr>\n",
       "      <th>97</th>\n",
       "      <td>fhom</td>\n",
       "      <td>2</td>\n",
       "    </tr>\n",
       "    <tr>\n",
       "      <th>96</th>\n",
       "      <td>aber</td>\n",
       "      <td>2</td>\n",
       "    </tr>\n",
       "    <tr>\n",
       "      <th>91</th>\n",
       "      <td>i'd</td>\n",
       "      <td>2</td>\n",
       "    </tr>\n",
       "    <tr>\n",
       "      <th>89</th>\n",
       "      <td>nag</td>\n",
       "      <td>2</td>\n",
       "    </tr>\n",
       "    <tr>\n",
       "      <th>85</th>\n",
       "      <td>etern</td>\n",
       "      <td>2</td>\n",
       "    </tr>\n",
       "    <tr>\n",
       "      <th>80</th>\n",
       "      <td>orp</td>\n",
       "      <td>2</td>\n",
       "    </tr>\n",
       "    <tr>\n",
       "      <th>76</th>\n",
       "      <td>lebrivox</td>\n",
       "      <td>2</td>\n",
       "    </tr>\n",
       "    <tr>\n",
       "      <th>75</th>\n",
       "      <td>led</td>\n",
       "      <td>2</td>\n",
       "    </tr>\n",
       "    <tr>\n",
       "      <th>71</th>\n",
       "      <td>fifti</td>\n",
       "      <td>2</td>\n",
       "    </tr>\n",
       "    <tr>\n",
       "      <th>66</th>\n",
       "      <td>costand</td>\n",
       "      <td>2</td>\n",
       "    </tr>\n",
       "    <tr>\n",
       "      <th>60</th>\n",
       "      <td>scienc</td>\n",
       "      <td>2</td>\n",
       "    </tr>\n",
       "    <tr>\n",
       "      <th>56</th>\n",
       "      <td>back</td>\n",
       "      <td>2</td>\n",
       "    </tr>\n",
       "    <tr>\n",
       "      <th>54</th>\n",
       "      <td>volunt</td>\n",
       "      <td>2</td>\n",
       "    </tr>\n",
       "    <tr>\n",
       "      <th>206</th>\n",
       "      <td>tha</td>\n",
       "      <td>2</td>\n",
       "    </tr>\n",
       "  </tbody>\n",
       "</table>\n",
       "<p>78 rows × 2 columns</p>\n",
       "</div>"
      ],
      "text/plain": [
       "             Term  Frequency\n",
       "200         space          4\n",
       "14          earth          3\n",
       "98          three          3\n",
       "135      nineteen          3\n",
       "86             om          3\n",
       "0            fute          2\n",
       "134    louisziana          2\n",
       "153         penny          2\n",
       "148         lebri          2\n",
       "142        gotten          2\n",
       "141        wasn't          2\n",
       "140          look          2\n",
       "124         peopl          2\n",
       "131        breeth          2\n",
       "158           ind          2\n",
       "123           way          2\n",
       "122        murder          2\n",
       "117           lot          2\n",
       "115         petti          2\n",
       "114       checker          2\n",
       "155         worri          2\n",
       "160         penni          2\n",
       "111       fiction          2\n",
       "161           vox          2\n",
       "205      stummarh          2\n",
       "203        inform          2\n",
       "202       thought          2\n",
       "196           don          2\n",
       "182          heve          2\n",
       "179          juli          2\n",
       "..            ...        ...\n",
       "36           five          2\n",
       "35           band          2\n",
       "29      complaint          2\n",
       "28         chaper          2\n",
       "25          board          2\n",
       "24         public          2\n",
       "23           knew          2\n",
       "17           shon          2\n",
       "10        publish          2\n",
       "7            byus          2\n",
       "50        quarter          2\n",
       "52         domain          2\n",
       "4           sound          2\n",
       "53         setron          2\n",
       "105  lustredelray          2\n",
       "101         least          2\n",
       "97           fhom          2\n",
       "96           aber          2\n",
       "91            i'd          2\n",
       "89            nag          2\n",
       "85          etern          2\n",
       "80            orp          2\n",
       "76       lebrivox          2\n",
       "75            led          2\n",
       "71          fifti          2\n",
       "66        costand          2\n",
       "60         scienc          2\n",
       "56           back          2\n",
       "54         volunt          2\n",
       "206           tha          2\n",
       "\n",
       "[78 rows x 2 columns]"
      ]
     },
     "execution_count": 32,
     "metadata": {},
     "output_type": "execute_result"
    }
   ],
   "source": [
    "df_high"
   ]
  },
  {
   "cell_type": "markdown",
   "metadata": {},
   "source": [
    "Plot values text frequencies greater than the median"
   ]
  },
  {
   "cell_type": "code",
   "execution_count": 44,
   "metadata": {},
   "outputs": [
    {
     "data": {
      "text/html": [
       "\n",
       "\n",
       "\n",
       "\n",
       "\n",
       "\n",
       "  <div class=\"bk-root\" id=\"65793471-c87c-4f04-aad9-13a1e2d4b26b\"></div>\n"
      ]
     },
     "metadata": {},
     "output_type": "display_data"
    },
    {
     "data": {
      "application/javascript": [
       "(function(root) {\n",
       "  function embed_document(root) {\n",
       "    \n",
       "  var docs_json = {\"e93d4d1c-7f57-418e-b4df-25c6ee8e5213\":{\"roots\":{\"references\":[{\"attributes\":{},\"id\":\"afa5624e-5694-4b47-8112-51a6727db779\",\"type\":\"PanTool\"},{\"attributes\":{\"plot\":{\"id\":\"7072984c-9f97-49ff-8296-f06851ab65df\",\"subtype\":\"Figure\",\"type\":\"Plot\"},\"ticker\":{\"id\":\"c287956e-a252-41dc-8b8f-e4b7a07f471b\",\"type\":\"CategoricalTicker\"}},\"id\":\"bab336a4-bbe0-4a33-8499-fb157661b7f8\",\"type\":\"Grid\"},{\"attributes\":{\"below\":[{\"id\":\"88b20a3b-1c20-4b1d-9f76-f09f753b78ad\",\"type\":\"CategoricalAxis\"}],\"left\":[{\"id\":\"fa3db6c9-6385-40f0-8831-043b3a0fc900\",\"type\":\"LinearAxis\"}],\"plot_height\":500,\"plot_width\":1000,\"renderers\":[{\"id\":\"88b20a3b-1c20-4b1d-9f76-f09f753b78ad\",\"type\":\"CategoricalAxis\"},{\"id\":\"bab336a4-bbe0-4a33-8499-fb157661b7f8\",\"type\":\"Grid\"},{\"id\":\"fa3db6c9-6385-40f0-8831-043b3a0fc900\",\"type\":\"LinearAxis\"},{\"id\":\"64969bf4-c3e8-4a7b-9b28-af6529464478\",\"type\":\"Grid\"},{\"id\":\"a76b7401-e75b-414a-a3e1-56fb442da14c\",\"type\":\"BoxAnnotation\"},{\"id\":\"15099f87-7433-4ed5-bbb4-416cc8853a0b\",\"type\":\"GlyphRenderer\"},{\"id\":\"79aa4fb4-6152-41cf-a687-54ea02922717\",\"type\":\"LabelSet\"}],\"title\":{\"id\":\"f8967a35-52ea-492b-a674-42d125ed77e1\",\"type\":\"Title\"},\"toolbar\":{\"id\":\"241720ba-1114-4411-8e78-bc28df4b632f\",\"type\":\"Toolbar\"},\"x_range\":{\"id\":\"f1a0603c-b252-4fae-b61b-c3d7f2905a2a\",\"type\":\"FactorRange\"},\"x_scale\":{\"id\":\"da7ee387-8e06-4f3c-8390-4276a6ec3a0d\",\"type\":\"CategoricalScale\"},\"y_range\":{\"id\":\"410adc4a-96a0-4e70-a191-1fc2d8aaf5f0\",\"type\":\"Range1d\"},\"y_scale\":{\"id\":\"f46ed292-3d44-4836-9c5a-d345972fdd83\",\"type\":\"LinearScale\"}},\"id\":\"7072984c-9f97-49ff-8296-f06851ab65df\",\"subtype\":\"Figure\",\"type\":\"Plot\"},{\"attributes\":{\"formatter\":{\"id\":\"c48d99de-29b2-41af-bcbc-cfb2585968f7\",\"type\":\"BasicTickFormatter\"},\"plot\":{\"id\":\"7072984c-9f97-49ff-8296-f06851ab65df\",\"subtype\":\"Figure\",\"type\":\"Plot\"},\"ticker\":{\"id\":\"5b788064-fe88-4cf6-9ef5-7167cc9fbe5b\",\"type\":\"BasicTicker\"}},\"id\":\"fa3db6c9-6385-40f0-8831-043b3a0fc900\",\"type\":\"LinearAxis\"},{\"attributes\":{\"callback\":null,\"renderers\":\"auto\",\"tooltips\":[[\"Term\",\"@Term\"],[\"Frequency\",\"@Frequency\"]]},\"id\":\"0af6dafe-b6a2-44e6-b7c9-fa7b0fb9d0ad\",\"type\":\"HoverTool\"},{\"attributes\":{\"callback\":null,\"data\":{\"Frequency\":[2,1,1,1,2,1,1,2,1,1,2,1,1,1,3,1,1,2,1,1,1,1,1,2,2,2,1,1,2,2,1,1,1,1,1,2,2,2,2,1,2,1,2,1,1,2,1,1,1,1,2,2,2,2,2,1,2,1,1,1,2,1,1,1,1,1,2,1,1,1,1,2,1,1,1,2,2,1,1,1,2,1,1,1,1,2,3,1,1,2,1,2,1,1,1,1,2,2,3,1,1,2,1,1,1,2,1,1,2,2,1,2,2,1,2,2,1,2,1,1,1,1,2,2,2,1,1,1,1,1,1,2,1,1,2,3,1,1,1,1,2,2,2,1,1,1,1,1,2,1,1,1,1,2,1,2,1,1,2,1,2,2,2,2,1,2,1,1,1,1,2,2,2,1,2,1,2,1,2,2,1,1,2,1,1,1,1,1,1,1,1,1,1,1,1,1,2,1,1,1,4,1,2,2,1,2,2],\"Term\":[\"fute\",\"muler\",\"wead\",\"don't\",\"sound\",\"whif\",\"rest\",\"byus\",\"stuffit\",\"scientist\",\"publish\",\"cuestion\",\"couf\",\"go\",\"earth\",\"paul\",\"captain\",\"shon\",\"bunch\",\"group\",\"han\",\"wol\",\"scrawni\",\"knew\",\"public\",\"board\",\"women\",\"vill\",\"chaper\",\"complaint\",\"good\",\"get\",\"insol\",\"spell\",\"staff\",\"band\",\"five\",\"leberhoxk\",\"half\",\"cook\",\"month\",\"thes\",\"tri\",\"fewt\",\"die\",\"outifto\",\"contain\",\"clohe\",\"claw\",\"guy\",\"quarter\",\"pleas\",\"domain\",\"setron\",\"volunt\",\"crailld\",\"back\",\"goodact\",\"past\",\"hrugd\",\"scienc\",\"year\",\"run\",\"rough\",\"aboayd\",\"flower\",\"costand\",\"matter\",\"poison\",\"mess\",\"got\",\"fifti\",\"thorough\",\"liht\",\"full\",\"led\",\"lebrivox\",\"spaceshop\",\"men\",\"agreement\",\"orp\",\"weat\",\"stummach\",\"put\",\"tention\",\"etern\",\"om\",\"mulur\",\"shove\",\"nag\",\"thing\",\"i'd\",\"studi\",\"bran\",\"wale\",\"there\",\"aber\",\"fhom\",\"three\",\"jeni\",\"done\",\"least\",\"mistak\",\"fight\",\"pancat\",\"lustredelray\",\"paint\",\"night\",\"visit\",\"stori\",\"fast\",\"fiction\",\"breath\",\"imit\",\"checker\",\"petti\",\"morn\",\"lot\",\"pancak\",\"cabin\",\"dame\",\"life\",\"murder\",\"way\",\"peopl\",\"brand\",\"took\",\"breakfastit\",\"heav\",\"medeorologist\",\"chuckl\",\"breeth\",\"expedit\",\"startet\",\"louisziana\",\"nineteen\",\"patit\",\"case\",\"liter\",\"made\",\"look\",\"wasn't\",\"gotten\",\"troubl\",\"planet\",\"larch\",\"sour\",\"fun\",\"lebri\",\"serup\",\"play\",\"atmospher\",\"plate\",\"penny\",\"it\",\"worri\",\"eighteen\",\"explos\",\"ind\",\"rig\",\"penni\",\"vox\",\"fill\",\"spite\",\"built\",\"tough\",\"idiot\",\"hol\",\"gripe\",\"mapl\",\"walk\",\"food\",\"tin\",\"take\",\"sick\",\"punish\",\"record\",\"probabl\",\"smell\",\"juli\",\"stock\",\"suffer\",\"heve\",\"whirl\",\"brunat\",\"nic\",\"felt\",\"reach\",\"hand\",\"two\",\"beauti\",\"cucked\",\"nasili\",\"bleak\",\"man\",\"andropptdet\",\"don\",\"faster\",\"saturin\",\"unanim\",\"space\",\"grine\",\"thought\",\"inform\",\"sat\",\"stummarh\",\"tha\"],\"index\":[0,1,2,3,4,5,6,7,8,9,10,11,12,13,14,15,16,17,18,19,20,21,22,23,24,25,26,27,28,29,30,31,32,33,34,35,36,37,38,39,40,41,42,43,44,45,46,47,48,49,50,51,52,53,54,55,56,57,58,59,60,61,62,63,64,65,66,67,68,69,70,71,72,73,74,75,76,77,78,79,80,81,82,83,84,85,86,87,88,89,90,91,92,93,94,95,96,97,98,99,100,101,102,103,104,105,106,107,108,109,110,111,112,113,114,115,116,117,118,119,120,121,122,123,124,125,126,127,128,129,130,131,132,133,134,135,136,137,138,139,140,141,142,143,144,145,146,147,148,149,150,151,152,153,154,155,156,157,158,159,160,161,162,163,164,165,166,167,168,169,170,171,172,173,174,175,176,177,178,179,180,181,182,183,184,185,186,187,188,189,190,191,192,193,194,195,196,197,198,199,200,201,202,203,204,205,206]},\"selected\":{\"id\":\"fc6507ac-4921-4fc1-bbf8-54228d9dfaf2\",\"type\":\"Selection\"},\"selection_policy\":{\"id\":\"8d1e608e-4e83-41f2-8901-55f410c8bca0\",\"type\":\"UnionRenderers\"}},\"id\":\"b2268de9-1864-4cbb-b90c-376ffb63fe72\",\"type\":\"ColumnDataSource\"},{\"attributes\":{},\"id\":\"fc6507ac-4921-4fc1-bbf8-54228d9dfaf2\",\"type\":\"Selection\"},{\"attributes\":{\"source\":{\"id\":\"b2268de9-1864-4cbb-b90c-376ffb63fe72\",\"type\":\"ColumnDataSource\"}},\"id\":\"f4e04419-8141-413e-bcff-895fd215ab3d\",\"type\":\"CDSView\"},{\"attributes\":{},\"id\":\"f46ed292-3d44-4836-9c5a-d345972fdd83\",\"type\":\"LinearScale\"},{\"attributes\":{},\"id\":\"be16fdd6-e601-4cf3-bf51-0710aee76a12\",\"type\":\"WheelZoomTool\"},{\"attributes\":{\"callback\":null,\"factors\":[\"space\",\"earth\",\"three\",\"nineteen\",\"om\",\"fute\",\"louisziana\",\"penny\",\"lebri\",\"gotten\",\"wasn't\",\"look\",\"peopl\",\"breeth\",\"ind\",\"way\",\"murder\",\"lot\",\"petti\",\"checker\",\"worri\",\"penni\",\"fiction\",\"vox\",\"stummarh\",\"inform\",\"thought\",\"don\",\"heve\",\"juli\",\"smell\",\"record\",\"sick\",\"tin\",\"food\",\"walk\",\"tough\",\"spite\",\"fill\",\"breath\",\"visit\",\"stori\",\"pleas\",\"outifto\",\"tri\",\"month\",\"half\",\"leberhoxk\",\"five\",\"band\",\"complaint\",\"chaper\",\"board\",\"public\",\"knew\",\"shon\",\"publish\",\"byus\",\"quarter\",\"domain\",\"sound\",\"setron\",\"lustredelray\",\"least\",\"fhom\",\"aber\",\"i'd\",\"nag\",\"etern\",\"orp\",\"lebrivox\",\"led\",\"fifti\",\"costand\",\"scienc\",\"back\",\"volunt\",\"tha\"]},\"id\":\"f1a0603c-b252-4fae-b61b-c3d7f2905a2a\",\"type\":\"FactorRange\"},{\"attributes\":{\"data_source\":{\"id\":\"b2268de9-1864-4cbb-b90c-376ffb63fe72\",\"type\":\"ColumnDataSource\"},\"glyph\":{\"id\":\"c867c346-2abf-4353-8154-af3f9a82495f\",\"type\":\"VBar\"},\"hover_glyph\":null,\"muted_glyph\":null,\"nonselection_glyph\":{\"id\":\"d7ac22b3-b8a1-4578-adf4-8392b9aa9009\",\"type\":\"VBar\"},\"selection_glyph\":null,\"view\":{\"id\":\"f4e04419-8141-413e-bcff-895fd215ab3d\",\"type\":\"CDSView\"}},\"id\":\"15099f87-7433-4ed5-bbb4-416cc8853a0b\",\"type\":\"GlyphRenderer\"},{\"attributes\":{},\"id\":\"da7ee387-8e06-4f3c-8390-4276a6ec3a0d\",\"type\":\"CategoricalScale\"},{\"attributes\":{\"fill_alpha\":{\"value\":0.1},\"fill_color\":{\"value\":\"#1f77b4\"},\"line_alpha\":{\"value\":0.1},\"line_color\":{\"value\":\"#1f77b4\"},\"top\":{\"field\":\"Frequency\"},\"width\":{\"value\":0.2},\"x\":{\"field\":\"Term\"}},\"id\":\"d7ac22b3-b8a1-4578-adf4-8392b9aa9009\",\"type\":\"VBar\"},{\"attributes\":{\"fill_color\":{\"value\":\"#1f77b4\"},\"line_color\":{\"value\":\"#1f77b4\"},\"top\":{\"field\":\"Frequency\"},\"width\":{\"value\":0.2},\"x\":{\"field\":\"Term\"}},\"id\":\"c867c346-2abf-4353-8154-af3f9a82495f\",\"type\":\"VBar\"},{\"attributes\":{\"dimension\":1,\"plot\":{\"id\":\"7072984c-9f97-49ff-8296-f06851ab65df\",\"subtype\":\"Figure\",\"type\":\"Plot\"},\"ticker\":{\"id\":\"5b788064-fe88-4cf6-9ef5-7167cc9fbe5b\",\"type\":\"BasicTicker\"}},\"id\":\"64969bf4-c3e8-4a7b-9b28-af6529464478\",\"type\":\"Grid\"},{\"attributes\":{\"plot\":null,\"text\":\"Term Frequencies\"},\"id\":\"f8967a35-52ea-492b-a674-42d125ed77e1\",\"type\":\"Title\"},{\"attributes\":{},\"id\":\"5b788064-fe88-4cf6-9ef5-7167cc9fbe5b\",\"type\":\"BasicTicker\"},{\"attributes\":{\"callback\":null,\"end\":4},\"id\":\"410adc4a-96a0-4e70-a191-1fc2d8aaf5f0\",\"type\":\"Range1d\"},{\"attributes\":{\"formatter\":{\"id\":\"00a7df1a-e0a2-46a5-b7c7-382a7e28b1f4\",\"type\":\"CategoricalTickFormatter\"},\"major_label_orientation\":1.5707963267948966,\"plot\":{\"id\":\"7072984c-9f97-49ff-8296-f06851ab65df\",\"subtype\":\"Figure\",\"type\":\"Plot\"},\"ticker\":{\"id\":\"c287956e-a252-41dc-8b8f-e4b7a07f471b\",\"type\":\"CategoricalTicker\"}},\"id\":\"88b20a3b-1c20-4b1d-9f76-f09f753b78ad\",\"type\":\"CategoricalAxis\"},{\"attributes\":{},\"id\":\"c2566875-e0fd-492c-8ddd-187368cbcfe1\",\"type\":\"ResetTool\"},{\"attributes\":{\"bottom_units\":\"screen\",\"fill_alpha\":{\"value\":0.5},\"fill_color\":{\"value\":\"lightgrey\"},\"left_units\":\"screen\",\"level\":\"overlay\",\"line_alpha\":{\"value\":1.0},\"line_color\":{\"value\":\"black\"},\"line_dash\":[4,4],\"line_width\":{\"value\":2},\"plot\":null,\"render_mode\":\"css\",\"right_units\":\"screen\",\"top_units\":\"screen\"},\"id\":\"a76b7401-e75b-414a-a3e1-56fb442da14c\",\"type\":\"BoxAnnotation\"},{\"attributes\":{},\"id\":\"c287956e-a252-41dc-8b8f-e4b7a07f471b\",\"type\":\"CategoricalTicker\"},{\"attributes\":{\"plot\":{\"id\":\"7072984c-9f97-49ff-8296-f06851ab65df\",\"subtype\":\"Figure\",\"type\":\"Plot\"},\"source\":{\"id\":\"b2268de9-1864-4cbb-b90c-376ffb63fe72\",\"type\":\"ColumnDataSource\"},\"text\":{\"field\":\"Frequency\"},\"x\":{\"field\":\"Term\"},\"y\":{\"field\":\"Frequency\"}},\"id\":\"79aa4fb4-6152-41cf-a687-54ea02922717\",\"type\":\"LabelSet\"},{\"attributes\":{},\"id\":\"00a7df1a-e0a2-46a5-b7c7-382a7e28b1f4\",\"type\":\"CategoricalTickFormatter\"},{\"attributes\":{},\"id\":\"32239f17-e335-418f-bad0-55deb03b1522\",\"type\":\"HelpTool\"},{\"attributes\":{\"overlay\":{\"id\":\"a76b7401-e75b-414a-a3e1-56fb442da14c\",\"type\":\"BoxAnnotation\"}},\"id\":\"0117a127-431f-4ada-b584-6a1f5ae63aae\",\"type\":\"BoxZoomTool\"},{\"attributes\":{},\"id\":\"c48d99de-29b2-41af-bcbc-cfb2585968f7\",\"type\":\"BasicTickFormatter\"},{\"attributes\":{},\"id\":\"b8a93b86-af5e-4250-aaae-7e1886f64f91\",\"type\":\"SaveTool\"},{\"attributes\":{\"active_drag\":\"auto\",\"active_inspect\":\"auto\",\"active_multi\":null,\"active_scroll\":\"auto\",\"active_tap\":\"auto\",\"tools\":[{\"id\":\"afa5624e-5694-4b47-8112-51a6727db779\",\"type\":\"PanTool\"},{\"id\":\"be16fdd6-e601-4cf3-bf51-0710aee76a12\",\"type\":\"WheelZoomTool\"},{\"id\":\"0117a127-431f-4ada-b584-6a1f5ae63aae\",\"type\":\"BoxZoomTool\"},{\"id\":\"b8a93b86-af5e-4250-aaae-7e1886f64f91\",\"type\":\"SaveTool\"},{\"id\":\"c2566875-e0fd-492c-8ddd-187368cbcfe1\",\"type\":\"ResetTool\"},{\"id\":\"32239f17-e335-418f-bad0-55deb03b1522\",\"type\":\"HelpTool\"},{\"id\":\"0af6dafe-b6a2-44e6-b7c9-fa7b0fb9d0ad\",\"type\":\"HoverTool\"}]},\"id\":\"241720ba-1114-4411-8e78-bc28df4b632f\",\"type\":\"Toolbar\"},{\"attributes\":{},\"id\":\"8d1e608e-4e83-41f2-8901-55f410c8bca0\",\"type\":\"UnionRenderers\"}],\"root_ids\":[\"7072984c-9f97-49ff-8296-f06851ab65df\"]},\"title\":\"Bokeh Application\",\"version\":\"0.13.0\"}};\n",
       "  var render_items = [{\"docid\":\"e93d4d1c-7f57-418e-b4df-25c6ee8e5213\",\"roots\":{\"7072984c-9f97-49ff-8296-f06851ab65df\":\"65793471-c87c-4f04-aad9-13a1e2d4b26b\"}}];\n",
       "  root.Bokeh.embed.embed_items_notebook(docs_json, render_items);\n",
       "\n",
       "  }\n",
       "  if (root.Bokeh !== undefined) {\n",
       "    embed_document(root);\n",
       "  } else {\n",
       "    var attempts = 0;\n",
       "    var timer = setInterval(function(root) {\n",
       "      if (root.Bokeh !== undefined) {\n",
       "        embed_document(root);\n",
       "        clearInterval(timer);\n",
       "      }\n",
       "      attempts++;\n",
       "      if (attempts > 100) {\n",
       "        console.log(\"Bokeh: ERROR: Unable to run BokehJS code because BokehJS library is missing\")\n",
       "        clearInterval(timer);\n",
       "      }\n",
       "    }, 10, root)\n",
       "  }\n",
       "})(window);"
      ],
      "application/vnd.bokehjs_exec.v0+json": ""
     },
     "metadata": {
      "application/vnd.bokehjs_exec.v0+json": {
       "id": "7072984c-9f97-49ff-8296-f06851ab65df"
      }
     },
     "output_type": "display_data"
    }
   ],
   "source": [
    "import math\n",
    "p = figure(plot_width=1000,plot_height=500,title=\"Term Frequencies\",x_range=df_high[\"Term\"].values,y_range=Range1d(0,df_high[\"Frequency\"].max()))\n",
    "p.vbar(x=\"Term\",top = \"Frequency\",width=0.2,source=source)\n",
    "\n",
    "labels = LabelSet(x=\"Term\", y=\"Frequency\", text=\"Frequency\",\n",
    "        x_offset=0, y_offset=0, source=source, render_mode='canvas')\n",
    "\n",
    "p.add_tools(HoverTool(tooltips=[(\"Term\",\"@Term\"),(\"Frequency\",\"@Frequency\")]))\n",
    "p.add_layout(labels)\n",
    "p.xaxis.major_label_orientation = math.pi/2\n",
    "show(p)"
   ]
  },
  {
   "cell_type": "code",
   "execution_count": 45,
   "metadata": {},
   "outputs": [],
   "source": [
    "from sklearn.cluster import KMeans\n",
    "import matplotlib.pyplot as plt\n",
    "from bokeh.palettes import Category20"
   ]
  },
  {
   "cell_type": "markdown",
   "metadata": {},
   "source": [
    "Run K-Means on Word Frequencies\n",
    "-----"
   ]
  },
  {
   "cell_type": "markdown",
   "metadata": {},
   "source": [
    "Selecting clusters"
   ]
  },
  {
   "cell_type": "code",
   "execution_count": 46,
   "metadata": {},
   "outputs": [],
   "source": [
    "n_clusters = 3\n",
    "kmeans = KMeans(n_clusters=n_clusters)"
   ]
  },
  {
   "cell_type": "markdown",
   "metadata": {},
   "source": [
    "Fit K-means"
   ]
  },
  {
   "cell_type": "code",
   "execution_count": 47,
   "metadata": {},
   "outputs": [],
   "source": [
    "kmeans.fit(docset_transform)\n",
    "#kmeans.fit(docset)\n",
    "y_kmeans = kmeans.predict(docset_transform)\n",
    "#y_kmeans = kmeans.predict(docset)"
   ]
  },
  {
   "cell_type": "markdown",
   "metadata": {},
   "source": [
    "Seperate clusters into colors and display color list"
   ]
  },
  {
   "cell_type": "code",
   "execution_count": 48,
   "metadata": {},
   "outputs": [],
   "source": [
    "colors_list = []\n",
    "for yk in y_kmeans:\n",
    "    colors_list.append(Category20[20][yk])\n",
    "#colors_list"
   ]
  },
  {
   "cell_type": "code",
   "execution_count": 49,
   "metadata": {},
   "outputs": [
    {
     "data": {
      "text/html": [
       "\n",
       "\n",
       "\n",
       "\n",
       "\n",
       "\n",
       "  <div class=\"bk-root\" id=\"843e1cd4-8bf9-4138-94e8-b20537f806e9\"></div>\n"
      ]
     },
     "metadata": {},
     "output_type": "display_data"
    },
    {
     "data": {
      "application/javascript": [
       "(function(root) {\n",
       "  function embed_document(root) {\n",
       "    \n",
       "  var docs_json = {\"4a86d8b9-b081-472a-a648-3340f67f8cef\":{\"roots\":{\"references\":[{\"attributes\":{\"callback\":null},\"id\":\"fc69c8af-8687-43e1-9951-1def19555db9\",\"type\":\"DataRange1d\"},{\"attributes\":{},\"id\":\"139195e4-5b2a-4c48-9bb8-4da499435056\",\"type\":\"BasicTickFormatter\"},{\"attributes\":{\"fill_color\":{\"field\":\"y\",\"transform\":{\"id\":\"51d621bc-3492-4a4f-b3b9-a35769b99315\",\"type\":\"LinearColorMapper\"}},\"line_color\":{\"field\":\"y\",\"transform\":{\"id\":\"51d621bc-3492-4a4f-b3b9-a35769b99315\",\"type\":\"LinearColorMapper\"}},\"size\":{\"units\":\"screen\",\"value\":12},\"x\":{\"field\":\"x\"},\"y\":{\"field\":\"y\"}},\"id\":\"a5933ba9-a042-4e36-ac0d-786fbbfa7bc2\",\"type\":\"Circle\"},{\"attributes\":{},\"id\":\"5a2803a2-b7de-41eb-9f4b-547981154f71\",\"type\":\"ResetTool\"},{\"attributes\":{},\"id\":\"1f448f5e-9d3a-4afa-818c-51ad5be38437\",\"type\":\"Selection\"},{\"attributes\":{\"below\":[{\"id\":\"5e497529-01a5-46ed-a70c-be18705ff9c9\",\"type\":\"LinearAxis\"}],\"left\":[{\"id\":\"fe2d2b4c-43fe-44b3-b4d9-dad72d4ac4e7\",\"type\":\"LinearAxis\"}],\"plot_height\":300,\"plot_width\":300,\"renderers\":[{\"id\":\"5e497529-01a5-46ed-a70c-be18705ff9c9\",\"type\":\"LinearAxis\"},{\"id\":\"49dc26c3-cf78-4fdd-8774-427a1755af3b\",\"type\":\"Grid\"},{\"id\":\"fe2d2b4c-43fe-44b3-b4d9-dad72d4ac4e7\",\"type\":\"LinearAxis\"},{\"id\":\"d38f72ae-4433-4eac-9992-1df68bde8765\",\"type\":\"Grid\"},{\"id\":\"d1bde298-db97-4157-89e5-4ab9d2685983\",\"type\":\"BoxAnnotation\"},{\"id\":\"115c7caf-e0bf-4f1b-a921-6c301c4cbbad\",\"type\":\"GlyphRenderer\"},{\"id\":\"dfca26f7-3ed9-46d6-a087-a17c8f12f0e7\",\"type\":\"ColorBar\"},{\"id\":\"368defec-c3f2-48d3-9a8b-002af26b5079\",\"type\":\"LabelSet\"}],\"right\":[{\"id\":\"dfca26f7-3ed9-46d6-a087-a17c8f12f0e7\",\"type\":\"ColorBar\"}],\"title\":{\"id\":\"183dc028-873b-4879-ba64-675a738545e5\",\"type\":\"Title\"},\"toolbar\":{\"id\":\"1a60cf14-fc8a-4381-ba35-24282310ae9e\",\"type\":\"Toolbar\"},\"x_range\":{\"id\":\"480dd10f-fac0-467b-b4cd-1e70dd190d3a\",\"type\":\"DataRange1d\"},\"x_scale\":{\"id\":\"e545e893-33c3-498b-8501-ce2a8c7c7cc5\",\"type\":\"LinearScale\"},\"y_range\":{\"id\":\"fc69c8af-8687-43e1-9951-1def19555db9\",\"type\":\"DataRange1d\"},\"y_scale\":{\"id\":\"3a601ba9-d347-4867-83e1-efba3c4b83b1\",\"type\":\"LinearScale\"}},\"id\":\"6db2957c-ccc2-4498-89b7-7b8ac7702430\",\"subtype\":\"Figure\",\"type\":\"Plot\"},{\"attributes\":{},\"id\":\"31e8ff1c-0c8e-482d-8bac-cdadc2a79698\",\"type\":\"SaveTool\"},{\"attributes\":{\"high\":4,\"low\":0,\"palette\":[\"#aec7e8\",\"#aec7e8\",\"#1f77b4\",\"#aec7e8\",\"#ff7f0e\"]},\"id\":\"51d621bc-3492-4a4f-b3b9-a35769b99315\",\"type\":\"LinearColorMapper\"},{\"attributes\":{},\"id\":\"e545e893-33c3-498b-8501-ce2a8c7c7cc5\",\"type\":\"LinearScale\"},{\"attributes\":{},\"id\":\"96540960-c4b0-484a-82ee-06140e8d8c0d\",\"type\":\"PanTool\"},{\"attributes\":{\"active_drag\":\"auto\",\"active_inspect\":\"auto\",\"active_multi\":null,\"active_scroll\":\"auto\",\"active_tap\":\"auto\",\"tools\":[{\"id\":\"96540960-c4b0-484a-82ee-06140e8d8c0d\",\"type\":\"PanTool\"},{\"id\":\"93661d9b-23ca-48ea-84f8-9b08cc9f8cb8\",\"type\":\"WheelZoomTool\"},{\"id\":\"488d19a3-3ef6-4212-b8d0-d3428fef06af\",\"type\":\"BoxZoomTool\"},{\"id\":\"31e8ff1c-0c8e-482d-8bac-cdadc2a79698\",\"type\":\"SaveTool\"},{\"id\":\"5a2803a2-b7de-41eb-9f4b-547981154f71\",\"type\":\"ResetTool\"},{\"id\":\"440fd82f-5839-48da-ba3f-53d348335b95\",\"type\":\"HelpTool\"}]},\"id\":\"1a60cf14-fc8a-4381-ba35-24282310ae9e\",\"type\":\"Toolbar\"},{\"attributes\":{\"formatter\":{\"id\":\"541f783d-cdde-4f91-a1c4-6bfd8d3c180d\",\"type\":\"BasicTickFormatter\"},\"plot\":{\"id\":\"6db2957c-ccc2-4498-89b7-7b8ac7702430\",\"subtype\":\"Figure\",\"type\":\"Plot\"},\"ticker\":{\"id\":\"e53284ff-1ff3-4298-a54f-ad5594cf52cc\",\"type\":\"BasicTicker\"}},\"id\":\"5e497529-01a5-46ed-a70c-be18705ff9c9\",\"type\":\"LinearAxis\"},{\"attributes\":{\"callback\":null},\"id\":\"480dd10f-fac0-467b-b4cd-1e70dd190d3a\",\"type\":\"DataRange1d\"},{\"attributes\":{\"level\":\"glyph\",\"plot\":{\"id\":\"6db2957c-ccc2-4498-89b7-7b8ac7702430\",\"subtype\":\"Figure\",\"type\":\"Plot\"},\"source\":{\"id\":\"50b9c32c-6144-42c4-b91d-6cc1c36e2672\",\"type\":\"ColumnDataSource\"},\"text\":{\"field\":\"names\"},\"x\":{\"field\":\"x\"},\"x_offset\":{\"value\":3},\"y\":{\"field\":\"y\"},\"y_offset\":{\"value\":3}},\"id\":\"368defec-c3f2-48d3-9a8b-002af26b5079\",\"type\":\"LabelSet\"},{\"attributes\":{},\"id\":\"86270bcf-4b1e-4dcb-a808-23cf8f169c09\",\"type\":\"UnionRenderers\"},{\"attributes\":{},\"id\":\"e53284ff-1ff3-4298-a54f-ad5594cf52cc\",\"type\":\"BasicTicker\"},{\"attributes\":{\"fill_alpha\":{\"value\":0.1},\"fill_color\":{\"value\":\"#1f77b4\"},\"line_alpha\":{\"value\":0.1},\"line_color\":{\"value\":\"#1f77b4\"},\"size\":{\"units\":\"screen\",\"value\":12},\"x\":{\"field\":\"x\"},\"y\":{\"field\":\"y\"}},\"id\":\"d82a58b6-87ff-4a07-8f5d-2875cec6440b\",\"type\":\"Circle\"},{\"attributes\":{\"plot\":{\"id\":\"6db2957c-ccc2-4498-89b7-7b8ac7702430\",\"subtype\":\"Figure\",\"type\":\"Plot\"},\"ticker\":{\"id\":\"e53284ff-1ff3-4298-a54f-ad5594cf52cc\",\"type\":\"BasicTicker\"}},\"id\":\"49dc26c3-cf78-4fdd-8774-427a1755af3b\",\"type\":\"Grid\"},{\"attributes\":{\"color_mapper\":{\"id\":\"51d621bc-3492-4a4f-b3b9-a35769b99315\",\"type\":\"LinearColorMapper\"},\"formatter\":{\"id\":\"139195e4-5b2a-4c48-9bb8-4da499435056\",\"type\":\"BasicTickFormatter\"},\"location\":[0,0],\"plot\":{\"id\":\"6db2957c-ccc2-4498-89b7-7b8ac7702430\",\"subtype\":\"Figure\",\"type\":\"Plot\"},\"ticker\":{\"id\":\"78ec0e64-87f2-4880-a1d3-98c1decbabfe\",\"type\":\"BasicTicker\"},\"width\":8},\"id\":\"dfca26f7-3ed9-46d6-a087-a17c8f12f0e7\",\"type\":\"ColorBar\"},{\"attributes\":{\"callback\":null,\"data\":{\"names\":[\"#aec7e8\",\"#aec7e8\",\"#1f77b4\",\"#aec7e8\",\"#ff7f0e\"],\"x\":[0,1,2,3,4],\"y\":[0,1,2,3,4]},\"selected\":{\"id\":\"1f448f5e-9d3a-4afa-818c-51ad5be38437\",\"type\":\"Selection\"},\"selection_policy\":{\"id\":\"86270bcf-4b1e-4dcb-a808-23cf8f169c09\",\"type\":\"UnionRenderers\"}},\"id\":\"50b9c32c-6144-42c4-b91d-6cc1c36e2672\",\"type\":\"ColumnDataSource\"},{\"attributes\":{},\"id\":\"541f783d-cdde-4f91-a1c4-6bfd8d3c180d\",\"type\":\"BasicTickFormatter\"},{\"attributes\":{},\"id\":\"93661d9b-23ca-48ea-84f8-9b08cc9f8cb8\",\"type\":\"WheelZoomTool\"},{\"attributes\":{\"source\":{\"id\":\"50b9c32c-6144-42c4-b91d-6cc1c36e2672\",\"type\":\"ColumnDataSource\"}},\"id\":\"99e6637f-206a-4cd8-8ca7-96e48940acc9\",\"type\":\"CDSView\"},{\"attributes\":{\"bottom_units\":\"screen\",\"fill_alpha\":{\"value\":0.5},\"fill_color\":{\"value\":\"lightgrey\"},\"left_units\":\"screen\",\"level\":\"overlay\",\"line_alpha\":{\"value\":1.0},\"line_color\":{\"value\":\"black\"},\"line_dash\":[4,4],\"line_width\":{\"value\":2},\"plot\":null,\"render_mode\":\"css\",\"right_units\":\"screen\",\"top_units\":\"screen\"},\"id\":\"d1bde298-db97-4157-89e5-4ab9d2685983\",\"type\":\"BoxAnnotation\"},{\"attributes\":{\"formatter\":{\"id\":\"49457cfb-7b68-4a8d-b272-dc895f60775f\",\"type\":\"BasicTickFormatter\"},\"plot\":{\"id\":\"6db2957c-ccc2-4498-89b7-7b8ac7702430\",\"subtype\":\"Figure\",\"type\":\"Plot\"},\"ticker\":{\"id\":\"250eaf2f-75a6-48b8-8e45-99aa39081294\",\"type\":\"BasicTicker\"}},\"id\":\"fe2d2b4c-43fe-44b3-b4d9-dad72d4ac4e7\",\"type\":\"LinearAxis\"},{\"attributes\":{},\"id\":\"250eaf2f-75a6-48b8-8e45-99aa39081294\",\"type\":\"BasicTicker\"},{\"attributes\":{},\"id\":\"3a601ba9-d347-4867-83e1-efba3c4b83b1\",\"type\":\"LinearScale\"},{\"attributes\":{\"dimension\":1,\"plot\":{\"id\":\"6db2957c-ccc2-4498-89b7-7b8ac7702430\",\"subtype\":\"Figure\",\"type\":\"Plot\"},\"ticker\":{\"id\":\"250eaf2f-75a6-48b8-8e45-99aa39081294\",\"type\":\"BasicTicker\"}},\"id\":\"d38f72ae-4433-4eac-9992-1df68bde8765\",\"type\":\"Grid\"},{\"attributes\":{\"plot\":null,\"text\":\"Linear Color Map Based on Y-Outcome\"},\"id\":\"183dc028-873b-4879-ba64-675a738545e5\",\"type\":\"Title\"},{\"attributes\":{},\"id\":\"78ec0e64-87f2-4880-a1d3-98c1decbabfe\",\"type\":\"BasicTicker\"},{\"attributes\":{},\"id\":\"440fd82f-5839-48da-ba3f-53d348335b95\",\"type\":\"HelpTool\"},{\"attributes\":{\"data_source\":{\"id\":\"50b9c32c-6144-42c4-b91d-6cc1c36e2672\",\"type\":\"ColumnDataSource\"},\"glyph\":{\"id\":\"a5933ba9-a042-4e36-ac0d-786fbbfa7bc2\",\"type\":\"Circle\"},\"hover_glyph\":null,\"muted_glyph\":null,\"nonselection_glyph\":{\"id\":\"d82a58b6-87ff-4a07-8f5d-2875cec6440b\",\"type\":\"Circle\"},\"selection_glyph\":null,\"view\":{\"id\":\"99e6637f-206a-4cd8-8ca7-96e48940acc9\",\"type\":\"CDSView\"}},\"id\":\"115c7caf-e0bf-4f1b-a921-6c301c4cbbad\",\"type\":\"GlyphRenderer\"},{\"attributes\":{},\"id\":\"49457cfb-7b68-4a8d-b272-dc895f60775f\",\"type\":\"BasicTickFormatter\"},{\"attributes\":{\"overlay\":{\"id\":\"d1bde298-db97-4157-89e5-4ab9d2685983\",\"type\":\"BoxAnnotation\"}},\"id\":\"488d19a3-3ef6-4212-b8d0-d3428fef06af\",\"type\":\"BoxZoomTool\"}],\"root_ids\":[\"6db2957c-ccc2-4498-89b7-7b8ac7702430\"]},\"title\":\"Bokeh Application\",\"version\":\"0.13.0\"}};\n",
       "  var render_items = [{\"docid\":\"4a86d8b9-b081-472a-a648-3340f67f8cef\",\"roots\":{\"6db2957c-ccc2-4498-89b7-7b8ac7702430\":\"843e1cd4-8bf9-4138-94e8-b20537f806e9\"}}];\n",
       "  root.Bokeh.embed.embed_items_notebook(docs_json, render_items);\n",
       "\n",
       "  }\n",
       "  if (root.Bokeh !== undefined) {\n",
       "    embed_document(root);\n",
       "  } else {\n",
       "    var attempts = 0;\n",
       "    var timer = setInterval(function(root) {\n",
       "      if (root.Bokeh !== undefined) {\n",
       "        embed_document(root);\n",
       "        clearInterval(timer);\n",
       "      }\n",
       "      attempts++;\n",
       "      if (attempts > 100) {\n",
       "        console.log(\"Bokeh: ERROR: Unable to run BokehJS code because BokehJS library is missing\")\n",
       "        clearInterval(timer);\n",
       "      }\n",
       "    }, 10, root)\n",
       "  }\n",
       "})(window);"
      ],
      "application/vnd.bokehjs_exec.v0+json": ""
     },
     "metadata": {
      "application/vnd.bokehjs_exec.v0+json": {
       "id": "6db2957c-ccc2-4498-89b7-7b8ac7702430"
      }
     },
     "output_type": "display_data"
    }
   ],
   "source": [
    "from bokeh.plotting import figure, show, output_file\n",
    "from bokeh.models import ColumnDataSource, ColorBar\n",
    "from bokeh.models import LabelSet\n",
    "from bokeh.transform import linear_cmap\n",
    "\n",
    "x = range(0,len(colors_list))\n",
    "y = range(0,len(colors_list))\n",
    "\n",
    "#Use the field name of the column source\n",
    "mapper = linear_cmap(field_name='y', palette=colors_list ,low=min(y) ,high=max(y))\n",
    "source = ColumnDataSource(dict(x=x,y=y,names=colors_list))\n",
    "\n",
    "p = figure(plot_width=300, plot_height=300,title=\"Linear Color Map Based on Y-Outcome\")\n",
    "p.circle(x='x', y='y', line_color=mapper,color=mapper, fill_alpha=1, size=12, source=source)\n",
    "\n",
    "labels = LabelSet(x='x', y='y', text='names', level='glyph',\n",
    "              x_offset=3, y_offset=3, source=source, render_mode='canvas')\n",
    "\n",
    "color_bar = ColorBar(color_mapper=mapper['transform'], width=8,  location=(0,0))\n",
    "p.add_layout(color_bar, 'right')\n",
    "p.add_layout(labels)\n",
    "show(p)"
   ]
  },
  {
   "cell_type": "code",
   "execution_count": 50,
   "metadata": {},
   "outputs": [],
   "source": [
    "source = ColumnDataSource(term_freq)"
   ]
  },
  {
   "cell_type": "code",
   "execution_count": 51,
   "metadata": {},
   "outputs": [],
   "source": [
    "#docset_transform[:,0]"
   ]
  },
  {
   "cell_type": "code",
   "execution_count": 52,
   "metadata": {},
   "outputs": [],
   "source": [
    "#docset_transform[:,1]"
   ]
  },
  {
   "cell_type": "code",
   "execution_count": 53,
   "metadata": {},
   "outputs": [
    {
     "data": {
      "text/html": [
       "\n",
       "\n",
       "\n",
       "\n",
       "\n",
       "\n",
       "  <div class=\"bk-root\" id=\"bc112d85-3913-4e46-a45a-569ffae1c922\"></div>\n"
      ]
     },
     "metadata": {},
     "output_type": "display_data"
    },
    {
     "data": {
      "application/javascript": [
       "(function(root) {\n",
       "  function embed_document(root) {\n",
       "    \n",
       "  var docs_json = {\"18ce837a-0f2b-4064-9b92-7b584cbbc700\":{\"roots\":{\"references\":[{\"attributes\":{\"formatter\":{\"id\":\"9c1cdcc6-50af-44f9-82c4-dcada805a486\",\"type\":\"BasicTickFormatter\"},\"plot\":{\"id\":\"2124924b-ed74-41d8-8ba1-292d33cc0f97\",\"subtype\":\"Figure\",\"type\":\"Plot\"},\"ticker\":{\"id\":\"20bc1711-d872-4168-8c19-35eaf1dbe215\",\"type\":\"BasicTicker\"}},\"id\":\"d7a7edf3-6913-4199-8863-169e97dcae23\",\"type\":\"LinearAxis\"},{\"attributes\":{\"callback\":null,\"data\":{\"fill_color\":[\"#aec7e8\",\"#aec7e8\",\"#1f77b4\",\"#aec7e8\",\"#ff7f0e\"],\"line_color\":[\"#aec7e8\",\"#aec7e8\",\"#1f77b4\",\"#aec7e8\",\"#ff7f0e\"],\"x\":{\"__ndarray__\":\"XxsTPbpBgz3HcTE+RB23PL1Swj0=\",\"dtype\":\"float32\",\"shape\":[5]},\"y\":{\"__ndarray__\":\"IXZXPAay8rtufMq94EqkOh6fOD4=\",\"dtype\":\"float32\",\"shape\":[5]}},\"selected\":{\"id\":\"ac9f7b91-1845-4c9a-b5e0-2828f2f8cbe4\",\"type\":\"Selection\"},\"selection_policy\":{\"id\":\"7eabbd3a-1e9d-4caf-a39b-e1ad07f979d5\",\"type\":\"UnionRenderers\"}},\"id\":\"64a4aaed-cef5-4005-86ef-5812fd642c3f\",\"type\":\"ColumnDataSource\"},{\"attributes\":{},\"id\":\"4f568480-30bf-462b-814b-a9acc3da9cca\",\"type\":\"LinearScale\"},{\"attributes\":{},\"id\":\"58707285-1d89-45dd-8219-2e08bcf6ccbf\",\"type\":\"PanTool\"},{\"attributes\":{},\"id\":\"e321e82b-9c92-47c6-a121-4790b3013b0c\",\"type\":\"BasicTicker\"},{\"attributes\":{\"callback\":null},\"id\":\"5a05ccab-e899-4445-adb9-1139c6524a00\",\"type\":\"DataRange1d\"},{\"attributes\":{\"bottom_units\":\"screen\",\"fill_alpha\":{\"value\":0.5},\"fill_color\":{\"value\":\"lightgrey\"},\"left_units\":\"screen\",\"level\":\"overlay\",\"line_alpha\":{\"value\":1.0},\"line_color\":{\"value\":\"black\"},\"line_dash\":[4,4],\"line_width\":{\"value\":2},\"plot\":null,\"render_mode\":\"css\",\"right_units\":\"screen\",\"top_units\":\"screen\"},\"id\":\"16194ff4-a616-4c54-9ed2-cb160360387c\",\"type\":\"BoxAnnotation\"},{\"attributes\":{},\"id\":\"20bc1711-d872-4168-8c19-35eaf1dbe215\",\"type\":\"BasicTicker\"},{\"attributes\":{},\"id\":\"7eabbd3a-1e9d-4caf-a39b-e1ad07f979d5\",\"type\":\"UnionRenderers\"},{\"attributes\":{},\"id\":\"7a25ea7b-52b7-4c87-9e61-133180c7c24e\",\"type\":\"WheelZoomTool\"},{\"attributes\":{\"fill_color\":{\"field\":\"fill_color\"},\"line_color\":{\"field\":\"line_color\"},\"x\":{\"field\":\"x\"},\"y\":{\"field\":\"y\"}},\"id\":\"aeef6e7d-6210-4280-9f7a-402a7d9438c3\",\"type\":\"Circle\"},{\"attributes\":{\"overlay\":{\"id\":\"16194ff4-a616-4c54-9ed2-cb160360387c\",\"type\":\"BoxAnnotation\"}},\"id\":\"6f06162f-6b98-450f-8721-0e0d51c87782\",\"type\":\"BoxZoomTool\"},{\"attributes\":{},\"id\":\"ac9f7b91-1845-4c9a-b5e0-2828f2f8cbe4\",\"type\":\"Selection\"},{\"attributes\":{\"dimension\":1,\"plot\":{\"id\":\"2124924b-ed74-41d8-8ba1-292d33cc0f97\",\"subtype\":\"Figure\",\"type\":\"Plot\"},\"ticker\":{\"id\":\"20bc1711-d872-4168-8c19-35eaf1dbe215\",\"type\":\"BasicTicker\"}},\"id\":\"3bab6bbd-170f-4b61-9fec-ea690de76a4e\",\"type\":\"Grid\"},{\"attributes\":{},\"id\":\"4e0221fa-c94a-4b02-909c-8c5c6151d7d2\",\"type\":\"ResetTool\"},{\"attributes\":{},\"id\":\"f47e77da-2c6d-4496-83a0-aa6254aa18c6\",\"type\":\"LinearScale\"},{\"attributes\":{},\"id\":\"9c1cdcc6-50af-44f9-82c4-dcada805a486\",\"type\":\"BasicTickFormatter\"},{\"attributes\":{\"below\":[{\"id\":\"adb1bdac-f6d2-493b-b643-77dfc8d44ae8\",\"type\":\"LinearAxis\"}],\"left\":[{\"id\":\"d7a7edf3-6913-4199-8863-169e97dcae23\",\"type\":\"LinearAxis\"}],\"plot_height\":500,\"plot_width\":1000,\"renderers\":[{\"id\":\"adb1bdac-f6d2-493b-b643-77dfc8d44ae8\",\"type\":\"LinearAxis\"},{\"id\":\"dd436f26-dbf0-4971-8bd2-4e1daee9215d\",\"type\":\"Grid\"},{\"id\":\"d7a7edf3-6913-4199-8863-169e97dcae23\",\"type\":\"LinearAxis\"},{\"id\":\"3bab6bbd-170f-4b61-9fec-ea690de76a4e\",\"type\":\"Grid\"},{\"id\":\"16194ff4-a616-4c54-9ed2-cb160360387c\",\"type\":\"BoxAnnotation\"},{\"id\":\"c69dcdd1-b8b9-45c8-a772-d80a35b64803\",\"type\":\"GlyphRenderer\"}],\"title\":{\"id\":\"240b8dea-480c-420f-b15a-dcbd3be3b7db\",\"type\":\"Title\"},\"toolbar\":{\"id\":\"7104f0a9-ba6a-4308-9ac3-13e9db1cfcc9\",\"type\":\"Toolbar\"},\"x_range\":{\"id\":\"d29936b2-02ce-4b4a-b442-49266abdcfc9\",\"type\":\"DataRange1d\"},\"x_scale\":{\"id\":\"f47e77da-2c6d-4496-83a0-aa6254aa18c6\",\"type\":\"LinearScale\"},\"y_range\":{\"id\":\"5a05ccab-e899-4445-adb9-1139c6524a00\",\"type\":\"DataRange1d\"},\"y_scale\":{\"id\":\"4f568480-30bf-462b-814b-a9acc3da9cca\",\"type\":\"LinearScale\"}},\"id\":\"2124924b-ed74-41d8-8ba1-292d33cc0f97\",\"subtype\":\"Figure\",\"type\":\"Plot\"},{\"attributes\":{\"active_drag\":\"auto\",\"active_inspect\":\"auto\",\"active_multi\":null,\"active_scroll\":\"auto\",\"active_tap\":\"auto\",\"tools\":[{\"id\":\"58707285-1d89-45dd-8219-2e08bcf6ccbf\",\"type\":\"PanTool\"},{\"id\":\"7a25ea7b-52b7-4c87-9e61-133180c7c24e\",\"type\":\"WheelZoomTool\"},{\"id\":\"6f06162f-6b98-450f-8721-0e0d51c87782\",\"type\":\"BoxZoomTool\"},{\"id\":\"4e0221fa-c94a-4b02-909c-8c5c6151d7d2\",\"type\":\"ResetTool\"},{\"id\":\"f1a66cd6-a0f0-4b51-aaf7-7a21031da40a\",\"type\":\"HoverTool\"}]},\"id\":\"7104f0a9-ba6a-4308-9ac3-13e9db1cfcc9\",\"type\":\"Toolbar\"},{\"attributes\":{\"plot\":{\"id\":\"2124924b-ed74-41d8-8ba1-292d33cc0f97\",\"subtype\":\"Figure\",\"type\":\"Plot\"},\"ticker\":{\"id\":\"e321e82b-9c92-47c6-a121-4790b3013b0c\",\"type\":\"BasicTicker\"}},\"id\":\"dd436f26-dbf0-4971-8bd2-4e1daee9215d\",\"type\":\"Grid\"},{\"attributes\":{\"callback\":null},\"id\":\"d29936b2-02ce-4b4a-b442-49266abdcfc9\",\"type\":\"DataRange1d\"},{\"attributes\":{},\"id\":\"3aae0586-cdfe-4c7a-a4ec-346b62b64905\",\"type\":\"BasicTickFormatter\"},{\"attributes\":{\"fill_alpha\":{\"value\":0.1},\"fill_color\":{\"value\":\"#1f77b4\"},\"line_alpha\":{\"value\":0.1},\"line_color\":{\"value\":\"#1f77b4\"},\"x\":{\"field\":\"x\"},\"y\":{\"field\":\"y\"}},\"id\":\"0b46dc73-a1d4-49d8-945b-fe7362b55b16\",\"type\":\"Circle\"},{\"attributes\":{\"formatter\":{\"id\":\"3aae0586-cdfe-4c7a-a4ec-346b62b64905\",\"type\":\"BasicTickFormatter\"},\"plot\":{\"id\":\"2124924b-ed74-41d8-8ba1-292d33cc0f97\",\"subtype\":\"Figure\",\"type\":\"Plot\"},\"ticker\":{\"id\":\"e321e82b-9c92-47c6-a121-4790b3013b0c\",\"type\":\"BasicTicker\"}},\"id\":\"adb1bdac-f6d2-493b-b643-77dfc8d44ae8\",\"type\":\"LinearAxis\"},{\"attributes\":{\"plot\":null,\"text\":\"Plotting Clusters: Colors Representing Like Values\"},\"id\":\"240b8dea-480c-420f-b15a-dcbd3be3b7db\",\"type\":\"Title\"},{\"attributes\":{\"callback\":null,\"renderers\":\"auto\"},\"id\":\"f1a66cd6-a0f0-4b51-aaf7-7a21031da40a\",\"type\":\"HoverTool\"},{\"attributes\":{\"data_source\":{\"id\":\"64a4aaed-cef5-4005-86ef-5812fd642c3f\",\"type\":\"ColumnDataSource\"},\"glyph\":{\"id\":\"aeef6e7d-6210-4280-9f7a-402a7d9438c3\",\"type\":\"Circle\"},\"hover_glyph\":null,\"muted_glyph\":null,\"nonselection_glyph\":{\"id\":\"0b46dc73-a1d4-49d8-945b-fe7362b55b16\",\"type\":\"Circle\"},\"selection_glyph\":null,\"view\":{\"id\":\"33b4c9f7-298b-4dc6-b22d-e3266baa8a96\",\"type\":\"CDSView\"}},\"id\":\"c69dcdd1-b8b9-45c8-a772-d80a35b64803\",\"type\":\"GlyphRenderer\"},{\"attributes\":{\"source\":{\"id\":\"64a4aaed-cef5-4005-86ef-5812fd642c3f\",\"type\":\"ColumnDataSource\"}},\"id\":\"33b4c9f7-298b-4dc6-b22d-e3266baa8a96\",\"type\":\"CDSView\"}],\"root_ids\":[\"2124924b-ed74-41d8-8ba1-292d33cc0f97\"]},\"title\":\"Bokeh Application\",\"version\":\"0.13.0\"}};\n",
       "  var render_items = [{\"docid\":\"18ce837a-0f2b-4064-9b92-7b584cbbc700\",\"roots\":{\"2124924b-ed74-41d8-8ba1-292d33cc0f97\":\"bc112d85-3913-4e46-a45a-569ffae1c922\"}}];\n",
       "  root.Bokeh.embed.embed_items_notebook(docs_json, render_items);\n",
       "\n",
       "  }\n",
       "  if (root.Bokeh !== undefined) {\n",
       "    embed_document(root);\n",
       "  } else {\n",
       "    var attempts = 0;\n",
       "    var timer = setInterval(function(root) {\n",
       "      if (root.Bokeh !== undefined) {\n",
       "        embed_document(root);\n",
       "        clearInterval(timer);\n",
       "      }\n",
       "      attempts++;\n",
       "      if (attempts > 100) {\n",
       "        console.log(\"Bokeh: ERROR: Unable to run BokehJS code because BokehJS library is missing\")\n",
       "        clearInterval(timer);\n",
       "      }\n",
       "    }, 10, root)\n",
       "  }\n",
       "})(window);"
      ],
      "application/vnd.bokehjs_exec.v0+json": ""
     },
     "metadata": {
      "application/vnd.bokehjs_exec.v0+json": {
       "id": "2124924b-ed74-41d8-8ba1-292d33cc0f97"
      }
     },
     "output_type": "display_data"
    }
   ],
   "source": [
    "p1 = figure(plot_width=1000,plot_height=500,tools=\"pan,wheel_zoom,box_zoom,reset,hover\",title=\"Plotting Clusters: Colors Representing Like Values\")\n",
    "p1.scatter(docset_transform[:,0],docset_transform[:,1],color=colors_list)\n",
    "show(p1)"
   ]
  },
  {
   "cell_type": "code",
   "execution_count": null,
   "metadata": {},
   "outputs": [],
   "source": []
  },
  {
   "cell_type": "code",
   "execution_count": null,
   "metadata": {},
   "outputs": [],
   "source": []
  }
 ],
 "metadata": {
  "kernelspec": {
   "display_name": "Python 3",
   "language": "python",
   "name": "python3"
  },
  "language_info": {
   "codemirror_mode": {
    "name": "ipython",
    "version": 3
   },
   "file_extension": ".py",
   "mimetype": "text/x-python",
   "name": "python",
   "nbconvert_exporter": "python",
   "pygments_lexer": "ipython3",
   "version": "3.6.7"
  }
 },
 "nbformat": 4,
 "nbformat_minor": 2
}
