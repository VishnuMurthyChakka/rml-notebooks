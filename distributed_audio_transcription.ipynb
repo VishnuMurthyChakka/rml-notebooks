{
 "cells": [
  {
   "cell_type": "markdown",
   "metadata": {},
   "source": [
    "# RocketML Tutorial on distributed audio transcription\n",
    "\n",
    "## Import Libraries"
   ]
  },
  {
   "cell_type": "code",
   "execution_count": 1,
   "metadata": {},
   "outputs": [],
   "source": [
    "from rocketml.io import AudioSet, MongoWriter, Audio\n",
    "from rocketml.feature_extraction import ObjectDetection\n",
    "from rocketml.pipeline import Pipeline\n",
    "import sys\n",
    "\n",
    "import uuid\n",
    "\n",
    "import pymongo\n",
    "from pprint import pprint\n",
    "import subprocess\n",
    "from time import time\n",
    "\n",
    "from IPython.core.display import display, HTML"
   ]
  },
  {
   "cell_type": "markdown",
   "metadata": {},
   "source": [
    "## Create a audioset using audio paths"
   ]
  },
  {
   "cell_type": "code",
   "execution_count": 8,
   "metadata": {},
   "outputs": [
    {
     "name": "stdout",
     "output_type": "stream",
     "text": [
      "<rocketml.feature_extraction.object_detection.ObjectDetection object at 0x7f9a6c382d50>\n",
      "video\n",
      "------------------\n",
      "Cluster Resources\n",
      "------------------\n",
      "Nodes        = 4\n",
      "Sockets/node = 1\n",
      "Cores/socket = 8\n",
      "--------------------------\n",
      "Total Cores    = 32\n",
      "Total Memory(GB)   = 121.68\n",
      "--------------------------\n"
     ]
    },
    {
     "data": {
      "text/html": [
       "<h1>Object detection (images/second) = 21.05</h1>"
      ],
      "text/plain": [
       "<IPython.core.display.HTML object>"
      ]
     },
     "metadata": {},
     "output_type": "display_data"
    }
   ],
   "source": [
    "start = time()\n",
    "filename = \"/home/ubuntu/rml-notebooks/home_audio_list_4.txt\"\n",
    "# Audio Set\n",
    "am = AudeoSet(filename,chunk_length=60) #chunk is the maximum second length parse the audio file\n",
    "\n",
    "# Object Detection\n",
    "od = ObjectDetection(model_type=\"deepspeech\",model_framework=\"tensorflow\")\n",
    "\n",
    "# Get uri\n",
    "hname = subprocess.check_output([\"hostname\"])\n",
    "mongo_uri = \"mongodb://\"+hname.strip()+\":27017\"\n",
    "\n",
    "collection_name = \"test_run_\" + str(uuid.uuid4())\n",
    "# MongoWriter\n",
    "mw = MongoWriter(uri=mongo_uri,db=\"rml_collection_audio_tf_demo\",collection=collection_name)\n",
    "\n",
    "# Pipeline\n",
    "pipeline = Pipeline([od,mw])\n",
    "pipeline.fit(vm,cores=\"all\")\n",
    "\n",
    "#Get Mongo client\n",
    "client = pymongo.MongoClient(mongo_uri)\n",
    "\n",
    "# set the database\n",
    "db=pymongo.database.Database(client,mw.params['db'])\n",
    "\n",
    "collection = pymongo.collection.Collection(db,mw.params[\"collection\"])\n",
    "total_frames = collection.count()\n",
    "\n",
    "# Get Words/Second\n",
    "od_fps = total_words*1.0/(time()-start)\n",
    "string = \"<h1>Audio transcription (words/second) = \" + (\"%.2f\"%od_fps) + \"</h1>\"\n",
    "display(HTML(string))"
   ]
  },
  {
   "cell_type": "markdown",
   "metadata": {},
   "source": [
    "## Inspect words on a single audio chunk"
   ]
  },
  {
   "cell_type": "code",
   "execution_count": 9,
   "metadata": {},
   "outputs": [
    {
     "name": "stdout",
     "output_type": "stream",
     "text": [
      "[u'test_run_8e162602-2cda-4fcb-9155-0ade261f43ea', u'system.indexes', u'test_run_3ffb49b3-a399-4504-997a-51b986971db1', u'test_run_b6a9cfd9-e108-47c9-8f87-3f041632798d', u'test_run_72686dc8-1d2b-437d-a475-3229dd04a16b', u'test_run_ffe6b20e-9374-47ba-9016-9af0611e745b', u'test_run_d7024718-bd1d-4ad0-b07d-36f9349f0660', u'test_run_fb9da6d9-4da2-401e-9fe4-53f364c39f6e', u'test_run_e76635ff-cbf7-4776-88e6-0e5b1506f68c', u'test_run_bc9e63a4-ae02-4318-ac9a-7088821a8f27', u'test_run_8719af04-5203-4ee4-bdb5-b53bac936fa7', u'test_run_a79d2d0a-3989-4fc2-80f5-cfea268ceec2']\n"
     ]
    }
   ],
   "source": [
    "aud = Audio(filename=\"/home/ubuntu/rocketml-dev/data/home-audio/santi_lr_1.mp3\")\n",
    "aud.return_words(mw,\"out_tf_santi_lr_1.mp3\")"
   ]
  }
 ],
 "metadata": {
  "kernelspec": {
   "display_name": "Python 2",
   "language": "python",
   "name": "python2"
  },
  "language_info": {
   "codemirror_mode": {
    "name": "ipython",
    "version": 2
   },
   "file_extension": ".py",
   "mimetype": "text/x-python",
   "name": "python",
   "nbconvert_exporter": "python",
   "pygments_lexer": "ipython2",
   "version": "2.7.14"
  }
 },
 "nbformat": 4,
 "nbformat_minor": 2
}
